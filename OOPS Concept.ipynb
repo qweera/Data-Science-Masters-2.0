{
 "cells": [
  {
   "cell_type": "markdown",
   "id": "7186a2f6-ed90-4dfb-b869-0ca127ffd74b",
   "metadata": {},
   "source": [
    "### 'OOPS' stand for Object oriented Programming system"
   ]
  },
  {
   "cell_type": "code",
   "execution_count": 7,
   "id": "bd148bf0-5807-496e-8df7-d9450bcababc",
   "metadata": {},
   "outputs": [
    {
     "name": "stdout",
     "output_type": "stream",
     "text": [
      "<class 'int'>\n"
     ]
    }
   ],
   "source": [
    "#'a' is a object/instance of class 'int'\n",
    "a = 1\n",
    "print(type(a))"
   ]
  },
  {
   "cell_type": "code",
   "execution_count": 2,
   "id": "a1bb61af-bc25-434c-b2de-35979e51e023",
   "metadata": {},
   "outputs": [
    {
     "name": "stdout",
     "output_type": "stream",
     "text": [
      "<class 'str'>\n"
     ]
    }
   ],
   "source": [
    "p = 'Real'\n",
    "print(type(p))"
   ]
  },
  {
   "cell_type": "markdown",
   "id": "cfc5eef9-70ca-4fb3-8aed-0b16a9228ccd",
   "metadata": {},
   "source": [
    "Class is a blueprint or classification of a real world object"
   ]
  },
  {
   "cell_type": "markdown",
   "id": "35f81a9a-a8e6-493a-9595-354db5d059fa",
   "metadata": {},
   "source": [
    "Example: go and sit in a car, which car?, here we came to know just a thing having 4 wheels with steering and all none other thing is clear\n",
    "When building a product Its always better to write the code in moduler way: frontend, backend, database connectivity related code in different different module. And all of these modules will be able to interact with each other. In this scenerio my code will be:\n",
    "    ..Clean\n",
    "    ..Maintainable\n",
    "    ..Code will be reusable\n",
    "    ..Easy to understand for a new person\n",
    "    Keeeping all the above points there is class and object concept"
   ]
  },
  {
   "cell_type": "code",
   "execution_count": 4,
   "id": "9e5de57a-872e-4ee0-a107-e42dbc8e85c1",
   "metadata": {},
   "outputs": [],
   "source": [
    "class test:\n",
    "    pass"
   ]
  },
  {
   "cell_type": "code",
   "execution_count": 5,
   "id": "6d136186-0bee-400c-8d91-6d3c9be8c507",
   "metadata": {},
   "outputs": [],
   "source": [
    "a = test()\n",
    "# So this 'a' is that specification(in case of above car example it is like name and model of car). 'a' is a variable, instance, object of the class test."
   ]
  },
  {
   "cell_type": "code",
   "execution_count": 6,
   "id": "c25dee47-979a-47bb-857c-b43f9634054b",
   "metadata": {},
   "outputs": [
    {
     "name": "stdout",
     "output_type": "stream",
     "text": [
      "<class '__main__.test'>\n"
     ]
    }
   ],
   "source": [
    "print(type(a))"
   ]
  },
  {
   "cell_type": "markdown",
   "id": "390ea0fb-58eb-48b6-bf3a-1427c0180dbf",
   "metadata": {},
   "source": [
    "##### Whenever we create a function inside a class we are supposed to give a pointer i.e self or a reference so that my class will be able to bind this method with the class and understand that this method belongs to me(class) and here class variables are rohan, sohan."
   ]
  },
  {
   "cell_type": "code",
   "execution_count": 6,
   "id": "7b2675f7-04e7-4c6b-bbf7-501a41939f6d",
   "metadata": {},
   "outputs": [],
   "source": [
    "class pwskills:\n",
    "    def welcome_msg(self):\n",
    "        print(\"Welcome to PWSKILLS\")"
   ]
  },
  {
   "cell_type": "code",
   "execution_count": 7,
   "id": "1bdeab04-ef7e-492a-b5cb-ebe2cd77c67b",
   "metadata": {},
   "outputs": [
    {
     "name": "stdout",
     "output_type": "stream",
     "text": [
      "Welcome to PWSKILLS\n"
     ]
    }
   ],
   "source": [
    "rohan = pwskills()\n",
    "rohan.welcome_msg()"
   ]
  },
  {
   "cell_type": "code",
   "execution_count": 8,
   "id": "a2843bb3-a71c-4fbc-9958-686e00af0030",
   "metadata": {},
   "outputs": [
    {
     "name": "stdout",
     "output_type": "stream",
     "text": [
      "Welcome to PWSKILLS\n"
     ]
    }
   ],
   "source": [
    "sohan = pwskills()\n",
    "sohan.welcome_msg()"
   ]
  },
  {
   "cell_type": "markdown",
   "id": "47138755-17ed-4124-a6a6-64af28039017",
   "metadata": {},
   "source": [
    "##### Constructor helps the class in order to pass data/information wrt a object(just like a=1 is taking the data), __init__ is a constructor. For accessing data outside a class we'll need class variables, objects or instances. Inside the class we require self keyword in order to access the variable. __init__ method is used to pass data inside a class, it's also a constructor"
   ]
  },
  {
   "cell_type": "code",
   "execution_count": 10,
   "id": "58d60c97-93b7-44b8-9980-928bc5c6465d",
   "metadata": {},
   "outputs": [],
   "source": [
    "class pwskills1:\n",
    "    def __init__(self, phone_number,email_id,student_id):      ## Passing the data like a=2\n",
    "        self.phone_number = phone_number\n",
    "        self.email_id = email_id\n",
    "        self.student_id = student_id\n",
    "        \n",
    "    def return_student_details(self):\n",
    "        return self.phone_number,self.email_id,self.student_id    "
   ]
  },
  {
   "cell_type": "code",
   "execution_count": 14,
   "id": "66662155-c974-44d8-bcb1-18f8cbe12ff3",
   "metadata": {},
   "outputs": [],
   "source": [
    "rohan = pwskills1(9373927292,'rohan@gmail.com',111)"
   ]
  },
  {
   "cell_type": "code",
   "execution_count": 19,
   "id": "9dc9d8a7-7137-42e8-9610-334303f35c37",
   "metadata": {},
   "outputs": [
    {
     "data": {
      "text/plain": [
       "'rohan@gmail.com'"
      ]
     },
     "execution_count": 19,
     "metadata": {},
     "output_type": "execute_result"
    }
   ],
   "source": [
    "rohan.email_id              #accessing the data value"
   ]
  },
  {
   "cell_type": "code",
   "execution_count": 20,
   "id": "245dcab9-87ac-47a1-8115-b170d7530c4f",
   "metadata": {},
   "outputs": [
    {
     "data": {
      "text/plain": [
       "9373927292"
      ]
     },
     "execution_count": 20,
     "metadata": {},
     "output_type": "execute_result"
    }
   ],
   "source": [
    "rohan.phone_number"
   ]
  },
  {
   "cell_type": "code",
   "execution_count": 16,
   "id": "b5be214a-34e6-4bbd-a8d1-928b8d60885f",
   "metadata": {},
   "outputs": [
    {
     "data": {
      "text/plain": [
       "111"
      ]
     },
     "execution_count": 16,
     "metadata": {},
     "output_type": "execute_result"
    }
   ],
   "source": [
    "rohan.student_id"
   ]
  },
  {
   "cell_type": "code",
   "execution_count": 18,
   "id": "ceffb0f1-f054-4f65-9283-2b948631f329",
   "metadata": {},
   "outputs": [
    {
     "data": {
      "text/plain": [
       "(9373927292, 'rohan@gmail.com', 111)"
      ]
     },
     "execution_count": 18,
     "metadata": {},
     "output_type": "execute_result"
    }
   ],
   "source": [
    "# We can access the class methods like this\n",
    "rohan.return_student_details()"
   ]
  },
  {
   "cell_type": "code",
   "execution_count": 22,
   "id": "3b91604c-1d4b-4603-afb6-f989ff7af760",
   "metadata": {},
   "outputs": [],
   "source": [
    "sohan = pwskills1(3473927292,'sohan@gmail.com',222)"
   ]
  },
  {
   "cell_type": "code",
   "execution_count": 23,
   "id": "28c0c755-e3d7-45f0-9db9-5c5555fff00c",
   "metadata": {},
   "outputs": [
    {
     "data": {
      "text/plain": [
       "'sohan@gmail.com'"
      ]
     },
     "execution_count": 23,
     "metadata": {},
     "output_type": "execute_result"
    }
   ],
   "source": [
    "sohan.email_id              #accessing the data value"
   ]
  },
  {
   "cell_type": "code",
   "execution_count": null,
   "id": "f06a7e9d-34f0-41b5-b039-a7afb09057b2",
   "metadata": {},
   "outputs": [],
   "source": [
    "#Self is not a reserved keyword you can give anything for a reference variable. Class will only understand variable followed by self. keyword not the one on the RHS of ="
   ]
  },
  {
   "cell_type": "code",
   "execution_count": 24,
   "id": "de986d82-6ea0-4527-99c3-7795f4c8d073",
   "metadata": {},
   "outputs": [],
   "source": [
    "class pwskills2:\n",
    "    def __init__(kweera, phone_number,email_id,student_id):      ## Passing the data like a=2\n",
    "        kweera.phone_number = phone_number\n",
    "        kweera.email_id = email_id\n",
    "        kweera.student_id = student_id\n",
    "        \n",
    "    def return_student_details(kweera):\n",
    "        return kweera.phone_number,kweera.email_id,kweera.student_id  "
   ]
  },
  {
   "cell_type": "code",
   "execution_count": 26,
   "id": "ec31bec3-bd54-452a-844c-f48e464f37c1",
   "metadata": {},
   "outputs": [],
   "source": [
    "mohan = pwskills2(635327012,'mohan@gmail.com',333)"
   ]
  },
  {
   "cell_type": "code",
   "execution_count": 27,
   "id": "23c898de-c1b4-4cf5-93f5-22b4b1ce4e6c",
   "metadata": {},
   "outputs": [
    {
     "data": {
      "text/plain": [
       "333"
      ]
     },
     "execution_count": 27,
     "metadata": {},
     "output_type": "execute_result"
    }
   ],
   "source": [
    "mohan.student_id"
   ]
  },
  {
   "cell_type": "code",
   "execution_count": 28,
   "id": "7ce81fd7-ed49-49b3-9975-0896f9750906",
   "metadata": {},
   "outputs": [
    {
     "data": {
      "text/plain": [
       "'mohan@gmail.com'"
      ]
     },
     "execution_count": 28,
     "metadata": {},
     "output_type": "execute_result"
    }
   ],
   "source": [
    "mohan.email_id"
   ]
  },
  {
   "cell_type": "code",
   "execution_count": 35,
   "id": "0a98d63e-03d6-45b4-9b96-4add0099599b",
   "metadata": {},
   "outputs": [],
   "source": [
    "class pwskills3:\n",
    "    def __init__(kweera, phone_number,email_id,student_id):      ## Passing the data like a=2\n",
    "        kweera.phone_number1 = phone_number\n",
    "        kweera.email_id = email_id\n",
    "        kweera.student_id = student_id\n",
    "        \n",
    "    def return_student_details(kweera):\n",
    "        return kweera.phone_number1,kweera.email_id,kweera.student_id  "
   ]
  },
  {
   "cell_type": "code",
   "execution_count": 36,
   "id": "12cc8480-296f-4337-9e21-41909082fbbd",
   "metadata": {},
   "outputs": [],
   "source": [
    "rohan = pwskills3(635327012,'rohan@gmail.com',111)"
   ]
  },
  {
   "cell_type": "code",
   "execution_count": 37,
   "id": "5ffc9ecb-35f0-493d-b4e9-9dedd0278927",
   "metadata": {},
   "outputs": [
    {
     "data": {
      "text/plain": [
       "'rohan@gmail.com'"
      ]
     },
     "execution_count": 37,
     "metadata": {},
     "output_type": "execute_result"
    }
   ],
   "source": [
    "rohan.email_id"
   ]
  },
  {
   "cell_type": "code",
   "execution_count": 38,
   "id": "b03b6161-79a3-4edd-a128-ea58482bdf5b",
   "metadata": {},
   "outputs": [
    {
     "data": {
      "text/plain": [
       "(635327012, 'rohan@gmail.com', 111)"
      ]
     },
     "execution_count": 38,
     "metadata": {},
     "output_type": "execute_result"
    }
   ],
   "source": [
    "#Class will only understand the variable that are binded to it with the help of self keyword or some reference variable\n",
    "rohan.return_student_details()\n",
    "# Got the error because of this return kweera.phone_number,kweera.email_id,kweera.student_id"
   ]
  },
  {
   "cell_type": "code",
   "execution_count": 39,
   "id": "ce32c37c-5784-4d49-aed8-b3eed3cbbbf0",
   "metadata": {},
   "outputs": [
    {
     "data": {
      "text/plain": [
       "(635327012, 'rohan@gmail.com', 111)"
      ]
     },
     "execution_count": 39,
     "metadata": {},
     "output_type": "execute_result"
    }
   ],
   "source": [
    "rohan.return_student_details()"
   ]
  },
  {
   "cell_type": "code",
   "execution_count": null,
   "id": "4ba9b1b7-bbf1-42d4-aa8b-c99d9c395907",
   "metadata": {},
   "outputs": [],
   "source": []
  }
 ],
 "metadata": {
  "kernelspec": {
   "display_name": "Python 3 (ipykernel)",
   "language": "python",
   "name": "python3"
  },
  "language_info": {
   "codemirror_mode": {
    "name": "ipython",
    "version": 3
   },
   "file_extension": ".py",
   "mimetype": "text/x-python",
   "name": "python",
   "nbconvert_exporter": "python",
   "pygments_lexer": "ipython3",
   "version": "3.10.8"
  }
 },
 "nbformat": 4,
 "nbformat_minor": 5
}

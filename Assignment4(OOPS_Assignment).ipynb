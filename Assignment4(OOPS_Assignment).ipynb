{
 "cells": [
  {
   "cell_type": "markdown",
   "id": "b1f91bb4-23a6-4cef-9940-0735074a5336",
   "metadata": {},
   "source": [
    "## Assignment 4"
   ]
  },
  {
   "cell_type": "markdown",
   "id": "2e37ddca-ec28-4074-8917-7b68388bbfa7",
   "metadata": {},
   "source": [
    "#### Q1. Explain Class and Object with respect to Object-Oriented Programming. Give a suitable example.  "
   ]
  },
  {
   "cell_type": "markdown",
   "id": "c4ba6325-e20e-4448-bdda-a2fe51baf37c",
   "metadata": {},
   "source": [
    "##### Ans1: A class is a blueprint of all the funcationality it's going to implement, like what variables and methods it will be containing inside it. On the otherhand object will be an instance of the class through which we can access the functionality declared inside the class. Example is written below"
   ]
  },
  {
   "cell_type": "code",
   "execution_count": 19,
   "id": "80dd6e0a-64b1-4396-b77c-6bfb5e59ed33",
   "metadata": {},
   "outputs": [],
   "source": [
    "class animal:\n",
    "    legs = 4\n",
    "    def __init__(self, animal4leg):\n",
    "        print(\"{} is a an animal with four leg\".format(animal4leg))\n",
    "    def walk(self):\n",
    "        print(\"I will walk with four legs\")"
   ]
  },
  {
   "cell_type": "code",
   "execution_count": 16,
   "id": "c85557ef-7d23-428e-9100-3eed8ae51a24",
   "metadata": {},
   "outputs": [
    {
     "name": "stdout",
     "output_type": "stream",
     "text": [
      "Panda is a an animal with four leg\n"
     ]
    }
   ],
   "source": [
    "ani_obj = animal('Panda')              #ani_obj is an object of animal class"
   ]
  },
  {
   "cell_type": "code",
   "execution_count": 17,
   "id": "9d803993-d1a9-468a-a8fb-0d4d3201ee94",
   "metadata": {},
   "outputs": [
    {
     "data": {
      "text/plain": [
       "4"
      ]
     },
     "execution_count": 17,
     "metadata": {},
     "output_type": "execute_result"
    }
   ],
   "source": [
    "ani_obj.legs                           #accessing the variable of the class"
   ]
  },
  {
   "cell_type": "code",
   "execution_count": 18,
   "id": "e715652a-a549-49b3-a31b-1826fc602a85",
   "metadata": {},
   "outputs": [
    {
     "name": "stdout",
     "output_type": "stream",
     "text": [
      "I will walk with four legs\n"
     ]
    }
   ],
   "source": [
    "ani_obj.walk()"
   ]
  },
  {
   "cell_type": "markdown",
   "id": "23036efd-7c50-404a-b8f8-7289e962b17d",
   "metadata": {},
   "source": [
    "#### Q2. Name the four pillars of OOPs. . Give a suitable example."
   ]
  },
  {
   "cell_type": "markdown",
   "id": "a4800f30-7677-430b-b649-c512b6f4e67a",
   "metadata": {},
   "source": [
    "##### Ans2: The four pillars of OOP's:\n",
    "1. Polymorphism: Polymorphism means multiple states or characterstics for a single class or method based on different inputs. \n",
    "2. Encapsulation: Hiding the entire implementation of class variables from users is called encapsulation, no user will be able to access and modify private variable. Only the creator know the real name of variables so only they'll be able to access them \n",
    "3. Inheritence: According to this a class will be able to inherit the properties of an another class. By this a child class can implement the functionality(making use of methods/variables) that is not present inside it.\n",
    "4. Abstraction: Abstraction allows us to create a skelton class that'll be just a blueprint, class calling it will be able to give its own defination  "
   ]
  },
  {
   "cell_type": "code",
   "execution_count": 58,
   "id": "f4fe3947-170d-425c-a076-3c9b1e4ac2f9",
   "metadata": {},
   "outputs": [],
   "source": [
    "#Polymorphism example\n",
    "class dog:\n",
    "    def my_voice(self):\n",
    "        print('Dog will talk like woof woof')"
   ]
  },
  {
   "cell_type": "code",
   "execution_count": 59,
   "id": "32fefb82-d964-4c27-a957-7fd012beb049",
   "metadata": {},
   "outputs": [],
   "source": [
    "class cat:\n",
    "    def my_voice(self):\n",
    "        print(\"Cat will talk like meow meow\")"
   ]
  },
  {
   "cell_type": "code",
   "execution_count": 60,
   "id": "402163e8-99b8-4dc1-acd3-5fd5f76b2450",
   "metadata": {},
   "outputs": [],
   "source": [
    "class cow:\n",
    "    def my_voice(self):\n",
    "        print(\"Cow will talk like moo moo\")"
   ]
  },
  {
   "cell_type": "code",
   "execution_count": 53,
   "id": "76611605-8356-4f03-98c7-4d85f5f19e56",
   "metadata": {},
   "outputs": [],
   "source": [
    "#The class talk is behaving differenly, behaviour of 'x' is getting changed based on the passed object. \n",
    "def talk(animals):\n",
    "    for x in animals:\n",
    "        x.my_voice()"
   ]
  },
  {
   "cell_type": "code",
   "execution_count": 61,
   "id": "8b3f396e-12c9-4131-a501-54df6c6d8e03",
   "metadata": {},
   "outputs": [],
   "source": [
    "dog_obj = dog()"
   ]
  },
  {
   "cell_type": "code",
   "execution_count": 62,
   "id": "907d065d-ada1-4b6f-ba26-1a450d58fadb",
   "metadata": {},
   "outputs": [],
   "source": [
    "cat_obj = cat()"
   ]
  },
  {
   "cell_type": "code",
   "execution_count": 63,
   "id": "242d90bf-ca81-4ae2-b24c-06da44adc3bf",
   "metadata": {},
   "outputs": [],
   "source": [
    "cow_obj = cow()"
   ]
  },
  {
   "cell_type": "code",
   "execution_count": 64,
   "id": "5f16202b-d69a-462b-8442-82fa2f3cb561",
   "metadata": {},
   "outputs": [],
   "source": [
    "animals_obj = [dog_obj, cat_obj, cow_obj]"
   ]
  },
  {
   "cell_type": "code",
   "execution_count": 65,
   "id": "381e7158-1a19-49ca-9104-c61086621c43",
   "metadata": {},
   "outputs": [
    {
     "name": "stdout",
     "output_type": "stream",
     "text": [
      "Dog will talk like woof woof\n",
      "Cat will talk like meow meow\n",
      "Cow will talk like moo moo\n"
     ]
    }
   ],
   "source": [
    "talk(animals_obj)"
   ]
  },
  {
   "cell_type": "code",
   "execution_count": 85,
   "id": "3d8f54c9-021f-44d2-8651-09a843004109",
   "metadata": {},
   "outputs": [],
   "source": [
    "#Encapsulation example\n",
    "class test:\n",
    "    def __init__(self, data, keys):\n",
    "        self.__data = data\n",
    "        self.keys = keys"
   ]
  },
  {
   "cell_type": "code",
   "execution_count": 86,
   "id": "1c52d398-0b60-40ac-b17f-91270335d8bf",
   "metadata": {},
   "outputs": [],
   "source": [
    "test_obj = test('this is my data', [22,'www'])"
   ]
  },
  {
   "cell_type": "code",
   "execution_count": 88,
   "id": "3228b5b5-73f5-4434-a52e-18887c3460c9",
   "metadata": {},
   "outputs": [
    {
     "ename": "AttributeError",
     "evalue": "'test' object has no attribute '__data'",
     "output_type": "error",
     "traceback": [
      "\u001b[0;31m---------------------------------------------------------------------------\u001b[0m",
      "\u001b[0;31mAttributeError\u001b[0m                            Traceback (most recent call last)",
      "Cell \u001b[0;32mIn[88], line 1\u001b[0m\n\u001b[0;32m----> 1\u001b[0m \u001b[43mtest_obj\u001b[49m\u001b[38;5;241;43m.\u001b[39;49m\u001b[43m__data\u001b[49m           \u001b[38;5;66;03m##we've successfully hidden the value of variable inside the class\u001b[39;00m\n",
      "\u001b[0;31mAttributeError\u001b[0m: 'test' object has no attribute '__data'"
     ]
    }
   ],
   "source": [
    "test_obj.__data           ##we've successfully hidden the value of variable inside the class"
   ]
  },
  {
   "cell_type": "code",
   "execution_count": 92,
   "id": "c5594a53-cd90-427e-a846-5e26cc0e9617",
   "metadata": {},
   "outputs": [],
   "source": [
    "#Inheritance example:\n",
    "class parent:\n",
    "    def test_parent(self):\n",
    "        print(\"This is parent class\")"
   ]
  },
  {
   "cell_type": "code",
   "execution_count": 93,
   "id": "503c83ac-04eb-4b86-bfd5-6953292ebdb9",
   "metadata": {},
   "outputs": [],
   "source": [
    "class child(parent):\n",
    "    def test_child(self):\n",
    "        print(\"This is child class\")"
   ]
  },
  {
   "cell_type": "code",
   "execution_count": 94,
   "id": "16b3c3b0-6020-493a-995a-665da384bddf",
   "metadata": {},
   "outputs": [],
   "source": [
    "child_obj = child()"
   ]
  },
  {
   "cell_type": "code",
   "execution_count": 95,
   "id": "f6a00eae-fdd4-49e0-93d4-2fc52da2aeeb",
   "metadata": {},
   "outputs": [
    {
     "name": "stdout",
     "output_type": "stream",
     "text": [
      "This is parent class\n"
     ]
    }
   ],
   "source": [
    "child_obj.test_parent()    # We're able to call the method of parent class "
   ]
  },
  {
   "cell_type": "code",
   "execution_count": 7,
   "id": "2f6bada3-5da3-4506-8887-ec55cde7bbcf",
   "metadata": {},
   "outputs": [],
   "source": [
    "#Abstraction Example\n",
    "import abc\n",
    "\n",
    "class flights:\n",
    "\n",
    "    @abc.abstractmethod\n",
    "    def checkin(self):\n",
    "        pass\n",
    "\n",
    "    @abc.abstractmethod\n",
    "    def luggage(self):\n",
    "        pass\n",
    "    \n",
    "    @abc.abstractmethod\n",
    "    def passenger_detail(self):\n",
    "        pass"
   ]
  },
  {
   "cell_type": "code",
   "execution_count": 8,
   "id": "a2fa4893-d678-4cfb-80c4-ce2c03726545",
   "metadata": {},
   "outputs": [],
   "source": [
    "class air_asia(flights):\n",
    "    \n",
    "    def luggage(self):\n",
    "        return \"This is the luggage method for air asia flight\"\n",
    "    \n",
    "    def passenger_details(self):\n",
    "        return \"These are the passenger details for air aisa flight\""
   ]
  },
  {
   "cell_type": "code",
   "execution_count": 9,
   "id": "1c60b1a7-ca7a-4245-af1d-08d2857aeb87",
   "metadata": {},
   "outputs": [],
   "source": [
    "class indigo(flights):\n",
    "    \n",
    "    def checkin(self):\n",
    "        return \"This is the checkin indigo flight\"\n",
    "    \n",
    "    def luggage(self):\n",
    "        return \"This is the luggage method for indigo flight\"\n",
    "    \n",
    "    def passenger_details(self):\n",
    "        return \"These are the passenger details for indigo flight\""
   ]
  },
  {
   "cell_type": "code",
   "execution_count": 11,
   "id": "2f9ad396-3a6a-4cf1-99f8-a0be377d296c",
   "metadata": {},
   "outputs": [],
   "source": [
    "aa_obj = air_asia()\n",
    "indigo_obj = indigo()"
   ]
  },
  {
   "cell_type": "code",
   "execution_count": 12,
   "id": "b7f1bfbe-215f-440b-9e14-20c176e1b55a",
   "metadata": {},
   "outputs": [
    {
     "data": {
      "text/plain": [
       "'This is the luggage method for air asia flight'"
      ]
     },
     "execution_count": 12,
     "metadata": {},
     "output_type": "execute_result"
    }
   ],
   "source": [
    "aa_obj.luggage()"
   ]
  },
  {
   "cell_type": "code",
   "execution_count": 13,
   "id": "258c793f-fbc9-45b5-afe7-35d9c7be21fc",
   "metadata": {},
   "outputs": [
    {
     "data": {
      "text/plain": [
       "'This is the luggage method for indigo flight'"
      ]
     },
     "execution_count": 13,
     "metadata": {},
     "output_type": "execute_result"
    }
   ],
   "source": [
    "indigo_obj.luggage()"
   ]
  },
  {
   "cell_type": "code",
   "execution_count": 14,
   "id": "c1b94f43-755c-4ec7-9078-58fd2a00d2f1",
   "metadata": {},
   "outputs": [
    {
     "data": {
      "text/plain": [
       "'This is the checkin indigo flight'"
      ]
     },
     "execution_count": 14,
     "metadata": {},
     "output_type": "execute_result"
    }
   ],
   "source": [
    "indigo_obj.checkin()"
   ]
  },
  {
   "cell_type": "code",
   "execution_count": 15,
   "id": "925aa1cd-ad8c-4140-8772-042d3047dabb",
   "metadata": {},
   "outputs": [
    {
     "data": {
      "text/plain": [
       "'These are the passenger details for air aisa flight'"
      ]
     },
     "execution_count": 15,
     "metadata": {},
     "output_type": "execute_result"
    }
   ],
   "source": [
    "aa_obj.passenger_details()"
   ]
  },
  {
   "cell_type": "markdown",
   "id": "d96ef347-a8c6-484f-8b0b-336c139124a4",
   "metadata": {},
   "source": [
    "#### Q3. Explain why the __init__() function is used"
   ]
  },
  {
   "cell_type": "markdown",
   "id": "a8fc7990-3e11-4f53-bfe4-407643ac3ce2",
   "metadata": {},
   "source": [
    "Ans3: __init__ is a constructor, it helps the class inorder to pass data/information to an object. init() method is used to pass data inside a class."
   ]
  },
  {
   "cell_type": "markdown",
   "id": "f8f1e0e6-b630-43b5-88d8-9ddbfa7f9afa",
   "metadata": {},
   "source": [
    "#### Q4. Why self is used in OOPs?"
   ]
  },
  {
   "cell_type": "markdown",
   "id": "c611c756-5cb6-4b29-9a9f-7b0c2ac9de1c",
   "metadata": {},
   "source": [
    "Ans4: As for accessing data outside a class we'll require class variables/objects/instances. Inside the class we require self keyword in order to access the variable. It'll bind the variable/methods to the object of the class."
   ]
  },
  {
   "cell_type": "markdown",
   "id": "e2db4605-2c27-4cd2-832b-05f2f9af0243",
   "metadata": {},
   "source": [
    "#### Q5. What is inheritance? Give an example for each type of inheritance."
   ]
  },
  {
   "cell_type": "markdown",
   "id": "ef6eb035-46c3-4610-ab03-8638fa814f41",
   "metadata": {},
   "source": [
    "Ans5: According to this a class will be able to inherit the properties of an another class. By this a child class can implement the functionality(making use of methods/variables) that is not present inside it."
   ]
  },
  {
   "cell_type": "code",
   "execution_count": null,
   "id": "5115c2cf-f352-4124-bd83-d115f6ad08a7",
   "metadata": {},
   "outputs": [],
   "source": [
    "# Single Inheritance"
   ]
  },
  {
   "cell_type": "code",
   "execution_count": 28,
   "id": "24d58274-2e1c-465a-b1dd-c1b48fcba456",
   "metadata": {},
   "outputs": [],
   "source": [
    "class abc_parent():\n",
    "    def parent_method(self):\n",
    "        print(\"This is abc parent class\")"
   ]
  },
  {
   "cell_type": "code",
   "execution_count": 29,
   "id": "e9749c3f-1b26-46ef-8160-9c30870087fe",
   "metadata": {},
   "outputs": [],
   "source": [
    "class base_derived(abc_parent):      #Inheriting from single class\n",
    "    pass"
   ]
  },
  {
   "cell_type": "code",
   "execution_count": 30,
   "id": "f96a8548-16ed-4c3f-952a-928f106ac176",
   "metadata": {},
   "outputs": [],
   "source": [
    "base_obj = base_derived()     "
   ]
  },
  {
   "cell_type": "code",
   "execution_count": 31,
   "id": "68d3e495-07ae-4b3b-8a34-ff8d7863c051",
   "metadata": {},
   "outputs": [
    {
     "name": "stdout",
     "output_type": "stream",
     "text": [
      "This is abc parent class\n"
     ]
    }
   ],
   "source": [
    "base_obj.parent_method()     #Calling the method of parent class from the object of child class"
   ]
  },
  {
   "cell_type": "code",
   "execution_count": null,
   "id": "247a3035-46ce-4a39-ab9e-b5ec91852363",
   "metadata": {},
   "outputs": [],
   "source": [
    "# Multiple Inheritance"
   ]
  },
  {
   "cell_type": "code",
   "execution_count": 34,
   "id": "e091e608-4d7c-47a1-b7c1-65c2d50e24f6",
   "metadata": {},
   "outputs": [],
   "source": [
    "class parent1():\n",
    "    def parent1_method(self):\n",
    "        print(\"This is parent1 class\")"
   ]
  },
  {
   "cell_type": "code",
   "execution_count": 35,
   "id": "a0cba29f-0e2c-4cd8-afc3-2e4021d5c17b",
   "metadata": {},
   "outputs": [],
   "source": [
    "class parent2():\n",
    "    def parent2_method(self):\n",
    "        print(\"This is parent2 class\")"
   ]
  },
  {
   "cell_type": "code",
   "execution_count": 36,
   "id": "8398a980-406b-400e-be47-69988c4ff7b1",
   "metadata": {},
   "outputs": [],
   "source": [
    "class child_class(parent1, parent2):   #Inheriting from multiple classes\n",
    "    pass"
   ]
  },
  {
   "cell_type": "code",
   "execution_count": 37,
   "id": "cf08c4f6-33ef-4139-a110-5d805bed41c0",
   "metadata": {},
   "outputs": [],
   "source": [
    "child_obj = child_class()"
   ]
  },
  {
   "cell_type": "code",
   "execution_count": 38,
   "id": "abc85736-2b32-4acb-ac10-ff6403aeaf7e",
   "metadata": {},
   "outputs": [
    {
     "name": "stdout",
     "output_type": "stream",
     "text": [
      "This is parent1 class\n"
     ]
    }
   ],
   "source": [
    "child_obj.parent1_method()"
   ]
  },
  {
   "cell_type": "code",
   "execution_count": 39,
   "id": "d822e6f0-19d0-4db4-9d5f-47fac690ce8c",
   "metadata": {},
   "outputs": [
    {
     "name": "stdout",
     "output_type": "stream",
     "text": [
      "This is parent2 class\n"
     ]
    }
   ],
   "source": [
    "child_obj.parent2_method()"
   ]
  },
  {
   "cell_type": "code",
   "execution_count": null,
   "id": "05bba8fc-5e96-48c5-af6c-981128b44880",
   "metadata": {},
   "outputs": [],
   "source": [
    "# Multilevel Inheritance"
   ]
  },
  {
   "cell_type": "code",
   "execution_count": 43,
   "id": "361e6a5c-ec37-4337-a3e0-34295561e161",
   "metadata": {},
   "outputs": [],
   "source": [
    "class classA:\n",
    "    def method_classA(self):\n",
    "        print(\"This is classA method\")  "
   ]
  },
  {
   "cell_type": "code",
   "execution_count": 44,
   "id": "5927fb3b-61c3-49ab-aa92-b4895b6901ca",
   "metadata": {},
   "outputs": [],
   "source": [
    "class classB(classA):\n",
    "    def method_classB(self):\n",
    "        print(\"This is classB method\")"
   ]
  },
  {
   "cell_type": "code",
   "execution_count": 45,
   "id": "cd2531b0-47a5-48c3-bcbc-102df342e593",
   "metadata": {},
   "outputs": [],
   "source": [
    "class classC(classB):\n",
    "    def method_classC(self):\n",
    "        print(\"This is classC method\")"
   ]
  },
  {
   "cell_type": "code",
   "execution_count": 46,
   "id": "7fbac2a5-3f7d-4d56-9103-f0d31aed60c4",
   "metadata": {},
   "outputs": [],
   "source": [
    "classC_obj = classC()"
   ]
  },
  {
   "cell_type": "code",
   "execution_count": 47,
   "id": "e56cfab7-f7e6-4333-ad20-7a7cc6839e60",
   "metadata": {},
   "outputs": [
    {
     "name": "stdout",
     "output_type": "stream",
     "text": [
      "This is classA method\n"
     ]
    }
   ],
   "source": [
    "classC_obj.method_classA()          #Able to access the top level class by implementing multilevel inheritance"
   ]
  },
  {
   "cell_type": "code",
   "execution_count": null,
   "id": "cf2fb742-4789-4919-bf18-156f84af0db6",
   "metadata": {},
   "outputs": [],
   "source": [
    "# Hierarchical Inheritance"
   ]
  },
  {
   "cell_type": "markdown",
   "id": "265ace2c-8f03-4b2a-912d-e0f494abd18f",
   "metadata": {},
   "source": [
    "When more than one derived class are created from a single base this type of inheritance is called hierarchical inheritance"
   ]
  },
  {
   "cell_type": "code",
   "execution_count": 49,
   "id": "167ac37a-af55-4d25-9a13-aeef5a6761cf",
   "metadata": {},
   "outputs": [],
   "source": [
    "class class_toplevel:\n",
    "    def method_toplevel(self):\n",
    "        print(\"This is toplevel method\")"
   ]
  },
  {
   "cell_type": "code",
   "execution_count": 50,
   "id": "e17546a1-9972-4877-8b7f-fac86d15e5cd",
   "metadata": {},
   "outputs": [],
   "source": [
    "class class1(class_toplevel):\n",
    "    def method_class1(self):\n",
    "        print(\"This is class1 method\")  "
   ]
  },
  {
   "cell_type": "code",
   "execution_count": 51,
   "id": "6a290e74-cfb5-4d3d-9c25-bd31f44e8ef9",
   "metadata": {},
   "outputs": [],
   "source": [
    "class class2(class_toplevel):\n",
    "    def method_class2(self):\n",
    "        print(\"This is class2 method\")  "
   ]
  },
  {
   "cell_type": "code",
   "execution_count": 53,
   "id": "740c716d-b214-447c-9b0c-d88a30914693",
   "metadata": {},
   "outputs": [],
   "source": [
    "class1_obj = class1()                 #Class1, class2 both are inheriting from the class_toplevel class"
   ]
  },
  {
   "cell_type": "code",
   "execution_count": 55,
   "id": "21c3fc00-e817-46f8-a250-38d238ae412b",
   "metadata": {},
   "outputs": [
    {
     "name": "stdout",
     "output_type": "stream",
     "text": [
      "This is toplevel method\n"
     ]
    }
   ],
   "source": [
    "class1_obj.method_toplevel()"
   ]
  },
  {
   "cell_type": "code",
   "execution_count": 56,
   "id": "84f1e395-ebef-438e-b0ae-7924cf5a42b2",
   "metadata": {},
   "outputs": [],
   "source": [
    "class2_obj = class2()"
   ]
  },
  {
   "cell_type": "code",
   "execution_count": 57,
   "id": "dd6a5dde-9895-499c-a7b8-ab4a1882c536",
   "metadata": {},
   "outputs": [
    {
     "name": "stdout",
     "output_type": "stream",
     "text": [
      "This is toplevel method\n"
     ]
    }
   ],
   "source": [
    "class2_obj.method_toplevel()"
   ]
  },
  {
   "cell_type": "code",
   "execution_count": null,
   "id": "a37a06b0-8d9c-4259-831b-57ae5eb3952f",
   "metadata": {},
   "outputs": [],
   "source": [
    "# Hybrid Inheritance"
   ]
  },
  {
   "cell_type": "markdown",
   "id": "9de31997-0cba-4f7b-acd7-e8a885cc60a7",
   "metadata": {},
   "source": [
    "Inheritance consisting of multiple types of inheritance is called hybrid inheritance."
   ]
  },
  {
   "cell_type": "code",
   "execution_count": 65,
   "id": "72f1f648-8879-4a92-8fae-a69dc81c1a3c",
   "metadata": {},
   "outputs": [],
   "source": [
    "class teacher:\n",
    "    def teacher_method(self):\n",
    "        print(\"This is a method from teacher\")"
   ]
  },
  {
   "cell_type": "code",
   "execution_count": 66,
   "id": "9fc27ac8-5bd7-4091-b0c2-d8a9aa64a98e",
   "metadata": {},
   "outputs": [],
   "source": [
    "class student1(teacher):                                #Single inheritance\n",
    "    def student1_method(self):\n",
    "        print(\"This is a method from student1\")"
   ]
  },
  {
   "cell_type": "code",
   "execution_count": 67,
   "id": "bab70605-e4a2-4956-8798-b3af7fb72ec1",
   "metadata": {},
   "outputs": [],
   "source": [
    "class student2(teacher):                                #Single inheritance\n",
    "    def student2_method(self):\n",
    "        print(\"This is a method from student2\")"
   ]
  },
  {
   "cell_type": "code",
   "execution_count": 74,
   "id": "105b83d3-e649-43de-aafc-c10f164db43a",
   "metadata": {},
   "outputs": [],
   "source": [
    "class student3(student1,teacher):                       #Multiple inheritance       \n",
    "    def student3_method(self):\n",
    "        print(\"This is a method from student3\")"
   ]
  },
  {
   "cell_type": "code",
   "execution_count": 75,
   "id": "0aeee911-e434-467a-95fd-1fb6121ec1b3",
   "metadata": {},
   "outputs": [],
   "source": [
    "student3_obj = student3()"
   ]
  },
  {
   "cell_type": "code",
   "execution_count": 76,
   "id": "46b928e6-f645-4610-8c74-d0445b761c40",
   "metadata": {},
   "outputs": [
    {
     "name": "stdout",
     "output_type": "stream",
     "text": [
      "This is a method from student1\n"
     ]
    }
   ],
   "source": [
    "student3_obj.student1_method()"
   ]
  },
  {
   "cell_type": "code",
   "execution_count": 79,
   "id": "b866e15a-1c9f-4676-a03a-6b91dec790f8",
   "metadata": {},
   "outputs": [],
   "source": [
    "student2_obj = student2()"
   ]
  },
  {
   "cell_type": "code",
   "execution_count": 80,
   "id": "5b019a28-0281-49b0-9ab3-8ae987c3b30d",
   "metadata": {},
   "outputs": [
    {
     "name": "stdout",
     "output_type": "stream",
     "text": [
      "This is a method from teacher\n"
     ]
    }
   ],
   "source": [
    "student2_obj.teacher_method()"
   ]
  }
 ],
 "metadata": {
  "kernelspec": {
   "display_name": "Python 3 (ipykernel)",
   "language": "python",
   "name": "python3"
  },
  "language_info": {
   "codemirror_mode": {
    "name": "ipython",
    "version": 3
   },
   "file_extension": ".py",
   "mimetype": "text/x-python",
   "name": "python",
   "nbconvert_exporter": "python",
   "pygments_lexer": "ipython3",
   "version": "3.10.8"
  }
 },
 "nbformat": 4,
 "nbformat_minor": 5
}

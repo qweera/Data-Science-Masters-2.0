{
 "cells": [
  {
   "cell_type": "markdown",
   "id": "46e7b458-f935-4008-a4fb-d38994430394",
   "metadata": {},
   "source": [
    "### Encapsulation"
   ]
  },
  {
   "cell_type": "code",
   "execution_count": 1,
   "id": "80635f33-99af-432c-90e2-e4d98548d543",
   "metadata": {},
   "outputs": [],
   "source": [
    "class test:\n",
    "    def __init__(self,a,b):\n",
    "        self.a = a\n",
    "        self.b = b"
   ]
  },
  {
   "cell_type": "code",
   "execution_count": 3,
   "id": "02c3f2dd-77ab-4505-8e32-d7f3c4fcf3e4",
   "metadata": {},
   "outputs": [],
   "source": [
    "t=test(55,555)"
   ]
  },
  {
   "cell_type": "code",
   "execution_count": 5,
   "id": "99dea8d0-db6f-4b8e-84d8-d5dcd664d1db",
   "metadata": {},
   "outputs": [
    {
     "data": {
      "text/plain": [
       "55"
      ]
     },
     "execution_count": 5,
     "metadata": {},
     "output_type": "execute_result"
    }
   ],
   "source": [
    "t.a"
   ]
  },
  {
   "cell_type": "code",
   "execution_count": 6,
   "id": "60ad2fc8-711f-4c95-bb77-10e07e4c37df",
   "metadata": {},
   "outputs": [
    {
     "data": {
      "text/plain": [
       "555"
      ]
     },
     "execution_count": 6,
     "metadata": {},
     "output_type": "execute_result"
    }
   ],
   "source": [
    "t.b"
   ]
  },
  {
   "cell_type": "code",
   "execution_count": 8,
   "id": "319fff08-76f4-4473-8a5f-ed87b20e3d66",
   "metadata": {},
   "outputs": [],
   "source": [
    "t.a = 777"
   ]
  },
  {
   "cell_type": "code",
   "execution_count": 9,
   "id": "282d162c-88db-47af-ae39-4182654e3131",
   "metadata": {},
   "outputs": [
    {
     "data": {
      "text/plain": [
       "777"
      ]
     },
     "execution_count": 9,
     "metadata": {},
     "output_type": "execute_result"
    }
   ],
   "source": [
    "t.a"
   ]
  },
  {
   "cell_type": "markdown",
   "id": "d3f2ab03-d657-43a0-b90d-edf5216d32a8",
   "metadata": {},
   "source": [
    "##### Encapsulation is a idea that will allow you to prevent any kind of direct modification of data, above type of modification of data should not be allowed for any user"
   ]
  },
  {
   "cell_type": "code",
   "execution_count": 11,
   "id": "5d4fd34e-1351-4e34-8b64-d2683a803960",
   "metadata": {},
   "outputs": [],
   "source": [
    "class car:\n",
    "    def __init__(self,year,make,model,speed):\n",
    "        self.__year = year                   #__year,__make,__model,__speed all are private variables\n",
    "        self.__make = make\n",
    "        self.__model = model\n",
    "        self.__speed = 0"
   ]
  },
  {
   "cell_type": "code",
   "execution_count": 12,
   "id": "9751fd42-3aad-4819-b228-5f8aa6cabb0d",
   "metadata": {},
   "outputs": [],
   "source": [
    "obj_car = car(2003,'Maruti Suzuki','Jimny',41)"
   ]
  },
  {
   "cell_type": "code",
   "execution_count": 13,
   "id": "8e9775bf-6ef9-4ee1-8431-6273c7bfde65",
   "metadata": {},
   "outputs": [
    {
     "ename": "AttributeError",
     "evalue": "'car' object has no attribute '__year'",
     "output_type": "error",
     "traceback": [
      "\u001b[0;31m---------------------------------------------------------------------------\u001b[0m",
      "\u001b[0;31mAttributeError\u001b[0m                            Traceback (most recent call last)",
      "Cell \u001b[0;32mIn[13], line 1\u001b[0m\n\u001b[0;32m----> 1\u001b[0m \u001b[43mobj_car\u001b[49m\u001b[38;5;241;43m.\u001b[39;49m\u001b[43m__year\u001b[49m                             \u001b[38;5;66;03m#We'll not be able to access the private variable without class name\u001b[39;00m\n",
      "\u001b[0;31mAttributeError\u001b[0m: 'car' object has no attribute '__year'"
     ]
    }
   ],
   "source": [
    "obj_car.__year                             #We'll not be able to access the private variable without class name"
   ]
  },
  {
   "cell_type": "code",
   "execution_count": 17,
   "id": "875a4d44-5049-44af-b0d6-56e4ea431a5d",
   "metadata": {},
   "outputs": [
    {
     "ename": "NameError",
     "evalue": "name 'obj_cardot' is not defined",
     "output_type": "error",
     "traceback": [
      "\u001b[0;31m---------------------------------------------------------------------------\u001b[0m",
      "\u001b[0;31mNameError\u001b[0m                                 Traceback (most recent call last)",
      "Cell \u001b[0;32mIn[17], line 1\u001b[0m\n\u001b[0;32m----> 1\u001b[0m \u001b[43mobj_cardot\u001b[49m     \u001b[38;5;66;03m#pressing tab after dot will not show any functions, we(a creator) need to create a public function for users in order to access the variable data\u001b[39;00m\n",
      "\u001b[0;31mNameError\u001b[0m: name 'obj_cardot' is not defined"
     ]
    }
   ],
   "source": [
    "obj_car.     #pressing tab after dot will not show any functions, we(a creator) need to create a public function for users in order to access the variable data"
   ]
  },
  {
   "cell_type": "code",
   "execution_count": 16,
   "id": "795e7bf1-d3b0-444a-9d64-00d355588474",
   "metadata": {},
   "outputs": [],
   "source": [
    "obj_car.__car__year = 2021"
   ]
  },
  {
   "cell_type": "code",
   "execution_count": 17,
   "id": "75c11426-f090-4ff9-8049-219ee7d47ff8",
   "metadata": {},
   "outputs": [
    {
     "data": {
      "text/plain": [
       "2021"
      ]
     },
     "execution_count": 17,
     "metadata": {},
     "output_type": "execute_result"
    }
   ],
   "source": [
    "obj_car.__car__year   #Only as a creator we'll be able to access this variable, a person who is not a creator will not be able to access or even see it"
   ]
  },
  {
   "cell_type": "markdown",
   "id": "388168eb-e048-4654-99b4-a06010e9de12",
   "metadata": {},
   "source": [
    "##### Hiding the entire implementation of class variables from users is called encapsulation, no user will be able to access it. Only the creator will know the real name of variables so they'll be able to access those"
   ]
  },
  {
   "cell_type": "code",
   "execution_count": 19,
   "id": "512c5f1b-2b17-4115-9256-8a5cf5d79df8",
   "metadata": {},
   "outputs": [],
   "source": [
    "class car1:\n",
    "    \n",
    "    def __init__(self,year,make,model,speed):\n",
    "        self.__year = year                   \n",
    "        self.__make = make\n",
    "        self.__model = model\n",
    "        self.__speed = 0\n",
    "    \n",
    "    def set_speed(self,speed):             #only when a creator will create some method for user then only they'll be able to access them\n",
    "        self.__speed = 0 if speed<0 else speed\n",
    "    \n",
    "    def get_speed(self):\n",
    "        return self.__speed"
   ]
  },
  {
   "cell_type": "code",
   "execution_count": 20,
   "id": "b2605117-351b-4591-84f9-b418e513da2c",
   "metadata": {},
   "outputs": [],
   "source": [
    "obj_car1 = car1(2003,'Maruti Suzuki','Jimny',50)"
   ]
  },
  {
   "cell_type": "code",
   "execution_count": 22,
   "id": "34691655-ddfc-4e2f-ad05-22dd984c96b6",
   "metadata": {},
   "outputs": [],
   "source": [
    "obj_car1.set_speed(-12345)"
   ]
  },
  {
   "cell_type": "code",
   "execution_count": 24,
   "id": "cedfcbdd-5d62-4efb-b3aa-1f30db1b8f54",
   "metadata": {},
   "outputs": [],
   "source": [
    "obj_car1.set_speed(555)"
   ]
  },
  {
   "cell_type": "code",
   "execution_count": 25,
   "id": "d6d9f52a-eb34-4a78-8bce-f6da57024b57",
   "metadata": {},
   "outputs": [
    {
     "data": {
      "text/plain": [
       "555"
      ]
     },
     "execution_count": 25,
     "metadata": {},
     "output_type": "execute_result"
    }
   ],
   "source": [
    "obj_car1.get_speed()"
   ]
  },
  {
   "cell_type": "code",
   "execution_count": 37,
   "id": "2d05d8f0-8a3c-4c87-8ec5-a1d33726da3a",
   "metadata": {},
   "outputs": [],
   "source": [
    "class bank_account:\n",
    "    \n",
    "    def __init__(self, balance):\n",
    "        self.__balance = balance\n",
    "        \n",
    "    def deposit(self, amount):\n",
    "        self.__balance=self.__balance + amount\n",
    "        \n",
    "    def withdraw(self, amount):\n",
    "        if self.__balance >= amount:\n",
    "            self.__balance = self.__balance - amount\n",
    "            return True\n",
    "        else:\n",
    "            return False\n",
    "\n",
    "    def get_balance(self):\n",
    "        return self.__balance"
   ]
  },
  {
   "cell_type": "code",
   "execution_count": 38,
   "id": "e7704f54-94ec-496f-b9e8-4fea8276e276",
   "metadata": {},
   "outputs": [],
   "source": [
    "class_obj_bank = bank_account(5000)"
   ]
  },
  {
   "cell_type": "code",
   "execution_count": 39,
   "id": "e9c3c04c-7f16-4779-8834-f4e9174b3764",
   "metadata": {},
   "outputs": [],
   "source": [
    "class_obj_bank.deposit(5000)"
   ]
  },
  {
   "cell_type": "code",
   "execution_count": 40,
   "id": "fa1bd554-4086-4ef2-bb34-dc632169441e",
   "metadata": {},
   "outputs": [
    {
     "data": {
      "text/plain": [
       "True"
      ]
     },
     "execution_count": 40,
     "metadata": {},
     "output_type": "execute_result"
    }
   ],
   "source": [
    "class_obj_bank.withdraw(3200)"
   ]
  },
  {
   "cell_type": "code",
   "execution_count": 41,
   "id": "cfa00787-a33c-4eb9-9afa-60196998e337",
   "metadata": {},
   "outputs": [
    {
     "data": {
      "text/plain": [
       "6800"
      ]
     },
     "execution_count": 41,
     "metadata": {},
     "output_type": "execute_result"
    }
   ],
   "source": [
    "class_obj_bank.get_balance()"
   ]
  },
  {
   "cell_type": "code",
   "execution_count": null,
   "id": "ff9ab556-58c9-44f3-93fd-1e96788de0cb",
   "metadata": {},
   "outputs": [],
   "source": []
  }
 ],
 "metadata": {
  "kernelspec": {
   "display_name": "Python 3 (ipykernel)",
   "language": "python",
   "name": "python3"
  },
  "language_info": {
   "codemirror_mode": {
    "name": "ipython",
    "version": 3
   },
   "file_extension": ".py",
   "mimetype": "text/x-python",
   "name": "python",
   "nbconvert_exporter": "python",
   "pygments_lexer": "ipython3",
   "version": "3.10.8"
  }
 },
 "nbformat": 4,
 "nbformat_minor": 5
}

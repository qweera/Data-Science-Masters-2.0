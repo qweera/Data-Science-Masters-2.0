{
 "cells": [
  {
   "cell_type": "code",
   "execution_count": 2,
   "id": "b6f9d855-7cba-4e41-89e4-503cc0d3622d",
   "metadata": {},
   "outputs": [
    {
     "name": "stdout",
     "output_type": "stream",
     "text": [
      "This is a print statement.\n"
     ]
    }
   ],
   "source": [
    "print(\"This is a print statement.\")"
   ]
  },
  {
   "cell_type": "raw",
   "id": "d89b67a9-1736-4686-b179-86dc10c80542",
   "metadata": {},
   "source": [
    "##### Whenever out program throws and error we need to debug it and inorder to do that we need to log those errros in a particular file other than just printing them in the console. That's when debugging comes into picture"
   ]
  },
  {
   "cell_type": "code",
   "execution_count": null,
   "id": "fb151d89-de18-4f23-907a-8a7b1edd22f3",
   "metadata": {},
   "outputs": [],
   "source": [
    "# Logging level's hierarchy\n",
    "1. NOSET\n",
    "2. DEBUG\n",
    "3. INFO\n",
    "4. WARNING\n",
    "5. ERROR\n",
    "6. CRITICAL\n",
    "#We'll be able to log levels below any particular defined level"
   ]
  },
  {
   "cell_type": "code",
   "execution_count": 3,
   "id": "9fe49fa2-e3c2-4069-91b7-60025e3aea19",
   "metadata": {},
   "outputs": [],
   "source": [
    "import logging"
   ]
  },
  {
   "cell_type": "code",
   "execution_count": 55,
   "id": "bdaf343d-c991-4b6b-854b-8e940d780785",
   "metadata": {},
   "outputs": [],
   "source": [
    "logging.basicConfig(filename = 'test.log', level = logging.INFO)"
   ]
  },
  {
   "cell_type": "code",
   "execution_count": 56,
   "id": "a52d7e30-fd64-442b-9d28-63a7474af646",
   "metadata": {},
   "outputs": [],
   "source": [
    "logging.info(\"This is my line of execution\")"
   ]
  },
  {
   "cell_type": "code",
   "execution_count": 57,
   "id": "d0d2e8b2-05fa-45a3-a2fd-b13c55b72e3b",
   "metadata": {},
   "outputs": [],
   "source": [
    "logging.error(\"This is my error\")"
   ]
  },
  {
   "cell_type": "code",
   "execution_count": 58,
   "id": "903bc279-17d8-49cf-9a20-57701a9bd900",
   "metadata": {},
   "outputs": [],
   "source": [
    "logging.critical(\"This is my critical\")"
   ]
  },
  {
   "cell_type": "code",
   "execution_count": 59,
   "id": "cc9da544-1bbd-40f9-84d2-2df83438f71e",
   "metadata": {},
   "outputs": [],
   "source": [
    "logging.warning(\"This is my warning\")"
   ]
  },
  {
   "cell_type": "code",
   "execution_count": 60,
   "id": "f496686b-f373-4d8f-a00e-2c06f5d4447e",
   "metadata": {},
   "outputs": [],
   "source": [
    "logging.debug(\"This is info related to my debug \")"
   ]
  },
  {
   "cell_type": "code",
   "execution_count": 61,
   "id": "c21e8ddd-0ee7-4258-badd-6efea5fb2ce7",
   "metadata": {},
   "outputs": [
    {
     "ename": "AttributeError",
     "evalue": "module 'logging' has no attribute 'noset'",
     "output_type": "error",
     "traceback": [
      "\u001b[0;31m---------------------------------------------------------------------------\u001b[0m",
      "\u001b[0;31mAttributeError\u001b[0m                            Traceback (most recent call last)",
      "Cell \u001b[0;32mIn[61], line 1\u001b[0m\n\u001b[0;32m----> 1\u001b[0m \u001b[43mlogging\u001b[49m\u001b[38;5;241;43m.\u001b[39;49m\u001b[43mnoset\u001b[49m(\u001b[38;5;124m\"\u001b[39m\u001b[38;5;124mThis is info related to my noset \u001b[39m\u001b[38;5;124m\"\u001b[39m)                \u001b[38;5;66;03m#Depriciated\u001b[39;00m\n",
      "\u001b[0;31mAttributeError\u001b[0m: module 'logging' has no attribute 'noset'"
     ]
    }
   ],
   "source": [
    "logging.noset(\"This is info related to my noset \")                #Depriciated"
   ]
  },
  {
   "cell_type": "code",
   "execution_count": 19,
   "id": "4d39f02e-44ec-4fc3-8acd-387ba51ba424",
   "metadata": {},
   "outputs": [],
   "source": [
    "logging.shutdown()           #For shutting down a particular log"
   ]
  },
  {
   "cell_type": "code",
   "execution_count": 20,
   "id": "59589b98-134d-4a5a-83b8-3aa8479a7128",
   "metadata": {},
   "outputs": [],
   "source": [
    "logging.basicConfig(filename = \"test1.log\", level = logging.DEBUG, format = '%(asctime)s %(message)s' )    #This will log time in string format"
   ]
  },
  {
   "cell_type": "code",
   "execution_count": 15,
   "id": "10bec247-7cad-4c52-8440-ec1d0c074bf7",
   "metadata": {},
   "outputs": [],
   "source": [
    "logging.info(\"This is my info log\")"
   ]
  },
  {
   "cell_type": "code",
   "execution_count": 16,
   "id": "7e5f46b5-9216-4be0-962d-2ad499d82a05",
   "metadata": {},
   "outputs": [],
   "source": [
    "logging.debug(\"This is my debug log\")"
   ]
  },
  {
   "cell_type": "code",
   "execution_count": 17,
   "id": "c5c26cf1-e78b-4a2b-9197-590fa866846d",
   "metadata": {},
   "outputs": [],
   "source": [
    "logging.warning(\"This is my warning\")"
   ]
  },
  {
   "cell_type": "code",
   "execution_count": 18,
   "id": "f1a220a8-f214-43c4-80b6-e24726556b0c",
   "metadata": {},
   "outputs": [
    {
     "data": {
      "text/plain": [
       "'/home/jovyan/work/Week5_FilesModulesException'"
      ]
     },
     "execution_count": 18,
     "metadata": {},
     "output_type": "execute_result"
    }
   ],
   "source": [
    "pwd"
   ]
  },
  {
   "cell_type": "code",
   "execution_count": 23,
   "id": "10e5a696-1e12-4d4a-af01-b6ebbc744e67",
   "metadata": {},
   "outputs": [],
   "source": [
    "logging.shutdown()           #For shutting down a particular log"
   ]
  },
  {
   "cell_type": "code",
   "execution_count": 4,
   "id": "9ba33fc9-3518-4da9-8561-2e2e6c29546b",
   "metadata": {},
   "outputs": [],
   "source": [
    "logging.basicConfig(filename = \"test3.log\", level = logging.DEBUG, format = '%(asctime)s %(name)s %(levelname)s %(message)s' )    #This will log time in string format"
   ]
  },
  {
   "cell_type": "code",
   "execution_count": 5,
   "id": "79765b68-e257-48c5-9ab4-253eb84ad510",
   "metadata": {},
   "outputs": [],
   "source": [
    "logging.info(\"This is my info log\")"
   ]
  },
  {
   "cell_type": "markdown",
   "id": "9e916898-a60e-43a4-9faf-38f381eaaf98",
   "metadata": {},
   "source": [
    "#### Using logging concept inside python code"
   ]
  },
  {
   "cell_type": "code",
   "execution_count": 6,
   "id": "4e89817a-2a26-4005-b1da-dc6d22da1843",
   "metadata": {},
   "outputs": [],
   "source": [
    "l = [1,2,3,4,[4,5,6],'Karishma', 'Kweera']"
   ]
  },
  {
   "cell_type": "code",
   "execution_count": 7,
   "id": "8791afc1-db91-4659-8468-e0e1ec0634eb",
   "metadata": {},
   "outputs": [],
   "source": [
    "l_int = []\n",
    "l_str = []\n",
    "for i in l:\n",
    "    logging.info(\"This is start of my first for loop {}\".format(l))\n",
    "    logging.info(\"This is the value of 'i' I'm logging{}\".format(i))    #Logging in test.log\n",
    "    if type(i)==int:\n",
    "        l_int.append(i)\n",
    "    elif type(i)==list:\n",
    "        for j in i:\n",
    "            logging.info(\"Logging my j {j} and i {i}\".format(i = i, j=j))\n",
    "            if type(j)==int:\n",
    "                l_int.append(j)\n",
    "    elif type(i)==str:\n",
    "        l_str.append(i)\n",
    "logging.info(\"This is my final results with all int {l1} and all str {l2}\".format(l1=l_int,l2=l_str))"
   ]
  },
  {
   "cell_type": "code",
   "execution_count": 8,
   "id": "2a4f47ed-b6b7-4476-b905-6d3781747150",
   "metadata": {},
   "outputs": [
    {
     "data": {
      "text/plain": [
       "[1, 2, 3, 4, 4, 5, 6]"
      ]
     },
     "execution_count": 8,
     "metadata": {},
     "output_type": "execute_result"
    }
   ],
   "source": [
    "l_int"
   ]
  },
  {
   "cell_type": "code",
   "execution_count": 9,
   "id": "2f57a279-9f13-4766-aadd-98d758bd79c8",
   "metadata": {},
   "outputs": [
    {
     "data": {
      "text/plain": [
       "['Karishma', 'Kweera']"
      ]
     },
     "execution_count": 9,
     "metadata": {},
     "output_type": "execute_result"
    }
   ],
   "source": [
    "l_str"
   ]
  },
  {
   "cell_type": "code",
   "execution_count": null,
   "id": "1c4ae7d7-f0f8-49b9-a125-675356d9694e",
   "metadata": {},
   "outputs": [],
   "source": []
  }
 ],
 "metadata": {
  "kernelspec": {
   "display_name": "Python 3 (ipykernel)",
   "language": "python",
   "name": "python3"
  },
  "language_info": {
   "codemirror_mode": {
    "name": "ipython",
    "version": 3
   },
   "file_extension": ".py",
   "mimetype": "text/x-python",
   "name": "python",
   "nbconvert_exporter": "python",
   "pygments_lexer": "ipython3",
   "version": "3.10.8"
  }
 },
 "nbformat": 4,
 "nbformat_minor": 5
}

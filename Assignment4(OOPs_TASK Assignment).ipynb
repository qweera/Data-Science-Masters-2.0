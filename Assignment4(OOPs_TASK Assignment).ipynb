{
 "cells": [
  {
   "cell_type": "markdown",
   "id": "102ae70d-8d1b-48c6-9235-5f53661b50be",
   "metadata": {},
   "source": [
    "### Assignment4: OOPs_TASK Assignment"
   ]
  },
  {
   "cell_type": "markdown",
   "id": "810d99e0-c9d4-41c6-8f3a-c654a9a899ab",
   "metadata": {},
   "source": [
    "Q1. Create a vehicle class with an init method having instance variables as name_of_vehicle, max_speed\n",
    "and average_of_vehicle."
   ]
  },
  {
   "cell_type": "code",
   "execution_count": 2,
   "id": "44de2d12-db2a-44af-9abf-c860db40b2fb",
   "metadata": {},
   "outputs": [],
   "source": [
    "#Answer1\n",
    "class vehicle:\n",
    "    def __init__(self, name_of_vehicle, max_speed, average_of_vehicle):\n",
    "        self.name_of_vehicle = name_of_vehicle\n",
    "        self.max_speed = max_speed\n",
    "        self.average_of_vehicle = average_of_vehicle"
   ]
  },
  {
   "cell_type": "markdown",
   "id": "41a49340-c9b1-40b5-a342-294da6fe475e",
   "metadata": {},
   "source": [
    "Q2. Create a child class car from the vehicle class created in Que 1, which will inherit the vehicle class.\n",
    "Create a method named seating_capacity which takes capacity as an argument and returns the name of\n",
    "the vehicle and its seating capacity."
   ]
  },
  {
   "cell_type": "code",
   "execution_count": 17,
   "id": "aedb985c-f885-4c9c-8656-093c159e5b02",
   "metadata": {},
   "outputs": [],
   "source": [
    "#Answer2\n",
    "class car(vehicle):\n",
    "    def seating_capacity(self, capacity):\n",
    "        self.capacity = capacity\n",
    "        return self.name_of_vehicle, capacity"
   ]
  },
  {
   "cell_type": "code",
   "execution_count": 18,
   "id": "60fa47aa-b18d-4704-bb89-3c7b31ba1206",
   "metadata": {},
   "outputs": [],
   "source": [
    "car_obj = car('Nexa', 500, 55)"
   ]
  },
  {
   "cell_type": "code",
   "execution_count": 19,
   "id": "66061163-2cb7-480b-ac20-317175582e1e",
   "metadata": {},
   "outputs": [
    {
     "data": {
      "text/plain": [
       "('Nexa', 5)"
      ]
     },
     "execution_count": 19,
     "metadata": {},
     "output_type": "execute_result"
    }
   ],
   "source": [
    "car_obj.seating_capacity(5)"
   ]
  },
  {
   "cell_type": "markdown",
   "id": "3a8a7bda-b4e8-4c29-a794-7fe158a2d4f4",
   "metadata": {},
   "source": [
    "Q3. What is multiple inheritance? Write a python code to demonstrate multiple inheritance."
   ]
  },
  {
   "cell_type": "markdown",
   "id": "bd2f3f6a-464c-4dae-96d0-5f65d01a1dee",
   "metadata": {},
   "source": [
    "When a single class inherits from more than one classes in order to access the various variables/methods declared inside them it is called as multiple inheritance. This is used for code reusability"
   ]
  },
  {
   "cell_type": "code",
   "execution_count": 22,
   "id": "ce1ee707-284b-4364-b3df-30ff076d66d8",
   "metadata": {},
   "outputs": [],
   "source": [
    "class parent1():\n",
    "    def parent1_method(self, name1):\n",
    "        self.name1 = name1\n",
    "        print(\"This is parent1 class\")"
   ]
  },
  {
   "cell_type": "code",
   "execution_count": 23,
   "id": "20af1a3b-d3d9-4df7-baec-66d4a291f33d",
   "metadata": {},
   "outputs": [],
   "source": [
    "class parent2():\n",
    "    def parent2_method(self, name2):\n",
    "        self.name2 = name2\n",
    "        print(\"This is parent2 class\")"
   ]
  },
  {
   "cell_type": "code",
   "execution_count": 24,
   "id": "1abe4301-a24b-4654-9eae-558beb380b98",
   "metadata": {},
   "outputs": [],
   "source": [
    "class child_class(parent1, parent2):   #Inheriting from multiple classes i.e parent1, parent2\n",
    "    pass"
   ]
  },
  {
   "cell_type": "code",
   "execution_count": 25,
   "id": "2e9f1176-0e69-413f-9537-77dd2e86d7b0",
   "metadata": {},
   "outputs": [],
   "source": [
    "child_class_obj = child_class()"
   ]
  },
  {
   "cell_type": "code",
   "execution_count": 32,
   "id": "4b5aea61-fdd6-45b2-86d0-e682a8b13573",
   "metadata": {},
   "outputs": [],
   "source": [
    "#Now using the child class object we'll be able to access the variables, methods of the parent1,parent2 classes."
   ]
  },
  {
   "cell_type": "code",
   "execution_count": 27,
   "id": "a0c72495-4f8d-4acc-86cc-e80eed30319d",
   "metadata": {},
   "outputs": [
    {
     "name": "stdout",
     "output_type": "stream",
     "text": [
      "This is parent1 class\n"
     ]
    }
   ],
   "source": [
    "child_class_obj.parent1_method('Adam')"
   ]
  },
  {
   "cell_type": "code",
   "execution_count": 28,
   "id": "ac33a97d-c9f8-45dc-870c-cb219c9f46b4",
   "metadata": {},
   "outputs": [
    {
     "data": {
      "text/plain": [
       "'Adam'"
      ]
     },
     "execution_count": 28,
     "metadata": {},
     "output_type": "execute_result"
    }
   ],
   "source": [
    "child_class_obj.name1"
   ]
  },
  {
   "cell_type": "code",
   "execution_count": 30,
   "id": "fa2c6912-b7b8-44ab-a1f4-bf3dbb719632",
   "metadata": {},
   "outputs": [
    {
     "name": "stdout",
     "output_type": "stream",
     "text": [
      "This is parent2 class\n"
     ]
    }
   ],
   "source": [
    "child_class_obj.parent2_method('Gemmy')"
   ]
  },
  {
   "cell_type": "code",
   "execution_count": 31,
   "id": "44dd55b7-dc54-48e1-8e19-e5429c13c36d",
   "metadata": {},
   "outputs": [
    {
     "data": {
      "text/plain": [
       "'Gemmy'"
      ]
     },
     "execution_count": 31,
     "metadata": {},
     "output_type": "execute_result"
    }
   ],
   "source": [
    "child_class_obj.name2"
   ]
  },
  {
   "cell_type": "markdown",
   "id": "31a75307-d009-40e9-bbab-9ad4e43318e6",
   "metadata": {},
   "source": [
    "Q4. What are getter and setter in python? Create a class and create a getter and a setter method in this\n",
    "class."
   ]
  },
  {
   "cell_type": "markdown",
   "id": "967e78b1-4557-4e43-846d-826ac1132b6f",
   "metadata": {},
   "source": [
    "If in certain conditions we need to grant accessing/modifying permissions to some specific users for the private/protected variables, getter and setter are used for that purpose. Setter method is used for modifying the value of private/protected variables and getter is used in order to access those variables values. @property decortor helps us to expose the property of a class to the outer world."
   ]
  },
  {
   "cell_type": "code",
   "execution_count": 43,
   "id": "2ec3e887-fc14-4aef-b77a-f17fc448ab38",
   "metadata": {},
   "outputs": [],
   "source": [
    "class accounts:\n",
    "    def __init__(self, amount, users):\n",
    "        self.__users = users\n",
    "        self.amount = amount       \n",
    "        \n",
    "    @property           \n",
    "    def users_access(self):     # A getter method\n",
    "        return self.__users\n",
    "    \n",
    "    @users_access.setter\n",
    "    def set_users(self, name):  # A setter method\n",
    "        if name in self.__users:\n",
    "            pass\n",
    "        else:\n",
    "            self.__users.append(name)"
   ]
  },
  {
   "cell_type": "code",
   "execution_count": 44,
   "id": "b3e1eb38-ecc9-41a7-9e8e-0393993792b6",
   "metadata": {},
   "outputs": [],
   "source": [
    "account_obj = accounts(1000000000000, ['ram','mohan','gita','arjun','madhav'])"
   ]
  },
  {
   "cell_type": "code",
   "execution_count": 45,
   "id": "48cab633-5639-463e-ad7f-afd7f55a7486",
   "metadata": {},
   "outputs": [
    {
     "data": {
      "text/plain": [
       "['ram', 'mohan', 'gita', 'arjun', 'madhav']"
      ]
     },
     "execution_count": 45,
     "metadata": {},
     "output_type": "execute_result"
    }
   ],
   "source": [
    "account_obj.users_access"
   ]
  },
  {
   "cell_type": "code",
   "execution_count": 46,
   "id": "ce679cfd-3cd1-4c0d-bc9a-a6d17c4440f4",
   "metadata": {},
   "outputs": [],
   "source": [
    "account_obj.set_users = 'raghav'"
   ]
  },
  {
   "cell_type": "code",
   "execution_count": 47,
   "id": "6ccced3e-4efe-47e4-b2bd-e3fe6d44af2c",
   "metadata": {},
   "outputs": [
    {
     "data": {
      "text/plain": [
       "['ram', 'mohan', 'gita', 'arjun', 'madhav', 'raghav']"
      ]
     },
     "execution_count": 47,
     "metadata": {},
     "output_type": "execute_result"
    }
   ],
   "source": [
    "account_obj.users_access"
   ]
  },
  {
   "cell_type": "markdown",
   "id": "19a40343-30ce-4b6a-813b-f5a86dc5533e",
   "metadata": {},
   "source": [
    "Q5.What is method overriding in python? Write a python code to demonstrate method overriding."
   ]
  },
  {
   "cell_type": "markdown",
   "id": "f30a76ca-76d9-4921-bc89-1e95c0124d11",
   "metadata": {},
   "source": [
    "Method overriding allows a child class to provide a specific implementation of a method that is already present inside one of its parent/base classes. When a method in the child class has the same name, same parameters and same return type as a method in its parent class, then the method in the child class is said to override the method in the parent class."
   ]
  },
  {
   "cell_type": "code",
   "execution_count": 17,
   "id": "d2e22a3c-1103-4a98-873f-1e27482a0dc3",
   "metadata": {},
   "outputs": [],
   "source": [
    "class Parent:\n",
    "    def __init__(self):\n",
    "        self.value = \"This is Parent class\"\n",
    "    def show(self):\n",
    "        print(self.value)"
   ]
  },
  {
   "cell_type": "code",
   "execution_count": 18,
   "id": "6704fa49-aa8f-40e4-8560-a74f7dde1acf",
   "metadata": {},
   "outputs": [],
   "source": [
    "class Child(Parent):\n",
    "    def __init__(self):\n",
    "        self.value = \"This is Child class\"\n",
    "    def show(self):\n",
    "        print(self.value)"
   ]
  },
  {
   "cell_type": "code",
   "execution_count": 19,
   "id": "b348c4df-a67a-4182-b5ce-2999a4621eef",
   "metadata": {},
   "outputs": [],
   "source": [
    "Child_obj = Child()\n",
    "Parent_obj = Parent()"
   ]
  },
  {
   "cell_type": "code",
   "execution_count": 20,
   "id": "640cc46f-7850-4621-b57f-fdd90929f1ff",
   "metadata": {},
   "outputs": [
    {
     "name": "stdout",
     "output_type": "stream",
     "text": [
      "This is Child class\n",
      "This is Parent class\n"
     ]
    }
   ],
   "source": [
    "Child_obj.show()\n",
    "Parent_obj.show()"
   ]
  }
 ],
 "metadata": {
  "kernelspec": {
   "display_name": "Python 3 (ipykernel)",
   "language": "python",
   "name": "python3"
  },
  "language_info": {
   "codemirror_mode": {
    "name": "ipython",
    "version": 3
   },
   "file_extension": ".py",
   "mimetype": "text/x-python",
   "name": "python",
   "nbconvert_exporter": "python",
   "pygments_lexer": "ipython3",
   "version": "3.10.8"
  }
 },
 "nbformat": 4,
 "nbformat_minor": 5
}

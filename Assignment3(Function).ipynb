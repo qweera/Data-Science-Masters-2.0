{
 "cells": [
  {
   "cell_type": "markdown",
   "id": "4895cb84-794e-413f-b961-40b6b6f3f662",
   "metadata": {},
   "source": [
    "### Assignment3: Functions"
   ]
  },
  {
   "cell_type": "markdown",
   "id": "26df6e5a-8463-4c0a-989c-6afe45282d4a",
   "metadata": {},
   "source": [
    "Q1. Which keyword is used to create a function? Create a function to return a list of odd numbers in the range of 1 to 25."
   ]
  },
  {
   "cell_type": "markdown",
   "id": "89a78dbc-4fe4-4879-9c82-2a8d17003bb9",
   "metadata": {},
   "source": [
    "Ans1. def keyword is used in order to create a function. Function to return a list of odd numbers in the range of 1 to 25:"
   ]
  },
  {
   "cell_type": "code",
   "execution_count": 63,
   "id": "ae6e35f8-b6f9-4dfe-843b-14ca5723bfc6",
   "metadata": {},
   "outputs": [],
   "source": [
    "def odd_list(l):\n",
    "    if l%2!=0:\n",
    "        return l"
   ]
  },
  {
   "cell_type": "code",
   "execution_count": 64,
   "id": "4a8602a0-a5f1-46a4-9aaa-5b489c8fa0d9",
   "metadata": {},
   "outputs": [],
   "source": [
    "p=[]\n",
    "for x in range(1,25):\n",
    "    if type(odd_list(x))==int:\n",
    "        p.append(odd_list(x))"
   ]
  },
  {
   "cell_type": "code",
   "execution_count": 65,
   "id": "bb8f37c6-5bce-49a9-892f-9de1a27db967",
   "metadata": {},
   "outputs": [
    {
     "data": {
      "text/plain": [
       "[1, 3, 5, 7, 9, 11, 13, 15, 17, 19, 21, 23]"
      ]
     },
     "execution_count": 65,
     "metadata": {},
     "output_type": "execute_result"
    }
   ],
   "source": [
    "p"
   ]
  },
  {
   "cell_type": "markdown",
   "id": "55799411-2b9c-488c-b9e7-6063a536bfdb",
   "metadata": {},
   "source": [
    "Q2. Why *args and **kwargs is used in some functions? Create a function each for *args and **kwargs to\n",
    "demonstrate their use."
   ]
  },
  {
   "cell_type": "markdown",
   "id": "3f6128a1-d721-4088-85ae-93cc6c7cb5f8",
   "metadata": {},
   "source": [
    "Ans2. Using *args as parameter we can give 'n' number of arguments to a function without any error in order to implement the same functionality. 'args' is not a keyword. 'args' will be a tuple. **kwargs denotes that it will take n number of inputs as a key,value pair"
   ]
  },
  {
   "cell_type": "code",
   "execution_count": 71,
   "id": "a16fea68-7bf3-4ad3-92c1-cd976a641747",
   "metadata": {},
   "outputs": [],
   "source": [
    "# *args Example\n",
    "def n_argument(*args):\n",
    "    return args"
   ]
  },
  {
   "cell_type": "code",
   "execution_count": 72,
   "id": "23cdc9d5-4b47-4c9f-baaf-917ef90c10c8",
   "metadata": {},
   "outputs": [
    {
     "data": {
      "text/plain": [
       "(2, 'n_arguments', 4.5)"
      ]
     },
     "execution_count": 72,
     "metadata": {},
     "output_type": "execute_result"
    }
   ],
   "source": [
    "n_argument(2,'n_arguments',4.5)"
   ]
  },
  {
   "cell_type": "code",
   "execution_count": 74,
   "id": "8c2a9283-97d8-4e57-8693-0ec03c77f8ed",
   "metadata": {},
   "outputs": [],
   "source": [
    "# **kwargs Example\n",
    "def nkey_argument(**kwargs):\n",
    "    return kwargs"
   ]
  },
  {
   "cell_type": "code",
   "execution_count": 75,
   "id": "1d64f7f1-bef1-410c-85aa-465327b29b50",
   "metadata": {},
   "outputs": [
    {
     "data": {
      "text/plain": [
       "{'a': 'april', 'b': 56, 'c': [1, 2, 'ice'], 'd': ('keys', 'values')}"
      ]
     },
     "execution_count": 75,
     "metadata": {},
     "output_type": "execute_result"
    }
   ],
   "source": [
    "nkey_argument(a='april',b=56,c=[1,2,'ice'],d=('keys','values'))"
   ]
  },
  {
   "cell_type": "markdown",
   "id": "2b1f7716-185f-4d65-ace8-174713ed7824",
   "metadata": {},
   "source": [
    "Q3. What is an iterator in python? Name the method used to initialise the iterator object and the method\n",
    "used for iteration. Use these methods to print the first five elements of the given list [2, 4, 6, 8, 10, 12, 14, 16,\n",
    "18, 20]."
   ]
  },
  {
   "cell_type": "markdown",
   "id": "44ea791e-9e9e-45fb-ac61-c50980c7a937",
   "metadata": {},
   "source": [
    "Ans3. An iterator in Python is an object that is used to iterate over iterable objects like lists, tuples, dicts, and sets. The In python iterator objects are initialized using the iter() method and it uses the next() method for iteration. Using these methods in order to print the first five elements of the given list [2, 4, 6, 8, 10, 12, 14, 16, 18, 20]."
   ]
  },
  {
   "cell_type": "code",
   "execution_count": 79,
   "id": "cee638cd-d0bf-4507-85c2-8e6a24660667",
   "metadata": {},
   "outputs": [
    {
     "name": "stdout",
     "output_type": "stream",
     "text": [
      "2\n",
      "4\n",
      "6\n",
      "8\n",
      "10\n"
     ]
    }
   ],
   "source": [
    "list_iter = [2,4,6,8,10,12,14,16,18,20]\n",
    "iterator = iter(list_iter)\n",
    "for i in range(5): \n",
    "    x = next(iterator)\n",
    "    print(x) "
   ]
  },
  {
   "cell_type": "markdown",
   "id": "883e4df3-a43b-47ad-aa71-041bb8533b19",
   "metadata": {},
   "source": [
    "Q4. What is a generator function in python? Why yield keyword is used? Give an example of a generator\n",
    "function."
   ]
  },
  {
   "cell_type": "markdown",
   "id": "6ccd8a98-bf88-47d1-ab1f-9cf910af21d2",
   "metadata": {},
   "source": [
    "Ans4: In Python Generators are the functions that return an object and they're used to create iterators. It traverses the entire items at once.\n",
    "We can use yield function in order generate items one by one for a function. So that we didn't end by blocking the whole memory inorder to store all the output in memory. Instead of that we'll print item one by one and there is no need to remember the whole data. By this lots of main memory can be saved"
   ]
  },
  {
   "cell_type": "code",
   "execution_count": 80,
   "id": "8458fcd3-3a83-42a2-a630-05ef9141bd23",
   "metadata": {},
   "outputs": [
    {
     "data": {
      "text/plain": [
       "64"
      ]
     },
     "execution_count": 80,
     "metadata": {},
     "output_type": "execute_result"
    }
   ],
   "source": [
    "#lambda generator function\n",
    "power_func = lambda n,p : n**p\n",
    "power_func(4,3)"
   ]
  },
  {
   "cell_type": "markdown",
   "id": "5fff2f88-f085-4d72-89e8-baeb886ebd0f",
   "metadata": {},
   "source": [
    "Q5. Create a generator function for prime numbers less than 1000. Use the next() method to print the first 20 prime numbers"
   ]
  },
  {
   "cell_type": "code",
   "execution_count": 82,
   "id": "9dd9e96a-abc6-4697-b5e9-81b45c3fa435",
   "metadata": {},
   "outputs": [
    {
     "name": "stdout",
     "output_type": "stream",
     "text": [
      "2\n",
      "3\n",
      "5\n",
      "7\n",
      "11\n",
      "13\n",
      "17\n",
      "19\n",
      "23\n",
      "29\n",
      "31\n",
      "37\n",
      "41\n",
      "43\n",
      "47\n",
      "53\n",
      "59\n",
      "61\n",
      "67\n",
      "71\n"
     ]
    }
   ],
   "source": [
    "def is_prime(num):\n",
    "    if num < 2:\n",
    "        return False\n",
    "    for i in range(2, int(num**0.5) + 1):\n",
    "        if num % i == 0:\n",
    "            return False\n",
    "    return True\n",
    "\n",
    "def primes_generator():\n",
    "    num = 2\n",
    "    while True:\n",
    "        if is_prime(num):\n",
    "            yield num\n",
    "        num += 1\n",
    "\n",
    "prime_gen = primes_generator()\n",
    "\n",
    "for _ in range(20):\n",
    "    prime = next(prime_gen)\n",
    "    print(prime)"
   ]
  },
  {
   "cell_type": "code",
   "execution_count": null,
   "id": "81c8108d-146a-4cf5-9830-ef8feb724ba5",
   "metadata": {},
   "outputs": [],
   "source": []
  }
 ],
 "metadata": {
  "kernelspec": {
   "display_name": "Python 3 (ipykernel)",
   "language": "python",
   "name": "python3"
  },
  "language_info": {
   "codemirror_mode": {
    "name": "ipython",
    "version": 3
   },
   "file_extension": ".py",
   "mimetype": "text/x-python",
   "name": "python",
   "nbconvert_exporter": "python",
   "pygments_lexer": "ipython3",
   "version": "3.10.8"
  }
 },
 "nbformat": 4,
 "nbformat_minor": 5
}

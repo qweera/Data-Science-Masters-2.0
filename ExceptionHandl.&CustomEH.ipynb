{
 "cells": [
  {
   "cell_type": "code",
   "execution_count": 1,
   "id": "ace6dece-440a-4382-b87d-53271f8a76f4",
   "metadata": {},
   "outputs": [],
   "source": [
    "a=10"
   ]
  },
  {
   "cell_type": "code",
   "execution_count": 6,
   "id": "c3aa8b2a-c4f0-4da7-8fb6-070a16f9c634",
   "metadata": {},
   "outputs": [
    {
     "ename": "ZeroDivisionError",
     "evalue": "division by zero",
     "output_type": "error",
     "traceback": [
      "\u001b[0;31m---------------------------------------------------------------------------\u001b[0m",
      "\u001b[0;31mZeroDivisionError\u001b[0m                         Traceback (most recent call last)",
      "Cell \u001b[0;32mIn[6], line 1\u001b[0m\n\u001b[0;32m----> 1\u001b[0m \u001b[43ma\u001b[49m\u001b[38;5;241;43m/\u001b[39;49m\u001b[38;5;241;43m0\u001b[39;49m\n\u001b[1;32m      2\u001b[0m \u001b[38;5;28mprint\u001b[39m(\u001b[38;5;124m\"\u001b[39m\u001b[38;5;124mThis is my code\u001b[39m\u001b[38;5;124m\"\u001b[39m)\n",
      "\u001b[0;31mZeroDivisionError\u001b[0m: division by zero"
     ]
    }
   ],
   "source": [
    "a/0\n",
    "print(\"This is my code\")"
   ]
  },
  {
   "cell_type": "code",
   "execution_count": 3,
   "id": "877e244b-7cd2-43d2-9fd5-7ca66007b2ee",
   "metadata": {},
   "outputs": [
    {
     "ename": "FileNotFoundError",
     "evalue": "[Errno 2] No such file or directory: 'Demo.txt'",
     "output_type": "error",
     "traceback": [
      "\u001b[0;31m---------------------------------------------------------------------------\u001b[0m",
      "\u001b[0;31mFileNotFoundError\u001b[0m                         Traceback (most recent call last)",
      "Cell \u001b[0;32mIn[3], line 1\u001b[0m\n\u001b[0;32m----> 1\u001b[0m f \u001b[38;5;241m=\u001b[39m \u001b[38;5;28;43mopen\u001b[39;49m\u001b[43m(\u001b[49m\u001b[38;5;124;43m\"\u001b[39;49m\u001b[38;5;124;43mDemo.txt\u001b[39;49m\u001b[38;5;124;43m\"\u001b[39;49m\u001b[43m,\u001b[49m\u001b[43m \u001b[49m\u001b[38;5;124;43m'\u001b[39;49m\u001b[38;5;124;43mr\u001b[39;49m\u001b[38;5;124;43m'\u001b[39;49m\u001b[43m)\u001b[49m\n",
      "File \u001b[0;32m/opt/conda/lib/python3.10/site-packages/IPython/core/interactiveshell.py:282\u001b[0m, in \u001b[0;36m_modified_open\u001b[0;34m(file, *args, **kwargs)\u001b[0m\n\u001b[1;32m    275\u001b[0m \u001b[38;5;28;01mif\u001b[39;00m file \u001b[38;5;129;01min\u001b[39;00m {\u001b[38;5;241m0\u001b[39m, \u001b[38;5;241m1\u001b[39m, \u001b[38;5;241m2\u001b[39m}:\n\u001b[1;32m    276\u001b[0m     \u001b[38;5;28;01mraise\u001b[39;00m \u001b[38;5;167;01mValueError\u001b[39;00m(\n\u001b[1;32m    277\u001b[0m         \u001b[38;5;124mf\u001b[39m\u001b[38;5;124m\"\u001b[39m\u001b[38;5;124mIPython won\u001b[39m\u001b[38;5;124m'\u001b[39m\u001b[38;5;124mt let you open fd=\u001b[39m\u001b[38;5;132;01m{\u001b[39;00mfile\u001b[38;5;132;01m}\u001b[39;00m\u001b[38;5;124m by default \u001b[39m\u001b[38;5;124m\"\u001b[39m\n\u001b[1;32m    278\u001b[0m         \u001b[38;5;124m\"\u001b[39m\u001b[38;5;124mas it is likely to crash IPython. If you know what you are doing, \u001b[39m\u001b[38;5;124m\"\u001b[39m\n\u001b[1;32m    279\u001b[0m         \u001b[38;5;124m\"\u001b[39m\u001b[38;5;124myou can use builtins\u001b[39m\u001b[38;5;124m'\u001b[39m\u001b[38;5;124m open.\u001b[39m\u001b[38;5;124m\"\u001b[39m\n\u001b[1;32m    280\u001b[0m     )\n\u001b[0;32m--> 282\u001b[0m \u001b[38;5;28;01mreturn\u001b[39;00m \u001b[43mio_open\u001b[49m\u001b[43m(\u001b[49m\u001b[43mfile\u001b[49m\u001b[43m,\u001b[49m\u001b[43m \u001b[49m\u001b[38;5;241;43m*\u001b[39;49m\u001b[43margs\u001b[49m\u001b[43m,\u001b[49m\u001b[43m \u001b[49m\u001b[38;5;241;43m*\u001b[39;49m\u001b[38;5;241;43m*\u001b[39;49m\u001b[43mkwargs\u001b[49m\u001b[43m)\u001b[49m\n",
      "\u001b[0;31mFileNotFoundError\u001b[0m: [Errno 2] No such file or directory: 'Demo.txt'"
     ]
    }
   ],
   "source": [
    "f = open(\"Demo.txt\", 'r')"
   ]
  },
  {
   "cell_type": "markdown",
   "id": "4340fa88-58eb-46fb-8f78-9c89abaae15d",
   "metadata": {},
   "source": [
    "##### Else block will get excuted only when try block get executed without any error, otherwise it will not get executed. Try block requires except block in order to handle the error. Execution of next line of code will not be stopped by using try and except block as in earlier case"
   ]
  },
  {
   "cell_type": "code",
   "execution_count": 5,
   "id": "981b9d8a-566f-4208-8cb2-39ec321da9c8",
   "metadata": {},
   "outputs": [
    {
     "name": "stdout",
     "output_type": "stream",
     "text": [
      "There is some issue with the code [Errno 2] No such file or directory: 'Demo.txt'\n",
      "This is my code\n"
     ]
    }
   ],
   "source": [
    "try:\n",
    "    f = open(\"Demo.txt\", 'r')\n",
    "except Exception as e:\n",
    "    print(\"There is some issue with the code\", e)\n",
    "print(\"This is my code\")"
   ]
  },
  {
   "cell_type": "code",
   "execution_count": 1,
   "id": "bca2b076-b9cb-46fe-9bc2-bfdbc571b23c",
   "metadata": {},
   "outputs": [
    {
     "name": "stdout",
     "output_type": "stream",
     "text": [
      "This block will execute only if the try block will get executed without any error\n"
     ]
    }
   ],
   "source": [
    "try:\n",
    "    f = open(\"Demo.txt\", 'w')\n",
    "    f.write(\"This is my write message\")\n",
    "except Exception as e:\n",
    "    print(\"There is some issue with the code\", e)\n",
    "else:\n",
    "    f.close()\n",
    "    print(\"This block will execute only if the try block will get executed without any error\")"
   ]
  },
  {
   "cell_type": "code",
   "execution_count": 12,
   "id": "b48d5ff6-487b-44c4-a07f-1482a5e01cd1",
   "metadata": {},
   "outputs": [
    {
     "name": "stdout",
     "output_type": "stream",
     "text": [
      "There is some issue with the code [Errno 2] No such file or directory: 'Demo55.txt'\n"
     ]
    }
   ],
   "source": [
    "try:\n",
    "    f = open(\"Demo55.txt\", 'r')\n",
    "    f.write(\"This is my write message\")\n",
    "except Exception as e:\n",
    "    print(\"There is some issue with the code\", e)\n",
    "else:\n",
    "    f.close()\n",
    "    print(\"This block will execute only if the try block will get executed without any error\")"
   ]
  },
  {
   "cell_type": "code",
   "execution_count": 13,
   "id": "b7b13f1c-2a56-49ce-bd4e-e6e4f9ae5cc1",
   "metadata": {},
   "outputs": [
    {
     "name": "stdout",
     "output_type": "stream",
     "text": [
      "This block will always get executed\n"
     ]
    },
    {
     "ename": "FileNotFoundError",
     "evalue": "[Errno 2] No such file or directory: 'Demo55.txt'",
     "output_type": "error",
     "traceback": [
      "\u001b[0;31m---------------------------------------------------------------------------\u001b[0m",
      "\u001b[0;31mFileNotFoundError\u001b[0m                         Traceback (most recent call last)",
      "Cell \u001b[0;32mIn[13], line 2\u001b[0m\n\u001b[1;32m      1\u001b[0m \u001b[38;5;28;01mtry\u001b[39;00m:\n\u001b[0;32m----> 2\u001b[0m     f \u001b[38;5;241m=\u001b[39m \u001b[38;5;28;43mopen\u001b[39;49m\u001b[43m(\u001b[49m\u001b[38;5;124;43m\"\u001b[39;49m\u001b[38;5;124;43mDemo55.txt\u001b[39;49m\u001b[38;5;124;43m\"\u001b[39;49m\u001b[43m,\u001b[49m\u001b[43m \u001b[49m\u001b[38;5;124;43m'\u001b[39;49m\u001b[38;5;124;43mr\u001b[39;49m\u001b[38;5;124;43m'\u001b[39;49m\u001b[43m)\u001b[49m\n\u001b[1;32m      3\u001b[0m     f\u001b[38;5;241m.\u001b[39mwrite(\u001b[38;5;124m\"\u001b[39m\u001b[38;5;124mThis is my write message\u001b[39m\u001b[38;5;124m\"\u001b[39m)\n\u001b[1;32m      4\u001b[0m \u001b[38;5;28;01mfinally\u001b[39;00m:\n",
      "File \u001b[0;32m/opt/conda/lib/python3.10/site-packages/IPython/core/interactiveshell.py:282\u001b[0m, in \u001b[0;36m_modified_open\u001b[0;34m(file, *args, **kwargs)\u001b[0m\n\u001b[1;32m    275\u001b[0m \u001b[38;5;28;01mif\u001b[39;00m file \u001b[38;5;129;01min\u001b[39;00m {\u001b[38;5;241m0\u001b[39m, \u001b[38;5;241m1\u001b[39m, \u001b[38;5;241m2\u001b[39m}:\n\u001b[1;32m    276\u001b[0m     \u001b[38;5;28;01mraise\u001b[39;00m \u001b[38;5;167;01mValueError\u001b[39;00m(\n\u001b[1;32m    277\u001b[0m         \u001b[38;5;124mf\u001b[39m\u001b[38;5;124m\"\u001b[39m\u001b[38;5;124mIPython won\u001b[39m\u001b[38;5;124m'\u001b[39m\u001b[38;5;124mt let you open fd=\u001b[39m\u001b[38;5;132;01m{\u001b[39;00mfile\u001b[38;5;132;01m}\u001b[39;00m\u001b[38;5;124m by default \u001b[39m\u001b[38;5;124m\"\u001b[39m\n\u001b[1;32m    278\u001b[0m         \u001b[38;5;124m\"\u001b[39m\u001b[38;5;124mas it is likely to crash IPython. If you know what you are doing, \u001b[39m\u001b[38;5;124m\"\u001b[39m\n\u001b[1;32m    279\u001b[0m         \u001b[38;5;124m\"\u001b[39m\u001b[38;5;124myou can use builtins\u001b[39m\u001b[38;5;124m'\u001b[39m\u001b[38;5;124m open.\u001b[39m\u001b[38;5;124m\"\u001b[39m\n\u001b[1;32m    280\u001b[0m     )\n\u001b[0;32m--> 282\u001b[0m \u001b[38;5;28;01mreturn\u001b[39;00m \u001b[43mio_open\u001b[49m\u001b[43m(\u001b[49m\u001b[43mfile\u001b[49m\u001b[43m,\u001b[49m\u001b[43m \u001b[49m\u001b[38;5;241;43m*\u001b[39;49m\u001b[43margs\u001b[49m\u001b[43m,\u001b[49m\u001b[43m \u001b[49m\u001b[38;5;241;43m*\u001b[39;49m\u001b[38;5;241;43m*\u001b[39;49m\u001b[43mkwargs\u001b[49m\u001b[43m)\u001b[49m\n",
      "\u001b[0;31mFileNotFoundError\u001b[0m: [Errno 2] No such file or directory: 'Demo55.txt'"
     ]
    }
   ],
   "source": [
    "try:\n",
    "    f = open(\"Demo55.txt\", 'r')\n",
    "    f.write(\"This is my write message\")\n",
    "finally:\n",
    "    print(\"This block will always get executed\")"
   ]
  },
  {
   "cell_type": "code",
   "execution_count": 14,
   "id": "90a7037e-9a05-4560-b0ca-56fe6f55d8dd",
   "metadata": {},
   "outputs": [
    {
     "name": "stdout",
     "output_type": "stream",
     "text": [
      "There is some issue with the code [Errno 2] No such file or directory: 'Demo55.txt'\n",
      "This block will always get executed\n"
     ]
    }
   ],
   "source": [
    "try:\n",
    "    f = open(\"Demo55.txt\", 'r')\n",
    "    f.write(\"This is my write message\")\n",
    "except Exception as e:\n",
    "    print(\"There is some issue with the code\", e)\n",
    "else:\n",
    "    f.close()\n",
    "    print(\"This block will execute only if the try block will get executed without any error\")\n",
    "finally:\n",
    "    print(\"This block will always get executed\")"
   ]
  },
  {
   "cell_type": "code",
   "execution_count": 15,
   "id": "d6f01140-6573-4f18-8e49-122f44e6ad06",
   "metadata": {},
   "outputs": [
    {
     "name": "stdout",
     "output_type": "stream",
     "text": [
      "This block will execute only if the try block will get executed without any error\n",
      "This block will always get executed\n"
     ]
    }
   ],
   "source": [
    "try:\n",
    "    f = open(\"Demo55.txt\", 'w')\n",
    "    f.write(\"This is my write message\")\n",
    "except Exception as e:\n",
    "    print(\"There is some issue with the code\", e)\n",
    "else:\n",
    "    f.close()\n",
    "    print(\"This block will execute only if the try block will get executed without any error\")\n",
    "finally:\n",
    "    print(\"This block will always get executed\")"
   ]
  },
  {
   "cell_type": "markdown",
   "id": "301846d0-9891-4b03-898d-5767fb20908f",
   "metadata": {
    "tags": []
   },
   "source": [
    "#### Custom Exception Handling"
   ]
  },
  {
   "cell_type": "markdown",
   "id": "5cf52dda-88c1-47ed-9132-4f67b28b84de",
   "metadata": {},
   "source": [
    "##### These will not be a system exceptions but they'll be buisness used case errors that only a user can understand. So at that time they raise a custom exceptions.  We can create our own custom exception and then implement it, for this we need to create a class. Raise is a resolved keyword that can call our custom class. Steps: Create a class, inherit exception class inside our own custom exception class. Then create a function and pass object onto a constructor"
   ]
  },
  {
   "cell_type": "code",
   "execution_count": 1,
   "id": "8d3ee91e-83c5-41c2-a48b-e87f978e5c0b",
   "metadata": {},
   "outputs": [
    {
     "name": "stdin",
     "output_type": "stream",
     "text": [
      "Enter your age -99\n"
     ]
    }
   ],
   "source": [
    "age = int(input(\"Enter your age\"))"
   ]
  },
  {
   "cell_type": "code",
   "execution_count": 2,
   "id": "2a1e1211-5621-42fb-a02b-1bd846452734",
   "metadata": {},
   "outputs": [],
   "source": [
    "class validateage(Exception):\n",
    "    def __init__(self, msg):            #This class is responsible for giving us messages/raising exceptions\n",
    "        self.msg = msg"
   ]
  },
  {
   "cell_type": "code",
   "execution_count": 3,
   "id": "0e834491-a0fe-4c69-af14-6d115a50f3e0",
   "metadata": {},
   "outputs": [],
   "source": [
    "def validate_age(age):\n",
    "    if age < 0:\n",
    "        raise validateage(\"Age can't be smaller than 0\")     #raise will be followed by class name\n",
    "    elif age>200:\n",
    "        raise validateage(\"Age is too high for a real person\")\n",
    "    else:\n",
    "        print(\"Age is valid\")"
   ]
  },
  {
   "cell_type": "code",
   "execution_count": 6,
   "id": "d6f44202-c42b-493e-bbc3-8f9275ef1cd4",
   "metadata": {},
   "outputs": [
    {
     "name": "stdin",
     "output_type": "stream",
     "text": [
      "Enter your age 23\n"
     ]
    },
    {
     "name": "stdout",
     "output_type": "stream",
     "text": [
      "Age is valid\n"
     ]
    }
   ],
   "source": [
    "try:\n",
    "    age = int(input(\"Enter your age\"))\n",
    "    validate_age(age)\n",
    "except validateage as e:\n",
    "    print(e)"
   ]
  },
  {
   "cell_type": "code",
   "execution_count": null,
   "id": "baee0be5-596b-41a5-9013-a7caf9876ce6",
   "metadata": {},
   "outputs": [],
   "source": []
  }
 ],
 "metadata": {
  "kernelspec": {
   "display_name": "Python 3 (ipykernel)",
   "language": "python",
   "name": "python3"
  },
  "language_info": {
   "codemirror_mode": {
    "name": "ipython",
    "version": 3
   },
   "file_extension": ".py",
   "mimetype": "text/x-python",
   "name": "python",
   "nbconvert_exporter": "python",
   "pygments_lexer": "ipython3",
   "version": "3.10.8"
  }
 },
 "nbformat": 4,
 "nbformat_minor": 5
}

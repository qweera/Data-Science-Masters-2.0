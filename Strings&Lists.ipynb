{
 "cells": [
  {
   "cell_type": "code",
   "execution_count": 2,
   "id": "f7c3fb27-7ced-48c0-8dec-9016b62595a7",
   "metadata": {},
   "outputs": [],
   "source": [
    "str1= \"Welcome to PWSKILLS. Welcome to dat scienc Masters\""
   ]
  },
  {
   "cell_type": "code",
   "execution_count": 5,
   "id": "ca933de7-0a61-4d8b-a299-a2c6ec9835f6",
   "metadata": {},
   "outputs": [
    {
     "data": {
      "text/plain": [
       "'Welcome to PWSKILLS. Welcome to data science Masters'"
      ]
     },
     "execution_count": 5,
     "metadata": {},
     "output_type": "execute_result"
    }
   ],
   "source": [
    "str1.replace(\"dat scienc\",\"data science\")"
   ]
  },
  {
   "cell_type": "code",
   "execution_count": 8,
   "id": "2bd4ba43-c085-47a3-a150-1a6c24566083",
   "metadata": {},
   "outputs": [
    {
     "data": {
      "text/plain": [
       "'Welcome to PWSKILLS. Welcome to data science Masters'"
      ]
     },
     "execution_count": 8,
     "metadata": {},
     "output_type": "execute_result"
    }
   ],
   "source": [
    "str1.replace(\"dat\",\"data\").replace(\"scienc\",\"science\")"
   ]
  },
  {
   "cell_type": "code",
   "execution_count": 10,
   "id": "8548a99e-57d3-4170-834a-e6501aab3e6b",
   "metadata": {},
   "outputs": [
    {
     "data": {
      "text/plain": [
       "False"
      ]
     },
     "execution_count": 10,
     "metadata": {},
     "output_type": "execute_result"
    }
   ],
   "source": [
    "str1.isupper()"
   ]
  },
  {
   "cell_type": "code",
   "execution_count": 12,
   "id": "4d7b9bc3-b834-4943-aeb5-8d9d20d5ed2d",
   "metadata": {},
   "outputs": [
    {
     "data": {
      "text/plain": [
       "True"
      ]
     },
     "execution_count": 12,
     "metadata": {},
     "output_type": "execute_result"
    }
   ],
   "source": [
    "' '.isspace()"
   ]
  },
  {
   "cell_type": "code",
   "execution_count": 13,
   "id": "c32fd73d-3435-4510-863f-763706b60a1b",
   "metadata": {},
   "outputs": [
    {
     "data": {
      "text/plain": [
       "False"
      ]
     },
     "execution_count": 13,
     "metadata": {},
     "output_type": "execute_result"
    }
   ],
   "source": [
    "str1.islower()"
   ]
  },
  {
   "cell_type": "code",
   "execution_count": 14,
   "id": "981e499e-434b-4047-a60f-c97e71f4a229",
   "metadata": {},
   "outputs": [
    {
     "name": "stdout",
     "output_type": "stream",
     "text": [
      "Hello\n"
     ]
    }
   ],
   "source": [
    "if ' '.isspace():\n",
    "    print(\"Hello\")"
   ]
  },
  {
   "cell_type": "code",
   "execution_count": 19,
   "id": "d80742cf-f16d-44b9-b815-4f574a955ef4",
   "metadata": {},
   "outputs": [],
   "source": [
    "str5=\"kweera\""
   ]
  },
  {
   "cell_type": "code",
   "execution_count": 20,
   "id": "7e121e89-ce27-4bdc-bd44-562642448383",
   "metadata": {},
   "outputs": [
    {
     "data": {
      "text/plain": [
       "True"
      ]
     },
     "execution_count": 20,
     "metadata": {},
     "output_type": "execute_result"
    }
   ],
   "source": [
    "str5.endswith('a')"
   ]
  },
  {
   "cell_type": "code",
   "execution_count": 21,
   "id": "a05fb915-de15-4a51-a6d5-066238d03352",
   "metadata": {},
   "outputs": [
    {
     "data": {
      "text/plain": [
       "False"
      ]
     },
     "execution_count": 21,
     "metadata": {},
     "output_type": "execute_result"
    }
   ],
   "source": [
    "str5.startswith('a')"
   ]
  },
  {
   "cell_type": "code",
   "execution_count": 22,
   "id": "60ba2014-c92b-454d-9788-61b2e16e6667",
   "metadata": {},
   "outputs": [],
   "source": [
    "str7=\"kweerak5555\""
   ]
  },
  {
   "cell_type": "code",
   "execution_count": 26,
   "id": "69e8c4c7-bd7d-4bf3-9f96-d4527ed1d9fb",
   "metadata": {},
   "outputs": [
    {
     "data": {
      "text/plain": [
       "True"
      ]
     },
     "execution_count": 26,
     "metadata": {},
     "output_type": "execute_result"
    }
   ],
   "source": [
    "str7.isalnum()"
   ]
  },
  {
   "cell_type": "code",
   "execution_count": null,
   "id": "c8d8e26f-4107-4571-a5f1-805c7f0d1aab",
   "metadata": {},
   "outputs": [],
   "source": [
    "## Alphanumeric function\n",
    "#for i in string_name:\n",
    "#   if i==9,0"
   ]
  },
  {
   "cell_type": "code",
   "execution_count": 1,
   "id": "e7370d36-b82c-463c-80f6-5b0e89c78c28",
   "metadata": {},
   "outputs": [
    {
     "name": "stdout",
     "output_type": "stream",
     "text": [
      "15\n"
     ]
    }
   ],
   "source": [
    "#Count the number of characters in a string\n",
    "string_name=\"Karishma Kweera\"\n",
    "count=0\n",
    "for i in string_name:\n",
    "    count=count+1\n",
    "print(count)"
   ]
  },
  {
   "cell_type": "code",
   "execution_count": 2,
   "id": "e43e483d-144e-4adc-ae4a-a2ab4826dc4e",
   "metadata": {},
   "outputs": [
    {
     "data": {
      "text/plain": [
       "15"
      ]
     },
     "execution_count": 2,
     "metadata": {},
     "output_type": "execute_result"
    }
   ],
   "source": [
    "len(string_name)"
   ]
  },
  {
   "cell_type": "code",
   "execution_count": 5,
   "id": "64d2697b-576b-4966-8b7c-c74a972af1f5",
   "metadata": {},
   "outputs": [
    {
     "name": "stdout",
     "output_type": "stream",
     "text": [
      "K\n",
      "a\n",
      "r\n",
      "i\n",
      "s\n",
      "h\n",
      "m\n",
      "a\n",
      " \n",
      "K\n",
      "w\n",
      "e\n",
      "e\n",
      "r\n",
      "a\n"
     ]
    }
   ],
   "source": [
    "for i in string_name:\n",
    "    print(i)"
   ]
  },
  {
   "cell_type": "code",
   "execution_count": 3,
   "id": "9ad72167-3e30-4b51-9cec-a1588301d934",
   "metadata": {},
   "outputs": [
    {
     "data": {
      "text/plain": [
       "range(0, 15)"
      ]
     },
     "execution_count": 3,
     "metadata": {},
     "output_type": "execute_result"
    }
   ],
   "source": [
    "range(len(string_name))"
   ]
  },
  {
   "cell_type": "code",
   "execution_count": 10,
   "id": "af37b325-d0dc-4a4d-a528-7e2bd3cf47fa",
   "metadata": {},
   "outputs": [
    {
     "name": "stdout",
     "output_type": "stream",
     "text": [
      "0 = K\n",
      "1 = a\n",
      "2 = r\n",
      "3 = i\n",
      "4 = s\n",
      "5 = h\n",
      "6 = m\n",
      "7 = a\n",
      "8 =  \n",
      "9 = K\n",
      "10 = w\n",
      "11 = e\n",
      "12 = e\n",
      "13 = r\n",
      "14 = a\n"
     ]
    }
   ],
   "source": [
    "for i in range(len(string_name)):\n",
    "    print(i,\"=\",string_name[i])"
   ]
  },
  {
   "cell_type": "code",
   "execution_count": null,
   "id": "bf7afc84-7bb2-4b5d-8888-3f4c0fe9a0ef",
   "metadata": {},
   "outputs": [],
   "source": [
    "#We can string to iterate the string in reverse direction"
   ]
  },
  {
   "cell_type": "code",
   "execution_count": 18,
   "id": "3ff57e44-a2cb-4706-a37f-eba12e1f9824",
   "metadata": {},
   "outputs": [
    {
     "name": "stdout",
     "output_type": "stream",
     "text": [
      "a\n",
      "r\n",
      "e\n",
      "e\n",
      "w\n",
      "K\n",
      " \n",
      "a\n",
      "m\n",
      "h\n",
      "s\n",
      "i\n",
      "r\n",
      "a\n",
      "K\n"
     ]
    }
   ],
   "source": [
    "for i in range(len(string_name)):\n",
    "    print(string_name[len(string_name)-i-1])"
   ]
  },
  {
   "cell_type": "code",
   "execution_count": 21,
   "id": "b1ce32ba-663b-43a8-bafb-73f770203d50",
   "metadata": {},
   "outputs": [
    {
     "name": "stdout",
     "output_type": "stream",
     "text": [
      "a\n",
      "r\n",
      "e\n",
      "e\n",
      "w\n",
      "K\n",
      " \n",
      "a\n",
      "m\n",
      "h\n",
      "s\n",
      "i\n",
      "r\n",
      "a\n",
      "K\n"
     ]
    }
   ],
   "source": [
    "for i in range(len(string_name)-1,-1,-1):\n",
    "    print(string_name[i])"
   ]
  },
  {
   "cell_type": "code",
   "execution_count": 25,
   "id": "eb16332d-a95e-49e0-a5b5-676a71c2d648",
   "metadata": {},
   "outputs": [
    {
     "name": "stdout",
     "output_type": "stream",
     "text": [
      "a\n",
      "r\n",
      "e\n",
      "e\n",
      "w\n",
      "K\n",
      " \n",
      "a\n",
      "m\n",
      "h\n",
      "s\n",
      "i\n",
      "r\n",
      "a\n",
      "K\n"
     ]
    }
   ],
   "source": [
    "xlenth=len(string_name)\n",
    "while(xlenth>0):\n",
    "    print(string_name[xlenth-1])\n",
    "    xlenth-=1"
   ]
  },
  {
   "cell_type": "code",
   "execution_count": 27,
   "id": "5cdc9406-e0bf-49df-9ff2-0eb0fcfdc445",
   "metadata": {},
   "outputs": [
    {
     "name": "stdout",
     "output_type": "stream",
     "text": [
      "a\n",
      "r\n",
      "e\n",
      "e\n",
      "w\n",
      "K\n",
      " \n",
      "a\n",
      "m\n",
      "h\n",
      "s\n",
      "i\n",
      "r\n",
      "a\n",
      "K\n"
     ]
    }
   ],
   "source": [
    "xlenth=len(string_name)-1\n",
    "while(xlenth>=0):\n",
    "    print(string_name[xlenth])\n",
    "    xlenth-=1"
   ]
  },
  {
   "cell_type": "code",
   "execution_count": 31,
   "id": "154c9821-f473-4c70-b898-7bdf2869cb83",
   "metadata": {},
   "outputs": [
    {
     "name": "stdout",
     "output_type": "stream",
     "text": [
      "i is vowel\n"
     ]
    }
   ],
   "source": [
    "Name=\"PWSkills\"\n",
    "Vowels='AEIOUaeiou'\n",
    "for i in Name:\n",
    "    for j in Vowels:\n",
    "        if i==j:\n",
    "            print(\"{} is vowel\".format(i))\n",
    "            continue"
   ]
  },
  {
   "cell_type": "code",
   "execution_count": 35,
   "id": "85ccc8d5-b940-47d9-8342-804a94b5360c",
   "metadata": {},
   "outputs": [
    {
     "name": "stdout",
     "output_type": "stream",
     "text": [
      "P is not a vowel\n",
      "W is not a vowel\n",
      "S is not a vowel\n",
      "k is not a vowel\n",
      "i is vowel\n",
      "l is not a vowel\n",
      "l is not a vowel\n",
      "s is not a vowel\n"
     ]
    }
   ],
   "source": [
    "#Krish's method\n",
    "for i in Name:\n",
    "    if i in Vowels:\n",
    "        print(\"{} is vowel\".format(i))\n",
    "    else:\n",
    "        print(\"{} is not a vowel\".format(i))"
   ]
  },
  {
   "cell_type": "markdown",
   "id": "898ac71d-a0dc-4d91-85ee-537a7e2e7598",
   "metadata": {},
   "source": [
    "## List"
   ]
  },
  {
   "cell_type": "code",
   "execution_count": 37,
   "id": "c6b6d243-e823-4796-88b1-e7dff4e6d3ed",
   "metadata": {},
   "outputs": [
    {
     "data": {
      "text/plain": [
       "[]"
      ]
     },
     "execution_count": 37,
     "metadata": {},
     "output_type": "execute_result"
    }
   ],
   "source": [
    "[]"
   ]
  },
  {
   "cell_type": "code",
   "execution_count": 38,
   "id": "1503103f-4bfe-454f-810f-0c9982255f74",
   "metadata": {},
   "outputs": [
    {
     "data": {
      "text/plain": [
       "list"
      ]
     },
     "execution_count": 38,
     "metadata": {},
     "output_type": "execute_result"
    }
   ],
   "source": [
    "type([])"
   ]
  },
  {
   "cell_type": "code",
   "execution_count": null,
   "id": "63afeaf0-8ed3-406b-8302-f229fd9785ac",
   "metadata": {},
   "outputs": [],
   "source": [
    "['karishma','kweera','hello',98]"
   ]
  },
  {
   "cell_type": "code",
   "execution_count": 39,
   "id": "f2ca3408-df64-4b63-9335-79c1d92ef434",
   "metadata": {},
   "outputs": [
    {
     "data": {
      "text/plain": [
       "['karishma', 'kweera', 'hello', 98]"
      ]
     },
     "execution_count": 39,
     "metadata": {},
     "output_type": "execute_result"
    }
   ],
   "source": [
    "list(['karishma','kweera','hello',98])"
   ]
  },
  {
   "cell_type": "code",
   "execution_count": 57,
   "id": "d624dff3-9926-47af-be0e-e9b833844dd3",
   "metadata": {},
   "outputs": [
    {
     "data": {
      "text/plain": [
       "['p', 'w', 's', 'k', 'i', 'l', 'l', 's']"
      ]
     },
     "execution_count": 57,
     "metadata": {},
     "output_type": "execute_result"
    }
   ],
   "source": [
    "str1='pwskills'\n",
    "list(str1)"
   ]
  },
  {
   "cell_type": "code",
   "execution_count": 58,
   "id": "01d9692b-5ec2-412e-b70a-4c28a651baba",
   "metadata": {},
   "outputs": [],
   "source": [
    "#list is an ordered collection of elements, we'll be able to access element will increasing order of index\n",
    "str2='PW Skills data science masters'\n",
    "lst5=list(str2.split(' '))"
   ]
  },
  {
   "cell_type": "code",
   "execution_count": 59,
   "id": "174e752e-2623-4e2e-a0d6-15584d5cb1dd",
   "metadata": {},
   "outputs": [
    {
     "data": {
      "text/plain": [
       "['PW', 'Skills', 'data', 'science', 'masters']"
      ]
     },
     "execution_count": 59,
     "metadata": {},
     "output_type": "execute_result"
    }
   ],
   "source": [
    "lst5"
   ]
  },
  {
   "cell_type": "code",
   "execution_count": 60,
   "id": "e9aac8b2-f302-47a0-ba41-8f9bf0c86b7b",
   "metadata": {},
   "outputs": [
    {
     "data": {
      "text/plain": [
       "['PW', 'Skills', 'data', 'science', 'masters']"
      ]
     },
     "execution_count": 60,
     "metadata": {},
     "output_type": "execute_result"
    }
   ],
   "source": [
    "lst5[:]"
   ]
  },
  {
   "cell_type": "code",
   "execution_count": 61,
   "id": "360ce202-14cb-468b-ac50-b554cf658a07",
   "metadata": {},
   "outputs": [
    {
     "data": {
      "text/plain": [
       "['PW', 'Skills', 'data', 'science']"
      ]
     },
     "execution_count": 61,
     "metadata": {},
     "output_type": "execute_result"
    }
   ],
   "source": [
    "lst5[:-1]"
   ]
  },
  {
   "cell_type": "code",
   "execution_count": 62,
   "id": "05e8930e-ab7d-44d9-9089-aa8b778018bb",
   "metadata": {},
   "outputs": [],
   "source": [
    "lst5[-1]=\"Engineering\""
   ]
  },
  {
   "cell_type": "code",
   "execution_count": 63,
   "id": "df041edf-66ad-4d03-9b44-8dfcc83ffa4a",
   "metadata": {},
   "outputs": [
    {
     "data": {
      "text/plain": [
       "['PW', 'Skills', 'data', 'science', 'Engineering']"
      ]
     },
     "execution_count": 63,
     "metadata": {},
     "output_type": "execute_result"
    }
   ],
   "source": [
    "lst5"
   ]
  },
  {
   "cell_type": "code",
   "execution_count": 64,
   "id": "f44c9cfa-e2c1-4659-8775-02b944cd52bf",
   "metadata": {},
   "outputs": [
    {
     "data": {
      "text/plain": [
       "['PW', 'Skills', 'data', 'science', 'Engineering']"
      ]
     },
     "execution_count": 64,
     "metadata": {},
     "output_type": "execute_result"
    }
   ],
   "source": [
    "lst5[::]"
   ]
  },
  {
   "cell_type": "code",
   "execution_count": 65,
   "id": "67609da5-fabf-45a5-aee2-1ae91bd98c77",
   "metadata": {},
   "outputs": [
    {
     "data": {
      "text/plain": [
       "['Engineering', 'science', 'data', 'Skills', 'PW']"
      ]
     },
     "execution_count": 65,
     "metadata": {},
     "output_type": "execute_result"
    }
   ],
   "source": [
    "lst5[::-1]"
   ]
  },
  {
   "cell_type": "code",
   "execution_count": 66,
   "id": "39d8ff31-ba51-4351-bc17-ba25bde6f78f",
   "metadata": {},
   "outputs": [
    {
     "data": {
      "text/plain": [
       "['Skills', 'data', 'science', 'Engineering']"
      ]
     },
     "execution_count": 66,
     "metadata": {},
     "output_type": "execute_result"
    }
   ],
   "source": [
    "lst5[-4::]"
   ]
  },
  {
   "cell_type": "code",
   "execution_count": 67,
   "id": "e9a31ec4-1b59-4e25-9ca6-496a5dfc92fc",
   "metadata": {},
   "outputs": [
    {
     "data": {
      "text/plain": [
       "['Engineering', 'data', 'PW']"
      ]
     },
     "execution_count": 67,
     "metadata": {},
     "output_type": "execute_result"
    }
   ],
   "source": [
    "lst5[::-2]"
   ]
  },
  {
   "cell_type": "code",
   "execution_count": 71,
   "id": "5296046e-688e-4fac-be84-7123b09a70e5",
   "metadata": {},
   "outputs": [
    {
     "data": {
      "text/plain": [
       "[]"
      ]
     },
     "execution_count": 71,
     "metadata": {},
     "output_type": "execute_result"
    }
   ],
   "source": [
    "#As there is no overlapping\n",
    "lst5[-5:3:-2]"
   ]
  },
  {
   "cell_type": "code",
   "execution_count": 70,
   "id": "7d075de1-6d6d-43ea-9f23-0e17beb00406",
   "metadata": {},
   "outputs": [
    {
     "data": {
      "text/plain": [
       "[]"
      ]
     },
     "execution_count": 70,
     "metadata": {},
     "output_type": "execute_result"
    }
   ],
   "source": [
    "#As there is no overlapping\n",
    "lst5[-5:-3:-2]"
   ]
  },
  {
   "cell_type": "code",
   "execution_count": 72,
   "id": "4a681c16-9c20-4d3e-be8a-7332f1031ba5",
   "metadata": {},
   "outputs": [
    {
     "data": {
      "text/plain": [
       "['PW']"
      ]
     },
     "execution_count": 72,
     "metadata": {},
     "output_type": "execute_result"
    }
   ],
   "source": [
    "lst5[-5::-2]"
   ]
  },
  {
   "cell_type": "code",
   "execution_count": 75,
   "id": "ab219fb4-a0f4-4b78-a0cc-60f1908776f3",
   "metadata": {},
   "outputs": [
    {
     "data": {
      "text/plain": [
       "['PW', 'Skills', 'data', 'science', 'Engineering', 'tree', 'green', 555]"
      ]
     },
     "execution_count": 75,
     "metadata": {},
     "output_type": "execute_result"
    }
   ],
   "source": [
    "#Concatenation list\n",
    "lst5 + ['tree', 'green', 555]"
   ]
  },
  {
   "cell_type": "code",
   "execution_count": 78,
   "id": "75179306-0364-46bf-abde-ea56b06ef7d0",
   "metadata": {},
   "outputs": [],
   "source": [
    "#Concatenation list with multi nested list\n",
    "lst77 = lst5 + [['tree', 'green', 555]]"
   ]
  },
  {
   "cell_type": "code",
   "execution_count": 82,
   "id": "aa3e08e4-d57a-4454-96d2-338f7f24b417",
   "metadata": {},
   "outputs": [
    {
     "data": {
      "text/plain": [
       "555"
      ]
     },
     "execution_count": 82,
     "metadata": {},
     "output_type": "execute_result"
    }
   ],
   "source": [
    "lst77[-1][-1]"
   ]
  },
  {
   "cell_type": "code",
   "execution_count": 84,
   "id": "f2e2e140-ace6-4778-99d3-d187d0c521ba",
   "metadata": {},
   "outputs": [
    {
     "data": {
      "text/plain": [
       "['PW',\n",
       " 'Skills',\n",
       " 'data',\n",
       " 'science',\n",
       " 'Engineering',\n",
       " ['tree', 'green', 555],\n",
       " 'PW',\n",
       " 'Skills',\n",
       " 'data',\n",
       " 'science',\n",
       " 'Engineering',\n",
       " ['tree', 'green', 555]]"
      ]
     },
     "execution_count": 84,
     "metadata": {},
     "output_type": "execute_result"
    }
   ],
   "source": [
    "#This is not a inplace operation, which means we're not updating the datastructure/collection after making the changes \n",
    "lst77 *2"
   ]
  },
  {
   "cell_type": "code",
   "execution_count": 86,
   "id": "3f81697e-31a6-4749-9ef1-8bf81047d920",
   "metadata": {},
   "outputs": [
    {
     "data": {
      "text/plain": [
       "['PW', 'Skills', 'data', 'science', 'Engineering']"
      ]
     },
     "execution_count": 86,
     "metadata": {},
     "output_type": "execute_result"
    }
   ],
   "source": [
    "lst5"
   ]
  },
  {
   "cell_type": "code",
   "execution_count": 93,
   "id": "b85f1fa6-c775-4ad9-8963-6ee8a32e1c1c",
   "metadata": {},
   "outputs": [
    {
     "name": "stdout",
     "output_type": "stream",
     "text": [
      "science is present in the list\n"
     ]
    }
   ],
   "source": [
    "#Mycode\n",
    "for i in lst77:\n",
    "    if i == 'science':\n",
    "        print(\"science is present in the list\")\n",
    "        break"
   ]
  },
  {
   "cell_type": "code",
   "execution_count": 92,
   "id": "94d265bc-342b-4f66-9159-ac9ab862ecb7",
   "metadata": {},
   "outputs": [
    {
     "name": "stdout",
     "output_type": "stream",
     "text": [
      "science is present in the list\n"
     ]
    }
   ],
   "source": [
    "#Krish's method\n",
    "if 'science' in lst77:\n",
    "    print(\"science is present in the list\")"
   ]
  },
  {
   "cell_type": "code",
   "execution_count": 101,
   "id": "96f4751d-7f1b-4a5c-8c78-293b6771b380",
   "metadata": {},
   "outputs": [
    {
     "name": "stdout",
     "output_type": "stream",
     "text": [
      "science\n"
     ]
    }
   ],
   "source": [
    "#Krish's method\n",
    "for elements in lst5:\n",
    "    if elements == 'science':\n",
    "        print(elements)"
   ]
  },
  {
   "cell_type": "code",
   "execution_count": 108,
   "id": "58f2face-622e-4289-9254-4675356356a6",
   "metadata": {},
   "outputs": [
    {
     "data": {
      "text/plain": [
       "False"
      ]
     },
     "execution_count": 108,
     "metadata": {},
     "output_type": "execute_result"
    }
   ],
   "source": [
    "#check element inside a list\n",
    "lst=[1,2,3,4,5]\n",
    "8 in lst"
   ]
  },
  {
   "cell_type": "code",
   "execution_count": 107,
   "id": "7fab3227-e2a0-42e9-a501-19ad3eecbe39",
   "metadata": {},
   "outputs": [
    {
     "name": "stdout",
     "output_type": "stream",
     "text": [
      "not present\n"
     ]
    }
   ],
   "source": [
    "#check if 4 is present in list\n",
    "if 10 in lst:\n",
    "    print(\"present\")\n",
    "else:\n",
    "    print('not present')"
   ]
  },
  {
   "cell_type": "code",
   "execution_count": 109,
   "id": "2cc50a72-83ff-4ed8-a0a1-adc42def88fd",
   "metadata": {},
   "outputs": [],
   "source": [
    "list1=[\"zebra\",\"monkey\",\"cat\",'donkey','lizard','turtle']\n",
    "list2=[1,2,3,5,7,3,6]"
   ]
  },
  {
   "cell_type": "code",
   "execution_count": 112,
   "id": "d676738e-8eb3-4742-92fd-6c0a1f2817f7",
   "metadata": {},
   "outputs": [
    {
     "name": "stdout",
     "output_type": "stream",
     "text": [
      "zebra\n"
     ]
    }
   ],
   "source": [
    "print(max(list1))"
   ]
  },
  {
   "cell_type": "code",
   "execution_count": 113,
   "id": "a78e6150-e063-413a-9df1-865ada41dc14",
   "metadata": {},
   "outputs": [
    {
     "data": {
      "text/plain": [
       "'cat'"
      ]
     },
     "execution_count": 113,
     "metadata": {},
     "output_type": "execute_result"
    }
   ],
   "source": [
    "min(list1)"
   ]
  },
  {
   "cell_type": "code",
   "execution_count": 114,
   "id": "afd5a71f-dbf0-491a-97a2-5fb179019f47",
   "metadata": {},
   "outputs": [
    {
     "data": {
      "text/plain": [
       "1"
      ]
     },
     "execution_count": 114,
     "metadata": {},
     "output_type": "execute_result"
    }
   ],
   "source": [
    "min(list2)"
   ]
  },
  {
   "cell_type": "code",
   "execution_count": 142,
   "id": "01d97204-8642-4ffd-b084-bd5f88179ffb",
   "metadata": {},
   "outputs": [
    {
     "data": {
      "text/plain": [
       "True"
      ]
     },
     "execution_count": 142,
     "metadata": {},
     "output_type": "execute_result"
    }
   ],
   "source": [
    "new_listy=[3,5,6,7,1]\n",
    "floaty=5.0\n",
    "floaty in new_list"
   ]
  },
  {
   "cell_type": "code",
   "execution_count": 143,
   "id": "1406c8d4-8020-47b7-a5bf-08354e502033",
   "metadata": {},
   "outputs": [
    {
     "data": {
      "text/plain": [
       "int"
      ]
     },
     "execution_count": 143,
     "metadata": {},
     "output_type": "execute_result"
    }
   ],
   "source": [
    "type(new_list[1])"
   ]
  },
  {
   "cell_type": "code",
   "execution_count": 144,
   "id": "0a4d3494-1c29-4257-b5c4-ffa217e82c3a",
   "metadata": {},
   "outputs": [
    {
     "data": {
      "text/plain": [
       "float"
      ]
     },
     "execution_count": 144,
     "metadata": {},
     "output_type": "execute_result"
    }
   ],
   "source": [
    "type(floaty)"
   ]
  },
  {
   "cell_type": "code",
   "execution_count": 119,
   "id": "a5539493-3ee3-4e91-ab3b-869274f83f3d",
   "metadata": {},
   "outputs": [
    {
     "data": {
      "text/plain": [
       "True"
      ]
     },
     "execution_count": 119,
     "metadata": {},
     "output_type": "execute_result"
    }
   ],
   "source": [
    "#== will make sure that the type of both the values in the LHS and RHS will be same. And we're checking values\n",
    "5==5.0"
   ]
  },
  {
   "cell_type": "code",
   "execution_count": 121,
   "id": "5bd862d4-580a-421d-8a20-e9251a6f257b",
   "metadata": {},
   "outputs": [
    {
     "data": {
      "text/plain": [
       "True"
      ]
     },
     "execution_count": 121,
     "metadata": {},
     "output_type": "execute_result"
    }
   ],
   "source": [
    "###bug\n",
    "1.9999999999999999 in [2,3,5]"
   ]
  },
  {
   "cell_type": "code",
   "execution_count": 122,
   "id": "c0eab645-c157-4021-b8fc-8b69dd7bbaf8",
   "metadata": {},
   "outputs": [
    {
     "data": {
      "text/plain": [
       "['zebra', 'monkey', 'cat', 'donkey', 'lizard', 'turtle']"
      ]
     },
     "execution_count": 122,
     "metadata": {},
     "output_type": "execute_result"
    }
   ],
   "source": [
    "list1"
   ]
  },
  {
   "cell_type": "code",
   "execution_count": 126,
   "id": "e4fb0260-8776-42d3-976f-51191b978dd4",
   "metadata": {},
   "outputs": [],
   "source": [
    "#append operation in list is an inplace operator\n",
    "list1.append('Kangaroo')"
   ]
  },
  {
   "cell_type": "code",
   "execution_count": 128,
   "id": "45825af4-f454-4f99-bca8-f3f650449e25",
   "metadata": {},
   "outputs": [
    {
     "data": {
      "text/plain": [
       "['zebra',\n",
       " 'monkey',\n",
       " 'cat',\n",
       " 'donkey',\n",
       " 'lizard',\n",
       " 'turtle',\n",
       " 'Kangaroo',\n",
       " 'Kangaroo',\n",
       " ['a', 'bloosom', 'cabbage']]"
      ]
     },
     "execution_count": 128,
     "metadata": {},
     "output_type": "execute_result"
    }
   ],
   "source": [
    "list1"
   ]
  },
  {
   "cell_type": "code",
   "execution_count": 127,
   "id": "144652b8-b013-4878-8074-c6ad76a70eac",
   "metadata": {},
   "outputs": [],
   "source": [
    "list1.append(['a', 'bloosom', 'cabbage'])"
   ]
  },
  {
   "cell_type": "code",
   "execution_count": 133,
   "id": "c2d1dbb0-0f5c-4e30-99a2-b65b14d4f9c7",
   "metadata": {},
   "outputs": [
    {
     "data": {
      "text/plain": [
       "7"
      ]
     },
     "execution_count": 133,
     "metadata": {},
     "output_type": "execute_result"
    }
   ],
   "source": [
    "#pop is an inplace element\n",
    "list2.pop()"
   ]
  },
  {
   "cell_type": "code",
   "execution_count": 134,
   "id": "0f7bc9e4-ce5a-44eb-a8dd-c66a84eedca7",
   "metadata": {},
   "outputs": [
    {
     "data": {
      "text/plain": [
       "[1, 2, 3, 5]"
      ]
     },
     "execution_count": 134,
     "metadata": {},
     "output_type": "execute_result"
    }
   ],
   "source": [
    "list2"
   ]
  },
  {
   "cell_type": "code",
   "execution_count": 163,
   "id": "1f29e49d-d422-4a83-a61e-92d44c6ed1f5",
   "metadata": {},
   "outputs": [
    {
     "data": {
      "text/plain": [
       "5"
      ]
     },
     "execution_count": 163,
     "metadata": {},
     "output_type": "execute_result"
    }
   ],
   "source": [
    "#by default op function removes last element, but if we pass the index it'll remove that index\n",
    "list2.pop(2)"
   ]
  },
  {
   "cell_type": "code",
   "execution_count": 138,
   "id": "611b209c-136c-4404-9c60-42c4cf260f8b",
   "metadata": {},
   "outputs": [
    {
     "data": {
      "text/plain": [
       "['zebra', 'monkey', 'cat', 'donkey', 'lizard', 'turtle', 'Kangaroo']"
      ]
     },
     "execution_count": 138,
     "metadata": {},
     "output_type": "execute_result"
    }
   ],
   "source": [
    "list1"
   ]
  },
  {
   "cell_type": "code",
   "execution_count": 140,
   "id": "7d507f9d-88f5-456d-aac1-b3e35c74911a",
   "metadata": {},
   "outputs": [
    {
     "data": {
      "text/plain": [
       "'turtle'"
      ]
     },
     "execution_count": 140,
     "metadata": {},
     "output_type": "execute_result"
    }
   ],
   "source": [
    "removed_element=list1.pop()\n",
    "removed_element"
   ]
  },
  {
   "cell_type": "code",
   "execution_count": 141,
   "id": "ea596424-3c02-4915-9539-41f12c8fed76",
   "metadata": {},
   "outputs": [
    {
     "ename": "NameError",
     "evalue": "name 'lis1' is not defined",
     "output_type": "error",
     "traceback": [
      "\u001b[0;31m---------------------------------------------------------------------------\u001b[0m",
      "\u001b[0;31mNameError\u001b[0m                                 Traceback (most recent call last)",
      "Cell \u001b[0;32mIn[141], line 1\u001b[0m\n\u001b[0;32m----> 1\u001b[0m \u001b[43mlis1\u001b[49m[\u001b[38;5;241m555\u001b[39m]\n",
      "\u001b[0;31mNameError\u001b[0m: name 'lis1' is not defined"
     ]
    }
   ],
   "source": [
    "lis1[555]"
   ]
  },
  {
   "cell_type": "code",
   "execution_count": 7,
   "id": "d6172136-040a-4925-a16c-cd3ceb761f55",
   "metadata": {},
   "outputs": [
    {
     "data": {
      "text/plain": [
       "['e', 'q', 'r', 'w', 'a']"
      ]
     },
     "execution_count": 7,
     "metadata": {},
     "output_type": "execute_result"
    }
   ],
   "source": [
    "new_list=['a','w','r','q','e']\n",
    "new_list[::-1]"
   ]
  },
  {
   "cell_type": "code",
   "execution_count": 2,
   "id": "e5bd3aba-6879-4415-8b5c-ddbeb338404b",
   "metadata": {},
   "outputs": [],
   "source": [
    "#reverse is an inplace operation\n",
    "new_list.reverse()"
   ]
  },
  {
   "cell_type": "code",
   "execution_count": 3,
   "id": "1683bda0-8f6d-4402-8903-dd07d184cd7b",
   "metadata": {},
   "outputs": [
    {
     "data": {
      "text/plain": [
       "['e', 'q', 'r', 'w', 'a']"
      ]
     },
     "execution_count": 3,
     "metadata": {},
     "output_type": "execute_result"
    }
   ],
   "source": [
    "new_list"
   ]
  },
  {
   "cell_type": "code",
   "execution_count": 4,
   "id": "e253c0fa-4881-4911-942e-ff4047516e26",
   "metadata": {},
   "outputs": [],
   "source": [
    "#reverse is an inplace operation, by deafult it is in ascending order. In order to make it descending make parameter reverse=True\n",
    "new_list.sort(reverse=True)"
   ]
  },
  {
   "cell_type": "code",
   "execution_count": 5,
   "id": "665cb55b-16ab-4424-8538-cd98af021464",
   "metadata": {},
   "outputs": [
    {
     "data": {
      "text/plain": [
       "['w', 'r', 'q', 'e', 'a']"
      ]
     },
     "execution_count": 5,
     "metadata": {},
     "output_type": "execute_result"
    }
   ],
   "source": [
    "new_list"
   ]
  },
  {
   "cell_type": "code",
   "execution_count": 6,
   "id": "e3d2304e-3c6f-45f1-9218-d65e26670daa",
   "metadata": {},
   "outputs": [
    {
     "data": {
      "text/plain": [
       "['w', 'r', 'q', 'e', 'a', ['Monday', 'Tuesday']]"
      ]
     },
     "execution_count": 6,
     "metadata": {},
     "output_type": "execute_result"
    }
   ],
   "source": [
    "#append/extend is an inplace operator\n",
    "new_list.append([\"Monday\",\"Tuesday\"])\n",
    "new_list"
   ]
  },
  {
   "cell_type": "code",
   "execution_count": 8,
   "id": "d7a9d7f8-19d8-4fe6-a79f-3be2d5f13453",
   "metadata": {},
   "outputs": [
    {
     "data": {
      "text/plain": [
       "['a', 'w', 'r', 'q', 'e', 'Monday', 'Tuesday']"
      ]
     },
     "execution_count": 8,
     "metadata": {},
     "output_type": "execute_result"
    }
   ],
   "source": [
    "new_list.extend([\"Monday\",\"Tuesday\"])\n",
    "new_list"
   ]
  },
  {
   "cell_type": "markdown",
   "id": "28e384dc-a41b-4611-b8ed-f8b6a77808f9",
   "metadata": {},
   "source": [
    "## Nested List"
   ]
  },
  {
   "cell_type": "code",
   "execution_count": 10,
   "id": "3e46e0eb-8960-4298-9d09-f8f7c25d957d",
   "metadata": {},
   "outputs": [],
   "source": [
    "#lets make three matrix\n",
    "lst_1=[1,2,3]\n",
    "lst_2=[4,5,6]\n",
    "lst_3=[7,8,9]\n",
    "#Create a list of list for a matrix\n",
    "matrix=[lst_1,lst_2,lst_3]"
   ]
  },
  {
   "cell_type": "code",
   "execution_count": 11,
   "id": "a0e6bb32-6fe3-4594-afdf-7c618777df98",
   "metadata": {},
   "outputs": [
    {
     "data": {
      "text/plain": [
       "[[1, 2, 3], [4, 5, 6], [7, 8, 9]]"
      ]
     },
     "execution_count": 11,
     "metadata": {},
     "output_type": "execute_result"
    }
   ],
   "source": [
    "matrix"
   ]
  },
  {
   "cell_type": "code",
   "execution_count": 13,
   "id": "2eb902e3-9640-402f-96d6-33e71c9f495f",
   "metadata": {},
   "outputs": [
    {
     "data": {
      "text/plain": [
       "6"
      ]
     },
     "execution_count": 13,
     "metadata": {},
     "output_type": "execute_result"
    }
   ],
   "source": [
    "matrix[1][2]"
   ]
  },
  {
   "cell_type": "code",
   "execution_count": 14,
   "id": "3a9a8b70-5a75-4844-abc7-4b6cfcf7db8c",
   "metadata": {},
   "outputs": [
    {
     "data": {
      "text/plain": [
       "[8, 9]"
      ]
     },
     "execution_count": 14,
     "metadata": {},
     "output_type": "execute_result"
    }
   ],
   "source": [
    "matrix[2][1:]"
   ]
  },
  {
   "cell_type": "code",
   "execution_count": 23,
   "id": "847f6450-8812-4ba5-82df-dacdb1c0c7e3",
   "metadata": {},
   "outputs": [
    {
     "data": {
      "text/plain": [
       "[1, 2, 3]"
      ]
     },
     "execution_count": 23,
     "metadata": {},
     "output_type": "execute_result"
    }
   ],
   "source": [
    "matrix[:][0]"
   ]
  },
  {
   "cell_type": "code",
   "execution_count": 40,
   "id": "042aa0d8-c1bc-42c0-9bcd-011fc19f76df",
   "metadata": {},
   "outputs": [],
   "source": [
    "#Will do with the help of numpy\n",
    "#matrix[(1,3)][0:]"
   ]
  },
  {
   "cell_type": "code",
   "execution_count": 42,
   "id": "2cb6ac2e-7c2e-4f3b-a5a3-c38f6b49daf5",
   "metadata": {},
   "outputs": [
    {
     "data": {
      "text/plain": [
       "[0, 1, 2, 3, 4, 5, 6, 7, 8, 9, 10, 11, 12, 13, 14, 15, 16, 17, 18, 19]"
      ]
     },
     "execution_count": 42,
     "metadata": {},
     "output_type": "execute_result"
    }
   ],
   "source": [
    "#List Comprehension\n",
    "[i for i in range(0,20)]"
   ]
  },
  {
   "cell_type": "code",
   "execution_count": 19,
   "id": "2264e9da-137d-4e29-8361-ea76ea27ecc7",
   "metadata": {},
   "outputs": [
    {
     "data": {
      "text/plain": [
       "['ODD',\n",
       " 2,\n",
       " 'ODD',\n",
       " 4,\n",
       " 'ODD',\n",
       " 6,\n",
       " 'ODD',\n",
       " 8,\n",
       " 'ODD',\n",
       " 10,\n",
       " 'ODD',\n",
       " 12,\n",
       " 'ODD',\n",
       " 14,\n",
       " 'ODD',\n",
       " 16,\n",
       " 'ODD',\n",
       " 18,\n",
       " 'ODD',\n",
       " 20]"
      ]
     },
     "execution_count": 19,
     "metadata": {},
     "output_type": "execute_result"
    }
   ],
   "source": [
    "#We can put a condition inside list\n",
    "[i if i%2==0 else \"ODD\" for i in range(1,21)]"
   ]
  },
  {
   "cell_type": "code",
   "execution_count": 21,
   "id": "f18fa527-94b6-4413-a189-5b4d27f317d9",
   "metadata": {},
   "outputs": [
    {
     "data": {
      "text/plain": [
       "['ODD',\n",
       " 2,\n",
       " 'ODD',\n",
       " 4,\n",
       " 'ODD',\n",
       " 6,\n",
       " 'ODD',\n",
       " 8,\n",
       " 'ODD',\n",
       " 10,\n",
       " 'ODD',\n",
       " 12,\n",
       " 'ODD',\n",
       " 14,\n",
       " 'ODD',\n",
       " 16,\n",
       " 'ODD',\n",
       " 18,\n",
       " 'ODD',\n",
       " 20]"
      ]
     },
     "execution_count": 21,
     "metadata": {},
     "output_type": "execute_result"
    }
   ],
   "source": [
    "odd_sum7=[i if i%2==0 else \"ODD\" for i in range(1,21)]\n",
    "odd_sum7"
   ]
  },
  {
   "cell_type": "code",
   "execution_count": 52,
   "id": "0ee9810b-f8b1-48f8-a20a-6e93b6e3c79a",
   "metadata": {},
   "outputs": [
    {
     "name": "stdout",
     "output_type": "stream",
     "text": [
      "100\n",
      "110\n"
     ]
    }
   ],
   "source": [
    "odd_sum=0 \n",
    "even_sum=0\n",
    "for i in range(1,21):\n",
    "    if i%2!=0:\n",
    "        odd_sum=i+odd_sum\n",
    "    else:\n",
    "        even_sum=i+even_sum\n",
    "print(odd_sum)\n",
    "print(even_sum)"
   ]
  },
  {
   "cell_type": "code",
   "execution_count": 1,
   "id": "c08cc89a-6947-4227-9b46-a8d20449fe65",
   "metadata": {},
   "outputs": [],
   "source": [
    "listed=[1,2,3,4,5]"
   ]
  },
  {
   "cell_type": "code",
   "execution_count": 6,
   "id": "b9024b34-cb0b-4f29-aabb-c406e2dad24f",
   "metadata": {},
   "outputs": [
    {
     "data": {
      "text/plain": [
       "6"
      ]
     },
     "execution_count": 6,
     "metadata": {},
     "output_type": "execute_result"
    }
   ],
   "source": [
    "sum([i for i in listed if i%2==0])"
   ]
  },
  {
   "cell_type": "code",
   "execution_count": 9,
   "id": "dca427ac-8f21-4e66-b457-ff4bea539793",
   "metadata": {},
   "outputs": [
    {
     "data": {
      "text/plain": [
       "9"
      ]
     },
     "execution_count": 9,
     "metadata": {},
     "output_type": "execute_result"
    }
   ],
   "source": [
    "sum([i for i in listed if i%2!=0])"
   ]
  },
  {
   "cell_type": "code",
   "execution_count": 16,
   "id": "19e841fe-1797-4b89-bc11-160f07bda371",
   "metadata": {},
   "outputs": [
    {
     "data": {
      "text/plain": [
       "6"
      ]
     },
     "execution_count": 16,
     "metadata": {},
     "output_type": "execute_result"
    }
   ],
   "source": [
    "#Krish's method\n",
    "even_sum=sum([num for num in listed if num%2==0])\n",
    "even_sum"
   ]
  },
  {
   "cell_type": "code",
   "execution_count": 17,
   "id": "6bd4ce8a-bf55-4eec-8308-f89760b55a88",
   "metadata": {},
   "outputs": [
    {
     "data": {
      "text/plain": [
       "9"
      ]
     },
     "execution_count": 17,
     "metadata": {},
     "output_type": "execute_result"
    }
   ],
   "source": [
    "odd_sum=sum([num for num in listed if num%2!=0])\n",
    "odd_sum"
   ]
  },
  {
   "cell_type": "code",
   "execution_count": 31,
   "id": "6effcfd8-b9ca-400b-ad6e-306cf2b5e3e3",
   "metadata": {},
   "outputs": [
    {
     "data": {
      "text/plain": [
       "[1, 4, 9, 16, 25, 36, 49, 64, 81, 100]"
      ]
     },
     "execution_count": 31,
     "metadata": {},
     "output_type": "execute_result"
    }
   ],
   "source": [
    "#Example1:Find square of all numbers\n",
    "lst=[1,2,3,4,5,6,7,8,9,10]\n",
    "[i*i for i in lst]"
   ]
  },
  {
   "cell_type": "code",
   "execution_count": 26,
   "id": "40fb976c-b1df-4559-818f-88c2e7f8015a",
   "metadata": {},
   "outputs": [
    {
     "data": {
      "text/plain": [
       "[1, 4, 9, 16, 25, 36, 49, 64, 81, 100]"
      ]
     },
     "execution_count": 26,
     "metadata": {},
     "output_type": "execute_result"
    }
   ],
   "source": [
    "#Krish's method\n",
    "lst=[1,2,3,4,5,6,7,8,9,10]\n",
    "[i**2 for i in lst]"
   ]
  },
  {
   "cell_type": "code",
   "execution_count": 28,
   "id": "63d87451-7f64-43f9-971d-60bf72dee60e",
   "metadata": {},
   "outputs": [
    {
     "data": {
      "text/plain": [
       "[1, 2, 3, 4, 5, 6, 7, 8, 9, 10]"
      ]
     },
     "execution_count": 28,
     "metadata": {},
     "output_type": "execute_result"
    }
   ],
   "source": [
    "#Example2: Create a list of only the positive numbers in the list\n",
    "list_all=[1,2,3,4,5,6,0,-1,-2,-3,-4,-5,-6]\n",
    "[i for i in list_all if i>=0]"
   ]
  },
  {
   "cell_type": "code",
   "execution_count": 30,
   "id": "ac612325-3169-4848-8da3-d05d39a89dd9",
   "metadata": {},
   "outputs": [
    {
     "data": {
      "text/plain": [
       "[-1, -2, -3, -4, -5, -6]"
      ]
     },
     "execution_count": 30,
     "metadata": {},
     "output_type": "execute_result"
    }
   ],
   "source": [
    "[i for i in list_all if i<0]"
   ]
  },
  {
   "cell_type": "code",
   "execution_count": 42,
   "id": "24089c8c-f5e4-4c62-b7fe-456fd1221f1e",
   "metadata": {},
   "outputs": [
    {
     "data": {
      "text/plain": [
       "['a', 'm', 'p', 'l', 'w']"
      ]
     },
     "execution_count": 42,
     "metadata": {},
     "output_type": "execute_result"
    }
   ],
   "source": [
    "#Example3: Create a list of only the first letters of word in a list\n",
    "words = [\"apple\",\"mango\",\"pineapple\",\"litchi\",\"watermelon\"]\n",
    "[words[i][0] for i in range(len(words))] "
   ]
  },
  {
   "cell_type": "code",
   "execution_count": 43,
   "id": "3b9ca3fb-e905-4d64-bac2-822010a79f90",
   "metadata": {},
   "outputs": [
    {
     "data": {
      "text/plain": [
       "['a', 'm', 'p', 'l', 'w']"
      ]
     },
     "execution_count": 43,
     "metadata": {},
     "output_type": "execute_result"
    }
   ],
   "source": [
    "# Krish's method\n",
    "[words[0] for words in words] "
   ]
  },
  {
   "cell_type": "code",
   "execution_count": 36,
   "id": "331b4aa6-8479-454a-ab4e-b363d25b6c1d",
   "metadata": {},
   "outputs": [
    {
     "data": {
      "text/plain": [
       "5"
      ]
     },
     "execution_count": 36,
     "metadata": {},
     "output_type": "execute_result"
    }
   ],
   "source": [
    "len(words)"
   ]
  },
  {
   "cell_type": "code",
   "execution_count": 40,
   "id": "28939912-66c2-4edd-90b7-ae9e2b7e12b6",
   "metadata": {},
   "outputs": [
    {
     "name": "stdout",
     "output_type": "stream",
     "text": [
      "0\n",
      "1\n",
      "2\n",
      "3\n",
      "4\n"
     ]
    }
   ],
   "source": [
    "for i in range(len(words)):\n",
    "    print(i)"
   ]
  },
  {
   "cell_type": "code",
   "execution_count": 15,
   "id": "b2983011-8808-400e-a4eb-373931970464",
   "metadata": {},
   "outputs": [
    {
     "data": {
      "text/plain": [
       "[1, 2, 3, 4, 5, 6, 55, 55, 7]"
      ]
     },
     "execution_count": 15,
     "metadata": {},
     "output_type": "execute_result"
    }
   ],
   "source": [
    "#insert\n",
    "listt=[1,2,3,4,5,6,7]\n",
    "listt.insert(-1,55)\n",
    "listt.insert(7,55)\n",
    "listt"
   ]
  },
  {
   "cell_type": "markdown",
   "id": "580fe34b-ae43-4113-b864-999145bdf1cf",
   "metadata": {},
   "source": [
    "### temp_In_Feh=9/5*temp_In_Cel+32"
   ]
  },
  {
   "cell_type": "code",
   "execution_count": 48,
   "id": "43828608-9413-4af2-b82d-fe188396c8c1",
   "metadata": {},
   "outputs": [],
   "source": [
    "#Example4: Convert the list of temperatures from celcius to fahreheite\n",
    "Celsius_Temp=[0,10,20,30,40,50]"
   ]
  },
  {
   "cell_type": "code",
   "execution_count": 51,
   "id": "bd23904f-bedf-4398-83a2-010715ec2861",
   "metadata": {},
   "outputs": [
    {
     "data": {
      "text/plain": [
       "[32.0, 50.0, 68.0, 86.0, 104.0, 122.0]"
      ]
     },
     "execution_count": 51,
     "metadata": {},
     "output_type": "execute_result"
    }
   ],
   "source": [
    "Feh_Temp=[9/5*i+32 for i in Celsius_Temp]\n",
    "Feh_Temp"
   ]
  },
  {
   "cell_type": "code",
   "execution_count": 66,
   "id": "23d497f6-04eb-45dd-8623-9d9f4d37d73b",
   "metadata": {},
   "outputs": [
    {
     "data": {
      "text/plain": [
       "[1, 2, 3, 4, 5, 6, 7, 8, 9]"
      ]
     },
     "execution_count": 66,
     "metadata": {},
     "output_type": "execute_result"
    }
   ],
   "source": [
    "#Example5: Flatten a list of list into single List\n",
    "lists=[[1,2,3],[4,5,6],[7,8,9]]\n",
    "[lists[i][:] for i in range(len(lists))]\n",
    "[(lists[i][j]) for i in range(len(lists)) for j in range(len(lists))]"
   ]
  },
  {
   "cell_type": "code",
   "execution_count": 68,
   "id": "249976dc-621b-4f55-986a-eda4ebf122a4",
   "metadata": {},
   "outputs": [
    {
     "data": {
      "text/plain": [
       "[1, 2, 3, 4, 5, 6, 7, 8, 9]"
      ]
     },
     "execution_count": 68,
     "metadata": {},
     "output_type": "execute_result"
    }
   ],
   "source": [
    "[num for sublist in lists for num in sublist]"
   ]
  },
  {
   "cell_type": "code",
   "execution_count": 59,
   "id": "a408b771-eeb2-457f-bacf-d38d7179015d",
   "metadata": {},
   "outputs": [
    {
     "data": {
      "text/plain": [
       "3"
      ]
     },
     "execution_count": 59,
     "metadata": {},
     "output_type": "execute_result"
    }
   ],
   "source": [
    "len(lists)"
   ]
  },
  {
   "cell_type": "code",
   "execution_count": null,
   "id": "63edce69-dc51-446f-b41a-2afde06fa370",
   "metadata": {},
   "outputs": [],
   "source": [
    "for i in range(len(lists))"
   ]
  },
  {
   "cell_type": "code",
   "execution_count": 71,
   "id": "999c2140-3790-44b1-8e83-db27682ec38d",
   "metadata": {},
   "outputs": [],
   "source": [
    "#Assignment\n",
    "## Do using code and list operations\n",
    "## Ques1: Create a list of only the prime numbers for a given list\n",
    "numbers=[1,2,3,4,5,6,7,8,9,10]"
   ]
  },
  {
   "cell_type": "code",
   "execution_count": 74,
   "id": "3f9337e5-8b32-4a77-86c9-353c4a8275b2",
   "metadata": {},
   "outputs": [
    {
     "data": {
      "text/plain": [
       "[1,\n",
       " 2,\n",
       " 2,\n",
       " 3,\n",
       " 3,\n",
       " 4,\n",
       " 4,\n",
       " 4,\n",
       " 5,\n",
       " 5,\n",
       " 6,\n",
       " 6,\n",
       " 6,\n",
       " 6,\n",
       " 7,\n",
       " 7,\n",
       " 8,\n",
       " 8,\n",
       " 8,\n",
       " 8,\n",
       " 9,\n",
       " 9,\n",
       " 9,\n",
       " 10,\n",
       " 10,\n",
       " 10]"
      ]
     },
     "execution_count": 74,
     "metadata": {},
     "output_type": "execute_result"
    }
   ],
   "source": [
    "[j for j in numbers for i in range(1,10) if j%i==0]"
   ]
  },
  {
   "cell_type": "code",
   "execution_count": 77,
   "id": "e9af36cf-2a9d-4068-b6f6-8614aaa270a8",
   "metadata": {},
   "outputs": [
    {
     "name": "stdout",
     "output_type": "stream",
     "text": [
      "2\n",
      "Not Prime\n"
     ]
    }
   ],
   "source": [
    "factor=0\n",
    "num=8\n",
    "for i in range(2,num):\n",
    "    if num%i==0:\n",
    "        factor+=1\n",
    "print(factor)\n",
    "if factor==1:\n",
    "    print(\"Prime\")\n",
    "else:\n",
    "    print(\"Not Prime\")"
   ]
  },
  {
   "cell_type": "code",
   "execution_count": 4,
   "id": "3df25f10-b912-4590-8236-b4f4b30776b0",
   "metadata": {},
   "outputs": [],
   "source": [
    "factor=0\n",
    "numbers=[1,2,3,4,5,6,7,8,9,10]\n",
    "for j in numbers:\n",
    "    if j==1: continue\n",
    "    for i in range(2,j+1):\n",
    "        if j%i==0: factor+=1\n",
    "    if factor==0: print(j)"
   ]
  },
  {
   "cell_type": "code",
   "execution_count": 5,
   "id": "8d53709b-dc18-4038-a2a3-4fa9b055befb",
   "metadata": {},
   "outputs": [
    {
     "data": {
      "text/plain": [
       "(1, 2, 3, 5, 7)"
      ]
     },
     "execution_count": 5,
     "metadata": {},
     "output_type": "execute_result"
    }
   ],
   "source": [
    "1,2,3,5,7"
   ]
  },
  {
   "cell_type": "code",
   "execution_count": 39,
   "id": "310b7cf2-aa73-4204-ac18-469740570870",
   "metadata": {},
   "outputs": [
    {
     "name": "stdout",
     "output_type": "stream",
     "text": [
      "2\n",
      "3\n",
      "4\n",
      "5\n",
      "6\n",
      "7\n",
      "8\n",
      "9\n",
      "10\n"
     ]
    }
   ],
   "source": [
    "numbers=[1,2,3,4,5,6,7,8,9,10]\n",
    "for j in numbers:\n",
    "    if j==1: continue\n",
    "    print(j)"
   ]
  },
  {
   "cell_type": "code",
   "execution_count": 33,
   "id": "bac2f554-9061-44be-a63e-a0e75975e73c",
   "metadata": {},
   "outputs": [
    {
     "data": {
      "text/plain": [
       "((1, 2), (5, 6))"
      ]
     },
     "execution_count": 33,
     "metadata": {},
     "output_type": "execute_result"
    }
   ],
   "source": [
    "#Ques:2 Create a list of all the possible combinations of two elements from a list\n",
    "numbers=[1,2,3,4,5]\n",
    "((1,2),(5,6))"
   ]
  },
  {
   "cell_type": "code",
   "execution_count": 34,
   "id": "bf8766e4-610b-405a-a2d1-fc72a4776304",
   "metadata": {},
   "outputs": [
    {
     "data": {
      "text/plain": [
       "[(1, 1),\n",
       " (1, 2),\n",
       " (1, 3),\n",
       " (1, 4),\n",
       " (1, 5),\n",
       " (2, 1),\n",
       " (2, 2),\n",
       " (2, 3),\n",
       " (2, 4),\n",
       " (2, 5),\n",
       " (3, 1),\n",
       " (3, 2),\n",
       " (3, 3),\n",
       " (3, 4),\n",
       " (3, 5),\n",
       " (4, 1),\n",
       " (4, 2),\n",
       " (4, 3),\n",
       " (4, 4),\n",
       " (4, 5),\n",
       " (5, 1),\n",
       " (5, 2),\n",
       " (5, 3),\n",
       " (5, 4),\n",
       " (5, 5)]"
      ]
     },
     "execution_count": 34,
     "metadata": {},
     "output_type": "execute_result"
    }
   ],
   "source": [
    "[(i,j) for i in numbers for j in numbers]"
   ]
  },
  {
   "cell_type": "code",
   "execution_count": 28,
   "id": "cb73fa34-ac91-4331-8856-47842bfd4630",
   "metadata": {},
   "outputs": [
    {
     "name": "stdin",
     "output_type": "stream",
     "text": [
      "Enter the height of triangle 5\n"
     ]
    },
    {
     "name": "stdout",
     "output_type": "stream",
     "text": [
      "*\n",
      "**\n",
      "***\n",
      "****\n",
      "*****\n"
     ]
    }
   ],
   "source": [
    "height = int(input(\"Enter the height of triangle\"))\n",
    "for i in range(1,height+1):\n",
    "    print((height-i)*\" \",end=\"\")\n",
    "    print('*' * i)"
   ]
  },
  {
   "cell_type": "code",
   "execution_count": 29,
   "id": "3de0bc5b-b284-40ee-8f94-dddaae70b98f",
   "metadata": {},
   "outputs": [
    {
     "name": "stdin",
     "output_type": "stream",
     "text": [
      "Enter the height of triangle 5\n"
     ]
    },
    {
     "name": "stdout",
     "output_type": "stream",
     "text": [
      "     *\n",
      "    **\n",
      "   ***\n",
      "  ****\n",
      " *****\n"
     ]
    }
   ],
   "source": [
    "height = int(input(\"Enter the height of triangle\"))\n",
    "for i in range(1,height+1):\n",
    "    print((height-i+1)*\" \",end=\"\")\n",
    "    print('*' * i)"
   ]
  },
  {
   "cell_type": "code",
   "execution_count": 44,
   "id": "01391c76-b460-46c5-9d8a-e73044481957",
   "metadata": {},
   "outputs": [
    {
     "name": "stdin",
     "output_type": "stream",
     "text": [
      "Enter the height of triangle 5\n"
     ]
    },
    {
     "name": "stdout",
     "output_type": "stream",
     "text": [
      "    *\n",
      " ** \n",
      "  ***\n",
      "****\n",
      "*****\n"
     ]
    }
   ],
   "source": [
    "height = int(input(\"Enter the height of triangle\"))\n",
    "for i in range(1,height+1):\n",
    "    if i%2!=0:\n",
    "        print((height-i) * \" \",end=\"\")\n",
    "        print('*' * i)\n",
    "    else:\n",
    "        print(int((height-i)/2) * \" \",end=\"\")\n",
    "        print('*' * i,end=\"\")\n",
    "        print(int((height-i)/2) * \" \")\n",
    "#print((height-i)*\" \")"
   ]
  },
  {
   "cell_type": "code",
   "execution_count": 1,
   "id": "c7fb4024-d95d-44f7-bc58-f71749c19e03",
   "metadata": {},
   "outputs": [
    {
     "name": "stdin",
     "output_type": "stream",
     "text": [
      "Enter the height of triangle 4\n"
     ]
    },
    {
     "name": "stdout",
     "output_type": "stream",
     "text": [
      "   *\n",
      "  **\n",
      " ***\n",
      "****\n"
     ]
    }
   ],
   "source": [
    "height = int(input(\"Enter the height of triangle\"))\n",
    "for i in range(1,height+1):\n",
    "    print((height-i)*\" \",end=\"\")\n",
    "    print('*' * i)"
   ]
  },
  {
   "cell_type": "code",
   "execution_count": null,
   "id": "da07311e-bdfd-4745-8e66-2aa6a47807e0",
   "metadata": {},
   "outputs": [],
   "source": []
  },
  {
   "cell_type": "code",
   "execution_count": null,
   "id": "32c5a764-7265-477f-949a-da90022ab7f5",
   "metadata": {},
   "outputs": [],
   "source": []
  },
  {
   "cell_type": "code",
   "execution_count": null,
   "id": "964664a4-1f06-4d1d-a2a1-025aa17954b3",
   "metadata": {},
   "outputs": [],
   "source": []
  },
  {
   "cell_type": "code",
   "execution_count": null,
   "id": "5060b9ea-bdec-4f0e-bd3f-0f069949f6be",
   "metadata": {},
   "outputs": [],
   "source": []
  },
  {
   "cell_type": "code",
   "execution_count": null,
   "id": "3ca168c8-dd57-443a-9a0f-2016a6fc185e",
   "metadata": {},
   "outputs": [],
   "source": []
  },
  {
   "cell_type": "code",
   "execution_count": null,
   "id": "0d0fde12-d86a-48db-9846-14c0d4b8b6c0",
   "metadata": {},
   "outputs": [],
   "source": []
  },
  {
   "cell_type": "code",
   "execution_count": null,
   "id": "63c3b280-ccc0-473c-bd8d-534930272de7",
   "metadata": {},
   "outputs": [],
   "source": []
  },
  {
   "cell_type": "code",
   "execution_count": null,
   "id": "2cd22162-58e8-41e1-8c2e-2c907dcd298b",
   "metadata": {},
   "outputs": [],
   "source": []
  },
  {
   "cell_type": "code",
   "execution_count": null,
   "id": "c41eef00-d2ab-48ec-a6da-00c968bbb261",
   "metadata": {},
   "outputs": [],
   "source": []
  },
  {
   "cell_type": "code",
   "execution_count": null,
   "id": "1462b18d-8011-4038-97cd-6e61c94d7509",
   "metadata": {},
   "outputs": [],
   "source": []
  },
  {
   "cell_type": "code",
   "execution_count": null,
   "id": "cb6c4082-4bdc-4ede-82d4-77e4e819d033",
   "metadata": {},
   "outputs": [],
   "source": []
  },
  {
   "cell_type": "code",
   "execution_count": null,
   "id": "966bd31c-4d52-4bd1-a7a4-56183343a535",
   "metadata": {},
   "outputs": [],
   "source": []
  },
  {
   "cell_type": "code",
   "execution_count": null,
   "id": "61d1fef0-551b-45e4-893b-1ff271066bd7",
   "metadata": {},
   "outputs": [],
   "source": []
  },
  {
   "cell_type": "code",
   "execution_count": null,
   "id": "dd6c6fe4-8e66-4ee3-b6d1-24d0109098f0",
   "metadata": {},
   "outputs": [],
   "source": []
  }
 ],
 "metadata": {
  "kernelspec": {
   "display_name": "Python 3 (ipykernel)",
   "language": "python",
   "name": "python3"
  },
  "language_info": {
   "codemirror_mode": {
    "name": "ipython",
    "version": 3
   },
   "file_extension": ".py",
   "mimetype": "text/x-python",
   "name": "python",
   "nbconvert_exporter": "python",
   "pygments_lexer": "ipython3",
   "version": "3.10.8"
  }
 },
 "nbformat": 4,
 "nbformat_minor": 5
}

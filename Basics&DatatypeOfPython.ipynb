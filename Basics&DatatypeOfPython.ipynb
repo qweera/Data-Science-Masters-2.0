{
 "cells": [
  {
   "cell_type": "markdown",
   "id": "a948a687-81c7-4768-bf6d-3c02988bd82b",
   "metadata": {},
   "source": [
    "### Basics of Python"
   ]
  },
  {
   "cell_type": "code",
   "execution_count": 4,
   "id": "dbe47c5f-a921-4780-a8e7-75b469275a70",
   "metadata": {},
   "outputs": [
    {
     "name": "stdout",
     "output_type": "stream",
     "text": [
      "87\n"
     ]
    }
   ],
   "source": [
    "print(87)"
   ]
  },
  {
   "cell_type": "code",
   "execution_count": 2,
   "id": "87763040-0039-4488-84f0-1c8b138a7ab7",
   "metadata": {},
   "outputs": [
    {
     "data": {
      "text/html": [
       "<div>\n",
       "<style scoped>\n",
       "    .dataframe tbody tr th:only-of-type {\n",
       "        vertical-align: middle;\n",
       "    }\n",
       "\n",
       "    .dataframe tbody tr th {\n",
       "        vertical-align: top;\n",
       "    }\n",
       "\n",
       "    .dataframe thead th {\n",
       "        text-align: right;\n",
       "    }\n",
       "</style>\n",
       "<table border=\"1\" class=\"dataframe\">\n",
       "  <thead>\n",
       "    <tr style=\"text-align: right;\">\n",
       "      <th></th>\n",
       "      <th>Student</th>\n",
       "      <th>Marks</th>\n",
       "    </tr>\n",
       "  </thead>\n",
       "  <tbody>\n",
       "    <tr>\n",
       "      <th>0</th>\n",
       "      <td>Abhi</td>\n",
       "      <td>95</td>\n",
       "    </tr>\n",
       "    <tr>\n",
       "      <th>1</th>\n",
       "      <td>Gujju</td>\n",
       "      <td>505</td>\n",
       "    </tr>\n",
       "  </tbody>\n",
       "</table>\n",
       "</div>"
      ],
      "text/plain": [
       "  Student  Marks\n",
       "0    Abhi     95\n",
       "1   Gujju    505"
      ]
     },
     "metadata": {},
     "output_type": "display_data"
    },
    {
     "name": "stdout",
     "output_type": "stream",
     "text": [
      "RangeIndex(start=0, stop=2, step=1)\n"
     ]
    }
   ],
   "source": [
    "import pandas as pd\n",
    "dict={\"Student\": [\"Abhi\",\"Gujju\"], \"Marks\":[95,505]}\n",
    "df=pd.DataFrame(dict)\n",
    "display(df)\n",
    "print(df.index)"
   ]
  },
  {
   "cell_type": "code",
   "execution_count": 1,
   "id": "e24d9880-38b5-4d16-923c-b91987f20b24",
   "metadata": {},
   "outputs": [
    {
     "data": {
      "text/html": [
       "<div>\n",
       "<style scoped>\n",
       "    .dataframe tbody tr th:only-of-type {\n",
       "        vertical-align: middle;\n",
       "    }\n",
       "\n",
       "    .dataframe tbody tr th {\n",
       "        vertical-align: top;\n",
       "    }\n",
       "\n",
       "    .dataframe thead th {\n",
       "        text-align: right;\n",
       "    }\n",
       "</style>\n",
       "<table border=\"1\" class=\"dataframe\">\n",
       "  <thead>\n",
       "    <tr style=\"text-align: right;\">\n",
       "      <th></th>\n",
       "      <th>Student</th>\n",
       "      <th>Marks</th>\n",
       "    </tr>\n",
       "  </thead>\n",
       "  <tbody>\n",
       "    <tr>\n",
       "      <th>0</th>\n",
       "      <td>Abbu</td>\n",
       "      <td>75</td>\n",
       "    </tr>\n",
       "    <tr>\n",
       "      <th>1</th>\n",
       "      <td>Komal</td>\n",
       "      <td>55</td>\n",
       "    </tr>\n",
       "  </tbody>\n",
       "</table>\n",
       "</div>"
      ],
      "text/plain": [
       "  Student  Marks\n",
       "0    Abbu     75\n",
       "1   Komal     55"
      ]
     },
     "metadata": {},
     "output_type": "display_data"
    },
    {
     "name": "stdout",
     "output_type": "stream",
     "text": [
      "RangeIndex(start=0, stop=2, step=1)\n"
     ]
    }
   ],
   "source": [
    "import pandas as pd\n",
    "dict={\"Student\": [\"Abbu\",\"Komal\"], \"Marks\":[75,55]}\n",
    "df=pd.DataFrame(dict)\n",
    "display(df)\n",
    "print(df.index)"
   ]
  },
  {
   "cell_type": "code",
   "execution_count": 3,
   "id": "c699d8cf-7bbb-4858-abba-f329bd6e1eea",
   "metadata": {},
   "outputs": [
    {
     "name": "stdout",
     "output_type": "stream",
     "text": [
      "Hello this is my first python code\n"
     ]
    }
   ],
   "source": [
    "print(\"Hello this is my first python code\")"
   ]
  },
  {
   "cell_type": "markdown",
   "id": "ee55b821-13dd-4055-935a-79b0a877df7a",
   "metadata": {},
   "source": [
    "### Datatypes in Python"
   ]
  },
  {
   "cell_type": "code",
   "execution_count": 6,
   "id": "695a3591-3dbe-4acc-9f46-f5374f43560d",
   "metadata": {},
   "outputs": [],
   "source": [
    "st1=\"This is string\""
   ]
  },
  {
   "cell_type": "code",
   "execution_count": 7,
   "id": "e6cfd100-5c0c-4bf8-8f34-b12c368ae701",
   "metadata": {},
   "outputs": [],
   "source": [
    "num1=5"
   ]
  },
  {
   "cell_type": "code",
   "execution_count": 8,
   "id": "d5b951df-81bb-4436-9007-4c8926fed127",
   "metadata": {},
   "outputs": [
    {
     "data": {
      "text/plain": [
       "str"
      ]
     },
     "execution_count": 8,
     "metadata": {},
     "output_type": "execute_result"
    }
   ],
   "source": [
    "type(st1)"
   ]
  },
  {
   "cell_type": "code",
   "execution_count": 9,
   "id": "cd2bffca-65e8-4e8f-ad21-3048ebb54813",
   "metadata": {},
   "outputs": [
    {
     "data": {
      "text/plain": [
       "int"
      ]
     },
     "execution_count": 9,
     "metadata": {},
     "output_type": "execute_result"
    }
   ],
   "source": [
    "type(num1)"
   ]
  },
  {
   "cell_type": "code",
   "execution_count": 10,
   "id": "7487d0b0-4172-4cda-a68d-9530fd512731",
   "metadata": {},
   "outputs": [
    {
     "data": {
      "text/plain": [
       "'This is string5'"
      ]
     },
     "execution_count": 10,
     "metadata": {},
     "output_type": "execute_result"
    }
   ],
   "source": [
    "st1+str(num1)"
   ]
  },
  {
   "cell_type": "code",
   "execution_count": 11,
   "id": "83d8496f-e254-4382-a224-f8e88a1c0f9d",
   "metadata": {},
   "outputs": [
    {
     "name": "stdin",
     "output_type": "stream",
     "text": [
      " 23232\n"
     ]
    }
   ],
   "source": [
    "b=input()"
   ]
  },
  {
   "cell_type": "code",
   "execution_count": 12,
   "id": "778a92a7-0f6a-4429-866d-4a437795b4bc",
   "metadata": {},
   "outputs": [
    {
     "data": {
      "text/plain": [
       "str"
      ]
     },
     "execution_count": 12,
     "metadata": {},
     "output_type": "execute_result"
    }
   ],
   "source": [
    "type(b)"
   ]
  },
  {
   "cell_type": "code",
   "execution_count": 13,
   "id": "7ecb9857-7f79-42d2-a2f6-0714b4e4ee63",
   "metadata": {},
   "outputs": [
    {
     "name": "stdin",
     "output_type": "stream",
     "text": [
      " 3232323\n"
     ]
    }
   ],
   "source": [
    "_aa=int(input())"
   ]
  },
  {
   "cell_type": "code",
   "execution_count": 14,
   "id": "55183368-e2f6-4a19-aa29-920d4f1b4ab6",
   "metadata": {},
   "outputs": [
    {
     "name": "stdin",
     "output_type": "stream",
     "text": [
      " This Is A String\n"
     ]
    },
    {
     "ename": "ValueError",
     "evalue": "invalid literal for int() with base 10: 'This Is A String'",
     "output_type": "error",
     "traceback": [
      "\u001b[0;31m---------------------------------------------------------------------------\u001b[0m",
      "\u001b[0;31mValueError\u001b[0m                                Traceback (most recent call last)",
      "Cell \u001b[0;32mIn[14], line 2\u001b[0m\n\u001b[1;32m      1\u001b[0m \u001b[38;5;66;03m#Will only convert integer values to int\u001b[39;00m\n\u001b[0;32m----> 2\u001b[0m _bb\u001b[38;5;241m=\u001b[39m\u001b[38;5;28;43mint\u001b[39;49m\u001b[43m(\u001b[49m\u001b[38;5;28;43minput\u001b[39;49m\u001b[43m(\u001b[49m\u001b[43m)\u001b[49m\u001b[43m)\u001b[49m\n",
      "\u001b[0;31mValueError\u001b[0m: invalid literal for int() with base 10: 'This Is A String'"
     ]
    }
   ],
   "source": [
    "#Will only convert integer values to int\n",
    "_bb=int(input())"
   ]
  },
  {
   "cell_type": "code",
   "execution_count": 15,
   "id": "0fff9072-6fa1-4cb8-9fa7-ed44a2320230",
   "metadata": {},
   "outputs": [
    {
     "ename": "SyntaxError",
     "evalue": "invalid syntax. Maybe you meant '==' or ':=' instead of '='? (3996883895.py, line 2)",
     "output_type": "error",
     "traceback": [
      "\u001b[0;36m  Cell \u001b[0;32mIn[15], line 2\u001b[0;36m\u001b[0m\n\u001b[0;31m    @kljjjl=8\u001b[0m\n\u001b[0m     ^\u001b[0m\n\u001b[0;31mSyntaxError\u001b[0m\u001b[0;31m:\u001b[0m invalid syntax. Maybe you meant '==' or ':=' instead of '='?\n"
     ]
    }
   ],
   "source": [
    "#Variable declaration is not correct\n",
    "@kljjjl=8"
   ]
  },
  {
   "cell_type": "code",
   "execution_count": null,
   "id": "43fcbbd9-3406-42af-845a-bf58fe310895",
   "metadata": {},
   "outputs": [],
   "source": []
  }
 ],
 "metadata": {
  "kernelspec": {
   "display_name": "Python 3 (ipykernel)",
   "language": "python",
   "name": "python3"
  },
  "language_info": {
   "codemirror_mode": {
    "name": "ipython",
    "version": 3
   },
   "file_extension": ".py",
   "mimetype": "text/x-python",
   "name": "python",
   "nbconvert_exporter": "python",
   "pygments_lexer": "ipython3",
   "version": "3.10.8"
  }
 },
 "nbformat": 4,
 "nbformat_minor": 5
}

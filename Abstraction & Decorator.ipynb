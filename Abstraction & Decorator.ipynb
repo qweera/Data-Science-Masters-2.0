{
 "cells": [
  {
   "cell_type": "markdown",
   "id": "af680d6d-9154-4745-9806-3bfa465ddfb4",
   "metadata": {},
   "source": [
    "### Abstraction"
   ]
  },
  {
   "cell_type": "markdown",
   "id": "51214cad-4e91-4c8e-af54-7fa075286060",
   "metadata": {},
   "source": [
    "##### Abstraction allows you to create a skelton class that will be just a be a blueprint and any other class calling it will be able to give its own defination  "
   ]
  },
  {
   "cell_type": "code",
   "execution_count": 2,
   "id": "b2d11f62-e601-4e53-882c-86afc01168a8",
   "metadata": {},
   "outputs": [],
   "source": [
    "import abc\n",
    "\n",
    "class pwskills:\n",
    "    \n",
    "    @abc.abstractmethod\n",
    "    def student_details(self):\n",
    "        pass\n",
    "    @abc.abstractmethod\n",
    "    def student_assignment(self):\n",
    "        pass\n",
    "    @abc.abstractmethod\n",
    "    def student_marks(self):\n",
    "        pass\n",
    "    "
   ]
  },
  {
   "cell_type": "code",
   "execution_count": 3,
   "id": "3765dcec-c264-43cc-b5cf-c05ecc164365",
   "metadata": {},
   "outputs": [],
   "source": [
    "class data_science(pwskills):\n",
    "    def student_details(self):\n",
    "        return \"This will return the student detail for datascience masters\"\n",
    "    def student_assignment(self):\n",
    "        return \" This will return the student assignment for datascience masters\""
   ]
  },
  {
   "cell_type": "code",
   "execution_count": 4,
   "id": "d97db501-9d6d-4e00-b8f0-05f130fd6d82",
   "metadata": {},
   "outputs": [],
   "source": [
    "class web_development(pwskills):\n",
    "    def student_details(self):\n",
    "        return \"This will return the student details for web development\"\n",
    "    def student_marks(self):\n",
    "        return \"This will return the student marks for web development\""
   ]
  },
  {
   "cell_type": "code",
   "execution_count": 10,
   "id": "92e5b5ee-e97f-4297-8290-f925ddba799d",
   "metadata": {},
   "outputs": [],
   "source": [
    "ds_obj=data_science()"
   ]
  },
  {
   "cell_type": "code",
   "execution_count": 11,
   "id": "749b91af-fb33-463d-818a-0e841ffd51e5",
   "metadata": {},
   "outputs": [
    {
     "data": {
      "text/plain": [
       "' This will return the student assignment for datascience masters'"
      ]
     },
     "execution_count": 11,
     "metadata": {},
     "output_type": "execute_result"
    }
   ],
   "source": [
    "ds_obj.student_assignment()"
   ]
  },
  {
   "cell_type": "code",
   "execution_count": 12,
   "id": "73fa927a-f4ff-447f-b25d-bff7cf1397c2",
   "metadata": {},
   "outputs": [],
   "source": [
    "wd_obj=web_development()"
   ]
  },
  {
   "cell_type": "code",
   "execution_count": 13,
   "id": "5d598acc-1407-4d0c-9d2f-3be01afa2798",
   "metadata": {},
   "outputs": [
    {
     "data": {
      "text/plain": [
       "'This will return the student marks for web development'"
      ]
     },
     "execution_count": 13,
     "metadata": {},
     "output_type": "execute_result"
    }
   ],
   "source": [
    "wd_obj.student_marks()"
   ]
  },
  {
   "cell_type": "code",
   "execution_count": 14,
   "id": "510c93d0-275f-44d2-9fb7-e80bac98b2da",
   "metadata": {},
   "outputs": [],
   "source": [
    "wd_obj.student_assignment()"
   ]
  },
  {
   "cell_type": "markdown",
   "id": "84ba8359-fb98-48dd-80cc-9367eb34c85a",
   "metadata": {},
   "source": [
    "### Decorators"
   ]
  },
  {
   "cell_type": "markdown",
   "id": "9da285f7-db3c-4481-80a0-248cb66ebfed",
   "metadata": {},
   "source": [
    "##### Whenever we want to run a specific function between an another function  "
   ]
  },
  {
   "cell_type": "code",
   "execution_count": 2,
   "id": "c7febaaf-6abf-4608-9c51-48b4689ead80",
   "metadata": {},
   "outputs": [],
   "source": [
    "def test():\n",
    "    print(\"This is the start of the function\")\n",
    "    print(34+55)\n",
    "    print(\"This is the end of the function\")"
   ]
  },
  {
   "cell_type": "code",
   "execution_count": 3,
   "id": "28c44842-aa34-4cd7-87e4-4fd312b92c3b",
   "metadata": {},
   "outputs": [
    {
     "name": "stdout",
     "output_type": "stream",
     "text": [
      "This is the start of the function\n",
      "89\n",
      "This is the end of the function\n"
     ]
    }
   ],
   "source": [
    "test()"
   ]
  },
  {
   "cell_type": "markdown",
   "id": "d0954603-f2b0-4e3c-befa-8510bc5cd4cd",
   "metadata": {},
   "source": [
    "##### Let's suppose for a function we want to call some specific lines at the start and the end, at the middle we want to run different different functions.We need to create decorator function for this. Decorator function will take input as a function argument. My requirement is to print start and end with a function we are going to call."
   ]
  },
  {
   "cell_type": "code",
   "execution_count": 13,
   "id": "4fea06d5-651d-48a4-b6ba-b4d5cf8e471b",
   "metadata": {},
   "outputs": [],
   "source": [
    "def deco(func):\n",
    "    def inner_deco():\n",
    "        print(\"This is the start of the function\")\n",
    "        func()\n",
    "        print(\"This is the end of the function\")\n",
    "    return inner_deco\n",
    "        "
   ]
  },
  {
   "cell_type": "code",
   "execution_count": 14,
   "id": "2d473b22-1937-4ddc-b7c6-ac6c2cfa1856",
   "metadata": {},
   "outputs": [],
   "source": [
    "@deco\n",
    "def test1():\n",
    "    print(55+500)\n",
    "#Whenever @deco is called test1 will be passed at the place of func inside deco method, then it will print the start and then execute the test1 annd then print end"
   ]
  },
  {
   "cell_type": "code",
   "execution_count": 15,
   "id": "4e91cbed-9743-4ce8-8d7d-554c45250ad1",
   "metadata": {},
   "outputs": [
    {
     "name": "stdout",
     "output_type": "stream",
     "text": [
      "This is the start of the function\n",
      "555\n",
      "This is the end of the function\n"
     ]
    }
   ],
   "source": [
    "test1()"
   ]
  },
  {
   "cell_type": "code",
   "execution_count": 23,
   "id": "f3372535-a1be-4949-9926-cc93c8f5f500",
   "metadata": {},
   "outputs": [],
   "source": [
    "import time\n",
    "def timer_test(func):\n",
    "    def timer_test_inner():\n",
    "        start = time.time()\n",
    "        func()\n",
    "        end = time.time()\n",
    "        print(end-start)\n",
    "    return timer_test_inner\n",
    "    "
   ]
  },
  {
   "cell_type": "code",
   "execution_count": 24,
   "id": "c804037a-d09c-4692-8f88-5339aff42619",
   "metadata": {},
   "outputs": [],
   "source": [
    "@timer_test\n",
    "def test2():\n",
    "    print(555+55000)\n",
    "    "
   ]
  },
  {
   "cell_type": "code",
   "execution_count": 25,
   "id": "d858db44-b14f-4aea-82af-266e2267b422",
   "metadata": {},
   "outputs": [
    {
     "name": "stdout",
     "output_type": "stream",
     "text": [
      "55555\n",
      "4.2438507080078125e-05\n"
     ]
    }
   ],
   "source": [
    "test2()"
   ]
  },
  {
   "cell_type": "code",
   "execution_count": 26,
   "id": "799662cb-cd2b-43f1-bcd8-329c30cb0d93",
   "metadata": {},
   "outputs": [],
   "source": [
    "@timer_test\n",
    "def test3():\n",
    "    for i in range(1,5555555):\n",
    "        pass        "
   ]
  },
  {
   "cell_type": "code",
   "execution_count": 27,
   "id": "b47cce46-c749-419b-bdac-6044dc594583",
   "metadata": {},
   "outputs": [
    {
     "name": "stdout",
     "output_type": "stream",
     "text": [
      "0.12195658683776855\n"
     ]
    }
   ],
   "source": [
    "test3()"
   ]
  },
  {
   "cell_type": "code",
   "execution_count": null,
   "id": "a49ac1a8-bb72-43c0-b772-48c5cec14765",
   "metadata": {},
   "outputs": [],
   "source": []
  }
 ],
 "metadata": {
  "kernelspec": {
   "display_name": "Python 3 (ipykernel)",
   "language": "python",
   "name": "python3"
  },
  "language_info": {
   "codemirror_mode": {
    "name": "ipython",
    "version": 3
   },
   "file_extension": ".py",
   "mimetype": "text/x-python",
   "name": "python",
   "nbconvert_exporter": "python",
   "pygments_lexer": "ipython3",
   "version": "3.10.8"
  }
 },
 "nbformat": 4,
 "nbformat_minor": 5
}

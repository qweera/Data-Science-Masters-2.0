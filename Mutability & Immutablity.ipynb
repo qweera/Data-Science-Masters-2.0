{
 "cells": [
  {
   "cell_type": "code",
   "execution_count": 2,
   "id": "0c345129-397d-409b-8836-65ff0ebb8ac8",
   "metadata": {},
   "outputs": [],
   "source": [
    "str1=\"This is a demo string\""
   ]
  },
  {
   "cell_type": "code",
   "execution_count": 6,
   "id": "575ee43b-e23f-4051-b6ef-746121581043",
   "metadata": {},
   "outputs": [
    {
     "data": {
      "text/plain": [
       "'o'"
      ]
     },
     "execution_count": 6,
     "metadata": {},
     "output_type": "execute_result"
    }
   ],
   "source": [
    "str1[-8]"
   ]
  },
  {
   "cell_type": "code",
   "execution_count": 7,
   "id": "4e7d72f9-7048-4099-8d00-5d6bfcd32e13",
   "metadata": {},
   "outputs": [
    {
     "ename": "TypeError",
     "evalue": "'type' object does not support item assignment",
     "output_type": "error",
     "traceback": [
      "\u001b[0;31m---------------------------------------------------------------------------\u001b[0m",
      "\u001b[0;31mTypeError\u001b[0m                                 Traceback (most recent call last)",
      "Cell \u001b[0;32mIn[7], line 1\u001b[0m\n\u001b[0;32m----> 1\u001b[0m \u001b[38;5;28;43mstr\u001b[39;49m\u001b[43m[\u001b[49m\u001b[38;5;241;43m-\u001b[39;49m\u001b[38;5;241;43m8\u001b[39;49m\u001b[43m]\u001b[49m\u001b[38;5;241m=\u001b[39m\u001b[38;5;241m6\u001b[39m\n\u001b[1;32m      2\u001b[0m \u001b[38;5;28mprint\u001b[39m(\u001b[38;5;28mstr\u001b[39m[\u001b[38;5;241m-\u001b[39m\u001b[38;5;241m8\u001b[39m])\n",
      "\u001b[0;31mTypeError\u001b[0m: 'type' object does not support item assignment"
     ]
    }
   ],
   "source": [
    "#String is immutable\n",
    "str[-8]=6\n",
    "print(str[-8])"
   ]
  },
  {
   "cell_type": "code",
   "execution_count": 1,
   "id": "4fd1faca-f687-4ab6-8ef9-c1b24ba985ac",
   "metadata": {},
   "outputs": [],
   "source": [
    "lis1=[2,3,\"karishma\",5+7j,'kweera',[45,55,'pride']]"
   ]
  },
  {
   "cell_type": "code",
   "execution_count": 9,
   "id": "1c6a885f-a850-4047-813f-afbacd400cba",
   "metadata": {},
   "outputs": [
    {
     "data": {
      "text/plain": [
       "2"
      ]
     },
     "execution_count": 9,
     "metadata": {},
     "output_type": "execute_result"
    }
   ],
   "source": [
    "lis1[0]"
   ]
  },
  {
   "cell_type": "code",
   "execution_count": 10,
   "id": "98537e4a-4bdf-40ff-9e93-32c3b68144c7",
   "metadata": {},
   "outputs": [
    {
     "data": {
      "text/plain": [
       "'great'"
      ]
     },
     "execution_count": 10,
     "metadata": {},
     "output_type": "execute_result"
    }
   ],
   "source": [
    "#List is mutable\n",
    "lis1[1]='great'\n",
    "lis1[1]"
   ]
  },
  {
   "cell_type": "code",
   "execution_count": 17,
   "id": "86e3ca22-fcb7-4142-8beb-5ae786b2bde6",
   "metadata": {},
   "outputs": [
    {
     "data": {
      "text/plain": [
       "'cool cool'"
      ]
     },
     "execution_count": 17,
     "metadata": {},
     "output_type": "execute_result"
    }
   ],
   "source": [
    "#List is mutable\n",
    "lis1[5][1]='cool cool'\n",
    "lis1[5][1]"
   ]
  },
  {
   "cell_type": "code",
   "execution_count": null,
   "id": "706ee091-46d1-46ce-9c47-4ad7c3549529",
   "metadata": {},
   "outputs": [],
   "source": []
  }
 ],
 "metadata": {
  "kernelspec": {
   "display_name": "Python 3 (ipykernel)",
   "language": "python",
   "name": "python3"
  },
  "language_info": {
   "codemirror_mode": {
    "name": "ipython",
    "version": 3
   },
   "file_extension": ".py",
   "mimetype": "text/x-python",
   "name": "python",
   "nbconvert_exporter": "python",
   "pygments_lexer": "ipython3",
   "version": "3.10.8"
  }
 },
 "nbformat": 4,
 "nbformat_minor": 5
}

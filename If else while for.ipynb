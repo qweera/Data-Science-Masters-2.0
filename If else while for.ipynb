{
 "cells": [
  {
   "cell_type": "code",
   "execution_count": 3,
   "id": "a5dd638f-1717-4c0b-bd9c-ab4f68db599e",
   "metadata": {},
   "outputs": [],
   "source": [
    "#Condition\n",
    "#When we don't want to use body use pass\n",
    "a=10\n",
    "if a<10:\n",
    "    pass"
   ]
  },
  {
   "cell_type": "code",
   "execution_count": 5,
   "id": "268d2768-a73c-40b6-8689-36916d6ec965",
   "metadata": {},
   "outputs": [],
   "source": [
    "a=11\n",
    "if a<10:\n",
    "    print(\"a is smaller than 10\")"
   ]
  },
  {
   "cell_type": "code",
   "execution_count": 6,
   "id": "401f94cc-a376-491b-91a7-77330cf25de4",
   "metadata": {},
   "outputs": [
    {
     "name": "stdout",
     "output_type": "stream",
     "text": [
      "a is greater than 10\n"
     ]
    }
   ],
   "source": [
    "a=11\n",
    "if a<10:\n",
    "    print(\"a is smaller than 10\")\n",
    "else:\n",
    "    print(\"a is greater than 10\")"
   ]
  },
  {
   "cell_type": "code",
   "execution_count": 9,
   "id": "58d0c00e-1be5-4e87-abd7-9a964e5f8020",
   "metadata": {},
   "outputs": [
    {
     "name": "stdout",
     "output_type": "stream",
     "text": [
      "a is among top 100+\n"
     ]
    }
   ],
   "source": [
    "a=101\n",
    "if a<50:\n",
    "    print(\"a is among top 50 than 10\")\n",
    "elif a>=50 and a<100 :\n",
    "    print(\"a is among top 51 to 100\")\n",
    "else:\n",
    "    print(\"a is among top 100+\")"
   ]
  },
  {
   "cell_type": "code",
   "execution_count": 14,
   "id": "7073d72b-4378-41d4-80e1-bd0c24865c6c",
   "metadata": {},
   "outputs": [
    {
     "name": "stdin",
     "output_type": "stream",
     "text": [
      "Please enter the value for a 87\n"
     ]
    },
    {
     "name": "stdout",
     "output_type": "stream",
     "text": [
      "a is among top 51 to 100\n"
     ]
    }
   ],
   "source": [
    "a=int(input(\"Please enter the value for a\"))\n",
    "if a<50:\n",
    "    print(\"a is among top 50 than 10\")\n",
    "elif a>=50 and a<100 :\n",
    "    print(\"a is among top 51 to 100\")\n",
    "else:\n",
    "    print(\"a is among top 100+\")"
   ]
  },
  {
   "cell_type": "code",
   "execution_count": 16,
   "id": "7f0e9eb0-55c4-4d85-995d-70f7e404c45a",
   "metadata": {},
   "outputs": [
    {
     "name": "stdout",
     "output_type": "stream",
     "text": [
      "1\n",
      "2\n",
      "3\n",
      "4\n",
      "5\n"
     ]
    }
   ],
   "source": [
    "#Loop & while\n",
    "num=6\n",
    "i=1\n",
    "while num>i:\n",
    "    print(i)\n",
    "    i+=1"
   ]
  },
  {
   "cell_type": "code",
   "execution_count": 17,
   "id": "df67c3df-ad35-48e8-af62-5426b2e43ad1",
   "metadata": {},
   "outputs": [
    {
     "name": "stdout",
     "output_type": "stream",
     "text": [
      "1\n",
      "2\n",
      "3\n",
      "4\n",
      "5\n",
      "This statement will be printed once the while loop is completly executed\n"
     ]
    }
   ],
   "source": [
    "num=6\n",
    "i=1\n",
    "while num>i:\n",
    "    print(i)\n",
    "    i+=1\n",
    "else:\n",
    "    print(\"This statement will be printed once the while loop is completly executed\")"
   ]
  },
  {
   "cell_type": "code",
   "execution_count": 22,
   "id": "1e9ab08b-3c41-42e3-ac55-54aa4360b91c",
   "metadata": {},
   "outputs": [
    {
     "name": "stdout",
     "output_type": "stream",
     "text": [
      "1\n",
      "2\n"
     ]
    }
   ],
   "source": [
    "num=6\n",
    "i=1\n",
    "while num>i:\n",
    "    print(i)\n",
    "    i+=1\n",
    "    if i==3:\n",
    "        break\n",
    "else:\n",
    "    print(\"This statement will be printed once the while loop is completly executed\")"
   ]
  },
  {
   "cell_type": "code",
   "execution_count": 1,
   "id": "7f885ecf-8375-44e7-827d-7377eb429f97",
   "metadata": {},
   "outputs": [
    {
     "name": "stdout",
     "output_type": "stream",
     "text": [
      "2\n",
      "4\n",
      "5\n",
      "6\n",
      "This statement will be printed once the while loop is completly executed\n"
     ]
    }
   ],
   "source": [
    "#Continue throws the control back to the outside loop once again and will not execute a code after the continue statement\n",
    "num=6\n",
    "i=1\n",
    "while num>i:\n",
    "    i+=1\n",
    "    if i==3:\n",
    "        continue       \n",
    "    print(i)\n",
    "else:\n",
    "    print(\"This statement will be printed once the while loop is completly executed\")"
   ]
  },
  {
   "cell_type": "code",
   "execution_count": 2,
   "id": "a7f024e1-bc38-4993-b515-7411600c5182",
   "metadata": {},
   "outputs": [],
   "source": [
    "d='This is a Demo for For loop'"
   ]
  },
  {
   "cell_type": "code",
   "execution_count": 3,
   "id": "a6da9636-e23c-46e7-a5be-53d16be0fe9f",
   "metadata": {},
   "outputs": [
    {
     "name": "stdout",
     "output_type": "stream",
     "text": [
      "T\n",
      "h\n",
      "i\n",
      "s\n",
      " \n",
      "i\n",
      "s\n",
      " \n",
      "a\n",
      " \n",
      "D\n",
      "e\n",
      "m\n",
      "o\n",
      " \n",
      "f\n",
      "o\n",
      "r\n",
      " \n",
      "F\n",
      "o\n",
      "r\n",
      " \n",
      "l\n",
      "o\n",
      "o\n",
      "p\n"
     ]
    }
   ],
   "source": [
    "for i in d:\n",
    "    print(i)"
   ]
  },
  {
   "cell_type": "code",
   "execution_count": 6,
   "id": "6acbef80-955a-4f6c-ae9d-569854259797",
   "metadata": {},
   "outputs": [],
   "source": [
    "lists=[34,56,'Demo', 'Monday', 7+7j, True, [2,'happy']]"
   ]
  },
  {
   "cell_type": "code",
   "execution_count": 7,
   "id": "ef9967df-1d46-4e96-9da3-83fabec8a9f9",
   "metadata": {},
   "outputs": [
    {
     "name": "stdout",
     "output_type": "stream",
     "text": [
      "34\n",
      "56\n",
      "Demo\n",
      "Monday\n",
      "(7+7j)\n",
      "True\n",
      "[2, 'happy']\n"
     ]
    }
   ],
   "source": [
    "#for loop\n",
    "for x in lists:\n",
    "    print(x)"
   ]
  },
  {
   "cell_type": "code",
   "execution_count": 8,
   "id": "5be49030-e7d1-4564-98ba-1a0b592ad053",
   "metadata": {},
   "outputs": [
    {
     "name": "stdout",
     "output_type": "stream",
     "text": [
      "34\n",
      "56\n",
      "Demo\n",
      "Monday\n",
      "(7+7j)\n",
      "True\n",
      "[2, 'happy']\n",
      "This is excuted only if the execution of for loop is completed\n"
     ]
    }
   ],
   "source": [
    "for x in lists:\n",
    "    print(x)\n",
    "else:\n",
    "    print(\"This is excuted only if the execution of for loop is completed\")"
   ]
  },
  {
   "cell_type": "code",
   "execution_count": 9,
   "id": "116d06b8-d4a5-4575-86cd-89518553488d",
   "metadata": {},
   "outputs": [
    {
     "name": "stdout",
     "output_type": "stream",
     "text": [
      "34\n",
      "56\n",
      "Demo\n",
      "Monday\n"
     ]
    }
   ],
   "source": [
    "for x in lists:\n",
    "    print(x)\n",
    "    if x==\"Monday\":\n",
    "        break\n",
    "else:\n",
    "    print(\"This is excuted only if the execution of for loop is completed\")"
   ]
  },
  {
   "cell_type": "code",
   "execution_count": 12,
   "id": "144fabf9-7892-4300-a9c8-f22b72f51b18",
   "metadata": {},
   "outputs": [
    {
     "data": {
      "text/plain": [
       "[0, 1, 2, 3, 4, 5, 6, 7, 8, 9]"
      ]
     },
     "execution_count": 12,
     "metadata": {},
     "output_type": "execute_result"
    }
   ],
   "source": [
    "#Range is a generator function\n",
    "list(range(0,10))"
   ]
  },
  {
   "cell_type": "code",
   "execution_count": 1,
   "id": "1a77264d-7c0a-4bd2-9553-1f0736f2c4ca",
   "metadata": {},
   "outputs": [
    {
     "name": "stdout",
     "output_type": "stream",
     "text": [
      "[12, 22, 55]\n"
     ]
    }
   ],
   "source": [
    "mylist=[12,22,55]\n",
    "print(mylist)"
   ]
  },
  {
   "cell_type": "code",
   "execution_count": 2,
   "id": "70ac33d6-4f55-4e30-9ce6-f5d9d8561a69",
   "metadata": {},
   "outputs": [
    {
     "name": "stdout",
     "output_type": "stream",
     "text": [
      "[12, 22, 55, 56]\n"
     ]
    }
   ],
   "source": [
    "mylist.append(56)\n",
    "print(mylist)"
   ]
  },
  {
   "cell_type": "code",
   "execution_count": 3,
   "id": "9bea3722-0ba8-4a87-8609-e666f81fcf24",
   "metadata": {},
   "outputs": [
    {
     "name": "stdout",
     "output_type": "stream",
     "text": [
      "[12, 22, 55, 56]\n"
     ]
    }
   ],
   "source": [
    "print(mylist)"
   ]
  },
  {
   "cell_type": "code",
   "execution_count": 5,
   "id": "a5f0c51d-61c1-4422-b7d6-8d13875b9687",
   "metadata": {},
   "outputs": [
    {
     "name": "stdout",
     "output_type": "stream",
     "text": [
      "56 55\n"
     ]
    }
   ],
   "source": [
    "print(mylist[3], mylist[2])"
   ]
  },
  {
   "cell_type": "code",
   "execution_count": null,
   "id": "e473bd39-faa4-4b3e-97de-d1d71f094ca8",
   "metadata": {},
   "outputs": [],
   "source": []
  }
 ],
 "metadata": {
  "kernelspec": {
   "display_name": "Python 3 (ipykernel)",
   "language": "python",
   "name": "python3"
  },
  "language_info": {
   "codemirror_mode": {
    "name": "ipython",
    "version": 3
   },
   "file_extension": ".py",
   "mimetype": "text/x-python",
   "name": "python",
   "nbconvert_exporter": "python",
   "pygments_lexer": "ipython3",
   "version": "3.10.8"
  }
 },
 "nbformat": 4,
 "nbformat_minor": 5
}

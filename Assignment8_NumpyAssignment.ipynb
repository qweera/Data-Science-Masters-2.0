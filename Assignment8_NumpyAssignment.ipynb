{
 "cells": [
  {
   "cell_type": "markdown",
   "id": "0a44aa69-00c5-46a0-bdde-b4058169eee9",
   "metadata": {},
   "source": [
    "### Assignment 8 : NumpyAssignment"
   ]
  },
  {
   "cell_type": "markdown",
   "id": "188aaa84-0ece-479c-82ac-35babf5b9912",
   "metadata": {},
   "source": [
    "Consider the below code to answer further questions:\n",
    "import numpy as np\n",
    "list_ = [ ‘1’ , ’2’ , ‘3’ , ‘4’ , ‘5’ ]\n",
    "array_list = np.array(object = list_)\n",
    "Q1. Is there any difference in the data type of variables list_ and array_list? If there is then write a code\n",
    "to print the data types of both the variables."
   ]
  },
  {
   "cell_type": "code",
   "execution_count": 2,
   "id": "0553e583-8da7-4e05-9007-b2ad96b2d9c3",
   "metadata": {},
   "outputs": [],
   "source": [
    "import numpy as np"
   ]
  },
  {
   "cell_type": "code",
   "execution_count": 4,
   "id": "d8e5d076-edfe-49c8-aa54-059ecb735d0c",
   "metadata": {},
   "outputs": [],
   "source": [
    "list_ = [ '1' , '2' , '3' , '4' , '5' ]\n",
    "array_list = np.array(object = list_)"
   ]
  },
  {
   "cell_type": "code",
   "execution_count": 11,
   "id": "087b07c1-12dd-494a-badb-823859ca079a",
   "metadata": {},
   "outputs": [
    {
     "name": "stdout",
     "output_type": "stream",
     "text": [
      "<class 'list'>\n",
      "<class 'numpy.ndarray'>\n"
     ]
    }
   ],
   "source": [
    "# Yes there is difference between the datatypes of variables list_ and array_list\n",
    "print(type(list_))          #list_ variable is having \"list\" datatype \n",
    "print(type(array_list))     #array_list variable is \"numpy's nd array\" datatype "
   ]
  },
  {
   "cell_type": "markdown",
   "id": "fc29dbaf-d1f2-4b91-88d7-047ecc6a7cfb",
   "metadata": {},
   "source": [
    "Q2. Write a code to print the data type of each and every element of both the variables list_ and arra_list."
   ]
  },
  {
   "cell_type": "code",
   "execution_count": 12,
   "id": "802c28ae-bda4-4599-b05a-ba8222418bf7",
   "metadata": {},
   "outputs": [
    {
     "name": "stdout",
     "output_type": "stream",
     "text": [
      "<class 'str'>\n",
      "<class 'str'>\n",
      "<class 'str'>\n",
      "<class 'str'>\n",
      "<class 'str'>\n"
     ]
    }
   ],
   "source": [
    "for i in list_:\n",
    "    print(type(i))          #each element of list_ variable is having \"str\" datatype "
   ]
  },
  {
   "cell_type": "code",
   "execution_count": 14,
   "id": "6c9d20dd-65b1-46c0-b9b2-663b73870859",
   "metadata": {},
   "outputs": [
    {
     "name": "stdout",
     "output_type": "stream",
     "text": [
      "<class 'numpy.str_'>\n",
      "<class 'numpy.str_'>\n",
      "<class 'numpy.str_'>\n",
      "<class 'numpy.str_'>\n",
      "<class 'numpy.str_'>\n"
     ]
    }
   ],
   "source": [
    "for i in array_list:\n",
    "    print(type(i))         #each element of array_list variable is \"numpy string\""
   ]
  },
  {
   "cell_type": "code",
   "execution_count": null,
   "id": "5c5a8030-58b2-4551-9d05-f17695fc88e4",
   "metadata": {},
   "outputs": [],
   "source": [
    "Q3. Considering the following changes in the variable, array_list:\n",
    "array_list = np.array(object = list_, dtype = int)\n",
    "Will there be any difference in the data type of the elements present in both the variables, list_ and\n",
    "arra_list? If so then print the data types of each and every element present in both the variables, list_\n",
    "and arra_list."
   ]
  },
  {
   "cell_type": "code",
   "execution_count": 19,
   "id": "0bb26a30-ecf1-45f3-9129-a52a357f667e",
   "metadata": {},
   "outputs": [],
   "source": [
    "list_ = [ '1' , '2' , '3' , '4' , '5' ]\n",
    "array_list = np.array(object = list_, dtype = int)\n",
    "## Yes there is difference between the datatypes of the elements present in both the variables list_ and array_list"
   ]
  },
  {
   "cell_type": "code",
   "execution_count": 20,
   "id": "b74a48d1-93e5-45cb-9e29-27495c938fa6",
   "metadata": {},
   "outputs": [
    {
     "name": "stdout",
     "output_type": "stream",
     "text": [
      "<class 'str'>\n",
      "<class 'str'>\n",
      "<class 'str'>\n",
      "<class 'str'>\n",
      "<class 'str'>\n"
     ]
    }
   ],
   "source": [
    "for i in list_:\n",
    "    print(type(i))      #each element of list_ variable is having \"str\" datatype "
   ]
  },
  {
   "cell_type": "code",
   "execution_count": 21,
   "id": "07775267-a30d-491b-88ed-d889fe36225b",
   "metadata": {},
   "outputs": [
    {
     "name": "stdout",
     "output_type": "stream",
     "text": [
      "<class 'numpy.int64'>\n",
      "<class 'numpy.int64'>\n",
      "<class 'numpy.int64'>\n",
      "<class 'numpy.int64'>\n",
      "<class 'numpy.int64'>\n"
     ]
    }
   ],
   "source": [
    "for i in array_list:\n",
    "    print(type(i))      #each element of array_list variable is \"numpy 64 byte integer\" "
   ]
  },
  {
   "cell_type": "code",
   "execution_count": null,
   "id": "5903774b-5727-44e8-8c53-43f03352cd9a",
   "metadata": {},
   "outputs": [],
   "source": [
    "Consider the below code to answer further questions:\n",
    "import numpy as np\n",
    "num_list = [ [ 1 , 2 , 3 ] , [ 4 , 5 , 6 ] ]\n",
    "num_array = np.array(object = num_list)\n",
    "Q4. Write a code to find the following characteristics of variable, num_array:\n",
    "(i) shape\n",
    "(ii) size"
   ]
  },
  {
   "cell_type": "code",
   "execution_count": 22,
   "id": "ce6bfdf1-237f-469d-a52e-673da20f592d",
   "metadata": {},
   "outputs": [
    {
     "data": {
      "text/plain": [
       "(2, 3)"
      ]
     },
     "execution_count": 22,
     "metadata": {},
     "output_type": "execute_result"
    }
   ],
   "source": [
    "np.shape(num_array)     #dimension of num_array, 2*3 array"
   ]
  },
  {
   "cell_type": "code",
   "execution_count": 23,
   "id": "d1927520-0486-47bf-84ca-2777e80ff7a7",
   "metadata": {},
   "outputs": [
    {
     "data": {
      "text/plain": [
       "6"
      ]
     },
     "execution_count": 23,
     "metadata": {},
     "output_type": "execute_result"
    }
   ],
   "source": [
    "np.size(num_array)      # Total number of elements in the num_array"
   ]
  },
  {
   "cell_type": "code",
   "execution_count": null,
   "id": "4eaba701-74a8-4df3-9476-4dabf41cf9e4",
   "metadata": {},
   "outputs": [],
   "source": [
    "Q5. Write a code to create numpy array of 3*3 matrix containing zeros only, using a numpy array\n",
    "creation function.\n",
    "[Hint: The size of the array will be 9 and the shape will be (3,3).]"
   ]
  },
  {
   "cell_type": "code",
   "execution_count": 28,
   "id": "7cc45713-d209-483b-b034-fa3c254a0212",
   "metadata": {},
   "outputs": [],
   "source": [
    "arr_3D = np.zeros((3,3))"
   ]
  },
  {
   "cell_type": "code",
   "execution_count": 29,
   "id": "94f728b9-143d-4e5a-9146-7366831f1adf",
   "metadata": {},
   "outputs": [
    {
     "name": "stdout",
     "output_type": "stream",
     "text": [
      "9\n",
      "(3, 3)\n"
     ]
    }
   ],
   "source": [
    "print(np.size(arr_3D))\n",
    "print(np.shape(arr_3D))"
   ]
  },
  {
   "cell_type": "code",
   "execution_count": null,
   "id": "af25eb7b-9ead-471b-9a4b-5dfa6c8fb2f7",
   "metadata": {},
   "outputs": [],
   "source": [
    "Q6. Create an identity matrix of shape (5,5) using numpy functions?\n",
    "[Hint: An identity matrix is a matrix containing 1 diagonally and other elements will be 0.]"
   ]
  },
  {
   "cell_type": "code",
   "execution_count": 30,
   "id": "1ab1cd22-a5db-4b80-88b3-59735f59fdcf",
   "metadata": {},
   "outputs": [
    {
     "data": {
      "text/plain": [
       "array([[1., 0., 0., 0., 0.],\n",
       "       [0., 1., 0., 0., 0.],\n",
       "       [0., 0., 1., 0., 0.],\n",
       "       [0., 0., 0., 1., 0.],\n",
       "       [0., 0., 0., 0., 1.]])"
      ]
     },
     "execution_count": 30,
     "metadata": {},
     "output_type": "execute_result"
    }
   ],
   "source": [
    "np.eye(5)"
   ]
  }
 ],
 "metadata": {
  "kernelspec": {
   "display_name": "Python 3 (ipykernel)",
   "language": "python",
   "name": "python3"
  },
  "language_info": {
   "codemirror_mode": {
    "name": "ipython",
    "version": 3
   },
   "file_extension": ".py",
   "mimetype": "text/x-python",
   "name": "python",
   "nbconvert_exporter": "python",
   "pygments_lexer": "ipython3",
   "version": "3.10.8"
  }
 },
 "nbformat": 4,
 "nbformat_minor": 5
}

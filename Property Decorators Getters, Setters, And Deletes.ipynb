{
 "cells": [
  {
   "cell_type": "markdown",
   "id": "c5efa8c6-9416-4654-8b0b-7da4206ac35f",
   "metadata": {},
   "source": [
    "### Property Decorators"
   ]
  },
  {
   "cell_type": "markdown",
   "id": "9ac8f32f-4264-4f60-ae2c-62db296ffc3b",
   "metadata": {},
   "source": [
    "##### __ means private, _ means protected, no under score means function is public"
   ]
  },
  {
   "cell_type": "code",
   "execution_count": 22,
   "id": "e08aa262-04e5-4a3e-bb38-3c5557c53035",
   "metadata": {},
   "outputs": [],
   "source": [
    "class pwskills:\n",
    "    def __init__(self, course_price, course_name):\n",
    "        self.__course_price = course_price\n",
    "        self.course_name = course_name       \n",
    "        \n",
    "    @property           #@property decortor helps us to expose the property of a class to the outer world. If we want to expose the created private/protected variable/method to the outer world, we can make use of @property decorator\n",
    "    def course_price_access(self):\n",
    "        return self.__course_price\n",
    "    \n",
    "    #No one other than the creator will be aware of private variable/methods so only they'll be able to modify them. If in certain conditions we need to grant modify permissions to the users. Setter property is used for that purpose\n",
    "    @course_price_access.setter   #Firstly I'm accessing it then setting it\n",
    "    def course_price_set(self, price):\n",
    "        if price<=5500:\n",
    "            pass\n",
    "        else:\n",
    "            self.__course_price = price\n",
    "            \n",
    "    #Allowing external user to delete the private variable\n",
    "    @course_price_access.deleter\n",
    "    def course_price_del(self):\n",
    "        del self.__course_price\n",
    "    "
   ]
  },
  {
   "cell_type": "code",
   "execution_count": 23,
   "id": "5bc4e6ff-3619-4c9c-80f8-35a635717d85",
   "metadata": {},
   "outputs": [],
   "source": [
    "pw = pwskills(\"5500\",\"Datascience Masters 2.0\")"
   ]
  },
  {
   "cell_type": "code",
   "execution_count": 10,
   "id": "7a68d466-0fa8-4c1f-97da-b1ec819f036e",
   "metadata": {},
   "outputs": [
    {
     "data": {
      "text/plain": [
       "'Datascience Masters 2.0'"
      ]
     },
     "execution_count": 10,
     "metadata": {},
     "output_type": "execute_result"
    }
   ],
   "source": [
    "pw.course_name"
   ]
  },
  {
   "cell_type": "code",
   "execution_count": 11,
   "id": "ee18d936-8272-4a92-91ee-f54c97e36d5d",
   "metadata": {},
   "outputs": [
    {
     "data": {
      "text/plain": [
       "'5500'"
      ]
     },
     "execution_count": 11,
     "metadata": {},
     "output_type": "execute_result"
    }
   ],
   "source": [
    "pw.course_price_access"
   ]
  },
  {
   "cell_type": "code",
   "execution_count": 16,
   "id": "a34ebbef-d662-45e0-9584-f5307a75e6c2",
   "metadata": {},
   "outputs": [],
   "source": [
    "pw.course_price_set = 5500"
   ]
  },
  {
   "cell_type": "code",
   "execution_count": 17,
   "id": "08062ec2-609c-4103-9258-249520743b4e",
   "metadata": {},
   "outputs": [
    {
     "data": {
      "text/plain": [
       "'5500'"
      ]
     },
     "execution_count": 17,
     "metadata": {},
     "output_type": "execute_result"
    }
   ],
   "source": [
    "pw.course_price_access"
   ]
  },
  {
   "cell_type": "code",
   "execution_count": 19,
   "id": "2bf0c496-f116-455b-8c6f-6f948797d73e",
   "metadata": {},
   "outputs": [],
   "source": [
    "pw.course_price_set = 51000         #external user will be able to set the price by this method"
   ]
  },
  {
   "cell_type": "code",
   "execution_count": 20,
   "id": "e9a26eff-6f35-4c1a-90f9-71015822a66e",
   "metadata": {},
   "outputs": [
    {
     "data": {
      "text/plain": [
       "51000"
      ]
     },
     "execution_count": 20,
     "metadata": {},
     "output_type": "execute_result"
    }
   ],
   "source": [
    "pw.course_price_access"
   ]
  },
  {
   "cell_type": "code",
   "execution_count": 13,
   "id": "3ddefd8c-59b2-4480-b87b-0e8799324b49",
   "metadata": {},
   "outputs": [
    {
     "data": {
      "text/plain": [
       "'5500'"
      ]
     },
     "execution_count": 13,
     "metadata": {},
     "output_type": "execute_result"
    }
   ],
   "source": [
    "pw._pwskills__course_price  #only creater can access the private variable as only they will be aware able class name and variables inside the class"
   ]
  },
  {
   "cell_type": "code",
   "execution_count": 24,
   "id": "8184c589-c3c7-4a0d-ac27-cee6c0bab5fb",
   "metadata": {},
   "outputs": [],
   "source": [
    "del pw.course_price_del"
   ]
  },
  {
   "cell_type": "code",
   "execution_count": 25,
   "id": "cabbc066-3fac-45d1-9af3-838dc28cdd9d",
   "metadata": {},
   "outputs": [
    {
     "ename": "AttributeError",
     "evalue": "'pwskills' object has no attribute '_pwskills__course_price'",
     "output_type": "error",
     "traceback": [
      "\u001b[0;31m---------------------------------------------------------------------------\u001b[0m",
      "\u001b[0;31mAttributeError\u001b[0m                            Traceback (most recent call last)",
      "Cell \u001b[0;32mIn[25], line 1\u001b[0m\n\u001b[0;32m----> 1\u001b[0m \u001b[43mpw\u001b[49m\u001b[38;5;241;43m.\u001b[39;49m\u001b[43mcourse_price_access\u001b[49m\n",
      "Cell \u001b[0;32mIn[22], line 8\u001b[0m, in \u001b[0;36mpwskills.course_price_access\u001b[0;34m(self)\u001b[0m\n\u001b[1;32m      6\u001b[0m \u001b[38;5;129m@property\u001b[39m           \u001b[38;5;66;03m# @property decoraor helps us to expose the property of a class to the outer world. If we have to expose the created private/protected variable/method to the outer world, we can make use of @property decorator\u001b[39;00m\n\u001b[1;32m      7\u001b[0m \u001b[38;5;28;01mdef\u001b[39;00m \u001b[38;5;21mcourse_price_access\u001b[39m(\u001b[38;5;28mself\u001b[39m):\n\u001b[0;32m----> 8\u001b[0m     \u001b[38;5;28;01mreturn\u001b[39;00m \u001b[38;5;28;43mself\u001b[39;49m\u001b[38;5;241;43m.\u001b[39;49m\u001b[43m__course_price\u001b[49m\n",
      "\u001b[0;31mAttributeError\u001b[0m: 'pwskills' object has no attribute '_pwskills__course_price'"
     ]
    }
   ],
   "source": [
    "pw.course_price_access               #this will throw an error as the course_price_access is deleted"
   ]
  }
 ],
 "metadata": {
  "kernelspec": {
   "display_name": "Python 3 (ipykernel)",
   "language": "python",
   "name": "python3"
  },
  "language_info": {
   "codemirror_mode": {
    "name": "ipython",
    "version": 3
   },
   "file_extension": ".py",
   "mimetype": "text/x-python",
   "name": "python",
   "nbconvert_exporter": "python",
   "pygments_lexer": "ipython3",
   "version": "3.10.8"
  }
 },
 "nbformat": 4,
 "nbformat_minor": 5
}

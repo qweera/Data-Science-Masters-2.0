{
 "cells": [
  {
   "cell_type": "markdown",
   "id": "e401508a-71bd-4f2d-813d-a6354606d577",
   "metadata": {},
   "source": [
    "### Range generator function"
   ]
  },
  {
   "cell_type": "code",
   "execution_count": 27,
   "id": "cc30a885-fbaa-4f55-a58a-9a810a69ddd4",
   "metadata": {},
   "outputs": [
    {
     "data": {
      "text/plain": [
       "range(1, 10)"
      ]
     },
     "execution_count": 27,
     "metadata": {},
     "output_type": "execute_result"
    }
   ],
   "source": [
    "#The generator function will just return an object, unless we iterate through it while calling it\n",
    "range(1,10)"
   ]
  },
  {
   "cell_type": "code",
   "execution_count": 3,
   "id": "42f8f959-7c00-4dec-8692-48894458d43a",
   "metadata": {},
   "outputs": [
    {
     "name": "stdout",
     "output_type": "stream",
     "text": [
      "1\n",
      "2\n",
      "3\n",
      "4\n",
      "5\n",
      "6\n",
      "7\n",
      "8\n",
      "9\n"
     ]
    }
   ],
   "source": [
    "for i in range(1,10):\n",
    "    print(i)"
   ]
  },
  {
   "cell_type": "code",
   "execution_count": 4,
   "id": "87232e2b-6dfd-4d3b-91e4-3e45dcba42cb",
   "metadata": {},
   "outputs": [],
   "source": [
    "l=[1,2,3,4,5,'PWSkills',[1,2,'1bc']]"
   ]
  },
  {
   "cell_type": "code",
   "execution_count": null,
   "id": "afc603b2-1f73-4577-87ef-3b2cb060fddd",
   "metadata": {},
   "outputs": [],
   "source": [
    "#Generator function is not holding all the data it is printing items one by one, but in case of below function it return only when the whole iteration is completed.  "
   ]
  },
  {
   "cell_type": "code",
   "execution_count": 12,
   "id": "3ef7a2f7-6959-45f6-8382-1e4457af17c6",
   "metadata": {},
   "outputs": [],
   "source": [
    "def test(x):\n",
    "    z=[]\n",
    "    for i in x:\n",
    "        if type(i)==int:\n",
    "            z.append(i)\n",
    "    return z"
   ]
  },
  {
   "cell_type": "code",
   "execution_count": 13,
   "id": "eeefda68-399f-4e33-89ed-287e81a14b22",
   "metadata": {},
   "outputs": [
    {
     "data": {
      "text/plain": [
       "[1, 2, 3, 4, 5]"
      ]
     },
     "execution_count": 13,
     "metadata": {},
     "output_type": "execute_result"
    }
   ],
   "source": [
    "test(l)"
   ]
  },
  {
   "cell_type": "code",
   "execution_count": 14,
   "id": "5dcb5409-9897-480b-834a-72b2a9c24c2b",
   "metadata": {},
   "outputs": [],
   "source": [
    "#We can use yield function in order generate items one by one for a function. So that I didn't end by blocking the whole memory or store it in the memory. Instead of that we'll print item one by one and there is no need to remember the whole data. By this lots of main memory can be saved \n",
    "#Fibonacci is one such example\n",
    "0,1,1,2,3,5,8,13,21,34"
   ]
  },
  {
   "cell_type": "code",
   "execution_count": 20,
   "id": "ef417d28-0bdb-442e-893e-4d11cdf34ed4",
   "metadata": {},
   "outputs": [],
   "source": [
    "def test_fib(n):\n",
    "    a,b=0,1\n",
    "    for i in range(n):\n",
    "        yield a\n",
    "        a,b = b,a+b"
   ]
  },
  {
   "cell_type": "code",
   "execution_count": 21,
   "id": "c70d25d4-c462-4d35-9d94-b98fa7dcbb99",
   "metadata": {},
   "outputs": [
    {
     "data": {
      "text/plain": [
       "<generator object test_fib at 0x7fe76ad2cba0>"
      ]
     },
     "execution_count": 21,
     "metadata": {},
     "output_type": "execute_result"
    }
   ],
   "source": [
    "test_fib(10)"
   ]
  },
  {
   "cell_type": "code",
   "execution_count": 26,
   "id": "e272718d-2399-421c-a66a-1f5343a832f0",
   "metadata": {},
   "outputs": [
    {
     "name": "stdout",
     "output_type": "stream",
     "text": [
      "0\n",
      "1\n",
      "1\n",
      "2\n",
      "3\n",
      "5\n",
      "8\n",
      "13\n",
      "21\n",
      "34\n"
     ]
    }
   ],
   "source": [
    "for i in test_fib(10):\n",
    "    print(i)"
   ]
  },
  {
   "cell_type": "markdown",
   "id": "88d52673-50c7-43b8-aa89-9eff60ed0a6a",
   "metadata": {},
   "source": [
    "### Lambda generator function"
   ]
  },
  {
   "cell_type": "code",
   "execution_count": 29,
   "id": "24b7fcdf-be2a-4581-9e85-b52274d2ed95",
   "metadata": {},
   "outputs": [],
   "source": [
    "n=3\n",
    "p=5"
   ]
  },
  {
   "cell_type": "code",
   "execution_count": 31,
   "id": "98ec8e7c-8ac4-4703-8f56-003781140e83",
   "metadata": {},
   "outputs": [],
   "source": [
    "def power(n,p):\n",
    "    return n**p"
   ]
  },
  {
   "cell_type": "code",
   "execution_count": 32,
   "id": "72ba4303-bca1-4e15-9022-bd94a1a8778b",
   "metadata": {},
   "outputs": [
    {
     "data": {
      "text/plain": [
       "9"
      ]
     },
     "execution_count": 32,
     "metadata": {},
     "output_type": "execute_result"
    }
   ],
   "source": [
    "power(3,2)"
   ]
  },
  {
   "cell_type": "code",
   "execution_count": 33,
   "id": "8f22f365-f854-4b45-aa87-dfde8700ca19",
   "metadata": {},
   "outputs": [
    {
     "data": {
      "text/plain": [
       "<function __main__.<lambda>(n, p)>"
      ]
     },
     "execution_count": 33,
     "metadata": {},
     "output_type": "execute_result"
    }
   ],
   "source": [
    "lambda n,p : n**p"
   ]
  },
  {
   "cell_type": "code",
   "execution_count": 37,
   "id": "d20ddd55-5497-4b44-ae26-7a9bd9fdbc72",
   "metadata": {},
   "outputs": [],
   "source": [
    "power_function= lambda n,p : n**p"
   ]
  },
  {
   "cell_type": "code",
   "execution_count": 38,
   "id": "d89d90ab-8f64-4335-8830-b076be6a5ab3",
   "metadata": {},
   "outputs": [
    {
     "data": {
      "text/plain": [
       "8"
      ]
     },
     "execution_count": 38,
     "metadata": {},
     "output_type": "execute_result"
    }
   ],
   "source": [
    "power_function(2,3)"
   ]
  },
  {
   "cell_type": "code",
   "execution_count": 1,
   "id": "379bde16-2ae9-492a-9ccb-06c3558b95b1",
   "metadata": {},
   "outputs": [],
   "source": [
    "add = lambda x,y: x+y"
   ]
  },
  {
   "cell_type": "code",
   "execution_count": 2,
   "id": "f044241c-9528-4e4b-88c6-92db6113214a",
   "metadata": {},
   "outputs": [
    {
     "data": {
      "text/plain": [
       "100"
      ]
     },
     "execution_count": 2,
     "metadata": {},
     "output_type": "execute_result"
    }
   ],
   "source": [
    "add(55,45)"
   ]
  },
  {
   "cell_type": "code",
   "execution_count": 3,
   "id": "f6d7d299-31c1-4a70-a049-176b30521e6b",
   "metadata": {},
   "outputs": [],
   "source": [
    "c_to_f = lambda c:(9/5)*c+32"
   ]
  },
  {
   "cell_type": "code",
   "execution_count": 4,
   "id": "7e50ad2f-1ad4-4e56-9276-3973f0209c11",
   "metadata": {},
   "outputs": [
    {
     "data": {
      "text/plain": [
       "212.0"
      ]
     },
     "execution_count": 4,
     "metadata": {},
     "output_type": "execute_result"
    }
   ],
   "source": [
    "c_to_f(100)"
   ]
  },
  {
   "cell_type": "code",
   "execution_count": 6,
   "id": "04936e41-8a72-48f9-937a-311188236b8f",
   "metadata": {},
   "outputs": [],
   "source": [
    "#Maxmimum between two numbers\n",
    "max_two = lambda a,b:a if a>b else b"
   ]
  },
  {
   "cell_type": "code",
   "execution_count": 7,
   "id": "c17af930-ce6a-45d7-b001-107514fb6aa5",
   "metadata": {},
   "outputs": [
    {
     "data": {
      "text/plain": [
       "34567"
      ]
     },
     "execution_count": 7,
     "metadata": {},
     "output_type": "execute_result"
    }
   ],
   "source": [
    "max_two(34567,77)"
   ]
  },
  {
   "cell_type": "code",
   "execution_count": 12,
   "id": "43b5ccc1-24cd-4227-9021-1bf82b8f4b8d",
   "metadata": {},
   "outputs": [],
   "source": [
    "#Finding the length of the string using lambda function\n",
    "length_str = lambda string : len(string)"
   ]
  },
  {
   "cell_type": "code",
   "execution_count": 13,
   "id": "1a504d44-9976-4b88-bc1c-5ed4cfca4c7d",
   "metadata": {},
   "outputs": [
    {
     "data": {
      "text/plain": [
       "8"
      ]
     },
     "execution_count": 13,
     "metadata": {},
     "output_type": "execute_result"
    }
   ],
   "source": [
    "length_str('abcdefgh')"
   ]
  },
  {
   "cell_type": "markdown",
   "id": "0d4fd1ed-ba39-46cb-b9d1-c3c5a5af7a17",
   "metadata": {},
   "source": [
    "### Map, Reduce Filter Functions"
   ]
  },
  {
   "cell_type": "code",
   "execution_count": 16,
   "id": "3bbc8433-dab5-4276-bac4-5688b6885d39",
   "metadata": {},
   "outputs": [],
   "source": [
    "l = [1,2,3,4,5,6,7]"
   ]
  },
  {
   "cell_type": "code",
   "execution_count": 17,
   "id": "36f47300-c6cb-43d2-ac0c-eb8a5b296307",
   "metadata": {},
   "outputs": [],
   "source": [
    "# Finding the square of all the numbers in the given list\n",
    "def square_Fun(n):\n",
    "    m=[]\n",
    "    for i in n:\n",
    "        m.append(i**2)\n",
    "    return m\n",
    "        "
   ]
  },
  {
   "cell_type": "code",
   "execution_count": 18,
   "id": "1ea0d41b-6792-41df-a94d-383f56822f2b",
   "metadata": {},
   "outputs": [
    {
     "data": {
      "text/plain": [
       "[1, 4, 9, 16, 25, 36, 49]"
      ]
     },
     "execution_count": 18,
     "metadata": {},
     "output_type": "execute_result"
    }
   ],
   "source": [
    "square_Fun(l)"
   ]
  },
  {
   "cell_type": "code",
   "execution_count": 19,
   "id": "e43dec3f-5488-41bb-bc47-ea98b11b1e01",
   "metadata": {},
   "outputs": [],
   "source": [
    "#The above function can be implemented in a single line using map() function\n",
    "def test_square(x):\n",
    "    return x**2"
   ]
  },
  {
   "cell_type": "code",
   "execution_count": 20,
   "id": "af7dc9b3-44cf-43f7-838c-3db3fb4ee745",
   "metadata": {},
   "outputs": [
    {
     "data": {
      "text/plain": [
       "[1, 4, 9, 16, 25, 36, 49]"
      ]
     },
     "execution_count": 20,
     "metadata": {},
     "output_type": "execute_result"
    }
   ],
   "source": [
    "list(map(test_square,l))"
   ]
  },
  {
   "cell_type": "code",
   "execution_count": 21,
   "id": "c8a688b9-84d6-49c5-8f67-a94a7ba4852d",
   "metadata": {},
   "outputs": [
    {
     "data": {
      "text/plain": [
       "[1, 4, 9, 16, 25, 36, 49]"
      ]
     },
     "execution_count": 21,
     "metadata": {},
     "output_type": "execute_result"
    }
   ],
   "source": [
    "list(map(lambda x:x**2,l))"
   ]
  },
  {
   "cell_type": "code",
   "execution_count": 22,
   "id": "a417e696-db46-49e0-9ecf-6918f06e5d60",
   "metadata": {},
   "outputs": [
    {
     "data": {
      "text/plain": [
       "[11, 12, 13, 14, 15, 16, 17]"
      ]
     },
     "execution_count": 22,
     "metadata": {},
     "output_type": "execute_result"
    }
   ],
   "source": [
    "list(map(lambda x:x+10,l))"
   ]
  },
  {
   "cell_type": "code",
   "execution_count": 23,
   "id": "bdffa943-f810-4081-9b87-bb207a70d015",
   "metadata": {},
   "outputs": [
    {
     "data": {
      "text/plain": [
       "['1', '2', '3', '4', '5', '6', '7']"
      ]
     },
     "execution_count": 23,
     "metadata": {},
     "output_type": "execute_result"
    }
   ],
   "source": [
    "list(map(lambda x:str(x),l))"
   ]
  },
  {
   "cell_type": "code",
   "execution_count": 24,
   "id": "12e4f3f3-3a29-4754-bbbd-f9056f6f80fd",
   "metadata": {},
   "outputs": [],
   "source": [
    "l1 = [10,20,30,40,50,60,70,80,90]\n",
    "l2 = [90,80,70,60,50,40,30,20,10]"
   ]
  },
  {
   "cell_type": "code",
   "execution_count": 28,
   "id": "76c8d687-7534-4c96-ac57-99424197a355",
   "metadata": {},
   "outputs": [
    {
     "data": {
      "text/plain": [
       "[100, 100, 100, 100, 100, 100, 100, 100, 100]"
      ]
     },
     "execution_count": 28,
     "metadata": {},
     "output_type": "execute_result"
    }
   ],
   "source": [
    "#Adding respective item of the two lists\n",
    "list(map(lambda x,y:x+y,l1,l2))"
   ]
  },
  {
   "cell_type": "code",
   "execution_count": 29,
   "id": "e4fb1772-ba3b-4ae1-a51d-535304ffe138",
   "metadata": {},
   "outputs": [],
   "source": [
    "f=lambda x,y:x+y"
   ]
  },
  {
   "cell_type": "code",
   "execution_count": 30,
   "id": "49786920-d433-464d-8ead-35e88f40afc0",
   "metadata": {},
   "outputs": [
    {
     "data": {
      "text/plain": [
       "[100, 100, 100, 100, 100, 100, 100, 100, 100]"
      ]
     },
     "execution_count": 30,
     "metadata": {},
     "output_type": "execute_result"
    }
   ],
   "source": [
    "list(map(f,l1,l2))"
   ]
  },
  {
   "cell_type": "code",
   "execution_count": 31,
   "id": "2fba2868-cd76-480f-a40c-1a4490dbf084",
   "metadata": {},
   "outputs": [],
   "source": [
    "s = \"pwskills\""
   ]
  },
  {
   "cell_type": "code",
   "execution_count": 39,
   "id": "8761697f-d790-4193-a405-871c69b215e3",
   "metadata": {},
   "outputs": [
    {
     "data": {
      "text/plain": [
       "['P', 'W', 'S', 'K', 'I', 'L', 'L', 'S']"
      ]
     },
     "execution_count": 39,
     "metadata": {},
     "output_type": "execute_result"
    }
   ],
   "source": [
    "list(map(lambda x:x.upper(),s))"
   ]
  },
  {
   "cell_type": "markdown",
   "id": "29451200-891a-45d7-acd9-ca68a7f5f2a6",
   "metadata": {},
   "source": [
    "### Reduce Function"
   ]
  },
  {
   "cell_type": "code",
   "execution_count": 41,
   "id": "a4bb6b33-881a-4b54-ae9e-3a06c9cfb153",
   "metadata": {},
   "outputs": [],
   "source": [
    "from functools import reduce"
   ]
  },
  {
   "cell_type": "code",
   "execution_count": 42,
   "id": "50dd429c-f4dc-46e0-b23b-2c39b9296f39",
   "metadata": {},
   "outputs": [],
   "source": [
    "l = [5,6,7,8,9,11]"
   ]
  },
  {
   "cell_type": "code",
   "execution_count": 43,
   "id": "58e6ff67-a425-41c7-95ab-bcce7ca8c394",
   "metadata": {},
   "outputs": [
    {
     "data": {
      "text/plain": [
       "46"
      ]
     },
     "execution_count": 43,
     "metadata": {},
     "output_type": "execute_result"
    }
   ],
   "source": [
    "reduce(lambda x,y:x+y,l)"
   ]
  },
  {
   "cell_type": "code",
   "execution_count": 45,
   "id": "6212fe6b-7ece-4ea7-9677-7cb3642a8c10",
   "metadata": {},
   "outputs": [],
   "source": [
    "def addition(x,y):\n",
    "    return x+y"
   ]
  },
  {
   "cell_type": "code",
   "execution_count": 46,
   "id": "9a90debf-f469-4618-afb4-9005601d28d4",
   "metadata": {},
   "outputs": [
    {
     "data": {
      "text/plain": [
       "46"
      ]
     },
     "execution_count": 46,
     "metadata": {},
     "output_type": "execute_result"
    }
   ],
   "source": [
    "reduce(addition,l)"
   ]
  },
  {
   "cell_type": "code",
   "execution_count": 48,
   "id": "cedba725-1137-403a-a7e6-86d93527f09f",
   "metadata": {},
   "outputs": [
    {
     "ename": "TypeError",
     "evalue": "<lambda>() missing 1 required positional argument: 'z'",
     "output_type": "error",
     "traceback": [
      "\u001b[0;31m---------------------------------------------------------------------------\u001b[0m",
      "\u001b[0;31mTypeError\u001b[0m                                 Traceback (most recent call last)",
      "Cell \u001b[0;32mIn[48], line 1\u001b[0m\n\u001b[0;32m----> 1\u001b[0m \u001b[43mreduce\u001b[49m\u001b[43m(\u001b[49m\u001b[38;5;28;43;01mlambda\u001b[39;49;00m\u001b[43m \u001b[49m\u001b[43mx\u001b[49m\u001b[43m,\u001b[49m\u001b[43my\u001b[49m\u001b[43m,\u001b[49m\u001b[43mz\u001b[49m\u001b[43m:\u001b[49m\u001b[43mx\u001b[49m\u001b[38;5;241;43m+\u001b[39;49m\u001b[43my\u001b[49m\u001b[38;5;241;43m+\u001b[39;49m\u001b[43mz\u001b[49m\u001b[43m,\u001b[49m\u001b[43ml\u001b[49m\u001b[43m)\u001b[49m\n\u001b[1;32m      2\u001b[0m \u001b[38;5;66;03m#So its always better to use only two parameters inside reduce function\u001b[39;00m\n",
      "\u001b[0;31mTypeError\u001b[0m: <lambda>() missing 1 required positional argument: 'z'"
     ]
    }
   ],
   "source": [
    "reduce(lambda x,y,z:x+y+z,l)\n",
    "#So its always better to use only two parameters inside reduce function"
   ]
  },
  {
   "cell_type": "code",
   "execution_count": 51,
   "id": "71e01033-6374-409f-b612-e63ce35f8d54",
   "metadata": {},
   "outputs": [
    {
     "ename": "TypeError",
     "evalue": "reduce() of empty iterable with no initial value",
     "output_type": "error",
     "traceback": [
      "\u001b[0;31m---------------------------------------------------------------------------\u001b[0m",
      "\u001b[0;31mTypeError\u001b[0m                                 Traceback (most recent call last)",
      "Cell \u001b[0;32mIn[51], line 1\u001b[0m\n\u001b[0;32m----> 1\u001b[0m \u001b[43mreduce\u001b[49m\u001b[43m(\u001b[49m\u001b[38;5;28;43;01mlambda\u001b[39;49;00m\u001b[43m \u001b[49m\u001b[43mx\u001b[49m\u001b[43m,\u001b[49m\u001b[43my\u001b[49m\u001b[43m:\u001b[49m\u001b[43mx\u001b[49m\u001b[38;5;241;43m+\u001b[39;49m\u001b[43my\u001b[49m\u001b[43m,\u001b[49m\u001b[43m[\u001b[49m\u001b[43m]\u001b[49m\u001b[43m)\u001b[49m\n\u001b[1;32m      2\u001b[0m \u001b[38;5;66;03m#The reduce function will not be able to process empty list [] whenever passed as input  \u001b[39;00m\n",
      "\u001b[0;31mTypeError\u001b[0m: reduce() of empty iterable with no initial value"
     ]
    }
   ],
   "source": [
    "reduce(lambda x,y:x+y,[])\n",
    "#The reduce function will not be able to process empty list [] whenever passed as input  "
   ]
  },
  {
   "cell_type": "code",
   "execution_count": 52,
   "id": "a538e4e7-46ee-499a-9131-d72ebe729666",
   "metadata": {},
   "outputs": [
    {
     "data": {
      "text/plain": [
       "1"
      ]
     },
     "execution_count": 52,
     "metadata": {},
     "output_type": "execute_result"
    }
   ],
   "source": [
    "#This is an exception for the reduce function as this function is working properly without two parameters\n",
    "reduce(lambda x,y:x+y,[1])"
   ]
  },
  {
   "cell_type": "code",
   "execution_count": 54,
   "id": "f13747f3-ea1f-4575-832c-4456a04b3d9f",
   "metadata": {},
   "outputs": [
    {
     "data": {
      "text/plain": [
       "11"
      ]
     },
     "execution_count": 54,
     "metadata": {},
     "output_type": "execute_result"
    }
   ],
   "source": [
    "#My method\n",
    "reduce(lambda x,y:max(x,y),l)"
   ]
  },
  {
   "cell_type": "code",
   "execution_count": 56,
   "id": "69e3ab04-346b-4be7-b769-1ab08c2227d3",
   "metadata": {},
   "outputs": [
    {
     "data": {
      "text/plain": [
       "11"
      ]
     },
     "execution_count": 56,
     "metadata": {},
     "output_type": "execute_result"
    }
   ],
   "source": [
    "#Sudhanshu's method\n",
    "reduce(lambda x,y:x if x>y else y,l)"
   ]
  },
  {
   "cell_type": "markdown",
   "id": "08de13b7-bb43-4052-b968-bafbffede812",
   "metadata": {},
   "source": [
    "### Filter Function"
   ]
  },
  {
   "cell_type": "code",
   "execution_count": 59,
   "id": "a40dbf8c-a47f-407f-a677-30b9d5f7b8a4",
   "metadata": {},
   "outputs": [
    {
     "data": {
      "text/plain": [
       "[5, 6, 7, 8, 9, 11]"
      ]
     },
     "execution_count": 59,
     "metadata": {},
     "output_type": "execute_result"
    }
   ],
   "source": [
    "l"
   ]
  },
  {
   "cell_type": "code",
   "execution_count": 64,
   "id": "e6bc192d-c8c9-4f6c-b53a-923e2e421b81",
   "metadata": {},
   "outputs": [
    {
     "data": {
      "text/plain": [
       "[6, 8]"
      ]
     },
     "execution_count": 64,
     "metadata": {},
     "output_type": "execute_result"
    }
   ],
   "source": [
    "#Find out just even and odd number from a given list\n",
    "list(filter(lambda x:x%2==0,l))"
   ]
  },
  {
   "cell_type": "code",
   "execution_count": 62,
   "id": "2f45d27a-d71a-45f3-a611-5cfa70c50a0d",
   "metadata": {},
   "outputs": [
    {
     "data": {
      "text/plain": [
       "[5, 7, 9, 11]"
      ]
     },
     "execution_count": 62,
     "metadata": {},
     "output_type": "execute_result"
    }
   ],
   "source": [
    "list(filter(lambda x:x%2!=0,l))"
   ]
  },
  {
   "cell_type": "code",
   "execution_count": 65,
   "id": "1fb871bb-3d23-4f77-8343-b25fd9c1cf78",
   "metadata": {},
   "outputs": [],
   "source": [
    "lis_num = [5,-7,-8,-4,2,0]"
   ]
  },
  {
   "cell_type": "code",
   "execution_count": 69,
   "id": "0ad08db6-ae21-471f-98b6-7f4f767acbe8",
   "metadata": {},
   "outputs": [
    {
     "data": {
      "text/plain": [
       "[5, 2, 0]"
      ]
     },
     "execution_count": 69,
     "metadata": {},
     "output_type": "execute_result"
    }
   ],
   "source": [
    "#Find out positive and negative numbers from a given list\n",
    "list(filter(lambda x:x>=0,lis_num))"
   ]
  },
  {
   "cell_type": "code",
   "execution_count": 70,
   "id": "adf91533-1000-4fc8-876e-249d3d1633e0",
   "metadata": {},
   "outputs": [
    {
     "data": {
      "text/plain": [
       "[-7, -8, -4]"
      ]
     },
     "execution_count": 70,
     "metadata": {},
     "output_type": "execute_result"
    }
   ],
   "source": [
    "list(filter(lambda x:x<0,lis_num))"
   ]
  },
  {
   "cell_type": "code",
   "execution_count": 71,
   "id": "79b4345c-c3a5-4696-b8d0-ae7acc82fe34",
   "metadata": {},
   "outputs": [],
   "source": [
    "l2=[\"kweera\",'datascience',\"himalayas\",'royal_enfiled','house']"
   ]
  },
  {
   "cell_type": "code",
   "execution_count": 74,
   "id": "cb2f1900-7558-4f23-a1cd-62db63d941d7",
   "metadata": {},
   "outputs": [
    {
     "data": {
      "text/plain": [
       "['datascience', 'himalayas', 'royal_enfiled']"
      ]
     },
     "execution_count": 74,
     "metadata": {},
     "output_type": "execute_result"
    }
   ],
   "source": [
    "list(filter(lambda x:len(x)>6,l2))"
   ]
  },
  {
   "cell_type": "code",
   "execution_count": null,
   "id": "ef4b426c-b96a-43b7-bbef-86fd186244fb",
   "metadata": {},
   "outputs": [],
   "source": []
  }
 ],
 "metadata": {
  "kernelspec": {
   "display_name": "Python 3 (ipykernel)",
   "language": "python",
   "name": "python3"
  },
  "language_info": {
   "codemirror_mode": {
    "name": "ipython",
    "version": 3
   },
   "file_extension": ".py",
   "mimetype": "text/x-python",
   "name": "python",
   "nbconvert_exporter": "python",
   "pygments_lexer": "ipython3",
   "version": "3.10.8"
  }
 },
 "nbformat": 4,
 "nbformat_minor": 5
}

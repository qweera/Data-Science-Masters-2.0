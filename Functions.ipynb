{
 "cells": [
  {
   "cell_type": "code",
   "execution_count": 2,
   "id": "08ee13ea-29eb-4947-8571-052f7ba8736b",
   "metadata": {},
   "outputs": [],
   "source": [
    "def test():\n",
    "    pass\n",
    "    "
   ]
  },
  {
   "cell_type": "code",
   "execution_count": 3,
   "id": "5115b383-0694-4728-9402-9cce28cb1acd",
   "metadata": {},
   "outputs": [],
   "source": [
    "#By default print statement's return type is null, it returns none type\n",
    "def test1():\n",
    "    print(\"This is very very first function\")"
   ]
  },
  {
   "cell_type": "code",
   "execution_count": 4,
   "id": "35643bbb-f8fd-41d8-ac50-161ee02189ee",
   "metadata": {},
   "outputs": [
    {
     "name": "stdout",
     "output_type": "stream",
     "text": [
      "This is very very first function\n"
     ]
    }
   ],
   "source": [
    "test1()"
   ]
  },
  {
   "cell_type": "code",
   "execution_count": 5,
   "id": "a9ed5a99-7f19-4100-b200-af3fc4aac9b4",
   "metadata": {},
   "outputs": [
    {
     "name": "stdout",
     "output_type": "stream",
     "text": [
      "This is very very first function\n"
     ]
    },
    {
     "ename": "TypeError",
     "evalue": "unsupported operand type(s) for +: 'NoneType' and 'str'",
     "output_type": "error",
     "traceback": [
      "\u001b[0;31m---------------------------------------------------------------------------\u001b[0m",
      "\u001b[0;31mTypeError\u001b[0m                                 Traceback (most recent call last)",
      "Cell \u001b[0;32mIn[5], line 1\u001b[0m\n\u001b[0;32m----> 1\u001b[0m \u001b[43mtest1\u001b[49m\u001b[43m(\u001b[49m\u001b[43m)\u001b[49m\u001b[43m \u001b[49m\u001b[38;5;241;43m+\u001b[39;49m\u001b[43m \u001b[49m\u001b[38;5;124;43m\"\u001b[39;49m\u001b[38;5;124;43mPWskills\u001b[39;49m\u001b[38;5;124;43m\"\u001b[39;49m\n",
      "\u001b[0;31mTypeError\u001b[0m: unsupported operand type(s) for +: 'NoneType' and 'str'"
     ]
    }
   ],
   "source": [
    "test1() + \"PWskills\""
   ]
  },
  {
   "cell_type": "code",
   "execution_count": 6,
   "id": "fe117d99-76f0-456a-bae2-6676dea64070",
   "metadata": {},
   "outputs": [],
   "source": [
    "#Use return keyword in order to return something, in which we can perform any action. Return will return the original value(datatype) of whatever is mentioned after the return keyword\n",
    "def test2():\n",
    "    return \"This is my function with return\""
   ]
  },
  {
   "cell_type": "code",
   "execution_count": 7,
   "id": "c8c72b24-45cf-4c00-b9d5-fe97a63be2c2",
   "metadata": {},
   "outputs": [
    {
     "data": {
      "text/plain": [
       "'This is my function with return'"
      ]
     },
     "execution_count": 7,
     "metadata": {},
     "output_type": "execute_result"
    }
   ],
   "source": [
    "test2()"
   ]
  },
  {
   "cell_type": "code",
   "execution_count": 1,
   "id": "8a420b0d-c1e7-4bc7-9b68-b7ec133f54ce",
   "metadata": {},
   "outputs": [],
   "source": [
    "#We can get multiple returns from a single function\n",
    "def test3():\n",
    "    return 12, \"PWSkills\", 15.5"
   ]
  },
  {
   "cell_type": "code",
   "execution_count": 2,
   "id": "e768b294-35c9-40c0-b3b7-e34e8d0cf1c4",
   "metadata": {},
   "outputs": [
    {
     "data": {
      "text/plain": [
       "(12, 'PWSkills', 15.5)"
      ]
     },
     "execution_count": 2,
     "metadata": {},
     "output_type": "execute_result"
    }
   ],
   "source": [
    "test3()"
   ]
  },
  {
   "cell_type": "code",
   "execution_count": 8,
   "id": "b44a85e8-78f4-4446-9b05-d3c011a2c676",
   "metadata": {},
   "outputs": [],
   "source": [
    "#Ways to return the similar kinda output as above\n",
    "x = 1,3,5,6"
   ]
  },
  {
   "cell_type": "code",
   "execution_count": 4,
   "id": "ed44e0fa-f4db-42ef-808f-6e12100e0db5",
   "metadata": {},
   "outputs": [
    {
     "data": {
      "text/plain": [
       "(1, 3, 5, 6)"
      ]
     },
     "execution_count": 4,
     "metadata": {},
     "output_type": "execute_result"
    }
   ],
   "source": [
    "x"
   ]
  },
  {
   "cell_type": "code",
   "execution_count": 5,
   "id": "367eec52-871e-44b3-85ac-7914ea75aa67",
   "metadata": {},
   "outputs": [],
   "source": [
    "a,b,c,d = 12,34.5,33,\"PW Skills\""
   ]
  },
  {
   "cell_type": "code",
   "execution_count": 6,
   "id": "1383344c-0a8c-4122-b123-586a884e79c9",
   "metadata": {},
   "outputs": [
    {
     "data": {
      "text/plain": [
       "12"
      ]
     },
     "execution_count": 6,
     "metadata": {},
     "output_type": "execute_result"
    }
   ],
   "source": [
    "a"
   ]
  },
  {
   "cell_type": "code",
   "execution_count": 7,
   "id": "ea9967de-0a30-474c-ae6f-73107534996c",
   "metadata": {},
   "outputs": [
    {
     "data": {
      "text/plain": [
       "'PW Skills'"
      ]
     },
     "execution_count": 7,
     "metadata": {},
     "output_type": "execute_result"
    }
   ],
   "source": [
    "d"
   ]
  },
  {
   "cell_type": "code",
   "execution_count": 9,
   "id": "2ccb940b-030c-4edd-a831-2bd1f17febc7",
   "metadata": {},
   "outputs": [
    {
     "data": {
      "text/plain": [
       "(12, 'PWSkills', 15.5)"
      ]
     },
     "execution_count": 9,
     "metadata": {},
     "output_type": "execute_result"
    }
   ],
   "source": [
    "test3()"
   ]
  },
  {
   "cell_type": "code",
   "execution_count": 10,
   "id": "eba2212d-3612-4bb7-b3a9-3c5369ef04b7",
   "metadata": {},
   "outputs": [
    {
     "data": {
      "text/plain": [
       "12"
      ]
     },
     "execution_count": 10,
     "metadata": {},
     "output_type": "execute_result"
    }
   ],
   "source": [
    "test3()[0]"
   ]
  },
  {
   "cell_type": "code",
   "execution_count": 11,
   "id": "f2ade699-1d6e-4dfa-9f89-34e6be59e041",
   "metadata": {},
   "outputs": [
    {
     "data": {
      "text/plain": [
       "(12, 'PWSkills', 15.5)"
      ]
     },
     "execution_count": 11,
     "metadata": {},
     "output_type": "execute_result"
    }
   ],
   "source": [
    "test3()[:]"
   ]
  },
  {
   "cell_type": "code",
   "execution_count": 13,
   "id": "0b25fe80-0657-4112-89ed-9e4a317c77b0",
   "metadata": {},
   "outputs": [],
   "source": [
    "aa,bb,cc = test3()"
   ]
  },
  {
   "cell_type": "code",
   "execution_count": 14,
   "id": "bee56e77-b393-4ed0-aa15-397a8701df16",
   "metadata": {},
   "outputs": [
    {
     "data": {
      "text/plain": [
       "15.5"
      ]
     },
     "execution_count": 14,
     "metadata": {},
     "output_type": "execute_result"
    }
   ],
   "source": [
    "cc"
   ]
  },
  {
   "cell_type": "code",
   "execution_count": 15,
   "id": "76406e24-0d69-420e-9422-fac2112e6c8a",
   "metadata": {},
   "outputs": [],
   "source": [
    "def test4():\n",
    "    a = 3*4+5\n",
    "    return a"
   ]
  },
  {
   "cell_type": "code",
   "execution_count": 16,
   "id": "02bf1f1c-d6a6-4144-b99d-97dd54cce47a",
   "metadata": {},
   "outputs": [
    {
     "data": {
      "text/plain": [
       "17"
      ]
     },
     "execution_count": 16,
     "metadata": {},
     "output_type": "execute_result"
    }
   ],
   "source": [
    "test4()"
   ]
  },
  {
   "cell_type": "code",
   "execution_count": 18,
   "id": "313e8392-eb31-4d1b-96c9-f64a74c08568",
   "metadata": {},
   "outputs": [
    {
     "data": {
      "text/plain": [
       "int"
      ]
     },
     "execution_count": 18,
     "metadata": {},
     "output_type": "execute_result"
    }
   ],
   "source": [
    "#As the type of 'a' is int so that's why below return type is also integer\n",
    "type(test4())"
   ]
  },
  {
   "cell_type": "code",
   "execution_count": 22,
   "id": "8f4a00af-337c-4f1a-a4de-16aae68f0d3f",
   "metadata": {},
   "outputs": [],
   "source": [
    "def test5(a,b):\n",
    "    c = a + b\n",
    "    return c"
   ]
  },
  {
   "cell_type": "code",
   "execution_count": 23,
   "id": "6c4a4781-6086-475b-9e2a-15427aaa6c6b",
   "metadata": {},
   "outputs": [
    {
     "data": {
      "text/plain": [
       "5"
      ]
     },
     "execution_count": 23,
     "metadata": {},
     "output_type": "execute_result"
    }
   ],
   "source": [
    "test5(1,4)"
   ]
  },
  {
   "cell_type": "code",
   "execution_count": 25,
   "id": "d1456ea2-5f80-4a06-970d-6af4cbdc1df8",
   "metadata": {},
   "outputs": [
    {
     "data": {
      "text/plain": [
       "'KarishmaKweera'"
      ]
     },
     "execution_count": 25,
     "metadata": {},
     "output_type": "execute_result"
    }
   ],
   "source": [
    "test5('Karishma','Kweera')"
   ]
  },
  {
   "cell_type": "code",
   "execution_count": 26,
   "id": "627245a0-5431-4652-bab5-622de970b641",
   "metadata": {},
   "outputs": [
    {
     "data": {
      "text/plain": [
       "[1, 2, 3, 4, 5, 5, 4, 3, 2, 1]"
      ]
     },
     "execution_count": 26,
     "metadata": {},
     "output_type": "execute_result"
    }
   ],
   "source": [
    "test5([1,2,3,4,5],[5,4,3,2,1])"
   ]
  },
  {
   "cell_type": "code",
   "execution_count": 27,
   "id": "0490fd2d-8366-49f6-8792-1cc50990a1ab",
   "metadata": {},
   "outputs": [
    {
     "data": {
      "text/plain": [
       "'KweeraKarishma'"
      ]
     },
     "execution_count": 27,
     "metadata": {},
     "output_type": "execute_result"
    }
   ],
   "source": [
    "test5(b='Karishma',a='Kweera')"
   ]
  },
  {
   "cell_type": "code",
   "execution_count": 44,
   "id": "eed1d6ca-1a3b-4e63-8d99-ffc7e2dacec0",
   "metadata": {},
   "outputs": [],
   "source": [
    "l = [1,2,3,4,5,8.4,\"Krish\", \"PWSkills\",[11,22,33,44,55]]"
   ]
  },
  {
   "cell_type": "code",
   "execution_count": 45,
   "id": "075057fa-c90a-42f2-ad00-80d6949bd414",
   "metadata": {},
   "outputs": [],
   "source": [
    "#Create a function which will take list as a input and give us a final list with all the numeric values"
   ]
  },
  {
   "cell_type": "code",
   "execution_count": 46,
   "id": "a91df317-fb3f-4f58-bc8f-6658eceff429",
   "metadata": {},
   "outputs": [],
   "source": [
    "def test6(x):\n",
    "    t=[]\n",
    "    for i in l:\n",
    "        if type(i)==int or type(i)==float:\n",
    "            t.append(i)\n",
    "    return t"
   ]
  },
  {
   "cell_type": "code",
   "execution_count": 47,
   "id": "5433d852-6349-4978-9878-ff7d7311a522",
   "metadata": {},
   "outputs": [
    {
     "data": {
      "text/plain": [
       "[1, 2, 3, 4, 5, 8.4]"
      ]
     },
     "execution_count": 47,
     "metadata": {},
     "output_type": "execute_result"
    }
   ],
   "source": [
    "test6(l)"
   ]
  },
  {
   "cell_type": "code",
   "execution_count": 33,
   "id": "45a32863-8fe3-4bdd-9961-6af40e865c6b",
   "metadata": {},
   "outputs": [],
   "source": [
    "l2=[]\n",
    "l2.append(14)"
   ]
  },
  {
   "cell_type": "code",
   "execution_count": 34,
   "id": "f163a12f-3f77-4ca1-8574-9f729390671a",
   "metadata": {},
   "outputs": [
    {
     "data": {
      "text/plain": [
       "[14]"
      ]
     },
     "execution_count": 34,
     "metadata": {},
     "output_type": "execute_result"
    }
   ],
   "source": [
    "l2"
   ]
  },
  {
   "cell_type": "code",
   "execution_count": 48,
   "id": "188379ae-289a-4d92-9135-e2ef801327a1",
   "metadata": {},
   "outputs": [],
   "source": [
    "#Create a function which will take list as a input and give us a final list with all the numeric values whether they're inside any other data structure too."
   ]
  },
  {
   "cell_type": "code",
   "execution_count": 54,
   "id": "9b1676dd-1c38-4992-a1a4-523c004bfe4e",
   "metadata": {},
   "outputs": [],
   "source": [
    "def test7(x):\n",
    "    t=[]\n",
    "    for i in l:\n",
    "        if type(i)==int or type(i)==float:\n",
    "                t.append(i)\n",
    "        else:\n",
    "            for j in i:\n",
    "                if type(j)==int or type(j)==float:\n",
    "                    t.append(j)\n",
    "    return t"
   ]
  },
  {
   "cell_type": "code",
   "execution_count": 55,
   "id": "a770c9c7-f844-41b5-a013-baf017855974",
   "metadata": {},
   "outputs": [
    {
     "data": {
      "text/plain": [
       "[1, 2, 3, 4, 5, 8.4, 11, 22, 33, 44, 55]"
      ]
     },
     "execution_count": 55,
     "metadata": {},
     "output_type": "execute_result"
    }
   ],
   "source": [
    "test7(l)"
   ]
  },
  {
   "cell_type": "code",
   "execution_count": 56,
   "id": "ffd00bb2-3625-4e0d-8a8d-b5b9a07f3586",
   "metadata": {},
   "outputs": [],
   "source": [
    "def test8(a,b,c,d,e):\n",
    "    pass"
   ]
  },
  {
   "cell_type": "code",
   "execution_count": 59,
   "id": "e3884b2d-041b-444c-8a5e-6390fc33dfd2",
   "metadata": {},
   "outputs": [],
   "source": [
    "test8(1,2,3,4,5)"
   ]
  },
  {
   "cell_type": "code",
   "execution_count": 60,
   "id": "7362099b-1f3b-4dbe-aaa8-a05db0c82480",
   "metadata": {},
   "outputs": [
    {
     "ename": "TypeError",
     "evalue": "test8() takes 5 positional arguments but 6 were given",
     "output_type": "error",
     "traceback": [
      "\u001b[0;31m---------------------------------------------------------------------------\u001b[0m",
      "\u001b[0;31mTypeError\u001b[0m                                 Traceback (most recent call last)",
      "Cell \u001b[0;32mIn[60], line 1\u001b[0m\n\u001b[0;32m----> 1\u001b[0m \u001b[43mtest8\u001b[49m\u001b[43m(\u001b[49m\u001b[38;5;241;43m1\u001b[39;49m\u001b[43m,\u001b[49m\u001b[38;5;241;43m2\u001b[39;49m\u001b[43m,\u001b[49m\u001b[38;5;241;43m3\u001b[39;49m\u001b[43m,\u001b[49m\u001b[38;5;241;43m4\u001b[39;49m\u001b[43m,\u001b[49m\u001b[38;5;241;43m5\u001b[39;49m\u001b[43m,\u001b[49m\u001b[38;5;241;43m6\u001b[39;49m\u001b[43m)\u001b[49m\n",
      "\u001b[0;31mTypeError\u001b[0m: test8() takes 5 positional arguments but 6 were given"
     ]
    }
   ],
   "source": [
    "#Number of arguments when function is defined should be same as while calling a function\n",
    "test8(1,2,3,4,5,6)"
   ]
  },
  {
   "cell_type": "code",
   "execution_count": 66,
   "id": "9057701b-fb61-42d9-b9c8-ea526534d9f1",
   "metadata": {},
   "outputs": [],
   "source": [
    "#Using args as parameter we can give any number of arguments to a function without any error. 'args' is not a keyword. 'args' will be a tuple.\n",
    "def test9(*args):\n",
    "    return args"
   ]
  },
  {
   "cell_type": "code",
   "execution_count": 64,
   "id": "99f0a4b4-ad52-4f98-aeff-0eedd44e3acc",
   "metadata": {},
   "outputs": [
    {
     "data": {
      "text/plain": [
       "(1, 2, 3, 7)"
      ]
     },
     "execution_count": 64,
     "metadata": {},
     "output_type": "execute_result"
    }
   ],
   "source": [
    "test9(1,2,3,7)"
   ]
  },
  {
   "cell_type": "code",
   "execution_count": 67,
   "id": "cc3da84f-82d0-4dda-bf0e-7441a5b35297",
   "metadata": {},
   "outputs": [],
   "source": [
    "#We can use any word/variable in place of args. With the help of * a function can take any number of arguments as input.\n",
    "def test10(*word):\n",
    "    return word"
   ]
  },
  {
   "cell_type": "code",
   "execution_count": 68,
   "id": "2e9d7d40-74bd-4a68-9b62-68c1a7f75d48",
   "metadata": {},
   "outputs": [
    {
     "data": {
      "text/plain": [
       "(10, 'hello', (1, 2, 3, 7))"
      ]
     },
     "execution_count": 68,
     "metadata": {},
     "output_type": "execute_result"
    }
   ],
   "source": [
    "test10(10,'hello',(1,2,3,7))"
   ]
  },
  {
   "cell_type": "code",
   "execution_count": 69,
   "id": "bd8f940d-2075-4e37-8e71-7fa631aea334",
   "metadata": {},
   "outputs": [],
   "source": [
    "def test11(*args,a):\n",
    "    return args, a"
   ]
  },
  {
   "cell_type": "code",
   "execution_count": 71,
   "id": "bf447d11-ed52-42d3-b330-1bf788048a0c",
   "metadata": {},
   "outputs": [
    {
     "data": {
      "text/plain": [
       "((1, 5, 88, 'hello'), 8.6)"
      ]
     },
     "execution_count": 71,
     "metadata": {},
     "output_type": "execute_result"
    }
   ],
   "source": [
    "test11(1,5,88,'hello', a=8.6)"
   ]
  },
  {
   "cell_type": "code",
   "execution_count": 76,
   "id": "ffd8b91b-c9f5-4d97-94b6-7f3ae88108a7",
   "metadata": {},
   "outputs": [],
   "source": [
    "#Create a function that will take 'n' number of arguments as input and returns just list in output \n",
    "def test12(*args):\n",
    "    m=[]\n",
    "    for i in args:\n",
    "        if type(i)==list:\n",
    "            m.append(i)\n",
    "    return m"
   ]
  },
  {
   "cell_type": "code",
   "execution_count": 83,
   "id": "918d90c8-f5aa-411e-892a-77e8aee38ad1",
   "metadata": {},
   "outputs": [
    {
     "data": {
      "text/plain": [
       "[[4, 'abc'], [11, 22, 33, 44, 55]]"
      ]
     },
     "execution_count": 83,
     "metadata": {},
     "output_type": "execute_result"
    }
   ],
   "source": [
    "test12(1,2,[4,'abc'],8.4,\"Krish\", \"PWSkills\",[11,22,33,44,55])"
   ]
  },
  {
   "cell_type": "code",
   "execution_count": 84,
   "id": "ddf0f16e-b72a-47c1-9471-f4d032d97d3d",
   "metadata": {},
   "outputs": [
    {
     "data": {
      "text/plain": [
       "[]"
      ]
     },
     "execution_count": 84,
     "metadata": {},
     "output_type": "execute_result"
    }
   ],
   "source": [
    "#As pp is tuple\n",
    "pp=(1,2,3,4,5,8.4,\"Krish\", \"PWSkills\",[11,22,33,44,55])\n",
    "test12(pp)"
   ]
  },
  {
   "cell_type": "code",
   "execution_count": 86,
   "id": "997f8421-50d5-4548-aee2-9a729903546c",
   "metadata": {},
   "outputs": [],
   "source": [
    "# **kwargs: denotes that it'll take any number of inputs in form of key and value pair\n",
    "def test13(**kwargs):\n",
    "    return kwargs"
   ]
  },
  {
   "cell_type": "code",
   "execution_count": 87,
   "id": "5c9ea4bb-47dc-406d-a8df-bc253344f5ac",
   "metadata": {},
   "outputs": [
    {
     "data": {
      "text/plain": [
       "{}"
      ]
     },
     "execution_count": 87,
     "metadata": {},
     "output_type": "execute_result"
    }
   ],
   "source": [
    "test13()"
   ]
  },
  {
   "cell_type": "code",
   "execution_count": 88,
   "id": "a7064315-cbab-4c5b-8375-f179598b96c8",
   "metadata": {},
   "outputs": [
    {
     "data": {
      "text/plain": [
       "dict"
      ]
     },
     "execution_count": 88,
     "metadata": {},
     "output_type": "execute_result"
    }
   ],
   "source": [
    "type(test13())"
   ]
  },
  {
   "cell_type": "code",
   "execution_count": 89,
   "id": "7f08835c-e06c-43b1-bf94-b188f66e7b8a",
   "metadata": {},
   "outputs": [
    {
     "data": {
      "text/plain": [
       "{'a': 1,\n",
       " 'b': 'Nainital',\n",
       " 'c': 5.5,\n",
       " 'd': [1, 2, 'abc', (5, 'g')],\n",
       " 'e': (1, 'kweera')}"
      ]
     },
     "execution_count": 89,
     "metadata": {},
     "output_type": "execute_result"
    }
   ],
   "source": [
    "test13(a=1,b='Nainital',c=5.5,d=[1,2,'abc',(5,'g')],e=(1,'kweera'))"
   ]
  },
  {
   "cell_type": "code",
   "execution_count": 107,
   "id": "93cd19a7-1063-4f4f-8c07-33dae130f223",
   "metadata": {},
   "outputs": [],
   "source": [
    "#Just return key value pair when the input's datatype is list\n",
    "def test14(**kwargs):\n",
    "    for i in kwargs.keys():\n",
    "        if type(kwargs[i])==list:\n",
    "            return i,kwargs[i]"
   ]
  },
  {
   "cell_type": "code",
   "execution_count": 108,
   "id": "f5ec31c9-147f-4b54-8e99-18a4f24b6ba3",
   "metadata": {},
   "outputs": [
    {
     "data": {
      "text/plain": [
       "('d', [1, 2, 'abc', (5, 'g')])"
      ]
     },
     "execution_count": 108,
     "metadata": {},
     "output_type": "execute_result"
    }
   ],
   "source": [
    "test14(a=1,b='Nainital',c=5.5,d=[1,2,'abc',(5,'g')],e=(1,'kweera'))"
   ]
  },
  {
   "cell_type": "code",
   "execution_count": 109,
   "id": "f5b39c13-ddd5-456f-a9f3-c55009360248",
   "metadata": {},
   "outputs": [],
   "source": [
    "def test15(*args,**kwargs):\n",
    "    return args, kwargs"
   ]
  },
  {
   "cell_type": "code",
   "execution_count": 110,
   "id": "ad1965a6-f1a2-47bd-a5d5-d248af2dd59f",
   "metadata": {},
   "outputs": [
    {
     "data": {
      "text/plain": [
       "((1, 2, 4), {'a': 'hello', 'b': (1, 'abc')})"
      ]
     },
     "execution_count": 110,
     "metadata": {},
     "output_type": "execute_result"
    }
   ],
   "source": [
    "test15(1,2,4,a='hello',b=(1,'abc'))"
   ]
  },
  {
   "cell_type": "code",
   "execution_count": null,
   "id": "40e0d8c5-5bcc-45eb-84e5-31c2eab027e3",
   "metadata": {},
   "outputs": [],
   "source": []
  }
 ],
 "metadata": {
  "kernelspec": {
   "display_name": "Python 3 (ipykernel)",
   "language": "python",
   "name": "python3"
  },
  "language_info": {
   "codemirror_mode": {
    "name": "ipython",
    "version": 3
   },
   "file_extension": ".py",
   "mimetype": "text/x-python",
   "name": "python",
   "nbconvert_exporter": "python",
   "pygments_lexer": "ipython3",
   "version": "3.10.8"
  }
 },
 "nbformat": 4,
 "nbformat_minor": 5
}

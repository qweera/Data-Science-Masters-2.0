{
 "cells": [
  {
   "cell_type": "markdown",
   "id": "b1c85753-65b7-4a4a-9782-a4b09714be53",
   "metadata": {},
   "source": [
    "### Inheritance"
   ]
  },
  {
   "cell_type": "markdown",
   "id": "48aaa065-2f16-4310-9d11-dd01a297336b",
   "metadata": {},
   "source": [
    "##### A class can inherit the property of another classes or from upper class to a lower class. By this the methodology a child class will be able to call the methods of that are not present inside it, instead they're present in parent class  "
   ]
  },
  {
   "cell_type": "code",
   "execution_count": 1,
   "id": "a4b14870-e964-4d21-b6b3-bf29214c1693",
   "metadata": {},
   "outputs": [],
   "source": [
    "class parent:\n",
    "    \n",
    "    def test_parent(self):\n",
    "        print(\"This is my parent class\")    "
   ]
  },
  {
   "cell_type": "code",
   "execution_count": 2,
   "id": "3163f892-534f-41f1-87bd-d097f090140a",
   "metadata": {},
   "outputs": [],
   "source": [
    "class child(parent):\n",
    "    pass"
   ]
  },
  {
   "cell_type": "code",
   "execution_count": 3,
   "id": "6e971741-38ab-4fdd-a6e8-429e370cd10d",
   "metadata": {},
   "outputs": [],
   "source": [
    "obj_child = child()"
   ]
  },
  {
   "cell_type": "code",
   "execution_count": 4,
   "id": "01882247-3b3f-42bb-b4d7-7587e06a29ac",
   "metadata": {},
   "outputs": [
    {
     "name": "stdout",
     "output_type": "stream",
     "text": [
      "This is my parent class\n"
     ]
    }
   ],
   "source": [
    "obj_child.test_parent()"
   ]
  },
  {
   "cell_type": "markdown",
   "id": "0be27349-e227-4693-ba69-146891c73cdb",
   "metadata": {},
   "source": [
    "##### Multi level and Multiple Inheritence are two types of inheritence in python's OOPs concept"
   ]
  },
  {
   "cell_type": "code",
   "execution_count": 7,
   "id": "739e12eb-c04d-4991-96c7-44eff72310f6",
   "metadata": {},
   "outputs": [],
   "source": [
    "#Multilevel Inheritence Example\n",
    "class class1:\n",
    "    def test_class1(self):\n",
    "        print(\"This is my Class1\")"
   ]
  },
  {
   "cell_type": "code",
   "execution_count": 8,
   "id": "f20f2be3-70d9-4fe8-8fa5-69088da2a9d3",
   "metadata": {},
   "outputs": [],
   "source": [
    "class class2(class1):\n",
    "    def test_class2(self):\n",
    "        print(\"This is my Class2\")"
   ]
  },
  {
   "cell_type": "code",
   "execution_count": 9,
   "id": "7b4be229-9458-4a84-a524-2bf685dd8c01",
   "metadata": {},
   "outputs": [],
   "source": [
    "class class3(class2):\n",
    "    def test_class3(self):\n",
    "        print(\"This is my Class3\")"
   ]
  },
  {
   "cell_type": "code",
   "execution_count": 10,
   "id": "8548fdf0-0aab-4977-94d0-0ee14443ba5c",
   "metadata": {},
   "outputs": [],
   "source": [
    "class3_obj = class3()"
   ]
  },
  {
   "cell_type": "markdown",
   "id": "3c46d003-43d5-4b02-bd75-cabb0b041e24",
   "metadata": {},
   "source": [
    "##### Multilevel Inheritence: Directly class 3 is not inheriting the properties of class1 but as class2 inherits the properties of class1, class3 will be able to access the method of class1"
   ]
  },
  {
   "cell_type": "code",
   "execution_count": 11,
   "id": "64dead60-afa2-4942-8540-cbdc21e514fe",
   "metadata": {},
   "outputs": [
    {
     "name": "stdout",
     "output_type": "stream",
     "text": [
      "This is my Class1\n"
     ]
    }
   ],
   "source": [
    "class3_obj.test_class1()"
   ]
  },
  {
   "cell_type": "code",
   "execution_count": 12,
   "id": "e4957956-a2ea-40a4-b4f1-0810c528549c",
   "metadata": {},
   "outputs": [
    {
     "name": "stdout",
     "output_type": "stream",
     "text": [
      "This is my Class2\n"
     ]
    }
   ],
   "source": [
    "class3_obj.test_class2()"
   ]
  },
  {
   "cell_type": "markdown",
   "id": "13756552-b8a3-4752-862c-6655355182e3",
   "metadata": {},
   "source": [
    "### Multiple Inheritence: A class will be able to inherit from different different classes"
   ]
  },
  {
   "cell_type": "code",
   "execution_count": 23,
   "id": "4230a4fd-15f1-4cfc-8116-f5e5a55c9f27",
   "metadata": {},
   "outputs": [],
   "source": [
    "class class1:\n",
    "    def test_class1(self):\n",
    "        print(\"This is class 1\")"
   ]
  },
  {
   "cell_type": "code",
   "execution_count": 24,
   "id": "0bbb4f3e-bd4b-4546-9fa2-f5322fdc5aca",
   "metadata": {},
   "outputs": [],
   "source": [
    "class class2:\n",
    "    def test_class2(self):\n",
    "        print(\"This is class 2\")"
   ]
  },
  {
   "cell_type": "code",
   "execution_count": 28,
   "id": "27d402be-ea9c-45db-8ef9-8ed7e207295c",
   "metadata": {},
   "outputs": [],
   "source": [
    "class class3(class1,class2):\n",
    "    pass"
   ]
  },
  {
   "cell_type": "code",
   "execution_count": 29,
   "id": "b6293b8d-8268-4be5-b518-85cbc5803fc0",
   "metadata": {},
   "outputs": [],
   "source": [
    "class3_obj=class3()"
   ]
  },
  {
   "cell_type": "code",
   "execution_count": 30,
   "id": "f77c8d57-eadc-4427-bd88-6e569be67d6a",
   "metadata": {},
   "outputs": [
    {
     "name": "stdout",
     "output_type": "stream",
     "text": [
      "This is class 1\n"
     ]
    }
   ],
   "source": [
    "class3_obj.test_class1()"
   ]
  },
  {
   "cell_type": "code",
   "execution_count": 31,
   "id": "f812e462-ff72-4337-890e-56c1743c75f1",
   "metadata": {},
   "outputs": [
    {
     "name": "stdout",
     "output_type": "stream",
     "text": [
      "This is class 2\n"
     ]
    }
   ],
   "source": [
    "class3_obj.test_class2()"
   ]
  }
 ],
 "metadata": {
  "kernelspec": {
   "display_name": "Python 3 (ipykernel)",
   "language": "python",
   "name": "python3"
  },
  "language_info": {
   "codemirror_mode": {
    "name": "ipython",
    "version": 3
   },
   "file_extension": ".py",
   "mimetype": "text/x-python",
   "name": "python",
   "nbconvert_exporter": "python",
   "pygments_lexer": "ipython3",
   "version": "3.10.8"
  }
 },
 "nbformat": 4,
 "nbformat_minor": 5
}

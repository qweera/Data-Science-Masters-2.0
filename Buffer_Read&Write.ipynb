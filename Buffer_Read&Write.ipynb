{
 "cells": [
  {
   "cell_type": "code",
   "execution_count": 1,
   "id": "4c193a1d-c00c-4f97-81e9-25da5bd3b6dd",
   "metadata": {},
   "outputs": [],
   "source": [
    "import io"
   ]
  },
  {
   "cell_type": "code",
   "execution_count": 2,
   "id": "17f545e7-83f3-4f3c-b5fd-abfd2faa61ea",
   "metadata": {},
   "outputs": [],
   "source": [
    "with open(\"test.txt\", 'wb') as f:\n",
    "    file = io.BufferedWriter(f)\n",
    "    file.write(b'Today, Data rules the world. This has resulted in a huge demand for Data Scientists. A Data Scientist helps companies with data-driven decisions, to make their business better.\\n')\n",
    "    file.write(b\"This is the second line of my file.\")\n",
    "    file.flush()"
   ]
  },
  {
   "cell_type": "code",
   "execution_count": 3,
   "id": "66d1cb0e-4bbf-464b-a3a2-5774c0207591",
   "metadata": {},
   "outputs": [
    {
     "name": "stdout",
     "output_type": "stream",
     "text": [
      "b'Today, Data rules the world. This has resulted in a huge demand for Data Scientists. A Data Scientist helps companies with data-driven decisions, to make their business better.\\nThis is the second line of my file.'\n"
     ]
    }
   ],
   "source": [
    "#Reading the whole data from the file\n",
    "with open(\"test.txt\", 'rb') as f:\n",
    "    file = io.BufferedReader(f)\n",
    "    data = file.read()\n",
    "    print(data)"
   ]
  },
  {
   "cell_type": "code",
   "execution_count": 4,
   "id": "03c71303-c093-4f94-a36b-f9f2f4d009cd",
   "metadata": {},
   "outputs": [
    {
     "name": "stdout",
     "output_type": "stream",
     "text": [
      "b'Today, Data rules the world. This has resulted in a huge dem'\n"
     ]
    }
   ],
   "source": [
    "#Reading some specific bytes from the file\n",
    "with open(\"test.txt\", 'rb') as f:\n",
    "    file = io.BufferedReader(f)\n",
    "    data = file.read(60)\n",
    "    print(data)"
   ]
  },
  {
   "cell_type": "code",
   "execution_count": null,
   "id": "5aaa99ab-4622-475f-82df-a6e1e84dab02",
   "metadata": {},
   "outputs": [],
   "source": []
  }
 ],
 "metadata": {
  "kernelspec": {
   "display_name": "Python 3 (ipykernel)",
   "language": "python",
   "name": "python3"
  },
  "language_info": {
   "codemirror_mode": {
    "name": "ipython",
    "version": 3
   },
   "file_extension": ".py",
   "mimetype": "text/x-python",
   "name": "python",
   "nbconvert_exporter": "python",
   "pygments_lexer": "ipython3",
   "version": "3.10.8"
  }
 },
 "nbformat": 4,
 "nbformat_minor": 5
}

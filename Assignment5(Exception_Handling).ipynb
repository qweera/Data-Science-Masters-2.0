{
 "cells": [
  {
   "cell_type": "markdown",
   "id": "68826572-93f8-4046-b644-b1ec15f6f3a5",
   "metadata": {},
   "source": [
    "## Assignment 5: Exception_Handling"
   ]
  },
  {
   "cell_type": "markdown",
   "id": "31fe4746-7586-4cbe-b0fe-20844597f9b1",
   "metadata": {},
   "source": [
    "Q1. What is an Exception in python? Write the difference between Exceptions and syntax errors"
   ]
  },
  {
   "cell_type": "markdown",
   "id": "5919a8db-4822-4576-9dde-3203b345492c",
   "metadata": {},
   "source": [
    "Ans1. Exception are raised due to some internal events that changes the normal flow of the program and these are other than the syntax errors raised after passing syntax error test. When the proper syntax of the language is not followed then syntax errors will be thrown, due to which program will stop the excution. When in the runtime an error occurs after passing the syntax error is called Exception."
   ]
  },
  {
   "cell_type": "code",
   "execution_count": 5,
   "id": "b4be5244-228e-4b14-8266-7cdb028c6014",
   "metadata": {},
   "outputs": [
    {
     "ename": "SyntaxError",
     "evalue": "'(' was never closed (3933612472.py, line 2)",
     "output_type": "error",
     "traceback": [
      "\u001b[0;36m  Cell \u001b[0;32mIn[5], line 2\u001b[0;36m\u001b[0m\n\u001b[0;31m    print(\"This is a syntax error\"    #Syntax error\u001b[0m\n\u001b[0m         ^\u001b[0m\n\u001b[0;31mSyntaxError\u001b[0m\u001b[0;31m:\u001b[0m '(' was never closed\n"
     ]
    }
   ],
   "source": [
    "#Example\n",
    "print(\"This is a syntax error\"    #Syntax error\n",
    "10/0                              #ZeroDivisonError: Exception"
   ]
  },
  {
   "cell_type": "markdown",
   "id": "2e0a589b-7cc9-4124-bd2e-52d91c385cef",
   "metadata": {},
   "source": [
    "Q2. What happens when an exception is not handled? Explain with an example"
   ]
  },
  {
   "cell_type": "markdown",
   "id": "d6212b49-0535-4b6d-8c63-44654cec4195",
   "metadata": {},
   "source": [
    "Ans2. Whenever an exception is not handled an interuption will happen during the normal flow of the program execution and the respective exception error will be thrown in the console. We can handle the exceptions using the try and except block. "
   ]
  },
  {
   "cell_type": "code",
   "execution_count": 9,
   "id": "c14b0aaf-1a77-4fc7-8ac1-51b0ce57dcaf",
   "metadata": {},
   "outputs": [
    {
     "name": "stdout",
     "output_type": "stream",
     "text": [
      "division by zero\n"
     ]
    }
   ],
   "source": [
    "#Example\n",
    "try:\n",
    "    10/0\n",
    "except ZeroDivisionError as e:\n",
    "    print(e)"
   ]
  },
  {
   "cell_type": "markdown",
   "id": "d21a7b15-3d24-4206-988d-61877eb046dd",
   "metadata": {},
   "source": [
    "Q3. Which Python statements are used to catch and handle exceptions? Explain with an example"
   ]
  },
  {
   "cell_type": "markdown",
   "id": "928486cc-2958-4c92-950a-206a499868cc",
   "metadata": {},
   "source": [
    "Ans3. 'try' and 'except' statements are used to catch and handle the exceptions."
   ]
  },
  {
   "cell_type": "code",
   "execution_count": 12,
   "id": "8440d032-da37-4538-9cd6-0ff2a36b3031",
   "metadata": {},
   "outputs": [
    {
     "name": "stdout",
     "output_type": "stream",
     "text": [
      "[Errno 2] No such file or directory: 'demofile.txt'\n"
     ]
    }
   ],
   "source": [
    "#Example\n",
    "try:\n",
    "    with open('demofile.txt','r') as f:\n",
    "        f.read()\n",
    "except FileNotFoundError as e:\n",
    "    print(e)"
   ]
  },
  {
   "cell_type": "markdown",
   "id": "b2f7557c-374a-4e91-bb02-e2ed94b51be4",
   "metadata": {},
   "source": [
    "Q4. Explain with an example:\n",
    "a. try and else\n",
    "b. finally\n",
    "c. raise"
   ]
  },
  {
   "cell_type": "markdown",
   "id": "2b124a0e-09e2-4136-93cc-733c5f733391",
   "metadata": {},
   "source": [
    "##### Ans4:'try' is used to catch an error, a suspected code can be put inside a try block. \n",
    "##### While handling exceptions, else block will get excuted only when try block get executed without any error, otherwise it will not get executed.\n",
    "##### Statement inside finally block will get executed irrespective of we get or we don't get an exception.\n",
    "##### Raise is used in order to throw/show the custom exception handling message from the class made during custom exceptiom handling"
   ]
  },
  {
   "cell_type": "code",
   "execution_count": 58,
   "id": "6986eab4-9275-487d-9044-6560d5ca6d56",
   "metadata": {},
   "outputs": [
    {
     "name": "stdout",
     "output_type": "stream",
     "text": [
      "No error is caught by the try block\n",
      "This block will be always executed\n"
     ]
    }
   ],
   "source": [
    "#Example for try, else, finally without any exception\n",
    "try:\n",
    "    l = [1,2,3,4]\n",
    "    l[2]\n",
    "except IndexError as e:\n",
    "    print(e)\n",
    "else:\n",
    "    print(\"No error is caught by the try block\")\n",
    "finally:\n",
    "    print(\"This block will be always executed\")"
   ]
  },
  {
   "cell_type": "code",
   "execution_count": 59,
   "id": "1ea683ca-197a-4cfe-8130-4241cc2a34f1",
   "metadata": {},
   "outputs": [
    {
     "name": "stdout",
     "output_type": "stream",
     "text": [
      "list index out of range\n",
      "This block will be always executed\n"
     ]
    }
   ],
   "source": [
    "#Example for try, else, finally with an exception\n",
    "try:\n",
    "    l = [1,2,3,4]\n",
    "    l[25]\n",
    "except IndexError as e:\n",
    "    print(e)\n",
    "else:\n",
    "    print(\"No error is caught by the try block\")\n",
    "finally:\n",
    "    print(\"This block will be always executed\")"
   ]
  },
  {
   "cell_type": "code",
   "execution_count": 56,
   "id": "64700224-101f-43c7-819b-fbf2157b0c70",
   "metadata": {},
   "outputs": [],
   "source": [
    "#Example for raise\n",
    "class MyException(Exception):\n",
    "    def __init__(self, value):\n",
    "        self.value = value  "
   ]
  },
  {
   "cell_type": "code",
   "execution_count": 57,
   "id": "53ddcacb-a13e-4a9f-ba17-590eb197f5ae",
   "metadata": {},
   "outputs": [
    {
     "name": "stdout",
     "output_type": "stream",
     "text": [
      "A New Exception occurred, input is not proper 6\n"
     ]
    }
   ],
   "source": [
    "def __str__(self):\n",
    "        return(value)\n",
    "try:\n",
    "    raise(MyException(3*2))\n",
    " \n",
    "except MyException as error:\n",
    "    print('A New Exception occurred, input is not proper', error.value)"
   ]
  },
  {
   "cell_type": "markdown",
   "id": "3af7358f-a57b-4a14-9034-1073373a4c24",
   "metadata": {},
   "source": [
    "Q5. What are Custom Exceptions in python? Why do we need Custom Exceptions? Explain with an example"
   ]
  },
  {
   "cell_type": "markdown",
   "id": "adab5e12-8a26-466b-996f-4fb9ed27d76a",
   "metadata": {},
   "source": [
    "Ans5. Custom exceptions are very different from system exceptions they'll be buisness used case errors that only a user can understand. So for that purpose we create custom exceptions as required. For this we need to create a class. Raise is a resolved keyword that can call our custom class."
   ]
  },
  {
   "cell_type": "code",
   "execution_count": 9,
   "id": "6555cd08-9ed8-4de7-a67b-ce77b62ce1f0",
   "metadata": {},
   "outputs": [],
   "source": [
    "#Name have a validation to have characters greater than 4\n",
    "class validatename(Exception):\n",
    "    def __init__(self, msg):            #This class is responsible for giving us messages/raising exceptions\n",
    "        self.msg = msg\n",
    "def validate_name(name):\n",
    "    if len(name)<5:\n",
    "        raise validatename(\"Name can't have less than 5 characters\")     #raise will be followed by class name\n",
    "    else:\n",
    "        print(\"Name is valid\")"
   ]
  },
  {
   "cell_type": "code",
   "execution_count": 10,
   "id": "692cde99-630c-4540-853b-732010963024",
   "metadata": {},
   "outputs": [
    {
     "name": "stdin",
     "output_type": "stream",
     "text": [
      "Enter your name bhb\n"
     ]
    },
    {
     "name": "stdout",
     "output_type": "stream",
     "text": [
      "Name can't have less than 5 characters\n"
     ]
    }
   ],
   "source": [
    "try:\n",
    "    my_name = input(\"Enter your name\")\n",
    "    validate_name(my_name)\n",
    "except validatename as e:\n",
    "    print(e)"
   ]
  },
  {
   "cell_type": "markdown",
   "id": "51cb70bc-6b90-4df0-b091-49f28861aa9f",
   "metadata": {},
   "source": [
    "Q6. Create custom exception class. Use this class to handle an exception."
   ]
  },
  {
   "cell_type": "code",
   "execution_count": 15,
   "id": "5f07d5a4-4332-405b-83ef-d421c2e81a28",
   "metadata": {},
   "outputs": [],
   "source": [
    "#Ans6\n",
    "import re\n",
    "\n",
    "class validateemail(Exception):\n",
    "    def __init__(self, msg):            #This class is responsible for giving us messages/raising exceptions\n",
    "        self.msg = msg\n",
    "def check(email):\n",
    "    regex = r'\\b[A-Za-z0-9._%+-]+@[A-Za-z0-9.-]+\\.[A-Z|a-z]{2,7}\\b'\n",
    "    if(re.fullmatch(regex, email)):\n",
    "        print(\"This is a Valid Email\") \n",
    "    else:\n",
    "        print(\"This is an Invalid Email\")"
   ]
  },
  {
   "cell_type": "code",
   "execution_count": 16,
   "id": "562152e7-a3c0-498c-a7ff-02c8dfcdc42f",
   "metadata": {},
   "outputs": [
    {
     "name": "stdin",
     "output_type": "stream",
     "text": [
      "Please enter an email address hhh@gmail.com\n"
     ]
    },
    {
     "name": "stdout",
     "output_type": "stream",
     "text": [
      "This is a Valid Email\n"
     ]
    }
   ],
   "source": [
    "try:\n",
    "    email_id=input(\"Please enter an email address\")\n",
    "    check(email_id)\n",
    "except validateemail as e:\n",
    "    print(e)"
   ]
  },
  {
   "cell_type": "code",
   "execution_count": null,
   "id": "1f29d975-3db4-4631-9561-976c036ecd6f",
   "metadata": {},
   "outputs": [],
   "source": []
  }
 ],
 "metadata": {
  "kernelspec": {
   "display_name": "Python 3 (ipykernel)",
   "language": "python",
   "name": "python3"
  },
  "language_info": {
   "codemirror_mode": {
    "name": "ipython",
    "version": 3
   },
   "file_extension": ".py",
   "mimetype": "text/x-python",
   "name": "python",
   "nbconvert_exporter": "python",
   "pygments_lexer": "ipython3",
   "version": "3.10.8"
  }
 },
 "nbformat": 4,
 "nbformat_minor": 5
}

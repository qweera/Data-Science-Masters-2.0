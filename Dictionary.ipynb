{
 "cells": [
  {
   "cell_type": "markdown",
   "id": "55cc85cb-8e27-4162-a84a-c0807e9553bb",
   "metadata": {},
   "source": [
    "### Dictionaries"
   ]
  },
  {
   "cell_type": "code",
   "execution_count": 3,
   "id": "cccd3be0-3643-4d9d-90d4-8fe6e3e876da",
   "metadata": {},
   "outputs": [
    {
     "data": {
      "text/plain": [
       "dict"
      ]
     },
     "execution_count": 3,
     "metadata": {},
     "output_type": "execute_result"
    }
   ],
   "source": [
    "d1={}\n",
    "type(d1)"
   ]
  },
  {
   "cell_type": "code",
   "execution_count": 4,
   "id": "e9369d03-ee60-4ee6-82d7-6cd6bc6d60de",
   "metadata": {},
   "outputs": [],
   "source": [
    "## Value inside a dictionary are stored in key value pairs\n",
    "d2={\"name\":\"Karishma\",\"age\":28,\"E-mail\":\"abc@gmail.com\"}"
   ]
  },
  {
   "cell_type": "code",
   "execution_count": 5,
   "id": "320f56c3-e776-4746-a08c-834330142a62",
   "metadata": {},
   "outputs": [
    {
     "data": {
      "text/plain": [
       "{'name': 'Karishma', 'age': 28, 'E-mail': 'abc@gmail.com'}"
      ]
     },
     "execution_count": 5,
     "metadata": {},
     "output_type": "execute_result"
    }
   ],
   "source": [
    "d2"
   ]
  },
  {
   "cell_type": "code",
   "execution_count": 8,
   "id": "bfa56490-eeb8-4b83-a61d-fadc63e79be6",
   "metadata": {},
   "outputs": [],
   "source": [
    "## Dictionary doesn't allow repetition of keys, if we give two keys with same key name then the key value is updated by the latest one\n",
    "d3={\"name\":\"Karish\", \"name\":\"Karishma\"}"
   ]
  },
  {
   "cell_type": "code",
   "execution_count": 9,
   "id": "98e689d0-70a2-4101-97e0-b556595dcecf",
   "metadata": {},
   "outputs": [
    {
     "data": {
      "text/plain": [
       "{'name': 'Karishma'}"
      ]
     },
     "execution_count": 9,
     "metadata": {},
     "output_type": "execute_result"
    }
   ],
   "source": [
    "d3"
   ]
  },
  {
   "cell_type": "code",
   "execution_count": 12,
   "id": "871c0f14-b2a4-49bd-960c-557dae54c773",
   "metadata": {},
   "outputs": [
    {
     "data": {
      "text/plain": [
       "{12345: 'EmployeeId'}"
      ]
     },
     "execution_count": 12,
     "metadata": {},
     "output_type": "execute_result"
    }
   ],
   "source": [
    "# Key can have datatype as string, integer, float, boolean\n",
    "d4={12345:\"EmployeeId\"}\n",
    "d4"
   ]
  },
  {
   "cell_type": "code",
   "execution_count": 13,
   "id": "5fd4ee4a-fd87-4aa2-825c-8bcdbb4c41ca",
   "metadata": {},
   "outputs": [
    {
     "data": {
      "text/plain": [
       "{123.45: 'Ssn_number'}"
      ]
     },
     "execution_count": 13,
     "metadata": {},
     "output_type": "execute_result"
    }
   ],
   "source": [
    "d5={123.45:\"Ssn_number\"}\n",
    "d5"
   ]
  },
  {
   "cell_type": "code",
   "execution_count": 16,
   "id": "4ee4636b-4652-41d6-a7bd-cfe1fa46f88a",
   "metadata": {},
   "outputs": [
    {
     "data": {
      "text/plain": [
       "{True: 'Script'}"
      ]
     },
     "execution_count": 16,
     "metadata": {},
     "output_type": "execute_result"
    }
   ],
   "source": [
    "d6={True:\"Script\"}\n",
    "d6"
   ]
  },
  {
   "cell_type": "code",
   "execution_count": 17,
   "id": "e5f04b1d-9f62-4d8b-964b-c068c4bf9b29",
   "metadata": {},
   "outputs": [
    {
     "ename": "SyntaxError",
     "evalue": "invalid syntax (3352171237.py, line 2)",
     "output_type": "error",
     "traceback": [
      "\u001b[0;36m  Cell \u001b[0;32mIn[17], line 2\u001b[0;36m\u001b[0m\n\u001b[0;31m    d7={@:'abc'}\u001b[0m\n\u001b[0m        ^\u001b[0m\n\u001b[0;31mSyntaxError\u001b[0m\u001b[0;31m:\u001b[0m invalid syntax\n"
     ]
    }
   ],
   "source": [
    "### We can't take special character, lists as key\n",
    "d7={@:'abc'}"
   ]
  },
  {
   "cell_type": "code",
   "execution_count": 20,
   "id": "73bae231-fc91-4836-81dd-b20e1aa0da4b",
   "metadata": {},
   "outputs": [
    {
     "data": {
      "text/plain": [
       "{'#': 'abc'}"
      ]
     },
     "execution_count": 20,
     "metadata": {},
     "output_type": "execute_result"
    }
   ],
   "source": [
    "#Special character inside quotes, as a string can be taken as key\n",
    "d8={'#':\"abc\"}\n",
    "d8"
   ]
  },
  {
   "cell_type": "code",
   "execution_count": 21,
   "id": "5715249c-e13d-4559-bee3-1c1d74fd0844",
   "metadata": {},
   "outputs": [
    {
     "ename": "TypeError",
     "evalue": "unhashable type: 'list'",
     "output_type": "error",
     "traceback": [
      "\u001b[0;31m---------------------------------------------------------------------------\u001b[0m",
      "\u001b[0;31mTypeError\u001b[0m                                 Traceback (most recent call last)",
      "Cell \u001b[0;32mIn[21], line 1\u001b[0m\n\u001b[0;32m----> 1\u001b[0m d9\u001b[38;5;241m=\u001b[39m{[\u001b[38;5;241m1\u001b[39m,\u001b[38;5;241m2\u001b[39m,\u001b[38;5;124m'\u001b[39m\u001b[38;5;124mabc\u001b[39m\u001b[38;5;124m'\u001b[39m]:\u001b[38;5;124m'\u001b[39m\u001b[38;5;124mname\u001b[39m\u001b[38;5;124m'\u001b[39m}\n",
      "\u001b[0;31mTypeError\u001b[0m: unhashable type: 'list'"
     ]
    }
   ],
   "source": [
    "### Checking for list as a key: Not allowed\n",
    "d9={[1,2,'abc']:'name'}"
   ]
  },
  {
   "cell_type": "code",
   "execution_count": 23,
   "id": "08d24813-82c9-450f-9e24-04053a71b729",
   "metadata": {},
   "outputs": [
    {
     "data": {
      "text/plain": [
       "{('a', 5, 'abc', 5.5): 'name'}"
      ]
     },
     "execution_count": 23,
     "metadata": {},
     "output_type": "execute_result"
    }
   ],
   "source": [
    "### Checking for tuple as a key: allowed\n",
    "d10={('a',5,'abc',5.5):'name'}\n",
    "d10"
   ]
  },
  {
   "cell_type": "code",
   "execution_count": 24,
   "id": "12e87192-a2c3-4709-bd09-626cd2fd319e",
   "metadata": {},
   "outputs": [
    {
     "ename": "TypeError",
     "evalue": "unhashable type: 'set'",
     "output_type": "error",
     "traceback": [
      "\u001b[0;31m---------------------------------------------------------------------------\u001b[0m",
      "\u001b[0;31mTypeError\u001b[0m                                 Traceback (most recent call last)",
      "Cell \u001b[0;32mIn[24], line 2\u001b[0m\n\u001b[1;32m      1\u001b[0m \u001b[38;5;66;03m### Checking for set as a key: Not allowed\u001b[39;00m\n\u001b[0;32m----> 2\u001b[0m d11\u001b[38;5;241m=\u001b[39m{{\u001b[38;5;241m1\u001b[39m,\u001b[38;5;241m2\u001b[39m,\u001b[38;5;124m'\u001b[39m\u001b[38;5;124mkarishma\u001b[39m\u001b[38;5;124m'\u001b[39m}:\u001b[38;5;124m'\u001b[39m\u001b[38;5;124mabcde\u001b[39m\u001b[38;5;124m'\u001b[39m}\n",
      "\u001b[0;31mTypeError\u001b[0m: unhashable type: 'set'"
     ]
    }
   ],
   "source": [
    "### Checking for set as a key: Not allowed\n",
    "d11={{1,2,'karishma'}:'abcde'}"
   ]
  },
  {
   "cell_type": "code",
   "execution_count": 25,
   "id": "360ed02a-50fb-40b3-a912-09f320f8a35a",
   "metadata": {},
   "outputs": [
    {
     "ename": "TypeError",
     "evalue": "unhashable type: 'dict'",
     "output_type": "error",
     "traceback": [
      "\u001b[0;31m---------------------------------------------------------------------------\u001b[0m",
      "\u001b[0;31mTypeError\u001b[0m                                 Traceback (most recent call last)",
      "Cell \u001b[0;32mIn[25], line 2\u001b[0m\n\u001b[1;32m      1\u001b[0m \u001b[38;5;66;03m### Checking for dictionary as a key: Not allowed\u001b[39;00m\n\u001b[0;32m----> 2\u001b[0m d11\u001b[38;5;241m=\u001b[39m{{\u001b[38;5;124m'\u001b[39m\u001b[38;5;124mname\u001b[39m\u001b[38;5;124m'\u001b[39m:\u001b[38;5;124m'\u001b[39m\u001b[38;5;124mkarishma\u001b[39m\u001b[38;5;124m'\u001b[39m}:\u001b[38;5;124m'\u001b[39m\u001b[38;5;124mThisIsDictionaryValue\u001b[39m\u001b[38;5;124m'\u001b[39m}\n",
      "\u001b[0;31mTypeError\u001b[0m: unhashable type: 'dict'"
     ]
    }
   ],
   "source": [
    "### Checking for dictionary as a key: Not allowed\n",
    "d11={{'name':'karishma'}:'ThisIsDictionaryValue'}"
   ]
  },
  {
   "cell_type": "code",
   "execution_count": 30,
   "id": "0a0aaf31-bbb5-4813-b014-6c19c3c5a833",
   "metadata": {},
   "outputs": [
    {
     "data": {
      "text/plain": [
       "' Key of a dictionary should be unique. \\nIt will not allow special characters as input(inside the string that is allowed)\\nFrom lists,set,tuples,dictionary just tuples can be taken as a key'"
      ]
     },
     "execution_count": 30,
     "metadata": {},
     "output_type": "execute_result"
    }
   ],
   "source": [
    "\"\"\" Key of a dictionary should be unique. \n",
    "It will not allow special characters as input(inside the string that is allowed)\n",
    "From lists,set,tuples,dictionary just tuples can be taken as a key\"\"\""
   ]
  },
  {
   "cell_type": "code",
   "execution_count": 34,
   "id": "d53cafc5-520f-4258-af72-180faa151914",
   "metadata": {},
   "outputs": [
    {
     "data": {
      "text/plain": [
       "{'course_name': ['DSA masters', 'Java Programming', 555]}"
      ]
     },
     "execution_count": 34,
     "metadata": {},
     "output_type": "execute_result"
    }
   ],
   "source": [
    "## For value list is allow \n",
    "d12={\"course_name\": [\"DSA masters\", 'Java Programming', 555]}\n",
    "d12"
   ]
  },
  {
   "cell_type": "code",
   "execution_count": 36,
   "id": "34e49948-ca51-476a-90bb-a23ebc1ad9ee",
   "metadata": {},
   "outputs": [
    {
     "data": {
      "text/plain": [
       "{'key': (1, 'abc', 15.5)}"
      ]
     },
     "execution_count": 36,
     "metadata": {},
     "output_type": "execute_result"
    }
   ],
   "source": [
    "## For value tuple is allow\n",
    "d13={\"key\":(1,'abc',15.5)}\n",
    "d13"
   ]
  },
  {
   "cell_type": "code",
   "execution_count": 37,
   "id": "b821013e-3456-4f2e-a616-f905ca547494",
   "metadata": {},
   "outputs": [
    {
     "data": {
      "text/plain": [
       "{'key': {1, 15.5, 'abc'}}"
      ]
     },
     "execution_count": 37,
     "metadata": {},
     "output_type": "execute_result"
    }
   ],
   "source": [
    "## For value set is allow \n",
    "d14={\"key\":{1,'abc',15.5}}\n",
    "d14"
   ]
  },
  {
   "cell_type": "code",
   "execution_count": 42,
   "id": "eb9c1820-e281-4a8c-92b8-db1c5b702c78",
   "metadata": {},
   "outputs": [
    {
     "data": {
      "text/plain": [
       "{'key': {1: 'abc', 15.5: (1, 2, 3, 5)}}"
      ]
     },
     "execution_count": 42,
     "metadata": {},
     "output_type": "execute_result"
    }
   ],
   "source": [
    "## For value dictionary is allow,this is known as nested dictionary\n",
    "d15={\"key\":{1:'abc',15.5:(1,2,3,5)}}\n",
    "d15"
   ]
  },
  {
   "cell_type": "code",
   "execution_count": 1,
   "id": "14955cac-acb2-408e-a695-a6434880b90c",
   "metadata": {},
   "outputs": [
    {
     "data": {
      "text/plain": [
       "{'batch_name': ['data science masters', 'devops', 'JDS'],\n",
       " 'start_date': (28, 14, 7),\n",
       " 'Mentor_name': {'krishna', 'mohan', 'ram', 'shyam'}}"
      ]
     },
     "execution_count": 1,
     "metadata": {},
     "output_type": "execute_result"
    }
   ],
   "source": [
    "d16={'batch_name':['data science masters','devops','JDS'],\"start_date\":(28,14,7),'Mentor_name':{'ram','shyam','mohan','krishna'}}\n",
    "d16"
   ]
  },
  {
   "cell_type": "code",
   "execution_count": 2,
   "id": "c1d23518-aec0-44bf-a63d-2c23dda513c6",
   "metadata": {},
   "outputs": [
    {
     "data": {
      "text/plain": [
       "{'batch_name': ['data science masters', 'devops', 'JDS'],\n",
       " 'start_date': (28, 14, 7),\n",
       " 'Mentor_name': {'krishna', 'mohan', 'ram', 'shyam'},\n",
       " 'timing': (5, 5, 5)}"
      ]
     },
     "execution_count": 2,
     "metadata": {},
     "output_type": "execute_result"
    }
   ],
   "source": [
    "#Adding a new key value pair in the dictionary\n",
    "d16['timing']=(5,5,5)\n",
    "d16"
   ]
  },
  {
   "cell_type": "code",
   "execution_count": 3,
   "id": "98290aad-3113-4389-abec-eea4be00a157",
   "metadata": {},
   "outputs": [
    {
     "data": {
      "text/plain": [
       "['data science masters', 'devops', 'JDS']"
      ]
     },
     "execution_count": 3,
     "metadata": {},
     "output_type": "execute_result"
    }
   ],
   "source": [
    "d16['batch_name']"
   ]
  },
  {
   "cell_type": "code",
   "execution_count": 49,
   "id": "1b9397dc-1b10-419a-b429-ecf2543243b3",
   "metadata": {},
   "outputs": [
    {
     "data": {
      "text/plain": [
       "set"
      ]
     },
     "execution_count": 49,
     "metadata": {},
     "output_type": "execute_result"
    }
   ],
   "source": [
    "type(d16[\"Mentor_name\"])"
   ]
  },
  {
   "cell_type": "code",
   "execution_count": 51,
   "id": "0f614de8-6446-4c2c-8350-89a8d2d2729e",
   "metadata": {},
   "outputs": [
    {
     "ename": "KeyError",
     "evalue": "'key'",
     "output_type": "error",
     "traceback": [
      "\u001b[0;31m---------------------------------------------------------------------------\u001b[0m",
      "\u001b[0;31mKeyError\u001b[0m                                  Traceback (most recent call last)",
      "Cell \u001b[0;32mIn[51], line 2\u001b[0m\n\u001b[1;32m      1\u001b[0m \u001b[38;5;66;03m##If a key is not present in the dictionary, we'll get keyerror\u001b[39;00m\n\u001b[0;32m----> 2\u001b[0m \u001b[43md16\u001b[49m\u001b[43m[\u001b[49m\u001b[38;5;124;43m'\u001b[39;49m\u001b[38;5;124;43mkey\u001b[39;49m\u001b[38;5;124;43m'\u001b[39;49m\u001b[43m]\u001b[49m\n",
      "\u001b[0;31mKeyError\u001b[0m: 'key'"
     ]
    }
   ],
   "source": [
    "##If a key is not present in the dictionary, we'll get keyerror\n",
    "d16['key']"
   ]
  },
  {
   "cell_type": "code",
   "execution_count": 52,
   "id": "51b60614-6617-4189-935f-32f239348aae",
   "metadata": {},
   "outputs": [],
   "source": [
    "d16['name']=\"Karishma\""
   ]
  },
  {
   "cell_type": "code",
   "execution_count": 53,
   "id": "e6952f59-afe5-44ce-8a4d-b0b6c63ca023",
   "metadata": {},
   "outputs": [
    {
     "data": {
      "text/plain": [
       "{'batch_name': ['data science masters', 'devops', 'JDS'],\n",
       " 'start_date': (28, 14, 7),\n",
       " 'Mentor_name': {'krishna', 'mohan', 'ram', 'shyam'},\n",
       " 'timing': (5, 5, 5),\n",
       " 'name': 'Karishma'}"
      ]
     },
     "execution_count": 53,
     "metadata": {},
     "output_type": "execute_result"
    }
   ],
   "source": [
    "d16"
   ]
  },
  {
   "cell_type": "code",
   "execution_count": 58,
   "id": "b8b82e2c-f2aa-4058-ad84-f411845625e0",
   "metadata": {},
   "outputs": [
    {
     "data": {
      "text/plain": [
       "'KARISHMA'"
      ]
     },
     "execution_count": 58,
     "metadata": {},
     "output_type": "execute_result"
    }
   ],
   "source": [
    "d16['name'].upper()"
   ]
  },
  {
   "cell_type": "code",
   "execution_count": 59,
   "id": "f4e7268c-18c5-4098-a867-b9043ef11df7",
   "metadata": {},
   "outputs": [
    {
     "data": {
      "text/plain": [
       "'karishma'"
      ]
     },
     "execution_count": 59,
     "metadata": {},
     "output_type": "execute_result"
    }
   ],
   "source": [
    "d16['name'].lower()"
   ]
  },
  {
   "cell_type": "code",
   "execution_count": 60,
   "id": "1db26fcd-a460-48ae-9bdb-261a10c749be",
   "metadata": {},
   "outputs": [
    {
     "data": {
      "text/plain": [
       "'Karishma'"
      ]
     },
     "execution_count": 60,
     "metadata": {},
     "output_type": "execute_result"
    }
   ],
   "source": [
    "d16['name'].title()"
   ]
  },
  {
   "cell_type": "code",
   "execution_count": 65,
   "id": "50ec14b2-89d2-4170-824c-ea8025c3bb10",
   "metadata": {},
   "outputs": [
    {
     "data": {
      "text/plain": [
       "{'key': {1: 'abc', 15.5: (1, 2, 3, 5)}}"
      ]
     },
     "execution_count": 65,
     "metadata": {},
     "output_type": "execute_result"
    }
   ],
   "source": [
    "d15"
   ]
  },
  {
   "cell_type": "code",
   "execution_count": 67,
   "id": "b735f9e7-e8ee-4fb1-b8c1-474c4ad6997f",
   "metadata": {},
   "outputs": [
    {
     "data": {
      "text/plain": [
       "{1: 'abc', 15.5: (1, 2, 3, 5)}"
      ]
     },
     "execution_count": 67,
     "metadata": {},
     "output_type": "execute_result"
    }
   ],
   "source": [
    "d15['key']"
   ]
  },
  {
   "cell_type": "code",
   "execution_count": 69,
   "id": "bd23ceeb-eccc-4cdb-984e-c8aae6b7c692",
   "metadata": {},
   "outputs": [
    {
     "data": {
      "text/plain": [
       "dict"
      ]
     },
     "execution_count": 69,
     "metadata": {},
     "output_type": "execute_result"
    }
   ],
   "source": [
    "type(d15['key'])"
   ]
  },
  {
   "cell_type": "code",
   "execution_count": 68,
   "id": "4d57f944-c353-47d6-834e-975a2ea04dc2",
   "metadata": {},
   "outputs": [
    {
     "data": {
      "text/plain": [
       "(1, 2, 3, 5)"
      ]
     },
     "execution_count": 68,
     "metadata": {},
     "output_type": "execute_result"
    }
   ],
   "source": [
    "d15['key'][15.5]"
   ]
  },
  {
   "cell_type": "code",
   "execution_count": 71,
   "id": "ba478590-c56e-4428-ba63-e9bab75c00a6",
   "metadata": {},
   "outputs": [
    {
     "data": {
      "text/plain": [
       "{'key': {1: 'abc', 15.5: (1, 2, 3, 5)}}"
      ]
     },
     "execution_count": 71,
     "metadata": {},
     "output_type": "execute_result"
    }
   ],
   "source": [
    "d15"
   ]
  },
  {
   "cell_type": "code",
   "execution_count": 76,
   "id": "6f32b1a9-3d09-47c1-be1e-204ab0ff305f",
   "metadata": {},
   "outputs": [],
   "source": [
    "d15[\"new_key\"]='abcde'"
   ]
  },
  {
   "cell_type": "code",
   "execution_count": 77,
   "id": "284fe9bd-7167-48b7-87d5-a52bb6b7d794",
   "metadata": {},
   "outputs": [
    {
     "data": {
      "text/plain": [
       "{'key': {1: 'abc', 15.5: (1, 2, 3, 5)}, 'new_key': 'abcde'}"
      ]
     },
     "execution_count": 77,
     "metadata": {},
     "output_type": "execute_result"
    }
   ],
   "source": [
    "d15"
   ]
  },
  {
   "cell_type": "code",
   "execution_count": 74,
   "id": "ea4e5df1-c929-46c2-b1f2-b2993c8ec22c",
   "metadata": {},
   "outputs": [
    {
     "data": {
      "text/plain": [
       "'abcde'"
      ]
     },
     "execution_count": 74,
     "metadata": {},
     "output_type": "execute_result"
    }
   ],
   "source": [
    "d15.pop('new_key')"
   ]
  },
  {
   "cell_type": "code",
   "execution_count": 75,
   "id": "673f06bd-8ad1-4052-b5d9-e4ff67aab3bd",
   "metadata": {},
   "outputs": [
    {
     "data": {
      "text/plain": [
       "{'key': {1: 'abc', 15.5: (1, 2, 3, 5)}}"
      ]
     },
     "execution_count": 75,
     "metadata": {},
     "output_type": "execute_result"
    }
   ],
   "source": [
    "d15"
   ]
  },
  {
   "cell_type": "code",
   "execution_count": 78,
   "id": "5d0fc3e8-a884-4345-942f-e46d8a7b8fb2",
   "metadata": {},
   "outputs": [],
   "source": [
    "del d15['new_key']"
   ]
  },
  {
   "cell_type": "code",
   "execution_count": 79,
   "id": "daf11c3a-cb3e-456a-b471-006a0691f60c",
   "metadata": {},
   "outputs": [
    {
     "data": {
      "text/plain": [
       "{'key': {1: 'abc', 15.5: (1, 2, 3, 5)}}"
      ]
     },
     "execution_count": 79,
     "metadata": {},
     "output_type": "execute_result"
    }
   ],
   "source": [
    "d15"
   ]
  },
  {
   "cell_type": "code",
   "execution_count": 80,
   "id": "28de985d-542a-47c6-8fd0-3e44c65515e9",
   "metadata": {},
   "outputs": [
    {
     "data": {
      "text/plain": [
       "{'batch_name': ['data science masters', 'devops', 'JDS'],\n",
       " 'start_date': (28, 14, 7),\n",
       " 'Mentor_name': {'krishna', 'mohan', 'ram', 'shyam'},\n",
       " 'timing': (5, 5, 5),\n",
       " 'name': 'Karishma'}"
      ]
     },
     "execution_count": 80,
     "metadata": {},
     "output_type": "execute_result"
    }
   ],
   "source": [
    "d16"
   ]
  },
  {
   "cell_type": "code",
   "execution_count": 82,
   "id": "c7d32875-792f-4678-a3c7-e93c05f606ed",
   "metadata": {},
   "outputs": [],
   "source": [
    "#Removes all the elements from the dictionary\n",
    "d15.clear()"
   ]
  },
  {
   "cell_type": "code",
   "execution_count": 83,
   "id": "cf3a0a55-9540-43d1-9e03-8fe179b8ebac",
   "metadata": {},
   "outputs": [
    {
     "data": {
      "text/plain": [
       "{}"
      ]
     },
     "execution_count": 83,
     "metadata": {},
     "output_type": "execute_result"
    }
   ],
   "source": [
    "d15"
   ]
  },
  {
   "cell_type": "code",
   "execution_count": 84,
   "id": "93359789-953b-4c48-8ae6-2990a3a0614e",
   "metadata": {},
   "outputs": [
    {
     "data": {
      "text/plain": [
       "5"
      ]
     },
     "execution_count": 84,
     "metadata": {},
     "output_type": "execute_result"
    }
   ],
   "source": [
    "#Gives the number of all the key value pairs\n",
    "len(d16)"
   ]
  },
  {
   "cell_type": "code",
   "execution_count": 85,
   "id": "6f57c5c3-049a-42d6-8ec4-df736ec0200a",
   "metadata": {},
   "outputs": [
    {
     "data": {
      "text/plain": [
       "1"
      ]
     },
     "execution_count": 85,
     "metadata": {},
     "output_type": "execute_result"
    }
   ],
   "source": [
    "len(d5)"
   ]
  },
  {
   "cell_type": "code",
   "execution_count": 88,
   "id": "ee83bc16-af7a-46a6-a70b-69e6d2d1e29f",
   "metadata": {},
   "outputs": [
    {
     "data": {
      "text/plain": [
       "dict_keys(['batch_name', 'start_date', 'Mentor_name', 'timing', 'name'])"
      ]
     },
     "execution_count": 88,
     "metadata": {},
     "output_type": "execute_result"
    }
   ],
   "source": [
    "#Accessing just all the keys\n",
    "d16.keys()"
   ]
  },
  {
   "cell_type": "code",
   "execution_count": 89,
   "id": "81649a51-66f8-42f5-979e-d45274be63bd",
   "metadata": {},
   "outputs": [
    {
     "data": {
      "text/plain": [
       "dict_values([['data science masters', 'devops', 'JDS'], (28, 14, 7), {'shyam', 'mohan', 'krishna', 'ram'}, (5, 5, 5), 'Karishma'])"
      ]
     },
     "execution_count": 89,
     "metadata": {},
     "output_type": "execute_result"
    }
   ],
   "source": [
    "#Accessing just all the values\n",
    "d16.values()"
   ]
  },
  {
   "cell_type": "code",
   "execution_count": 91,
   "id": "b5b79de5-16b4-44a9-846a-bb23b3208b4f",
   "metadata": {},
   "outputs": [
    {
     "data": {
      "text/plain": [
       "['batch_name', 'start_date', 'Mentor_name', 'timing', 'name']"
      ]
     },
     "execution_count": 91,
     "metadata": {},
     "output_type": "execute_result"
    }
   ],
   "source": [
    "#Converting the outcome into a list\n",
    "l16=list(d16.keys())\n",
    "l16"
   ]
  },
  {
   "cell_type": "code",
   "execution_count": 92,
   "id": "55b8cd63-ea79-4bad-8379-76d2a865d52c",
   "metadata": {},
   "outputs": [
    {
     "data": {
      "text/plain": [
       "[['data science masters', 'devops', 'JDS'],\n",
       " (28, 14, 7),\n",
       " {'krishna', 'mohan', 'ram', 'shyam'},\n",
       " (5, 5, 5),\n",
       " 'Karishma']"
      ]
     },
     "execution_count": 92,
     "metadata": {},
     "output_type": "execute_result"
    }
   ],
   "source": [
    "l16_val=list(d16.values())\n",
    "l16_val"
   ]
  },
  {
   "cell_type": "code",
   "execution_count": 7,
   "id": "e053caa7-dfe8-4e75-a96c-48aef4091751",
   "metadata": {},
   "outputs": [
    {
     "data": {
      "text/plain": [
       "[('batch_name', ['data science masters', 'devops', 'JDS']),\n",
       " ('start_date', (28, 14, 7)),\n",
       " ('Mentor_name', {'krishna', 'mohan', 'ram', 'shyam'}),\n",
       " ('timing', (5, 5, 5))]"
      ]
     },
     "execution_count": 7,
     "metadata": {},
     "output_type": "execute_result"
    }
   ],
   "source": [
    "#For creating list of key value pairs\n",
    "list(d16.items())"
   ]
  },
  {
   "cell_type": "code",
   "execution_count": 10,
   "id": "7217c463-b5da-461d-a1ef-6e6358185aec",
   "metadata": {},
   "outputs": [
    {
     "data": {
      "text/plain": [
       "{'batch_name': ['data science masters', 'devops', 'JDS'],\n",
       " 'start_date': (28, 14, 7),\n",
       " 'Mentor_name': {'krishna', 'mohan', 'ram', 'shyam'},\n",
       " 'timing': (5, 5, 5)}"
      ]
     },
     "execution_count": 10,
     "metadata": {},
     "output_type": "execute_result"
    }
   ],
   "source": [
    "#Deep copying, here the whole dictionary(d16) values are copied into a new memory(d17). If we'll make some changes in d16 the changes will not effect d17\n",
    "d17=d16.copy()\n",
    "d17"
   ]
  },
  {
   "cell_type": "code",
   "execution_count": 11,
   "id": "d4cae789-4ceb-4a70-af89-73dfcb33f21f",
   "metadata": {},
   "outputs": [],
   "source": [
    "d16['number_of_students']=(55,5,15)"
   ]
  },
  {
   "cell_type": "code",
   "execution_count": 12,
   "id": "3f2146cf-aa58-46f5-aee4-81531d278e00",
   "metadata": {},
   "outputs": [
    {
     "data": {
      "text/plain": [
       "{'batch_name': ['data science masters', 'devops', 'JDS'],\n",
       " 'start_date': (28, 14, 7),\n",
       " 'Mentor_name': {'krishna', 'mohan', 'ram', 'shyam'},\n",
       " 'timing': (5, 5, 5),\n",
       " 'number_of_students': (55, 5, 15)}"
      ]
     },
     "execution_count": 12,
     "metadata": {},
     "output_type": "execute_result"
    }
   ],
   "source": [
    "d16"
   ]
  },
  {
   "cell_type": "code",
   "execution_count": 13,
   "id": "31fcbab6-9aef-4b4e-99bc-f03958b0b75a",
   "metadata": {},
   "outputs": [
    {
     "data": {
      "text/plain": [
       "{'batch_name': ['data science masters', 'devops', 'JDS'],\n",
       " 'start_date': (28, 14, 7),\n",
       " 'Mentor_name': {'krishna', 'mohan', 'ram', 'shyam'},\n",
       " 'timing': (5, 5, 5)}"
      ]
     },
     "execution_count": 13,
     "metadata": {},
     "output_type": "execute_result"
    }
   ],
   "source": [
    "d17"
   ]
  },
  {
   "cell_type": "code",
   "execution_count": 17,
   "id": "d8d20bdf-3b59-4575-a2f0-9986b5dcc2f3",
   "metadata": {},
   "outputs": [],
   "source": [
    "#Swallow copying, here d18 will just refer to the location to be copied i.e d17. so d17, d18 are pointing to the same location\n",
    "d18=d17"
   ]
  },
  {
   "cell_type": "code",
   "execution_count": 15,
   "id": "863ded89-a57b-4ff9-81ac-2d2e3fda08ef",
   "metadata": {},
   "outputs": [
    {
     "data": {
      "text/plain": [
       "{'batch_name': ['data science masters', 'devops', 'JDS'],\n",
       " 'start_date': (28, 14, 7),\n",
       " 'Mentor_name': {'krishna', 'mohan', 'ram', 'shyam'},\n",
       " 'timing': (5, 5, 5)}"
      ]
     },
     "execution_count": 15,
     "metadata": {},
     "output_type": "execute_result"
    }
   ],
   "source": [
    "d18"
   ]
  },
  {
   "cell_type": "code",
   "execution_count": 18,
   "id": "69cf6250-ac5e-4e54-830d-d0ec1e1a84f3",
   "metadata": {},
   "outputs": [
    {
     "ename": "TypeError",
     "evalue": "pop expected at least 1 argument, got 0",
     "output_type": "error",
     "traceback": [
      "\u001b[0;31m---------------------------------------------------------------------------\u001b[0m",
      "\u001b[0;31mTypeError\u001b[0m                                 Traceback (most recent call last)",
      "Cell \u001b[0;32mIn[18], line 1\u001b[0m\n\u001b[0;32m----> 1\u001b[0m \u001b[43md16\u001b[49m\u001b[38;5;241;43m.\u001b[39;49m\u001b[43mpop\u001b[49m\u001b[43m(\u001b[49m\u001b[43m)\u001b[49m\n",
      "\u001b[0;31mTypeError\u001b[0m: pop expected at least 1 argument, got 0"
     ]
    }
   ],
   "source": [
    "d16.pop()"
   ]
  },
  {
   "cell_type": "code",
   "execution_count": 19,
   "id": "49f416b8-7df6-4bd5-a622-fa0f9b52a50a",
   "metadata": {},
   "outputs": [
    {
     "data": {
      "text/plain": [
       "(5, 5, 5)"
      ]
     },
     "execution_count": 19,
     "metadata": {},
     "output_type": "execute_result"
    }
   ],
   "source": [
    "d16.pop('timing')"
   ]
  },
  {
   "cell_type": "code",
   "execution_count": 20,
   "id": "5c056b21-87d4-4874-aaf0-47927fc3ff8d",
   "metadata": {},
   "outputs": [
    {
     "data": {
      "text/plain": [
       "{'batch_name': ['data science masters', 'devops', 'JDS'],\n",
       " 'start_date': (28, 14, 7),\n",
       " 'Mentor_name': {'krishna', 'mohan', 'ram', 'shyam'},\n",
       " 'number_of_students': (55, 5, 15)}"
      ]
     },
     "execution_count": 20,
     "metadata": {},
     "output_type": "execute_result"
    }
   ],
   "source": [
    "d16"
   ]
  },
  {
   "cell_type": "code",
   "execution_count": 24,
   "id": "a3364547-e435-434e-a38d-923a8dda5505",
   "metadata": {},
   "outputs": [
    {
     "data": {
      "text/plain": [
       "{1: ('a', 'b', 'c'), 2: ('a', 'b', 'c'), 3: ('a', 'b', 'c')}"
      ]
     },
     "execution_count": 24,
     "metadata": {},
     "output_type": "execute_result"
    }
   ],
   "source": [
    "# Here the 2nd parameter is taken as value for all the key iterator given in the first parameter \n",
    "dict.fromkeys((1,2,3) , ('a','b','c'))"
   ]
  },
  {
   "cell_type": "code",
   "execution_count": 27,
   "id": "d366fd02-f225-438d-a25a-76f58594533d",
   "metadata": {},
   "outputs": [],
   "source": [
    "#Dictionary inside a tuple is possible\n",
    "d19={'key1' : 'value1','key2' : 'value2'}\n",
    "d20={'key3' : 'value3','key4' : 'value4'}"
   ]
  },
  {
   "cell_type": "code",
   "execution_count": 28,
   "id": "8945008d-2b6b-4588-bef8-e7580b1f1574",
   "metadata": {},
   "outputs": [
    {
     "data": {
      "text/plain": [
       "({'key1': 'value1', 'key2': 'value2'}, {'key3': 'value3', 'key4': 'value4'})"
      ]
     },
     "execution_count": 28,
     "metadata": {},
     "output_type": "execute_result"
    }
   ],
   "source": [
    "(d19,d20)"
   ]
  },
  {
   "cell_type": "code",
   "execution_count": 31,
   "id": "7be174f1-085b-4de7-be1e-97032cc6ecab",
   "metadata": {},
   "outputs": [],
   "source": [
    "#Update function will update the value of d19 with the value passed inside the update function i.e d20\n",
    "d19.update(d20)"
   ]
  },
  {
   "cell_type": "code",
   "execution_count": 30,
   "id": "58914487-38c1-478e-83b6-248ff1065f09",
   "metadata": {},
   "outputs": [
    {
     "data": {
      "text/plain": [
       "{'key1': 'value1', 'key2': 'value2', 'key3': 'value3', 'key4': 'value4'}"
      ]
     },
     "execution_count": 30,
     "metadata": {},
     "output_type": "execute_result"
    }
   ],
   "source": [
    "d19"
   ]
  },
  {
   "cell_type": "code",
   "execution_count": 32,
   "id": "d01f9002-b7ee-4f6d-9df6-3c401eec834f",
   "metadata": {},
   "outputs": [],
   "source": [
    "#Update function will update the value of d20 with the value passed inside the update function i.e d19\n",
    "d20.update(d19)"
   ]
  },
  {
   "cell_type": "code",
   "execution_count": 33,
   "id": "6af7572e-2a25-4183-a8f1-e61b117d0864",
   "metadata": {},
   "outputs": [
    {
     "data": {
      "text/plain": [
       "{'key3': 'value3', 'key4': 'value4', 'key1': 'value1', 'key2': 'value2'}"
      ]
     },
     "execution_count": 33,
     "metadata": {},
     "output_type": "execute_result"
    }
   ],
   "source": [
    "d20"
   ]
  },
  {
   "cell_type": "code",
   "execution_count": 34,
   "id": "ffda45f9-009d-4d86-b53a-74ba20f156f2",
   "metadata": {},
   "outputs": [],
   "source": [
    "#Fetching the data from a dictionary suing get function. Returns default if the key is not present in dictionary\n",
    "d20.get('name')"
   ]
  },
  {
   "cell_type": "code",
   "execution_count": 35,
   "id": "6cc32278-a24f-4d39-9d58-537359c05fe4",
   "metadata": {},
   "outputs": [
    {
     "data": {
      "text/plain": [
       "'value3'"
      ]
     },
     "execution_count": 35,
     "metadata": {},
     "output_type": "execute_result"
    }
   ],
   "source": [
    "d20.get('key3')"
   ]
  },
  {
   "cell_type": "code",
   "execution_count": 36,
   "id": "3cd5c9ac-5a8f-4483-9603-d6b057464dc4",
   "metadata": {},
   "outputs": [
    {
     "data": {
      "text/plain": [
       "'value3'"
      ]
     },
     "execution_count": 36,
     "metadata": {},
     "output_type": "execute_result"
    }
   ],
   "source": [
    "d20['key3']"
   ]
  },
  {
   "cell_type": "code",
   "execution_count": 39,
   "id": "0561dcef-ad70-4851-afbb-7dd70f59448e",
   "metadata": {},
   "outputs": [
    {
     "ename": "KeyError",
     "evalue": "'name'",
     "output_type": "error",
     "traceback": [
      "\u001b[0;31m---------------------------------------------------------------------------\u001b[0m",
      "\u001b[0;31mKeyError\u001b[0m                                  Traceback (most recent call last)",
      "Cell \u001b[0;32mIn[39], line 2\u001b[0m\n\u001b[1;32m      1\u001b[0m \u001b[38;5;66;03m#Fetching value for a particular key using this method returns a error. That makes it different from get function fetching\u001b[39;00m\n\u001b[0;32m----> 2\u001b[0m \u001b[43md20\u001b[49m\u001b[43m[\u001b[49m\u001b[38;5;124;43m'\u001b[39;49m\u001b[38;5;124;43mname\u001b[39;49m\u001b[38;5;124;43m'\u001b[39;49m\u001b[43m]\u001b[49m\n",
      "\u001b[0;31mKeyError\u001b[0m: 'name'"
     ]
    }
   ],
   "source": [
    "#Fetching value for a particular key using this method returns a error. That makes it different from get function fetching\n",
    "d20['name']"
   ]
  },
  {
   "cell_type": "markdown",
   "id": "b121727b-dc50-4876-977f-4f7390f244b5",
   "metadata": {},
   "source": [
    "### Dictionary Comprehensions"
   ]
  },
  {
   "cell_type": "code",
   "execution_count": 44,
   "id": "60e36e26-6f6c-45c6-8730-b415b582487f",
   "metadata": {},
   "outputs": [
    {
     "data": {
      "text/plain": [
       "{1: 1, 2: 4, 3: 9, 4: 16, 5: 25, 6: 36, 7: 49, 8: 64, 9: 81, 10: 100}"
      ]
     },
     "execution_count": 44,
     "metadata": {},
     "output_type": "execute_result"
    }
   ],
   "source": [
    "# Create a dictionary with key as numbers from 1 to 10 and values as square of key values\n",
    "{i:i**2 for i in range(1,11)}"
   ]
  },
  {
   "cell_type": "code",
   "execution_count": 45,
   "id": "e98db293-8d58-4c28-a981-9251c27e565b",
   "metadata": {},
   "outputs": [
    {
     "data": {
      "text/plain": [
       "{1: 3, 2: 4, 3: 5, 4: 6, 5: 7, 6: 8, 7: 9, 8: 10, 9: 11, 10: 12}"
      ]
     },
     "execution_count": 45,
     "metadata": {},
     "output_type": "execute_result"
    }
   ],
   "source": [
    "{i:i+2 for i in range(1,11)}"
   ]
  },
  {
   "cell_type": "code",
   "execution_count": 53,
   "id": "dccafc98-56b1-4c49-982a-f8088b6a4527",
   "metadata": {},
   "outputs": [
    {
     "data": {
      "text/plain": [
       "{1: 0.0,\n",
       " 2: 0.3010299956639812,\n",
       " 3: 0.47712125471966244,\n",
       " 4: 0.6020599913279624,\n",
       " 5: 0.6989700043360189,\n",
       " 6: 0.7781512503836436,\n",
       " 7: 0.8450980400142568,\n",
       " 8: 0.9030899869919435,\n",
       " 9: 0.9542425094393249,\n",
       " 10: 1.0}"
      ]
     },
     "execution_count": 53,
     "metadata": {},
     "output_type": "execute_result"
    }
   ],
   "source": [
    "import math\n",
    "d21={i:math.log10(i) for i in range(1,11)}\n",
    "d21"
   ]
  },
  {
   "cell_type": "code",
   "execution_count": 58,
   "id": "212cad5a-baba-462f-816e-0189ef04e03f",
   "metadata": {},
   "outputs": [
    {
     "data": {
      "text/plain": [
       "dict_keys([1, 2, 3, 4, 5, 6, 7, 8, 9, 10])"
      ]
     },
     "execution_count": 58,
     "metadata": {},
     "output_type": "execute_result"
    }
   ],
   "source": [
    "d21.keys()"
   ]
  },
  {
   "cell_type": "code",
   "execution_count": 59,
   "id": "36aa1fab-5ed5-47a5-bac9-38082ee34f4b",
   "metadata": {},
   "outputs": [
    {
     "name": "stdout",
     "output_type": "stream",
     "text": [
      "0.3010299956639812\n",
      "0.6020599913279624\n",
      "0.7781512503836436\n",
      "0.9030899869919435\n",
      "1.0\n"
     ]
    }
   ],
   "source": [
    "#Print values for only even keys \n",
    "for i in d21.keys():\n",
    "    if i%2==0:\n",
    "        print(d21[i])"
   ]
  },
  {
   "cell_type": "code",
   "execution_count": null,
   "id": "b0035bb4-176f-4df9-8841-98fcdbf99a35",
   "metadata": {},
   "outputs": [],
   "source": []
  }
 ],
 "metadata": {
  "kernelspec": {
   "display_name": "Python 3 (ipykernel)",
   "language": "python",
   "name": "python3"
  },
  "language_info": {
   "codemirror_mode": {
    "name": "ipython",
    "version": 3
   },
   "file_extension": ".py",
   "mimetype": "text/x-python",
   "name": "python",
   "nbconvert_exporter": "python",
   "pygments_lexer": "ipython3",
   "version": "3.10.8"
  }
 },
 "nbformat": 4,
 "nbformat_minor": 5
}

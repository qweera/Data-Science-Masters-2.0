{
 "cells": [
  {
   "cell_type": "markdown",
   "id": "1d7719a0-0ae1-4e28-9c42-c7ef030829d2",
   "metadata": {},
   "source": [
    "### Polymorphism\n",
    "Polymorphism means multiple states or characterstics, for example a single human being sometimes behaves as mother, sister, employee ... so on based on different circumstances/environment our roles and responsibility are getting changed"
   ]
  },
  {
   "cell_type": "code",
   "execution_count": 1,
   "id": "05a62619-bea0-4162-892d-d58a27394464",
   "metadata": {},
   "outputs": [],
   "source": [
    "def test(a,b):\n",
    "    return a+b"
   ]
  },
  {
   "cell_type": "code",
   "execution_count": 2,
   "id": "31c3b7c5-b670-4a17-bf40-35de7aa7634c",
   "metadata": {},
   "outputs": [
    {
     "data": {
      "text/plain": [
       "14"
      ]
     },
     "execution_count": 2,
     "metadata": {},
     "output_type": "execute_result"
    }
   ],
   "source": [
    "test(8,6)"
   ]
  },
  {
   "cell_type": "code",
   "execution_count": 5,
   "id": "e180e9e0-22cb-405e-ac15-f199255044bc",
   "metadata": {},
   "outputs": [
    {
     "data": {
      "text/plain": [
       "'Karishma Kweera'"
      ]
     },
     "execution_count": 5,
     "metadata": {},
     "output_type": "execute_result"
    }
   ],
   "source": [
    "test('Karishma',' Kweera')"
   ]
  },
  {
   "cell_type": "code",
   "execution_count": 4,
   "id": "b4315a9e-fab5-4a02-b122-b0896fb41bc4",
   "metadata": {},
   "outputs": [
    {
     "data": {
      "text/plain": [
       "[12, 23, 44, 55, 5, 3, 4, 'datascience', 98]"
      ]
     },
     "execution_count": 4,
     "metadata": {},
     "output_type": "execute_result"
    }
   ],
   "source": [
    "test([12,23,44,55,5],[3,4,'datascience',98])"
   ]
  },
  {
   "cell_type": "markdown",
   "id": "1f593f9b-bc83-4d48-9212-cc36d3a3dfb3",
   "metadata": {},
   "source": [
    "For the above examples the test() function is behaving differently for different input datatypes. In case of '+' opeartor it is adding the two integers, for string it is performing concatenation and for list it is performing list append operation"
   ]
  },
  {
   "cell_type": "code",
   "execution_count": 8,
   "id": "df58e11f-8514-429a-bd04-6a021a25246a",
   "metadata": {},
   "outputs": [],
   "source": [
    "# Concept of polymorphism wrt class\n",
    "class data_science:\n",
    "    def syllabus(self):\n",
    "        print('This is my method for data science syllabus')"
   ]
  },
  {
   "cell_type": "code",
   "execution_count": 9,
   "id": "83b6d084-a44c-427c-af1e-998dd3bbe81a",
   "metadata": {},
   "outputs": [],
   "source": [
    "class web_dev:\n",
    "    def syllabus(self):\n",
    "        print('This is my method for web development syllabus')"
   ]
  },
  {
   "cell_type": "code",
   "execution_count": 11,
   "id": "55ebc188-ee51-408e-9bab-b4c2c742f92f",
   "metadata": {},
   "outputs": [],
   "source": [
    "#The class_parser class is behaving differenly, behaviour of 'i' is getting changed based on the passed object.\n",
    "def class_parser(class_obj):\n",
    "    for i in class_obj:\n",
    "        i.syllabus()    "
   ]
  },
  {
   "cell_type": "code",
   "execution_count": 12,
   "id": "1663ae76-aa14-4cd5-b98f-a71d5ce5a411",
   "metadata": {},
   "outputs": [],
   "source": [
    "obj_data_science = data_science()"
   ]
  },
  {
   "cell_type": "code",
   "execution_count": 13,
   "id": "bcced1d5-87d0-41a8-b9aa-d5c2b6e5024a",
   "metadata": {},
   "outputs": [],
   "source": [
    "obj_web_dev = web_dev()"
   ]
  },
  {
   "cell_type": "code",
   "execution_count": 14,
   "id": "b8305753-58a9-4e13-a1c1-a1f689755b64",
   "metadata": {},
   "outputs": [],
   "source": [
    "class_obj = [obj_data_science,obj_web_dev]"
   ]
  },
  {
   "cell_type": "code",
   "execution_count": 16,
   "id": "9aba1ede-6a66-4002-bf57-c905f7b57441",
   "metadata": {},
   "outputs": [
    {
     "name": "stdout",
     "output_type": "stream",
     "text": [
      "This is my method for data science syllabus\n",
      "This is my method for web development syllabus\n"
     ]
    }
   ],
   "source": [
    "class_parser(class_obj)"
   ]
  },
  {
   "cell_type": "code",
   "execution_count": null,
   "id": "f17a083e-5696-41eb-8bdc-26a137dd6bb7",
   "metadata": {},
   "outputs": [],
   "source": []
  }
 ],
 "metadata": {
  "kernelspec": {
   "display_name": "Python 3 (ipykernel)",
   "language": "python",
   "name": "python3"
  },
  "language_info": {
   "codemirror_mode": {
    "name": "ipython",
    "version": 3
   },
   "file_extension": ".py",
   "mimetype": "text/x-python",
   "name": "python",
   "nbconvert_exporter": "python",
   "pygments_lexer": "ipython3",
   "version": "3.10.8"
  }
 },
 "nbformat": 4,
 "nbformat_minor": 5
}

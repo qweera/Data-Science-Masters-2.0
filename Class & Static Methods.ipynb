{
 "cells": [
  {
   "cell_type": "code",
   "execution_count": 3,
   "id": "4c7fdda8-7ff4-4a9d-ae21-5da29d6698c1",
   "metadata": {},
   "outputs": [],
   "source": [
    "class pwskills:\n",
    "    def __init__(self, name, email):\n",
    "        self.name = name\n",
    "        self.email = email\n",
    "        \n",
    "    def student_details(self):\n",
    "        print(self.name,self.email)"
   ]
  },
  {
   "cell_type": "code",
   "execution_count": 4,
   "id": "509f6a1d-35a7-44b4-946f-f9ada10ee4db",
   "metadata": {},
   "outputs": [],
   "source": [
    "pw = pwskills('karishma','karishma@gmail.com')"
   ]
  },
  {
   "cell_type": "code",
   "execution_count": 5,
   "id": "f82a509f-19c7-4606-a73e-a1980611b1a4",
   "metadata": {},
   "outputs": [
    {
     "data": {
      "text/plain": [
       "'karishma'"
      ]
     },
     "execution_count": 5,
     "metadata": {},
     "output_type": "execute_result"
    }
   ],
   "source": [
    "pw.name"
   ]
  },
  {
   "cell_type": "code",
   "execution_count": 6,
   "id": "c1045b99-20f1-4dac-8e3f-fe7f0b64cbe6",
   "metadata": {},
   "outputs": [
    {
     "data": {
      "text/plain": [
       "'karishma@gmail.com'"
      ]
     },
     "execution_count": 6,
     "metadata": {},
     "output_type": "execute_result"
    }
   ],
   "source": [
    "pw.email"
   ]
  },
  {
   "cell_type": "code",
   "execution_count": 7,
   "id": "4691018d-4240-4eb8-b757-1a3ad6413bf9",
   "metadata": {},
   "outputs": [
    {
     "name": "stdout",
     "output_type": "stream",
     "text": [
      "karishma karishma@gmail.com\n"
     ]
    }
   ],
   "source": [
    "pw.student_details()"
   ]
  },
  {
   "cell_type": "markdown",
   "id": "f9cf310a-2865-4de8-94ad-5b5515132259",
   "metadata": {},
   "source": [
    "### Class Methods"
   ]
  },
  {
   "cell_type": "code",
   "execution_count": 24,
   "id": "bd4a5997-8d1c-4227-bd48-bdc30a5e7222",
   "metadata": {},
   "outputs": [],
   "source": [
    "class pwskills1:\n",
    "    \n",
    "    def __init__(self, name, email):\n",
    "        self.name = name\n",
    "        self.email = email\n",
    "    \n",
    "    @classmethod                            #classmethod\n",
    "    def details(cls, name1, email1):\n",
    "        return cls(name1, email1)          #These three lines of code is equivalent to the able three lines of code involving __init__\n",
    "        \n",
    "    def student_details(self):             #instancemethod\n",
    "        print(self.name,self.email)"
   ]
  },
  {
   "cell_type": "code",
   "execution_count": 25,
   "id": "18067b76-8b01-4d4f-9776-1cdeda6839b6",
   "metadata": {},
   "outputs": [],
   "source": [
    "pw1 = pwskills1('karishma','karishma@gmail.com')"
   ]
  },
  {
   "cell_type": "code",
   "execution_count": 26,
   "id": "46f9c69b-b57f-400f-ba4d-18606aae40ce",
   "metadata": {},
   "outputs": [
    {
     "data": {
      "text/plain": [
       "'karishma'"
      ]
     },
     "execution_count": 26,
     "metadata": {},
     "output_type": "execute_result"
    }
   ],
   "source": [
    "pw1.name"
   ]
  },
  {
   "cell_type": "code",
   "execution_count": 27,
   "id": "e2998517-39de-43d2-a8e2-3784e80cdaca",
   "metadata": {},
   "outputs": [
    {
     "name": "stdout",
     "output_type": "stream",
     "text": [
      "karishma karishma@gmail.com\n"
     ]
    }
   ],
   "source": [
    "pw1.student_details()"
   ]
  },
  {
   "cell_type": "code",
   "execution_count": 2,
   "id": "9283e5ca-11c3-4dee-86aa-099a850f916c",
   "metadata": {},
   "outputs": [],
   "source": [
    "class pwskills2:\n",
    "    \n",
    "    mobile_number=8786764549\n",
    "    \n",
    "    def __init__(self, name, email):\n",
    "        self.name = name\n",
    "        self.email = email\n",
    "    \n",
    "    @classmethod                            #classmethod\n",
    "    def details(cls, name1, email1):\n",
    "        return cls(name1, email1)          #These three lines of code is equivalent to the able three lines of code involving __init__\n",
    "        \n",
    "    def student_details(self):             #instancemethod\n",
    "        print(self.name,self.email,pwskills2.mobile_number)       #accessing the class variable inside instance method"
   ]
  },
  {
   "cell_type": "code",
   "execution_count": 3,
   "id": "cf7afb0f-81f5-4d95-a6cb-4dcd8456569b",
   "metadata": {},
   "outputs": [
    {
     "data": {
      "text/plain": [
       "8786764549"
      ]
     },
     "execution_count": 3,
     "metadata": {},
     "output_type": "execute_result"
    }
   ],
   "source": [
    "pwskills2.mobile_number                    #Directly we'll be able to access the variable/instance of class with the class name"
   ]
  },
  {
   "cell_type": "code",
   "execution_count": 4,
   "id": "d49385b8-8cc0-4416-b424-9c1b85578f90",
   "metadata": {},
   "outputs": [],
   "source": [
    "pw2 = pwskills2.details('mohan','mohan@gmail.com')          #by calling variable of my class method "
   ]
  },
  {
   "cell_type": "code",
   "execution_count": 5,
   "id": "2c1e515b-2610-4ba8-8ca1-60b6345ac3cc",
   "metadata": {},
   "outputs": [
    {
     "name": "stdout",
     "output_type": "stream",
     "text": [
      "mohan mohan@gmail.com 8786764549\n"
     ]
    }
   ],
   "source": [
    "pw2.student_details()"
   ]
  },
  {
   "cell_type": "code",
   "execution_count": 6,
   "id": "83daffef-a5cb-4429-8d40-3beefa879e01",
   "metadata": {},
   "outputs": [],
   "source": [
    "#Student detail can be accessed by two ways, one by creating a particular object and other by calling variable of my class method "
   ]
  },
  {
   "cell_type": "code",
   "execution_count": 7,
   "id": "abca84f4-90c2-4fba-8975-6c8925a84e73",
   "metadata": {},
   "outputs": [
    {
     "name": "stdout",
     "output_type": "stream",
     "text": [
      "Adam gemmy@gmail.com 8786764549\n"
     ]
    }
   ],
   "source": [
    "pw2_obj = pwskills2(\"Adam\",'gemmy@gmail.com')\n",
    "pw2_obj.student_details()                        #by creating a particular object"
   ]
  },
  {
   "cell_type": "code",
   "execution_count": 1,
   "id": "e67cb0b9-43cb-4eb8-8d61-2d134b5913b9",
   "metadata": {},
   "outputs": [],
   "source": [
    "class pwskills3:\n",
    "    \n",
    "    mobile_number=5576764549\n",
    "    \n",
    "    def __init__(self, name, email):\n",
    "        self.name = name\n",
    "        self.email = email\n",
    "    \n",
    "    @classmethod\n",
    "    def change_number(cls,mobile):\n",
    "        pwskills3.mobile_number = mobile\n",
    "        \n",
    "    @classmethod                            #classmethod\n",
    "    def details(cls, name2, email2):\n",
    "        return cls(name2, email2)          #These three lines of code is equivalent to the able three lines of code involving __init__\n",
    "        \n",
    "    def student_details(self):             #instancemethod\n",
    "        print(self.name,self.email,pwskills3.mobile_number)       #accessing the class variable inside instance method"
   ]
  },
  {
   "cell_type": "code",
   "execution_count": 6,
   "id": "a0765bc0-6639-4837-984f-31cef260e97b",
   "metadata": {},
   "outputs": [],
   "source": [
    "pw3_obj = pwskills3(\"Mohan\",'mohan@gmail.com')"
   ]
  },
  {
   "cell_type": "code",
   "execution_count": 8,
   "id": "e6e2cd79-4f6e-4d28-afbb-28755ec4f03d",
   "metadata": {},
   "outputs": [
    {
     "data": {
      "text/plain": [
       "3765655565"
      ]
     },
     "execution_count": 8,
     "metadata": {},
     "output_type": "execute_result"
    }
   ],
   "source": [
    "pw3_obj.mobile_number"
   ]
  },
  {
   "cell_type": "code",
   "execution_count": 9,
   "id": "cb04f596-f648-4620-9505-4cf16388d847",
   "metadata": {},
   "outputs": [],
   "source": [
    "pw3_obj.change_number(7573573753)"
   ]
  },
  {
   "cell_type": "code",
   "execution_count": 10,
   "id": "9871eb77-faad-4e04-9e6c-8245d41d5a8d",
   "metadata": {},
   "outputs": [
    {
     "data": {
      "text/plain": [
       "7573573753"
      ]
     },
     "execution_count": 10,
     "metadata": {},
     "output_type": "execute_result"
    }
   ],
   "source": [
    "pw3_obj.mobile_number"
   ]
  },
  {
   "cell_type": "code",
   "execution_count": 2,
   "id": "eff58d95-1723-4efc-8f23-b66142c9427a",
   "metadata": {},
   "outputs": [
    {
     "data": {
      "text/plain": [
       "5576764549"
      ]
     },
     "execution_count": 2,
     "metadata": {},
     "output_type": "execute_result"
    }
   ],
   "source": [
    "pwskills3.mobile_number"
   ]
  },
  {
   "cell_type": "code",
   "execution_count": 3,
   "id": "431b1d9a-e927-4966-a42b-bce40f098db6",
   "metadata": {},
   "outputs": [],
   "source": [
    "pwskills3.change_number(3765655565)          #For classmethod we'll be able to access the class variable using class name"
   ]
  },
  {
   "cell_type": "code",
   "execution_count": 4,
   "id": "645b74c6-2449-4bcd-90da-b57171114f33",
   "metadata": {},
   "outputs": [
    {
     "data": {
      "text/plain": [
       "3765655565"
      ]
     },
     "execution_count": 4,
     "metadata": {},
     "output_type": "execute_result"
    }
   ],
   "source": [
    "pwskills3.mobile_number"
   ]
  },
  {
   "cell_type": "markdown",
   "id": "80686254-0816-4219-9e0f-f58b530f77c0",
   "metadata": {},
   "source": [
    "##### Class method is like global method whenever we create a class method only one instance will be created for it. Whereas instance method will be created as per the number of objects we create. In case we've created 10 methods so in memory it will try to replicate 10 such methods so in memory 10 such methods will be availabe to the respective objects. But in case of class method there will be just one instance in memory  "
   ]
  },
  {
   "cell_type": "code",
   "execution_count": 11,
   "id": "4936a91e-b2f7-45ae-b0a8-5adf7c851a8c",
   "metadata": {},
   "outputs": [],
   "source": [
    "class pwskills4:\n",
    "    \n",
    "    mobile_number=3357676454\n",
    "    \n",
    "    def __init__(self, name, email):\n",
    "        self.name = name\n",
    "        self.email = email\n",
    "    \n",
    "    @classmethod\n",
    "    def change_number(cls,mobile):\n",
    "        pwskills4.mobile_number = mobile\n",
    "        \n",
    "    @classmethod                            #classmethod\n",
    "    def details(cls, name3, email3):\n",
    "        return cls(name3, email3)          #These three lines of code is equivalent to the able three lines of code involving __init__\n",
    "        \n",
    "    def student_details(self):             #instancemethod\n",
    "        print(self.name,self.email,pwskills4.mobile_number)       #accessing the class variable inside instance method"
   ]
  },
  {
   "cell_type": "code",
   "execution_count": 18,
   "id": "f7ab1529-121d-48c7-9c74-717ab068f25c",
   "metadata": {},
   "outputs": [],
   "source": [
    "### Adding external function to an existing class\n",
    "def course_details(cls, course_name):\n",
    "    print(\"Course Details:\", course_name)"
   ]
  },
  {
   "cell_type": "code",
   "execution_count": 19,
   "id": "6ba1337b-c397-43d0-a405-91225a8cdc0c",
   "metadata": {},
   "outputs": [],
   "source": [
    "pwskills4.course_details=classmethod(course_details)"
   ]
  },
  {
   "cell_type": "code",
   "execution_count": 20,
   "id": "2d132559-57c3-4dcb-81c5-be7c69762757",
   "metadata": {},
   "outputs": [
    {
     "name": "stdout",
     "output_type": "stream",
     "text": [
      "Course Details: Datascience Masters\n"
     ]
    }
   ],
   "source": [
    "pwskills4.course_details(\"Datascience Masters\")"
   ]
  },
  {
   "cell_type": "code",
   "execution_count": 21,
   "id": "fdb6b1b8-4fc1-4b87-a132-954752795810",
   "metadata": {},
   "outputs": [],
   "source": [
    "pw4_obj = pwskills4(\"shyama\",\"shyama@gmail.com\")"
   ]
  },
  {
   "cell_type": "code",
   "execution_count": 22,
   "id": "3a8c6a5d-aeb3-437d-8ee7-c1f88c039a97",
   "metadata": {},
   "outputs": [
    {
     "name": "stdout",
     "output_type": "stream",
     "text": [
      "Course Details: World Development\n"
     ]
    }
   ],
   "source": [
    "pw4_obj.course_details(\"World Development\")"
   ]
  },
  {
   "cell_type": "code",
   "execution_count": 23,
   "id": "266dbe11-29db-478a-a92e-934b9286c50d",
   "metadata": {},
   "outputs": [],
   "source": [
    "#deleting a class method\n",
    "del pwskills4.change_number"
   ]
  },
  {
   "cell_type": "code",
   "execution_count": 24,
   "id": "53507a0b-c2a1-4248-a4eb-5a9cbf46c3d0",
   "metadata": {},
   "outputs": [
    {
     "ename": "AttributeError",
     "evalue": "type object 'pwskills4' has no attribute 'change_number'",
     "output_type": "error",
     "traceback": [
      "\u001b[0;31m---------------------------------------------------------------------------\u001b[0m",
      "\u001b[0;31mAttributeError\u001b[0m                            Traceback (most recent call last)",
      "Cell \u001b[0;32mIn[24], line 1\u001b[0m\n\u001b[0;32m----> 1\u001b[0m \u001b[43mpwskills4\u001b[49m\u001b[38;5;241;43m.\u001b[39;49m\u001b[43mchange_number\u001b[49m(\u001b[38;5;241m6372829212\u001b[39m)\n",
      "\u001b[0;31mAttributeError\u001b[0m: type object 'pwskills4' has no attribute 'change_number'"
     ]
    }
   ],
   "source": [
    "pwskills4.change_number(6372829212)            ##getting error because change_number method is deleted"
   ]
  },
  {
   "cell_type": "code",
   "execution_count": 25,
   "id": "5de2c1df-4386-40c1-80b1-dac0960a3022",
   "metadata": {},
   "outputs": [],
   "source": [
    "delattr(pwskills4,\"details\")"
   ]
  },
  {
   "cell_type": "code",
   "execution_count": 26,
   "id": "f7dbc8f9-a253-4bbe-a17c-0ed4fcaa3346",
   "metadata": {},
   "outputs": [
    {
     "data": {
      "text/plain": [
       "3357676454"
      ]
     },
     "execution_count": 26,
     "metadata": {},
     "output_type": "execute_result"
    }
   ],
   "source": [
    "pwskills4.mobile_number"
   ]
  },
  {
   "cell_type": "code",
   "execution_count": 27,
   "id": "56521275-ac32-4e77-9647-adca67f52c3b",
   "metadata": {},
   "outputs": [],
   "source": [
    "delattr(pwskills4,\"mobile_number\")"
   ]
  },
  {
   "cell_type": "code",
   "execution_count": 28,
   "id": "a2728f09-217c-4845-8932-ba7e1927121f",
   "metadata": {},
   "outputs": [
    {
     "ename": "AttributeError",
     "evalue": "type object 'pwskills4' has no attribute 'mobile_number'",
     "output_type": "error",
     "traceback": [
      "\u001b[0;31m---------------------------------------------------------------------------\u001b[0m",
      "\u001b[0;31mAttributeError\u001b[0m                            Traceback (most recent call last)",
      "Cell \u001b[0;32mIn[28], line 1\u001b[0m\n\u001b[0;32m----> 1\u001b[0m \u001b[43mpwskills4\u001b[49m\u001b[38;5;241;43m.\u001b[39;49m\u001b[43mmobile_number\u001b[49m\n",
      "\u001b[0;31mAttributeError\u001b[0m: type object 'pwskills4' has no attribute 'mobile_number'"
     ]
    }
   ],
   "source": [
    "pwskills4.mobile_number"
   ]
  },
  {
   "cell_type": "code",
   "execution_count": 30,
   "id": "3b60f37d-ea12-40fd-ab69-4cd9586f414b",
   "metadata": {},
   "outputs": [],
   "source": [
    "delattr(pwskills4,\"course_details\")"
   ]
  },
  {
   "cell_type": "code",
   "execution_count": 31,
   "id": "9c609d63-dab8-4213-bbea-a5a5e823ecb0",
   "metadata": {},
   "outputs": [],
   "source": [
    "delattr(pwskills4,\"student_details\")#deleting an instance method from a class"
   ]
  },
  {
   "cell_type": "markdown",
   "id": "6e2cb5d1-5d6a-433a-85f9-ad6ad79b46d3",
   "metadata": {},
   "source": [
    "### Static Method"
   ]
  },
  {
   "cell_type": "code",
   "execution_count": 5,
   "id": "4d02e7cc-a0a1-4673-9b84-8aec1b172288",
   "metadata": {},
   "outputs": [],
   "source": [
    "class pwSkill:\n",
    "    def student_details(self, name, mail_id, number):\n",
    "        print(name, mail_id, number)"
   ]
  },
  {
   "cell_type": "code",
   "execution_count": 6,
   "id": "d31822aa-0a54-465d-a51f-fd3ceca56df2",
   "metadata": {},
   "outputs": [],
   "source": [
    "pw = pwSkill()"
   ]
  },
  {
   "cell_type": "code",
   "execution_count": 8,
   "id": "14eec5e6-d195-41bb-a456-05bf4a09460a",
   "metadata": {},
   "outputs": [
    {
     "name": "stdout",
     "output_type": "stream",
     "text": [
      "Kweera kweera@gmail.com 2562829286\n"
     ]
    }
   ],
   "source": [
    "pw.student_details(\"Kweera\", 'kweera@gmail.com', 2562829286)"
   ]
  },
  {
   "cell_type": "code",
   "execution_count": 10,
   "id": "d12db104-cc86-4baa-b004-3e0f76b7383f",
   "metadata": {},
   "outputs": [],
   "source": [
    "#By \n",
    "class pwSkill:\n",
    "    \n",
    "    def student_details(self, name, mail_id, number):\n",
    "        print(name, mail_id, number)\n",
    "    \n",
    "    @staticmethod\n",
    "    def mentor_class(list_mentor):\n",
    "        print(list_mentor)\n",
    "        \n",
    "    def mentor(self, mentor_list):               #instance method, we are not suppossed to create mentors list using this method\n",
    "        print(mentor_list)"
   ]
  },
  {
   "cell_type": "code",
   "execution_count": 11,
   "id": "8e303e19-534e-4941-9c61-ede25914c5d2",
   "metadata": {},
   "outputs": [],
   "source": [
    "pw1 = pwSkill()"
   ]
  },
  {
   "cell_type": "code",
   "execution_count": 12,
   "id": "5900ad7d-a2ae-467a-b000-55eed2e62c95",
   "metadata": {},
   "outputs": [
    {
     "name": "stdout",
     "output_type": "stream",
     "text": [
      "['Krish', 'Sudhanshu']\n"
     ]
    }
   ],
   "source": [
    "pw1.mentor([\"Krish\",\"Sudhanshu\"])"
   ]
  },
  {
   "cell_type": "code",
   "execution_count": 13,
   "id": "782e3208-9a36-4000-8be3-4df5f7e7d327",
   "metadata": {},
   "outputs": [
    {
     "name": "stdout",
     "output_type": "stream",
     "text": [
      "['Sudh', 'Naik']\n"
     ]
    }
   ],
   "source": [
    "pwSkill.mentor_class(['Sudh','Naik'])"
   ]
  },
  {
   "cell_type": "code",
   "execution_count": 14,
   "id": "c9312559-ad61-4fed-94ee-021a568715f6",
   "metadata": {},
   "outputs": [
    {
     "name": "stdout",
     "output_type": "stream",
     "text": [
      "['Krish Naik', 'Sudhanshu Kumar']\n"
     ]
    }
   ],
   "source": [
    "#We can also access static methods using objects too\n",
    "pw1.mentor_class(['Krish Naik', 'Sudhanshu Kumar'])"
   ]
  },
  {
   "cell_type": "markdown",
   "id": "7add06e1-8153-4898-83e1-35f66dee46ab",
   "metadata": {},
   "source": [
    "##### Static methods will be available to all the objects in a similar way, internally it is not creating different different functions wrt different instances. While creating an object for every method in the class separate separate instances will be created and that will take lots of memory. So if we want to optimize the code wrt memory we can use static method"
   ]
  },
  {
   "cell_type": "markdown",
   "id": "ebddc5db-9bef-436a-8211-92b424cc0365",
   "metadata": {},
   "source": [
    "##### Static method will be directly available to a class so it is availabe to all the objects that we are going to create"
   ]
  },
  {
   "cell_type": "code",
   "execution_count": 18,
   "id": "00d769a7-bfef-4c54-8f2f-5dd92630a166",
   "metadata": {},
   "outputs": [],
   "source": [
    "\n",
    "class pwSkill:\n",
    "    \n",
    "    def student_details(self, name, mail_id, number):\n",
    "        print(name, mail_id, number)             \n",
    "        #self.student_details             #here we'll not be able to access the static method as it is defined afterwards\n",
    "    \n",
    "    @staticmethod\n",
    "    def mentor_mail_id(mail_id):\n",
    "        print(mail_id)\n",
    "    \n",
    "    @staticmethod\n",
    "    def mentor_class(list_mentor):\n",
    "        print(list_mentor)\n",
    "        pwSkill.mentor_mail_id(['krish@gmail.com','sudh@gmail.com'])  #Accessing static method inside another staic method\n",
    "        \n",
    "    @classmethod\n",
    "    def class_name(cls,class_name):\n",
    "        cls.mentor_class(['sudhanshu','krish'])  #Accessing static method inside class method,it is successfully done\n",
    "        \n",
    "    def mentor(self, mentor_list):              \n",
    "        print(mentor_list)              #Accessing static method inside instance method, it is successfully done\n",
    "        self.mentor_class(['krish','sudh'])     #here we'll be able to access the static method as it is defined before"
   ]
  },
  {
   "cell_type": "markdown",
   "id": "2de21dff-f7c8-4328-ba08-e5820c85d567",
   "metadata": {},
   "source": [
    "##### Class method helps you to overload init method, class method will give access to any variable in the class. Static method always tries to utlize memory "
   ]
  },
  {
   "cell_type": "code",
   "execution_count": 19,
   "id": "df538e43-7f7f-47f4-a006-dd640d068d4e",
   "metadata": {},
   "outputs": [],
   "source": [
    "pw1 = pwSkill()"
   ]
  },
  {
   "cell_type": "code",
   "execution_count": 20,
   "id": "469b56e0-d006-4c02-ae0c-b4e58a8aee86",
   "metadata": {},
   "outputs": [
    {
     "name": "stdout",
     "output_type": "stream",
     "text": [
      "mohan mohan@gmail.com 9728922334\n"
     ]
    }
   ],
   "source": [
    "pw1.student_details(\"mohan\",'mohan@gmail.com',9728922334)"
   ]
  },
  {
   "cell_type": "code",
   "execution_count": 21,
   "id": "019c5a9b-1445-46e9-a640-2506672d4c0e",
   "metadata": {},
   "outputs": [
    {
     "name": "stdout",
     "output_type": "stream",
     "text": [
      "['krish@gmail.com', 'sudh@gmail.com']\n"
     ]
    }
   ],
   "source": [
    "pw1.mentor_mail_id(['krish@gmail.com','sudh@gmail.com'])"
   ]
  },
  {
   "cell_type": "code",
   "execution_count": 22,
   "id": "e3d57efe-1599-4e3f-acfd-938e345450bd",
   "metadata": {},
   "outputs": [
    {
     "name": "stdout",
     "output_type": "stream",
     "text": [
      "['sudhanshu', 'krish']\n",
      "['krish@gmail.com', 'sudh@gmail.com']\n"
     ]
    }
   ],
   "source": [
    "pw1.class_name(\"Datascience masters\")"
   ]
  },
  {
   "cell_type": "code",
   "execution_count": null,
   "id": "9e96e145-3356-4cc2-b32b-36929c4c2bc5",
   "metadata": {},
   "outputs": [],
   "source": []
  }
 ],
 "metadata": {
  "kernelspec": {
   "display_name": "Python 3 (ipykernel)",
   "language": "python",
   "name": "python3"
  },
  "language_info": {
   "codemirror_mode": {
    "name": "ipython",
    "version": 3
   },
   "file_extension": ".py",
   "mimetype": "text/x-python",
   "name": "python",
   "nbconvert_exporter": "python",
   "pygments_lexer": "ipython3",
   "version": "3.10.8"
  }
 },
 "nbformat": 4,
 "nbformat_minor": 5
}

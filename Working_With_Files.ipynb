{
 "cells": [
  {
   "cell_type": "code",
   "execution_count": 33,
   "id": "faef11dd-2d72-47dd-8689-f258f66231f8",
   "metadata": {},
   "outputs": [],
   "source": [
    "f = open(\"test.txt\",'w')                # File will be created in the current directory, each time we run this command the previous content will be gone"
   ]
  },
  {
   "cell_type": "code",
   "execution_count": 34,
   "id": "7531868e-239f-40e7-8c97-4475e106d707",
   "metadata": {},
   "outputs": [
    {
     "data": {
      "text/plain": [
       "'/home/jovyan/work'"
      ]
     },
     "execution_count": 34,
     "metadata": {},
     "output_type": "execute_result"
    }
   ],
   "source": [
    "pwd                                   "
   ]
  },
  {
   "cell_type": "code",
   "execution_count": 35,
   "id": "4819736d-ccdf-471f-ad21-2a6f902eb0c2",
   "metadata": {},
   "outputs": [
    {
     "name": "stdout",
     "output_type": "stream",
     "text": [
      " \u001b[0m\u001b[01;34m11thJune\u001b[0m/                         sample-code.ipynb\n",
      " \u001b[01;34m4thJunePractice\u001b[0m/                 'Strings&Lists.ipynb'\n",
      " \u001b[01;34m9thJune\u001b[0m/                          test.txt\n",
      " \u001b[01;34mAssignments\u001b[0m/                      \u001b[01;34mWeek1\u001b[0m/\n",
      "'If else while for.ipynb'          \u001b[01;34mWeek2\u001b[0m/\n",
      "'Mutability & Immutablity.ipynb'   \u001b[01;34mWeek3_Functions\u001b[0m/\n",
      " Operators.ipynb                   \u001b[01;34mWeek4_OOPs\u001b[0m/\n",
      " README.md                         Working_With_Files.ipynb\n"
     ]
    }
   ],
   "source": [
    "ls"
   ]
  },
  {
   "cell_type": "code",
   "execution_count": 26,
   "id": "d079f6f7-3750-40cd-a970-7603bf0ea5b7",
   "metadata": {},
   "outputs": [
    {
     "data": {
      "text/plain": [
       "46"
      ]
     },
     "execution_count": 26,
     "metadata": {},
     "output_type": "execute_result"
    }
   ],
   "source": [
    "f.write(\" This is my first write operation in the file.\")      "
   ]
  },
  {
   "cell_type": "code",
   "execution_count": 36,
   "id": "fb9c4f63-08b8-42a7-8cca-688260cc932b",
   "metadata": {},
   "outputs": [
    {
     "data": {
      "text/plain": [
       "171"
      ]
     },
     "execution_count": 36,
     "metadata": {},
     "output_type": "execute_result"
    }
   ],
   "source": [
    "#each time we run this command the previous content will be gone, 'w' command is overriding the previous data\n",
    "f.write(\"PW Skills is your one-stop-shop for upscaling. Get maximum value for time and resources you invest, with job-ready courses & high-technology, available at the lowest cost.\")      "
   ]
  },
  {
   "cell_type": "code",
   "execution_count": 37,
   "id": "0aca8298-6a4c-479a-9172-b1472de0f149",
   "metadata": {},
   "outputs": [],
   "source": [
    "f.close()      #Until and unless we run the close() command, the content will not be saved in the file "
   ]
  },
  {
   "cell_type": "code",
   "execution_count": 42,
   "id": "0d978df4-97b3-494a-a239-61d5a613c86f",
   "metadata": {},
   "outputs": [],
   "source": [
    "f = open(\"test1.txt\",'a')         #We need to open the file in \"a\" mode if we want the new data to be appended after the previous data"
   ]
  },
  {
   "cell_type": "code",
   "execution_count": 39,
   "id": "0eebd80c-457a-4dc2-8f29-0145a1584bc9",
   "metadata": {},
   "outputs": [
    {
     "data": {
      "text/plain": [
       "46"
      ]
     },
     "execution_count": 39,
     "metadata": {},
     "output_type": "execute_result"
    }
   ],
   "source": [
    "f.write(\" This is my first write operation in the file.\")      "
   ]
  },
  {
   "cell_type": "code",
   "execution_count": 40,
   "id": "e6dbca5f-991d-43d0-952e-828f4dec1f0b",
   "metadata": {},
   "outputs": [],
   "source": [
    "f.close()"
   ]
  },
  {
   "cell_type": "code",
   "execution_count": 43,
   "id": "1c212afc-8ed2-4b0d-b58a-014be44393c9",
   "metadata": {},
   "outputs": [
    {
     "data": {
      "text/plain": [
       "171"
      ]
     },
     "execution_count": 43,
     "metadata": {},
     "output_type": "execute_result"
    }
   ],
   "source": [
    "f.write(\"PW Skills is your one-stop-shop for upscaling. Get maximum value for time and resources you invest, with job-ready courses & high-technology, available at the lowest cost.\")      "
   ]
  },
  {
   "cell_type": "code",
   "execution_count": 44,
   "id": "f9a27c0c-ea90-4568-ad6d-5264fc6050b8",
   "metadata": {},
   "outputs": [],
   "source": [
    "f.close()"
   ]
  },
  {
   "cell_type": "code",
   "execution_count": 46,
   "id": "3f8fef3a-4216-4f21-b22b-d8fcb11ba359",
   "metadata": {},
   "outputs": [],
   "source": [
    "# Reading contents of a file\n",
    "data = open(\"test1.txt\",'r')"
   ]
  },
  {
   "cell_type": "code",
   "execution_count": 47,
   "id": "7ce320e9-d8e8-4bb7-a1a6-f2fd90ba6a22",
   "metadata": {},
   "outputs": [
    {
     "data": {
      "text/plain": [
       "' This is my first write operation in the file.PW Skills is your one-stop-shop for upscaling. Get maximum value for time and resources you invest, with job-ready courses & high-technology, available at the lowest cost.'"
      ]
     },
     "execution_count": 47,
     "metadata": {},
     "output_type": "execute_result"
    }
   ],
   "source": [
    "data.read()"
   ]
  },
  {
   "cell_type": "code",
   "execution_count": 49,
   "id": "e5ccb020-3f54-49b1-a187-82f593f9659b",
   "metadata": {},
   "outputs": [
    {
     "data": {
      "text/plain": [
       "''"
      ]
     },
     "execution_count": 49,
     "metadata": {},
     "output_type": "execute_result"
    }
   ],
   "source": [
    "data.read()        #Inspite of this command being valid, we are getting blank output as because of reading the file content for the first time the cursor now is at the end after ther full stop so that's why this time we got blank output"
   ]
  },
  {
   "cell_type": "code",
   "execution_count": 50,
   "id": "1f8004b8-630e-40aa-ac12-602641c22094",
   "metadata": {},
   "outputs": [
    {
     "data": {
      "text/plain": [
       "0"
      ]
     },
     "execution_count": 50,
     "metadata": {},
     "output_type": "execute_result"
    }
   ],
   "source": [
    "data.seek(0)   #reseting the cursor to the 0th position"
   ]
  },
  {
   "cell_type": "code",
   "execution_count": 53,
   "id": "3c2e7db6-78c5-4cdb-86ab-ca497f74a259",
   "metadata": {},
   "outputs": [
    {
     "data": {
      "text/plain": [
       "''"
      ]
     },
     "execution_count": 53,
     "metadata": {},
     "output_type": "execute_result"
    }
   ],
   "source": [
    "data.read()     #Now again if we run read() command we'll get blank output"
   ]
  },
  {
   "cell_type": "code",
   "execution_count": 56,
   "id": "30dd541e-3122-4324-bb31-6cf4c34b7a48",
   "metadata": {},
   "outputs": [
    {
     "data": {
      "text/plain": [
       "55"
      ]
     },
     "execution_count": 56,
     "metadata": {},
     "output_type": "execute_result"
    }
   ],
   "source": [
    "data.seek(55)    #We can reset the cursor at any position using the seek command "
   ]
  },
  {
   "cell_type": "code",
   "execution_count": 55,
   "id": "dc7018f2-8945-4ddb-89b1-17b55c1df7b3",
   "metadata": {},
   "outputs": [
    {
     "data": {
      "text/plain": [
       "' is your one-stop-shop for upscaling. Get maximum value for time and resources you invest, with job-ready courses & high-technology, available at the lowest cost.'"
      ]
     },
     "execution_count": 55,
     "metadata": {},
     "output_type": "execute_result"
    }
   ],
   "source": [
    "data.read() "
   ]
  },
  {
   "cell_type": "code",
   "execution_count": 57,
   "id": "4c2bd9e3-9076-4654-af7b-22a526f3212a",
   "metadata": {},
   "outputs": [],
   "source": [
    "data1 = open(\"test1.txt\",'r')"
   ]
  },
  {
   "cell_type": "code",
   "execution_count": 58,
   "id": "df5533e3-bf12-41d6-a7a2-53565f555635",
   "metadata": {},
   "outputs": [
    {
     "name": "stdout",
     "output_type": "stream",
     "text": [
      " This is my first write operation in the file.PW Skills is your one-stop-shop for upscaling. Get maximum value for time and resources you invest, with job-ready courses & high-technology, available at the lowest cost.\n"
     ]
    }
   ],
   "source": [
    "for i in data1:\n",
    "    print(i)              #Another way of reading from a file"
   ]
  },
  {
   "cell_type": "code",
   "execution_count": 59,
   "id": "dea9ad15-4e25-4844-95d4-9c82b8050d23",
   "metadata": {},
   "outputs": [],
   "source": [
    "#function for getting the size size instead of hovering the cursor over the file, we need to import os module for this\n",
    "import os"
   ]
  },
  {
   "cell_type": "code",
   "execution_count": 60,
   "id": "c54f8cc1-7492-473a-84e7-db496cb7a982",
   "metadata": {},
   "outputs": [
    {
     "data": {
      "text/plain": [
       "217"
      ]
     },
     "execution_count": 60,
     "metadata": {},
     "output_type": "execute_result"
    }
   ],
   "source": [
    "os.path.getsize(\"test1.txt\")"
   ]
  },
  {
   "cell_type": "code",
   "execution_count": 61,
   "id": "82e8996f-f3e1-4136-87c8-66ffb9804a0e",
   "metadata": {},
   "outputs": [],
   "source": [
    "# Creating a copy of a particular file, we need to import shutil for this\n",
    "import shutil"
   ]
  },
  {
   "cell_type": "code",
   "execution_count": 62,
   "id": "f4225458-1a73-44fa-850c-58545ba4289a",
   "metadata": {},
   "outputs": [
    {
     "data": {
      "text/plain": [
       "'new.txt'"
      ]
     },
     "execution_count": 62,
     "metadata": {},
     "output_type": "execute_result"
    }
   ],
   "source": [
    "shutil.copy(\"test1.txt\", \"new.txt\")"
   ]
  },
  {
   "cell_type": "code",
   "execution_count": 63,
   "id": "78a0076f-6d2d-42b3-b28c-0ec155d63b94",
   "metadata": {},
   "outputs": [],
   "source": [
    "#Removing a file\n",
    "os.remove(\"test.txt\")"
   ]
  },
  {
   "cell_type": "code",
   "execution_count": 65,
   "id": "e587970e-705e-4b59-9335-1daa481b8d0b",
   "metadata": {},
   "outputs": [
    {
     "name": "stdout",
     "output_type": "stream",
     "text": [
      " This is my first write operation in the file.PW Skills is your one-stop-shop for upscaling. Get maximum value for time and resources you invest, with job-ready courses & high-technology, available at the lowest cost.\n"
     ]
    }
   ],
   "source": [
    "#Another way of reading and writing from  a file\n",
    "with open(\"new.txt\",'r') as f:\n",
    "    print(f.read())"
   ]
  },
  {
   "cell_type": "code",
   "execution_count": 67,
   "id": "02eca613-6a1b-49a1-a42f-8bcfadeef251",
   "metadata": {},
   "outputs": [
    {
     "name": "stdout",
     "output_type": "stream",
     "text": [
      "42\n"
     ]
    }
   ],
   "source": [
    "with open(\"new1.txt\",'w') as p:\n",
    "    print(p.write(\"This is a new way of writing into the file\"))"
   ]
  },
  {
   "cell_type": "code",
   "execution_count": 68,
   "id": "13b754cb-ea8c-4715-84c9-121423be7fee",
   "metadata": {},
   "outputs": [],
   "source": [
    "#Renaming a file\n",
    "os.rename(\"new1.txt\",\"new_way.txt\")"
   ]
  },
  {
   "cell_type": "code",
   "execution_count": null,
   "id": "21ee8a55-e2a4-4ad2-acc5-bc780ccfcebc",
   "metadata": {},
   "outputs": [],
   "source": []
  }
 ],
 "metadata": {
  "kernelspec": {
   "display_name": "Python 3 (ipykernel)",
   "language": "python",
   "name": "python3"
  },
  "language_info": {
   "codemirror_mode": {
    "name": "ipython",
    "version": 3
   },
   "file_extension": ".py",
   "mimetype": "text/x-python",
   "name": "python",
   "nbconvert_exporter": "python",
   "pygments_lexer": "ipython3",
   "version": "3.10.8"
  }
 },
 "nbformat": 4,
 "nbformat_minor": 5
}

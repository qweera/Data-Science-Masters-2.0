{
 "cells": [
  {
   "cell_type": "markdown",
   "id": "d33d779c-4194-49a1-b747-14511715ec73",
   "metadata": {},
   "source": [
    "### Reading and Writing from Dictionaries"
   ]
  },
  {
   "cell_type": "code",
   "execution_count": 1,
   "id": "a7b41639-e086-4ea6-9fc4-a9fd2e10d3e5",
   "metadata": {},
   "outputs": [],
   "source": [
    "data = {\n",
    "    \"name\" : \"Karisshmaa\",\n",
    "    \"mail_id\" : 'kweera@gmail.com',\n",
    "    \"Phone_number\" : 7353637555,\n",
    "    \"subject\" : [\"Machine Learning\", \"Cloud computing\", \"Data Analysis\"]\n",
    "}   "
   ]
  },
  {
   "cell_type": "code",
   "execution_count": 2,
   "id": "7e01e9e9-654a-4dd9-a98a-608a491a75be",
   "metadata": {},
   "outputs": [],
   "source": [
    "import json             #JavaScript Object Notation. JSON is a lightweight format for storing and transporting data."
   ]
  },
  {
   "cell_type": "code",
   "execution_count": 3,
   "id": "654b68aa-d083-410b-adf4-7f4e402dbc33",
   "metadata": {},
   "outputs": [],
   "source": [
    "with open(\"test.json\",'w') as f:         #Writing for a dictionary kind of object\n",
    "    json.dump(data,f)"
   ]
  },
  {
   "cell_type": "code",
   "execution_count": 5,
   "id": "1d8fc441-db63-4c14-a541-7a29f024dc19",
   "metadata": {},
   "outputs": [],
   "source": [
    "with open(\"test.json\",'r') as f:         #Reading from a dictionary kind of object\n",
    "    data1 = json.load(f)"
   ]
  },
  {
   "cell_type": "code",
   "execution_count": 6,
   "id": "bf163c92-15fb-4832-9267-1cc041db4ec9",
   "metadata": {},
   "outputs": [
    {
     "data": {
      "text/plain": [
       "{'name': 'Karisshmaa',\n",
       " 'mail_id': 'kweera@gmail.com',\n",
       " 'Phone_number': 7353637555,\n",
       " 'subject': ['Machine Learning', 'Cloud computing', 'Data Analysis']}"
      ]
     },
     "execution_count": 6,
     "metadata": {},
     "output_type": "execute_result"
    }
   ],
   "source": [
    "data1"
   ]
  },
  {
   "cell_type": "code",
   "execution_count": 14,
   "id": "6d15a30d-89fe-41d1-a1c4-3df976afc9bb",
   "metadata": {},
   "outputs": [
    {
     "data": {
      "text/plain": [
       "'Cloud computing'"
      ]
     },
     "execution_count": 14,
     "metadata": {},
     "output_type": "execute_result"
    }
   ],
   "source": [
    "data1['subject'][1]"
   ]
  },
  {
   "cell_type": "markdown",
   "id": "725204ec-0f03-4c44-be5a-9638a0050cca",
   "metadata": {},
   "source": [
    "### Reading and Writing from CSV's"
   ]
  },
  {
   "cell_type": "code",
   "execution_count": 15,
   "id": "fe9e7b66-2d9e-4d48-a06e-231f317a7b09",
   "metadata": {},
   "outputs": [],
   "source": [
    "data_csv = [['Name','Email_Id','Number'],\n",
    "            ['Karishma','kweera@gmail.com',77568755],\n",
    "            ['Kweera','karishma@gmail.com',660568755]\n",
    "            ] "
   ]
  },
  {
   "cell_type": "code",
   "execution_count": 16,
   "id": "450c1e68-5cd4-46c1-8d20-a7113538a156",
   "metadata": {},
   "outputs": [],
   "source": [
    "import csv"
   ]
  },
  {
   "cell_type": "code",
   "execution_count": 19,
   "id": "0334cfde-b145-4eee-a096-e41190fddebd",
   "metadata": {},
   "outputs": [],
   "source": [
    "with open(\"test3.csv\", \"w\") as f:\n",
    "    w = csv.writer(f)\n",
    "    for i in data_csv:\n",
    "        w.writerow(i)    "
   ]
  },
  {
   "cell_type": "code",
   "execution_count": 20,
   "id": "e145e209-0916-4ac1-aa7f-19c4664d0a12",
   "metadata": {},
   "outputs": [
    {
     "name": "stdout",
     "output_type": "stream",
     "text": [
      "['Name', 'Email_Id', 'Number']\n",
      "['Karishma', 'kweera@gmail.com', '77568755']\n",
      "['Kweera', 'karishma@gmail.com', '660568755']\n"
     ]
    }
   ],
   "source": [
    "with open(\"test3.csv\", \"r\") as f:\n",
    "    read = csv.reader(f)\n",
    "    for i in read:\n",
    "        print(i)   "
   ]
  },
  {
   "cell_type": "markdown",
   "id": "adc768a9-68fb-47d8-9f6a-fbdab52c5120",
   "metadata": {},
   "source": [
    "### Reading and Writing from binary Files"
   ]
  },
  {
   "cell_type": "code",
   "execution_count": 1,
   "id": "0c5ea358-ff79-43cf-bbc9-7d678179411c",
   "metadata": {},
   "outputs": [],
   "source": [
    "#Binary is a kind of data that is present in audio, video, in form of images\n",
    "with open(\"test4.bin\",'wb') as f:\n",
    "    f.write(b'\\x01\\x02\\x03')  "
   ]
  },
  {
   "cell_type": "code",
   "execution_count": 3,
   "id": "45bb8db8-dc03-43fe-a122-343c4b4051b7",
   "metadata": {},
   "outputs": [
    {
     "name": "stdout",
     "output_type": "stream",
     "text": [
      "b'\\x01\\x02\\x03'\n"
     ]
    }
   ],
   "source": [
    "with open(\"test4.bin\",'rb') as f:\n",
    "    print(f.read())"
   ]
  },
  {
   "cell_type": "code",
   "execution_count": null,
   "id": "b32fc398-13ec-47fb-aee6-f382db3f1e47",
   "metadata": {},
   "outputs": [],
   "source": []
  }
 ],
 "metadata": {
  "kernelspec": {
   "display_name": "Python 3 (ipykernel)",
   "language": "python",
   "name": "python3"
  },
  "language_info": {
   "codemirror_mode": {
    "name": "ipython",
    "version": 3
   },
   "file_extension": ".py",
   "mimetype": "text/x-python",
   "name": "python",
   "nbconvert_exporter": "python",
   "pygments_lexer": "ipython3",
   "version": "3.10.8"
  }
 },
 "nbformat": 4,
 "nbformat_minor": 5
}

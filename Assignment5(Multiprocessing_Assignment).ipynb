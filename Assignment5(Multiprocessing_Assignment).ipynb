{
 "cells": [
  {
   "cell_type": "markdown",
   "id": "3e205607-bd07-4e8a-87e1-37d1acf9e618",
   "metadata": {},
   "source": [
    "## Assignment 5: Multiprocessing_Assignment"
   ]
  },
  {
   "cell_type": "markdown",
   "id": "c4cacf96-c544-4ced-8c61-26651debc2f9",
   "metadata": {},
   "source": [
    "Q1. What is multiprocessing in python? Why is it useful?"
   ]
  },
  {
   "cell_type": "markdown",
   "id": "492cda7c-9a95-4684-ae10-326d45e7e606",
   "metadata": {},
   "source": [
    "Ans 1. Multiprocessing in Python is a technique used to execute multiple processes concurrently or running multiple processes simultaneously within a single thread, taking advantage of multiple CPU cores to perform tasks in parallel and hereby improving the performance of a program by using multiple CPUs or CPU cores. This can lead to significant performance improvements, especially for CPU-bound tasks. Python's multiprocessing module makes it relatively easy to work with multiple processes"
   ]
  },
  {
   "cell_type": "markdown",
   "id": "db319fb5-3fd2-4dff-8cb3-8778428b64fd",
   "metadata": {},
   "source": [
    "Q2. What are the differences between multiprocessing and multithreading?"
   ]
  },
  {
   "cell_type": "markdown",
   "id": "4e27beec-e83a-4a70-9f85-d82129cb41a0",
   "metadata": {},
   "source": [
    "Ans 2. **Core Concept:**\n",
    "\n",
    "Multithreading: In multithreading, multiple threads are created within a single process. All threads share the same memory space of the parent process, which means they can easily communicate and share data but also need to be careful about synchronization to avoid conflicts.\n",
    "\n",
    "Multiprocessing: In multiprocessing, multiple processes are created, each with its own separate memory space. Processes are more isolated from each other and communicate using inter-process communication (IPC) mechanisms like queues or pipes.\n",
    "\n",
    "**Performance:**\n",
    "\n",
    "Multithreading: Due to Python's Global Interpreter Lock (GIL), which allows only one thread to execute Python bytecode at a time, multithreading is generally not well-suited for CPU-bound tasks that require intense computation. However, it can be useful for I/O-bound tasks where threads spend a lot of time waiting, such as web scraping or network requests.\n",
    "\n",
    "Multiprocessing: Multiprocessing is suitable for CPU-bound tasks since each process runs in its own interpreter and has its own GIL. This allows multiple CPU cores to be fully utilized, resulting in better performance for CPU-intensive tasks"
   ]
  },
  {
   "cell_type": "markdown",
   "id": "6cead893-95f6-4a76-9869-f1cb92b6803e",
   "metadata": {},
   "source": [
    "Q3. Write a python code to create a process using the multiprocessing module."
   ]
  },
  {
   "cell_type": "code",
   "execution_count": 14,
   "id": "c8ef6b97-6233-43d6-bb72-3b0e8937ceba",
   "metadata": {},
   "outputs": [
    {
     "name": "stdout",
     "output_type": "stream",
     "text": [
      "The square of 6 is 36The square of 3 is 9The square of 2 is 4\n",
      "\n",
      "\n",
      "The square of 4 is 16The square of 5 is 25\n",
      "\n",
      "Multiprocessing example finished.\n"
     ]
    }
   ],
   "source": [
    "#Ans 3.\n",
    "import multiprocessing\n",
    "\n",
    "# Function to calculate the square of a number\n",
    "def square(number):\n",
    "    result = number * number\n",
    "    print(f\"The square of {number} is {result}\")\n",
    "\n",
    "if __name__ == \"__main__\":\n",
    "    # Create a list of numbers\n",
    "    numbers = [6, 2, 3, 4, 5]\n",
    "\n",
    "    # Create a multiprocessing pool with 2 processes\n",
    "    pool = multiprocessing.Pool(processes = 3)\n",
    "\n",
    "    # Use the pool to apply the 'square' function to each number in parallel\n",
    "    pool.map(square, numbers)\n",
    "\n",
    "    # Close the pool and wait for all processes to finish\n",
    "    pool.close()\n",
    "    pool.join()\n",
    "\n",
    "    print(\"Multiprocessing example finished.\")"
   ]
  },
  {
   "cell_type": "markdown",
   "id": "b71fdc37-efb4-4588-84ca-131f8687ca43",
   "metadata": {},
   "source": [
    "Q4. What is a multiprocessing pool in python? Why is it used?"
   ]
  },
  {
   "cell_type": "markdown",
   "id": "facaccec-02a2-48aa-ba44-167e13d27969",
   "metadata": {},
   "source": [
    "Ans4. Process pool in multiprocessing is a set of processes that can be executed concurrently to perform a specific task. Some key reasons why we would use a multiprocessing pool:\n",
    "\n",
    "**Parallel Execution**: The primary purpose of a multiprocessing pool is to perform tasks concurrently in parallel processes. This can significantly speed up the execution of CPU-bound tasks by utilizing multiple CPU cores.\n",
    "\n",
    "**Load Balancing**: The pool automatically distributes tasks among the available worker processes, ensuring that the workload is evenly balanced. This helps prevent any one process from becoming a bottleneck.\n",
    "\n",
    "**Resource Management**: Multiprocessing pools allow you to control the number of worker processes created. You can adjust the pool size to match the number of available CPU cores or other resource constraints."
   ]
  },
  {
   "cell_type": "markdown",
   "id": "d1b96d83-1bd2-4e1b-b605-3b69435c20c1",
   "metadata": {},
   "source": [
    "Q5. How can we create a pool of worker processes in python using the multiprocessing module?"
   ]
  },
  {
   "cell_type": "markdown",
   "id": "e67f3ebf-b2e0-4dbc-9766-1ffd6978a8db",
   "metadata": {},
   "source": [
    "Ans 5. To create a pool of worker processes in Python using the multiprocessing module, we can use the Pool class. The Pool class provides a convenient way to distribute work among multiple processes. map_async, apply, or apply_async can also be used in place of map function."
   ]
  },
  {
   "cell_type": "code",
   "execution_count": 13,
   "id": "dfbe78c5-5cae-4cf0-8d86-4b1da56e27ab",
   "metadata": {},
   "outputs": [
    {
     "name": "stdout",
     "output_type": "stream",
     "text": [
      "[30, 10, 15, 20, 25]\n"
     ]
    }
   ],
   "source": [
    "import multiprocessing\n",
    "\n",
    "def worker_function(arg):\n",
    "    # Perform computation here\n",
    "    result = arg * 5\n",
    "    return result\n",
    "\n",
    "#num_processes = multiprocessing.cpu_count()\n",
    "pool = multiprocessing.Pool(processes=3)\n",
    "input_data = [6, 2, 3, 4, 5]\n",
    "results = pool.map(worker_function, input_data)\n",
    "\n",
    "pool.close()\n",
    "pool.join()\n",
    "\n",
    "print(results)"
   ]
  },
  {
   "cell_type": "markdown",
   "id": "c06c08e6-1249-424c-b0e5-d590b7920e11",
   "metadata": {},
   "source": [
    "Q6. Write a python program to create 4 processes, each process should print a different number using the multiprocessing module in python."
   ]
  },
  {
   "cell_type": "code",
   "execution_count": 16,
   "id": "427500b8-d13f-4855-b538-563c92a779f7",
   "metadata": {},
   "outputs": [
    {
     "name": "stdout",
     "output_type": "stream",
     "text": [
      "Process 5: 5\n",
      "Process 2: 2\n",
      "Process 3: 3\n",
      "Process 6: 6\n",
      "All processes have finished.\n"
     ]
    }
   ],
   "source": [
    "#Ans 6.\n",
    "import multiprocessing\n",
    "\n",
    "# Define a function for each process to execute\n",
    "def print_number(number):\n",
    "    print(f\"Process {number}: {number}\")\n",
    "\n",
    "if __name__ == \"__main__\":\n",
    "    # Create a list of numbers to pass to each process\n",
    "    numbers = [5, 2, 3, 6]\n",
    "\n",
    "    # Create a list to hold the process objects\n",
    "    processes = []\n",
    "\n",
    "    # Create and start 4 processes\n",
    "    for number in numbers:\n",
    "        process = multiprocessing.Process(target=print_number, args=(number,))\n",
    "        processes.append(process)\n",
    "        process.start()\n",
    "\n",
    "    # Wait for all processes to complete\n",
    "    for process in processes:\n",
    "        process.join()\n",
    "\n",
    "    print(\"All processes have finished.\")\n"
   ]
  }
 ],
 "metadata": {
  "kernelspec": {
   "display_name": "Python 3 (ipykernel)",
   "language": "python",
   "name": "python3"
  },
  "language_info": {
   "codemirror_mode": {
    "name": "ipython",
    "version": 3
   },
   "file_extension": ".py",
   "mimetype": "text/x-python",
   "name": "python",
   "nbconvert_exporter": "python",
   "pygments_lexer": "ipython3",
   "version": "3.10.8"
  }
 },
 "nbformat": 4,
 "nbformat_minor": 5
}

{
 "cells": [
  {
   "cell_type": "markdown",
   "id": "64bfd793-debd-4219-98d1-585a86ff9c13",
   "metadata": {},
   "source": [
    "Q1. Create one variable containing following type of data:\n",
    "(i) string\n",
    "(ii) list\n",
    "(iii) float\n",
    "(iv) tuple"
   ]
  },
  {
   "cell_type": "code",
   "execution_count": 6,
   "id": "eb09f3e7-8fb2-4d98-8f03-4fafec3fb699",
   "metadata": {},
   "outputs": [
    {
     "data": {
      "text/plain": [
       "list"
      ]
     },
     "execution_count": 6,
     "metadata": {},
     "output_type": "execute_result"
    }
   ],
   "source": [
    "#Ans1(i)\n",
    "x1=[7,9,'aqua',[4,8,9]]\n",
    "type(x1)"
   ]
  },
  {
   "cell_type": "code",
   "execution_count": 7,
   "id": "f8c34f4a-30fa-4201-9cb3-d1079b46a6bd",
   "metadata": {},
   "outputs": [
    {
     "data": {
      "text/plain": [
       "str"
      ]
     },
     "execution_count": 7,
     "metadata": {},
     "output_type": "execute_result"
    }
   ],
   "source": [
    "#Ans1(ii)\n",
    "x2=\"Complete your goal's for today \"\n",
    "type(x2)"
   ]
  },
  {
   "cell_type": "code",
   "execution_count": 8,
   "id": "c1e53d93-9736-4b22-b988-49c191256f7d",
   "metadata": {},
   "outputs": [
    {
     "data": {
      "text/plain": [
       "float"
      ]
     },
     "execution_count": 8,
     "metadata": {},
     "output_type": "execute_result"
    }
   ],
   "source": [
    "#Ans1(iii)\n",
    "x3=45/9\n",
    "type(x3)"
   ]
  },
  {
   "cell_type": "code",
   "execution_count": 9,
   "id": "e1ce3d61-2630-4a79-b575-f89c75ac9aee",
   "metadata": {},
   "outputs": [
    {
     "data": {
      "text/plain": [
       "tuple"
      ]
     },
     "execution_count": 9,
     "metadata": {},
     "output_type": "execute_result"
    }
   ],
   "source": [
    "#Ans1(iv)\n",
    "x4=(6,9,'goal',[4,8,9])\n",
    "type(x4)"
   ]
  },
  {
   "cell_type": "markdown",
   "id": "0a4a60f6-95ce-4224-9dd8-c49531d30276",
   "metadata": {},
   "source": [
    "Q2. Given are some following variables containing data:\n",
    "(i) var1 = ‘ ‘\n",
    "(ii) var2='[DS, ML, Python]'\n",
    "(iii) var3 = [ 'DS', 'ML', 'Python' ]\n",
    "(iv) var4=1.\n",
    "What will be the data type of the above given variable."
   ]
  },
  {
   "cell_type": "code",
   "execution_count": 6,
   "id": "16e57ce7-6b7c-4be6-8f03-52d5c9a86649",
   "metadata": {},
   "outputs": [
    {
     "data": {
      "text/plain": [
       "str"
      ]
     },
     "execution_count": 6,
     "metadata": {},
     "output_type": "execute_result"
    }
   ],
   "source": [
    "#Ans2(i)\n",
    "var1=''\n",
    "type(var1)"
   ]
  },
  {
   "cell_type": "code",
   "execution_count": 7,
   "id": "440e77f0-8a24-45a3-bea4-f169e5255574",
   "metadata": {},
   "outputs": [
    {
     "data": {
      "text/plain": [
       "str"
      ]
     },
     "execution_count": 7,
     "metadata": {},
     "output_type": "execute_result"
    }
   ],
   "source": [
    "#Ans2(ii)\n",
    "var2='[DS, ML, Python]'\n",
    "type(var2)"
   ]
  },
  {
   "cell_type": "code",
   "execution_count": 8,
   "id": "7de8f750-c141-4a9a-9cea-287b7f8279f7",
   "metadata": {},
   "outputs": [
    {
     "data": {
      "text/plain": [
       "list"
      ]
     },
     "execution_count": 8,
     "metadata": {},
     "output_type": "execute_result"
    }
   ],
   "source": [
    "#Ans2(iii)\n",
    "var3 = [ 'DS', 'ML', 'Python' ]\n",
    "type(var3)"
   ]
  },
  {
   "cell_type": "code",
   "execution_count": 10,
   "id": "49a9f600-f8b7-445e-919a-6a67ac465a90",
   "metadata": {},
   "outputs": [
    {
     "data": {
      "text/plain": [
       "int"
      ]
     },
     "execution_count": 10,
     "metadata": {},
     "output_type": "execute_result"
    }
   ],
   "source": [
    "#Ans2(iv)\n",
    "var4=1\n",
    "type(var4)"
   ]
  },
  {
   "cell_type": "markdown",
   "id": "9013e0b6-5476-40b4-b64b-8a2946d8015d",
   "metadata": {},
   "source": [
    "Q3.Explain the use of the following operators using an example:\n",
    "(i) /\n",
    "(ii) %\n",
    "(iii) //\n",
    "(iv) **"
   ]
  },
  {
   "cell_type": "code",
   "execution_count": 23,
   "id": "833d1d48-c28b-48a6-a240-9b6df25ed3ca",
   "metadata": {},
   "outputs": [
    {
     "name": "stdout",
     "output_type": "stream",
     "text": [
      "3.25\n"
     ]
    }
   ],
   "source": [
    "#Ans3(i)\n",
    "y1 = 13/4\n",
    "print(y1)\n",
    "# / is airthematic operator which gives the value of complete quotient having datatype as float. "
   ]
  },
  {
   "cell_type": "code",
   "execution_count": 17,
   "id": "444d7fd0-58c2-457c-b707-5fee0143e7d1",
   "metadata": {},
   "outputs": [
    {
     "name": "stdout",
     "output_type": "stream",
     "text": [
      "1\n"
     ]
    }
   ],
   "source": [
    "#Ans3(ii)\n",
    "y2 = 13%4\n",
    "print(y2)\n",
    "# % is airthematic operator which gives the value of remainder having datatype as int. "
   ]
  },
  {
   "cell_type": "code",
   "execution_count": 22,
   "id": "7cf57b43-c257-42c8-936a-6d243858b613",
   "metadata": {},
   "outputs": [
    {
     "name": "stdout",
     "output_type": "stream",
     "text": [
      "3\n"
     ]
    }
   ],
   "source": [
    "#Ans3(iii)\n",
    "y3 = 13//4\n",
    "print(y3)\n",
    "# // is airthematic operator which gives the floor value of quotient after division having datatype as int. "
   ]
  },
  {
   "cell_type": "code",
   "execution_count": 25,
   "id": "a00783da-ad7f-44ea-8d19-c0906c1d6e5b",
   "metadata": {},
   "outputs": [
    {
     "name": "stdout",
     "output_type": "stream",
     "text": [
      "64\n"
     ]
    }
   ],
   "source": [
    "#Ans3(iv)\n",
    "y4 = 4**3\n",
    "print(y4)\n",
    "# ** is power airthematic operator which gives the value of x1(power)x2 having datatype as int. "
   ]
  },
  {
   "cell_type": "code",
   "execution_count": null,
   "id": "6c826b7b-f214-4355-a896-edbd5f277b77",
   "metadata": {},
   "outputs": [],
   "source": [
    "#Q4. Create a list of length 10 of your choice containing multiple types of data. Using for loop print the element aand its data ttype."
   ]
  },
  {
   "cell_type": "code",
   "execution_count": 69,
   "id": "ccadc747-0a30-4e93-a243-4cc84cc0f8b9",
   "metadata": {},
   "outputs": [
    {
     "name": "stdout",
     "output_type": "stream",
     "text": [
      "1\n",
      "<class 'int'>\n",
      "axe\n",
      "<class 'str'>\n",
      "[1, 2, 'innerlist']\n",
      "<class 'list'>\n",
      "g\n",
      "<class 'str'>\n",
      "this is a string\n",
      "<class 'str'>\n",
      "['happy']\n",
      "<class 'list'>\n",
      "6\n",
      "<class 'int'>\n",
      "4.8\n",
      "<class 'float'>\n",
      "\n",
      "<class 'str'>\n",
      "(5, 'utter', [9, 7])\n",
      "<class 'tuple'>\n",
      "subhangi\n",
      "<class 'str'>\n"
     ]
    }
   ],
   "source": [
    "#Ans4\n",
    "list1=[1,'axe',[1,2,'innerlist'],'g','this is a string',['happy'],6,4.8,'',(5,'utter',[9,7]),'subhangi']\n",
    "for i in list1:\n",
    "    print(i)\n",
    "    print(type(i))"
   ]
  },
  {
   "cell_type": "markdown",
   "id": "ce481664-fa42-4c9f-b588-bb77f41bb111",
   "metadata": {},
   "source": [
    "Q5. Using a while loop, verify if the number A is purely divisible by number B and if so then how many times it can be divisible."
   ]
  },
  {
   "cell_type": "code",
   "execution_count": 75,
   "id": "38ac178a-29a2-435e-94f2-063456abba4f",
   "metadata": {},
   "outputs": [
    {
     "name": "stdin",
     "output_type": "stream",
     "text": [
      "Enter a value for A 99\n",
      "Enter a value for B 6\n"
     ]
    },
    {
     "name": "stdout",
     "output_type": "stream",
     "text": [
      "False\n",
      "16.5\n"
     ]
    }
   ],
   "source": [
    "#Ans5\n",
    "A=int(input(\"Enter a value for A\"))\n",
    "B=int(input(\"Enter a value for B\"))\n",
    "print(A%B==0)\n",
    "print(A/B)"
   ]
  },
  {
   "cell_type": "markdown",
   "id": "962ecd3c-2461-4808-b11e-b0280a4a5aec",
   "metadata": {},
   "source": [
    "Q6. Create a list containing 25 int type data. Using for loop and if-else condition print if the element is divisible by 3 orr noot."
   ]
  },
  {
   "cell_type": "code",
   "execution_count": 76,
   "id": "49613638-b5bc-40a9-8273-d4993a4010ac",
   "metadata": {},
   "outputs": [
    {
     "name": "stdout",
     "output_type": "stream",
     "text": [
      "False\n",
      "False\n",
      "True\n",
      "False\n",
      "False\n",
      "True\n",
      "False\n",
      "False\n",
      "True\n",
      "False\n",
      "False\n",
      "True\n",
      "False\n",
      "False\n",
      "True\n",
      "False\n",
      "False\n",
      "True\n",
      "False\n",
      "False\n",
      "True\n",
      "False\n",
      "False\n",
      "True\n",
      "False\n"
     ]
    }
   ],
   "source": [
    "#Ans6\n",
    "numbers=list(range(1,26))\n",
    "for i in numbers:\n",
    "    print(i%3==0)"
   ]
  },
  {
   "cell_type": "markdown",
   "id": "0a731dc7-a3ac-41fb-80aa-170cdc38a553",
   "metadata": {},
   "source": [
    "Q7. What do you understand about mutable and immutable data types? Give examples for both showing thiss property."
   ]
  },
  {
   "cell_type": "code",
   "execution_count": 77,
   "id": "2bcb4978-79d2-459a-81f1-1d54d64302e2",
   "metadata": {},
   "outputs": [
    {
     "name": "stdout",
     "output_type": "stream",
     "text": [
      "('greatest', 7, 9)\n",
      "update it\n"
     ]
    }
   ],
   "source": [
    "#Ans7:The datatypes for which we can update the value contained by them are called mutable datatypes, list is mutable datatype\n",
    "lists=[6,9,[7,'demo'],'welcome back',('greatest',7,9)]\n",
    "print(lists[4])\n",
    "lists[1]='update it'\n",
    "print(lists[1])"
   ]
  },
  {
   "cell_type": "code",
   "execution_count": 78,
   "id": "c5de23df-2cfa-49bc-8ee3-a9685bc9fec6",
   "metadata": {},
   "outputs": [
    {
     "name": "stdout",
     "output_type": "stream",
     "text": [
      "a\n"
     ]
    },
    {
     "ename": "TypeError",
     "evalue": "'str' object does not support item assignment",
     "output_type": "error",
     "traceback": [
      "\u001b[0;31m---------------------------------------------------------------------------\u001b[0m",
      "\u001b[0;31mTypeError\u001b[0m                                 Traceback (most recent call last)",
      "Cell \u001b[0;32mIn[78], line 4\u001b[0m\n\u001b[1;32m      2\u001b[0m strings\u001b[38;5;241m=\u001b[39m\u001b[38;5;124m\"\u001b[39m\u001b[38;5;124mThis is a demo string, which is mutable. Lets see that.\u001b[39m\u001b[38;5;124m\"\u001b[39m\n\u001b[1;32m      3\u001b[0m \u001b[38;5;28mprint\u001b[39m(strings[\u001b[38;5;241m8\u001b[39m])\n\u001b[0;32m----> 4\u001b[0m \u001b[43mstrings\u001b[49m\u001b[43m[\u001b[49m\u001b[38;5;241;43m8\u001b[39;49m\u001b[43m]\u001b[49m\u001b[38;5;241m=\u001b[39m\u001b[38;5;124m'\u001b[39m\u001b[38;5;124mour\u001b[39m\u001b[38;5;124m'\u001b[39m\n\u001b[1;32m      5\u001b[0m \u001b[38;5;28mprint\u001b[39m(strings[\u001b[38;5;241m8\u001b[39m])\n",
      "\u001b[0;31mTypeError\u001b[0m: 'str' object does not support item assignment"
     ]
    }
   ],
   "source": [
    "##Ans7:The datatypes for which we can't update on the value contained by them are called immutable datatypes, string is immutable datatype\n",
    "strings=\"This is a demo string, which is mutable. Lets see that.\"\n",
    "print(strings[8])\n",
    "strings[8]='our'\n",
    "print(strings[8])"
   ]
  }
 ],
 "metadata": {
  "kernelspec": {
   "display_name": "Python 3 (ipykernel)",
   "language": "python",
   "name": "python3"
  },
  "language_info": {
   "codemirror_mode": {
    "name": "ipython",
    "version": 3
   },
   "file_extension": ".py",
   "mimetype": "text/x-python",
   "name": "python",
   "nbconvert_exporter": "python",
   "pygments_lexer": "ipython3",
   "version": "3.10.8"
  }
 },
 "nbformat": 4,
 "nbformat_minor": 5
}

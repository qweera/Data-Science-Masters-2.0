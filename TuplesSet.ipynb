{
 "cells": [
  {
   "cell_type": "markdown",
   "id": "cf137065-a0a4-4d10-be6b-6153dd495c62",
   "metadata": {},
   "source": [
    "### Tuples"
   ]
  },
  {
   "cell_type": "code",
   "execution_count": 2,
   "id": "2d51b6e9-166b-49f8-bd67-598b4f001014",
   "metadata": {},
   "outputs": [
    {
     "data": {
      "text/plain": [
       "tuple"
      ]
     },
     "execution_count": 2,
     "metadata": {},
     "output_type": "execute_result"
    }
   ],
   "source": [
    "t1=()\n",
    "type(t1)"
   ]
  },
  {
   "cell_type": "code",
   "execution_count": 17,
   "id": "9d170ed8-5a1b-48a3-8bf3-5589e9cb7bb8",
   "metadata": {},
   "outputs": [
    {
     "data": {
      "text/plain": [
       "(1, 2, 3, 4, (5+5j), 'Karishma', ['a', 'abc'], 5.55, True)"
      ]
     },
     "execution_count": 17,
     "metadata": {},
     "output_type": "execute_result"
    }
   ],
   "source": [
    "#Tuples can store any type of data inside it\n",
    "t2=(1,2,3,4,5+5j,\"Karishma\",[\"a\",\"abc\"],5.55, True)\n",
    "t2"
   ]
  },
  {
   "cell_type": "code",
   "execution_count": 10,
   "id": "6a086cf3-8158-47ba-ba48-6b7beb9e4b09",
   "metadata": {},
   "outputs": [
    {
     "data": {
      "text/plain": [
       "'Karishma'"
      ]
     },
     "execution_count": 10,
     "metadata": {},
     "output_type": "execute_result"
    }
   ],
   "source": [
    "#Accessing values from a tuple(indexing operation). We can access the stored values in the similar way as we can for lists\n",
    "t2[5]"
   ]
  },
  {
   "cell_type": "code",
   "execution_count": 18,
   "id": "be327242-4208-455d-a86e-9ed22715d91c",
   "metadata": {},
   "outputs": [
    {
     "data": {
      "text/plain": [
       "(1, 2, 3, 4, (5+5j), 'Karishma', ['a', 'abc'], 5.55, True)"
      ]
     },
     "execution_count": 18,
     "metadata": {},
     "output_type": "execute_result"
    }
   ],
   "source": [
    "#Reversing of a tuple, similar to that of lists, reversing is not an inplace operation for tuples.\n",
    "t2[::-1]\n",
    "t2"
   ]
  },
  {
   "cell_type": "code",
   "execution_count": 19,
   "id": "fc79c93c-0433-4bc0-b2cb-e1832b57ca92",
   "metadata": {},
   "outputs": [
    {
     "data": {
      "text/plain": [
       "(True, 5.55, ['a', 'abc'], 'Karishma', (5+5j), 4, 3, 2, 1)"
      ]
     },
     "execution_count": 19,
     "metadata": {},
     "output_type": "execute_result"
    }
   ],
   "source": [
    "#Reassigning the value of a tuple\n",
    "t2= t2[::-1]\n",
    "t2"
   ]
  },
  {
   "cell_type": "code",
   "execution_count": 20,
   "id": "5eb0a2aa-296a-49de-83e5-db05eb978c7f",
   "metadata": {},
   "outputs": [
    {
     "data": {
      "text/plain": [
       "(True, 5.55, ['a', 'abc'])"
      ]
     },
     "execution_count": 20,
     "metadata": {},
     "output_type": "execute_result"
    }
   ],
   "source": [
    "#Slicing operation for tuples\n",
    "t2[:3]"
   ]
  },
  {
   "cell_type": "markdown",
   "id": "d387fd97-6991-4165-ba8f-4b73833ec332",
   "metadata": {},
   "source": [
    "### Functions inside the tuples. There are only two functions for a tuple. i.e index and count functions"
   ]
  },
  {
   "cell_type": "code",
   "execution_count": 22,
   "id": "978f2ae7-1d0c-4cd1-81a6-ae827a5e3e3a",
   "metadata": {},
   "outputs": [
    {
     "data": {
      "text/plain": [
       "2"
      ]
     },
     "execution_count": 22,
     "metadata": {},
     "output_type": "execute_result"
    }
   ],
   "source": [
    "#Internally True is stored as 1 so that's why we're getting count of one's as 2\n",
    "t2.count(1)"
   ]
  },
  {
   "cell_type": "code",
   "execution_count": 27,
   "id": "1e528015-7cdf-48a2-9853-845c0e5fcaa6",
   "metadata": {},
   "outputs": [
    {
     "data": {
      "text/plain": [
       "1"
      ]
     },
     "execution_count": 27,
     "metadata": {},
     "output_type": "execute_result"
    }
   ],
   "source": [
    "t2.count(5+5j)"
   ]
  },
  {
   "cell_type": "code",
   "execution_count": 28,
   "id": "a6b3697d-c14b-4e0c-b472-aceb3ed20841",
   "metadata": {},
   "outputs": [
    {
     "data": {
      "text/plain": [
       "2"
      ]
     },
     "execution_count": 28,
     "metadata": {},
     "output_type": "execute_result"
    }
   ],
   "source": [
    "#Internally True is stored as 1 so that's why we're getting count of one's as 2 vice versa for 1\n",
    "t2.count(True)"
   ]
  },
  {
   "cell_type": "code",
   "execution_count": 23,
   "id": "141f26a1-5571-40ba-b31a-b3beb807f905",
   "metadata": {},
   "outputs": [
    {
     "data": {
      "text/plain": [
       "0"
      ]
     },
     "execution_count": 23,
     "metadata": {},
     "output_type": "execute_result"
    }
   ],
   "source": [
    "t2.index(1)"
   ]
  },
  {
   "cell_type": "code",
   "execution_count": 26,
   "id": "f8da310a-efed-4845-8741-d1f49b7530f2",
   "metadata": {},
   "outputs": [
    {
     "data": {
      "text/plain": [
       "3"
      ]
     },
     "execution_count": 26,
     "metadata": {},
     "output_type": "execute_result"
    }
   ],
   "source": [
    "t2.index('Karishma')"
   ]
  },
  {
   "cell_type": "code",
   "execution_count": 29,
   "id": "f8bb301d-58a9-484c-97f2-fa089d83b381",
   "metadata": {},
   "outputs": [
    {
     "data": {
      "text/plain": [
       "(True, 5.55, ['a', 'abc'], 'Karishma', (5+5j), 4, 3, 2, 1)"
      ]
     },
     "execution_count": 29,
     "metadata": {},
     "output_type": "execute_result"
    }
   ],
   "source": [
    "t2"
   ]
  },
  {
   "cell_type": "code",
   "execution_count": 38,
   "id": "af840c53-e86a-40df-9828-9501f73a3811",
   "metadata": {},
   "outputs": [],
   "source": [
    "### Actual difference between lists and tuples using mutability"
   ]
  },
  {
   "cell_type": "markdown",
   "id": "f5c76493-7127-4f59-b911-a0f2e0ca64a2",
   "metadata": {},
   "source": [
    "\"\"\" Tuples follows immutablity concept, due to which it doesn't allow changes for any element at particular indexes \"\"\""
   ]
  },
  {
   "cell_type": "code",
   "execution_count": 39,
   "id": "90725a5f-b763-4b28-bbac-837848daa4d4",
   "metadata": {},
   "outputs": [
    {
     "data": {
      "text/plain": [
       "4"
      ]
     },
     "execution_count": 39,
     "metadata": {},
     "output_type": "execute_result"
    }
   ],
   "source": [
    "t2[5]"
   ]
  },
  {
   "cell_type": "code",
   "execution_count": 40,
   "id": "39e4f6e8-bed5-4f55-a5ba-5c36c4c544fe",
   "metadata": {},
   "outputs": [
    {
     "ename": "TypeError",
     "evalue": "'tuple' object does not support item assignment",
     "output_type": "error",
     "traceback": [
      "\u001b[0;31m---------------------------------------------------------------------------\u001b[0m",
      "\u001b[0;31mTypeError\u001b[0m                                 Traceback (most recent call last)",
      "Cell \u001b[0;32mIn[40], line 1\u001b[0m\n\u001b[0;32m----> 1\u001b[0m \u001b[43mt2\u001b[49m\u001b[43m[\u001b[49m\u001b[38;5;241;43m5\u001b[39;49m\u001b[43m]\u001b[49m\u001b[38;5;241m=\u001b[39m\u001b[38;5;124m\"\u001b[39m\u001b[38;5;124mKweera\u001b[39m\u001b[38;5;124m\"\u001b[39m\n",
      "\u001b[0;31mTypeError\u001b[0m: 'tuple' object does not support item assignment"
     ]
    }
   ],
   "source": [
    "#Tuples are immutable entity. Making changes at a particular index. Assigment of value is very different from this.\n",
    "#In an existing tuple we will not be able to update/allow any changes of the information at any indexes or at a particular place, this makes the tuple as immutable\n",
    "t2[5]=\"Kweera\""
   ]
  },
  {
   "cell_type": "code",
   "execution_count": 42,
   "id": "d814c7c1-9ee5-475b-bb38-f8d556f24c9b",
   "metadata": {},
   "outputs": [
    {
     "name": "stdout",
     "output_type": "stream",
     "text": [
      "True <class 'bool'>\n",
      "5.55 <class 'float'>\n",
      "['a', 'abc'] <class 'list'>\n",
      "Karishma <class 'str'>\n",
      "(5+5j) <class 'complex'>\n",
      "4 <class 'int'>\n",
      "3 <class 'int'>\n",
      "2 <class 'int'>\n",
      "1 <class 'int'>\n"
     ]
    }
   ],
   "source": [
    "#Iterating a tuple using for loop\n",
    "for i in t2:\n",
    "    print(i,type(i))"
   ]
  },
  {
   "cell_type": "code",
   "execution_count": 43,
   "id": "760c978b-544e-419a-bbc8-baec7ec8c986",
   "metadata": {},
   "outputs": [
    {
     "data": {
      "text/plain": [
       "(1, 2, 3, 4, 5, 1, 2, 3, 4, 5, 1, 2, 3, 4, 5)"
      ]
     },
     "execution_count": 43,
     "metadata": {},
     "output_type": "execute_result"
    }
   ],
   "source": [
    "t5=(1,2,3,4,5)\n",
    "t5*3"
   ]
  },
  {
   "cell_type": "code",
   "execution_count": 44,
   "id": "58ce4f6a-eb3c-4d77-987b-6faaa5975837",
   "metadata": {},
   "outputs": [
    {
     "data": {
      "text/plain": [
       "5"
      ]
     },
     "execution_count": 44,
     "metadata": {},
     "output_type": "execute_result"
    }
   ],
   "source": [
    "max(t5)"
   ]
  },
  {
   "cell_type": "code",
   "execution_count": 45,
   "id": "613a35cb-b333-4631-9883-f8e5da3f35d8",
   "metadata": {},
   "outputs": [
    {
     "data": {
      "text/plain": [
       "1"
      ]
     },
     "execution_count": 45,
     "metadata": {},
     "output_type": "execute_result"
    }
   ],
   "source": [
    "min(t5)"
   ]
  },
  {
   "cell_type": "code",
   "execution_count": 49,
   "id": "bffc8bbb-9ccc-4b05-b952-7b7bd28b9617",
   "metadata": {},
   "outputs": [
    {
     "data": {
      "text/plain": [
       "((1.7, 7, 3, 'tree', 'hello', (3+7j)), ('green', ['crores', 'happiness']))"
      ]
     },
     "execution_count": 49,
     "metadata": {},
     "output_type": "execute_result"
    }
   ],
   "source": [
    "#Defining tuple inside a tuple, list inside tuple\n",
    "t1=(1.7,7,3,'tree',\"hello\",3+7j)\n",
    "t2=('green', ['crores','happiness'])\n",
    "t3=(t1,t2)\n",
    "t3"
   ]
  },
  {
   "cell_type": "code",
   "execution_count": 50,
   "id": "4a4f78d2-1163-4c99-98b3-00fab700b50d",
   "metadata": {},
   "outputs": [],
   "source": [
    "#Deleting a tuple\n",
    "del t3"
   ]
  },
  {
   "cell_type": "code",
   "execution_count": 51,
   "id": "b3d2450d-a48c-449d-a9ac-6bf920002af3",
   "metadata": {},
   "outputs": [
    {
     "ename": "NameError",
     "evalue": "name 't3' is not defined",
     "output_type": "error",
     "traceback": [
      "\u001b[0;31m---------------------------------------------------------------------------\u001b[0m",
      "\u001b[0;31mNameError\u001b[0m                                 Traceback (most recent call last)",
      "Cell \u001b[0;32mIn[51], line 1\u001b[0m\n\u001b[0;32m----> 1\u001b[0m \u001b[43mt3\u001b[49m\n",
      "\u001b[0;31mNameError\u001b[0m: name 't3' is not defined"
     ]
    }
   ],
   "source": [
    "t3"
   ]
  },
  {
   "cell_type": "code",
   "execution_count": 53,
   "id": "b98fa8e8-9a30-43b6-949b-32cf072e0604",
   "metadata": {},
   "outputs": [
    {
     "data": {
      "text/plain": [
       "6"
      ]
     },
     "execution_count": 53,
     "metadata": {},
     "output_type": "execute_result"
    }
   ],
   "source": [
    "#Length function is used in order to find the number of elements inside the tuple\n",
    "len(t1)"
   ]
  },
  {
   "cell_type": "code",
   "execution_count": 54,
   "id": "04d156c5-be10-4c48-b8a5-b28aff1dd34e",
   "metadata": {},
   "outputs": [
    {
     "data": {
      "text/plain": [
       "(1.7, 7, 3, 'tree', 'hello', (3+7j))"
      ]
     },
     "execution_count": 54,
     "metadata": {},
     "output_type": "execute_result"
    }
   ],
   "source": [
    "t1"
   ]
  },
  {
   "cell_type": "code",
   "execution_count": 55,
   "id": "3f6188b6-06d4-4a2e-8ff3-8225a8c7ef80",
   "metadata": {},
   "outputs": [
    {
     "data": {
      "text/plain": [
       "True"
      ]
     },
     "execution_count": 55,
     "metadata": {},
     "output_type": "execute_result"
    }
   ],
   "source": [
    "# Finding whether an item exists in a tuple\n",
    "'hello' in t1"
   ]
  },
  {
   "cell_type": "code",
   "execution_count": 56,
   "id": "86ec71c4-ba5e-4565-a975-edd661793e17",
   "metadata": {},
   "outputs": [
    {
     "data": {
      "text/plain": [
       "False"
      ]
     },
     "execution_count": 56,
     "metadata": {},
     "output_type": "execute_result"
    }
   ],
   "source": [
    "555 in t1"
   ]
  },
  {
   "cell_type": "markdown",
   "id": "8d59089a-4e79-4775-9c21-7ef53511d61c",
   "metadata": {},
   "source": [
    "### Sets"
   ]
  },
  {
   "cell_type": "code",
   "execution_count": 57,
   "id": "54ce29a8-c952-42dd-8efb-87c0f1e6ab3e",
   "metadata": {},
   "outputs": [
    {
     "data": {
      "text/plain": [
       "dict"
      ]
     },
     "execution_count": 57,
     "metadata": {},
     "output_type": "execute_result"
    }
   ],
   "source": [
    "#Empty set is always considered as a list\n",
    "s1={}\n",
    "type(s1)"
   ]
  },
  {
   "cell_type": "code",
   "execution_count": 62,
   "id": "d8185be2-75a5-4242-8456-e3b28c94c471",
   "metadata": {},
   "outputs": [
    {
     "data": {
      "text/plain": [
       "set"
      ]
     },
     "execution_count": 62,
     "metadata": {},
     "output_type": "execute_result"
    }
   ],
   "source": [
    "s2={1,2,8,6,9,66,3}\n",
    "type(s2)"
   ]
  },
  {
   "cell_type": "code",
   "execution_count": 63,
   "id": "772ca142-c662-4524-942f-d90759c386cd",
   "metadata": {},
   "outputs": [],
   "source": [
    "# Set always tries to hold/store unique values, if any duplicate value is present in a set it'll try to remove them.\n",
    "s3={1,2,2,8,8,6,9,66,3,3}"
   ]
  },
  {
   "cell_type": "code",
   "execution_count": 61,
   "id": "499932a5-3494-4441-931e-3f3519eb555f",
   "metadata": {},
   "outputs": [
    {
     "data": {
      "text/plain": [
       "{1, 2, 3, 6, 8, 9, 66}"
      ]
     },
     "execution_count": 61,
     "metadata": {},
     "output_type": "execute_result"
    }
   ],
   "source": [
    "s3"
   ]
  },
  {
   "cell_type": "code",
   "execution_count": 65,
   "id": "59189d58-d365-4c3c-ac84-795f1bd7c2a2",
   "metadata": {},
   "outputs": [
    {
     "data": {
      "text/plain": [
       "' list, set, tuples can be converted to one another '"
      ]
     },
     "execution_count": 65,
     "metadata": {},
     "output_type": "execute_result"
    }
   ],
   "source": [
    "\"\"\" list, set, tuples can be converted to one another \"\"\""
   ]
  },
  {
   "cell_type": "code",
   "execution_count": 69,
   "id": "f71bb656-8301-40d5-9f67-ac4261975997",
   "metadata": {},
   "outputs": [
    {
     "data": {
      "text/plain": [
       "[1, 2, 3, 66, 6, 8, 9]"
      ]
     },
     "execution_count": 69,
     "metadata": {},
     "output_type": "execute_result"
    }
   ],
   "source": [
    "#Set to list\n",
    "l1=list(s3)\n",
    "l1"
   ]
  },
  {
   "cell_type": "code",
   "execution_count": 71,
   "id": "a4f4e025-c66d-44d4-b1c3-9756bc989033",
   "metadata": {},
   "outputs": [
    {
     "data": {
      "text/plain": [
       "(1, 2, 3, 66, 6, 8, 9)"
      ]
     },
     "execution_count": 71,
     "metadata": {},
     "output_type": "execute_result"
    }
   ],
   "source": [
    "#Set to tuple\n",
    "t1=tuple(s3)\n",
    "t1"
   ]
  },
  {
   "cell_type": "code",
   "execution_count": 70,
   "id": "520d690d-8251-496d-9109-39407b1b85cd",
   "metadata": {},
   "outputs": [
    {
     "data": {
      "text/plain": [
       "{1, 2, 3, 6, 8, 9, 66}"
      ]
     },
     "execution_count": 70,
     "metadata": {},
     "output_type": "execute_result"
    }
   ],
   "source": [
    "#List to Set.\n",
    "set(l1)"
   ]
  },
  {
   "cell_type": "code",
   "execution_count": 72,
   "id": "617e053d-d02b-48e0-a2e8-49d9d8198b4b",
   "metadata": {},
   "outputs": [
    {
     "data": {
      "text/plain": [
       "{1, 2, 3, 6, 8, 9, 66}"
      ]
     },
     "execution_count": 72,
     "metadata": {},
     "output_type": "execute_result"
    }
   ],
   "source": [
    "#Tuple to Set\n",
    "set(t1)"
   ]
  },
  {
   "cell_type": "code",
   "execution_count": 73,
   "id": "3cd384d0-a081-4297-9677-045d4e157e75",
   "metadata": {},
   "outputs": [
    {
     "data": {
      "text/plain": [
       "[1, 2, 3, 66, 6, 8, 9]"
      ]
     },
     "execution_count": 73,
     "metadata": {},
     "output_type": "execute_result"
    }
   ],
   "source": [
    "#Tuple to list\n",
    "list(t1)"
   ]
  },
  {
   "cell_type": "code",
   "execution_count": 74,
   "id": "06b06bb7-612a-4fd8-aaf5-cab2747c222f",
   "metadata": {},
   "outputs": [
    {
     "data": {
      "text/plain": [
       "(1, 2, 3, 66, 6, 8, 9)"
      ]
     },
     "execution_count": 74,
     "metadata": {},
     "output_type": "execute_result"
    }
   ],
   "source": [
    "#List to tuple\n",
    "tuple(l1)"
   ]
  },
  {
   "cell_type": "code",
   "execution_count": 76,
   "id": "71d2ec6b-ab76-4d61-9027-5e51cb2378db",
   "metadata": {},
   "outputs": [
    {
     "data": {
      "text/plain": [
       "[5, 3, 2, 4, 5, 4, 4, 34, 4, 34, 34, 1, 5, 5, 6, 6, 66]"
      ]
     },
     "execution_count": 76,
     "metadata": {},
     "output_type": "execute_result"
    }
   ],
   "source": [
    "#If in our list there are multiple duplicate elements we can remove it by using set in place of that\n",
    "l1=[5,3,2,4,5,4,4,34,4,34,34,1,5,5,6,6,66]\n",
    "l1"
   ]
  },
  {
   "cell_type": "code",
   "execution_count": 77,
   "id": "1070fc3b-557f-4cb4-bc75-a57eab5bc1ca",
   "metadata": {},
   "outputs": [
    {
     "data": {
      "text/plain": [
       "{1, 2, 3, 4, 5, 6, 34, 66}"
      ]
     },
     "execution_count": 77,
     "metadata": {},
     "output_type": "execute_result"
    }
   ],
   "source": [
    "set(l1)"
   ]
  },
  {
   "cell_type": "code",
   "execution_count": 79,
   "id": "339187f4-f3a8-482d-a4de-e2565fed2e78",
   "metadata": {},
   "outputs": [
    {
     "ename": "TypeError",
     "evalue": "unhashable type: 'list'",
     "output_type": "error",
     "traceback": [
      "\u001b[0;31m---------------------------------------------------------------------------\u001b[0m",
      "\u001b[0;31mTypeError\u001b[0m                                 Traceback (most recent call last)",
      "Cell \u001b[0;32mIn[79], line 2\u001b[0m\n\u001b[1;32m      1\u001b[0m \u001b[38;5;66;03m# As list is immutable compiler is not able to assign hashable index for it\u001b[39;00m\n\u001b[0;32m----> 2\u001b[0m s5\u001b[38;5;241m=\u001b[39m{\u001b[38;5;241m1\u001b[39m,\u001b[38;5;241m2\u001b[39m,\u001b[38;5;241m3\u001b[39m,[\u001b[38;5;241m1\u001b[39m,\u001b[38;5;124m'\u001b[39m\u001b[38;5;124mhello\u001b[39m\u001b[38;5;124m'\u001b[39m,\u001b[38;5;124m'\u001b[39m\u001b[38;5;124mpython\u001b[39m\u001b[38;5;124m'\u001b[39m]}\n",
      "\u001b[0;31mTypeError\u001b[0m: unhashable type: 'list'"
     ]
    }
   ],
   "source": [
    "# As list is immutable compiler is not able to assign hashable index for it\n",
    "s5={1,2,3,[1,'hello','python']}"
   ]
  },
  {
   "cell_type": "code",
   "execution_count": 81,
   "id": "2046d094-4f86-4d7b-be8d-c9d129b9daba",
   "metadata": {},
   "outputs": [
    {
     "data": {
      "text/plain": [
       "{(1, 'hello', 'python'), 1, 2, 3}"
      ]
     },
     "execution_count": 81,
     "metadata": {},
     "output_type": "execute_result"
    }
   ],
   "source": [
    "s5={1,2,3,(1,'hello','python')}\n",
    "s5"
   ]
  },
  {
   "cell_type": "code",
   "execution_count": 84,
   "id": "4b5acadc-df17-43ee-95c9-3982aa5337fd",
   "metadata": {},
   "outputs": [
    {
     "data": {
      "text/plain": [
       "{555, 9, 'Karishma', 'karishma'}"
      ]
     },
     "execution_count": 84,
     "metadata": {},
     "output_type": "execute_result"
    }
   ],
   "source": [
    "#Python is case sensitive so considering 'K' and 'k' differently\n",
    "s6={\"karishma\",\"Karishma\",9,555}\n",
    "s6"
   ]
  },
  {
   "cell_type": "code",
   "execution_count": 85,
   "id": "9c06a389-632a-40ad-b85e-3e4044d05f98",
   "metadata": {},
   "outputs": [
    {
     "data": {
      "text/plain": [
       "{555, 9, 'karishma'}"
      ]
     },
     "execution_count": 85,
     "metadata": {},
     "output_type": "execute_result"
    }
   ],
   "source": [
    "s6={\"karishma\",\"karishma\",9,555}\n",
    "s6"
   ]
  },
  {
   "cell_type": "code",
   "execution_count": 86,
   "id": "70b603f2-b9f5-434d-82dc-c77e7403a910",
   "metadata": {},
   "outputs": [
    {
     "ename": "TypeError",
     "evalue": "'set' object is not subscriptable",
     "output_type": "error",
     "traceback": [
      "\u001b[0;31m---------------------------------------------------------------------------\u001b[0m",
      "\u001b[0;31mTypeError\u001b[0m                                 Traceback (most recent call last)",
      "Cell \u001b[0;32mIn[86], line 2\u001b[0m\n\u001b[1;32m      1\u001b[0m \u001b[38;5;66;03m## Indexing and slicing operations are not possible for set as it assigns a hashable value for each index\u001b[39;00m\n\u001b[0;32m----> 2\u001b[0m \u001b[43ms6\u001b[49m\u001b[43m[\u001b[49m\u001b[38;5;241;43m0\u001b[39;49m\u001b[43m]\u001b[49m\n",
      "\u001b[0;31mTypeError\u001b[0m: 'set' object is not subscriptable"
     ]
    }
   ],
   "source": [
    "## Indexing and slicing operations are not possible for set as it assigns a hashable value for each index\n",
    "s6[0]"
   ]
  },
  {
   "cell_type": "code",
   "execution_count": 87,
   "id": "0ccbd500-d0a7-49f8-8353-b2a8d024fc16",
   "metadata": {},
   "outputs": [
    {
     "ename": "TypeError",
     "evalue": "'set' object is not subscriptable",
     "output_type": "error",
     "traceback": [
      "\u001b[0;31m---------------------------------------------------------------------------\u001b[0m",
      "\u001b[0;31mTypeError\u001b[0m                                 Traceback (most recent call last)",
      "Cell \u001b[0;32mIn[87], line 1\u001b[0m\n\u001b[0;32m----> 1\u001b[0m \u001b[43ms6\u001b[49m\u001b[43m[\u001b[49m\u001b[43m:\u001b[49m\u001b[38;5;241;43m-\u001b[39;49m\u001b[38;5;241;43m1\u001b[39;49m\u001b[43m]\u001b[49m\n",
      "\u001b[0;31mTypeError\u001b[0m: 'set' object is not subscriptable"
     ]
    }
   ],
   "source": [
    "s6[:-1]"
   ]
  },
  {
   "cell_type": "code",
   "execution_count": 88,
   "id": "7444edd5-249b-4c07-8e25-45253d1835a5",
   "metadata": {},
   "outputs": [
    {
     "name": "stdout",
     "output_type": "stream",
     "text": [
      "9\n",
      "karishma\n",
      "555\n"
     ]
    }
   ],
   "source": [
    "# Accessing of elements is possible for set containing hashable elements\n",
    "for i in s6:\n",
    "    print(i)"
   ]
  },
  {
   "cell_type": "code",
   "execution_count": 92,
   "id": "0c27575c-90f0-4db2-8deb-8787cb6060c8",
   "metadata": {},
   "outputs": [
    {
     "data": {
      "text/plain": [
       "{555, 9, 99, 'karishma'}"
      ]
     },
     "execution_count": 92,
     "metadata": {},
     "output_type": "execute_result"
    }
   ],
   "source": [
    "'''We can get all the built in elements for a particular data struture by following this format. i.e datastrture_name. Now press tab key''' \n",
    "s6.add(99)\n",
    "s6"
   ]
  },
  {
   "cell_type": "code",
   "execution_count": 94,
   "id": "1e52d8d3-0c2c-40d0-89db-61920a9c49be",
   "metadata": {},
   "outputs": [
    {
     "data": {
      "text/plain": [
       "{555, 9, 99, 'karishma'}"
      ]
     },
     "execution_count": 94,
     "metadata": {},
     "output_type": "execute_result"
    }
   ],
   "source": [
    "'''Set will not add an element that is already present there'''\n",
    "s6.add(555)\n",
    "s6"
   ]
  },
  {
   "cell_type": "code",
   "execution_count": 95,
   "id": "7a0ebd56-5a96-4458-a322-93d12349870d",
   "metadata": {},
   "outputs": [
    {
     "data": {
      "text/plain": [
       "4"
      ]
     },
     "execution_count": 95,
     "metadata": {},
     "output_type": "execute_result"
    }
   ],
   "source": [
    "# For getting the length of the set use len function\n",
    "len(s6)"
   ]
  },
  {
   "cell_type": "code",
   "execution_count": 97,
   "id": "6a9f3f96-1202-4518-ad37-f991c9734617",
   "metadata": {},
   "outputs": [
    {
     "data": {
      "text/plain": [
       "99"
      ]
     },
     "execution_count": 97,
     "metadata": {},
     "output_type": "execute_result"
    }
   ],
   "source": [
    "#Element will not be popped up in anyorder instead they'll be popped up according to the hashing code assigned to the elements\n",
    "s6.pop()"
   ]
  },
  {
   "cell_type": "code",
   "execution_count": 98,
   "id": "5dd62656-70ea-4ab2-b243-c6740038e4f4",
   "metadata": {},
   "outputs": [
    {
     "data": {
      "text/plain": [
       "{555, 9, 'karishma'}"
      ]
     },
     "execution_count": 98,
     "metadata": {},
     "output_type": "execute_result"
    }
   ],
   "source": [
    "s6"
   ]
  },
  {
   "cell_type": "code",
   "execution_count": 99,
   "id": "573b7b7e-3ea8-4b7b-8791-ce065f6afd27",
   "metadata": {},
   "outputs": [
    {
     "data": {
      "text/plain": [
       "9"
      ]
     },
     "execution_count": 99,
     "metadata": {},
     "output_type": "execute_result"
    }
   ],
   "source": [
    "s6.pop()"
   ]
  },
  {
   "cell_type": "code",
   "execution_count": 100,
   "id": "8f85e516-207e-4871-a061-6cf95962ae36",
   "metadata": {},
   "outputs": [
    {
     "data": {
      "text/plain": [
       "{555, 'karishma'}"
      ]
     },
     "execution_count": 100,
     "metadata": {},
     "output_type": "execute_result"
    }
   ],
   "source": [
    "s6"
   ]
  },
  {
   "cell_type": "code",
   "execution_count": 101,
   "id": "6b576722-4597-4461-9ee1-29b1417dc3b8",
   "metadata": {},
   "outputs": [
    {
     "data": {
      "text/plain": [
       "set()"
      ]
     },
     "execution_count": 101,
     "metadata": {},
     "output_type": "execute_result"
    }
   ],
   "source": [
    "# clear() function will remove all the elements from the set, in the output we'll get a empty set.\n",
    "s6.clear()\n",
    "s6"
   ]
  },
  {
   "cell_type": "code",
   "execution_count": 102,
   "id": "21ace875-e8d1-48b2-bdd3-83a6e1928e61",
   "metadata": {},
   "outputs": [],
   "source": [
    "s7={1,2,3,6,5,7,9}\n",
    "s8={1,2,3,6,7,555}"
   ]
  },
  {
   "cell_type": "code",
   "execution_count": 103,
   "id": "3a94a3fb-fdbf-4139-8798-89a2410a4602",
   "metadata": {},
   "outputs": [
    {
     "data": {
      "text/plain": [
       "{5, 9}"
      ]
     },
     "execution_count": 103,
     "metadata": {},
     "output_type": "execute_result"
    }
   ],
   "source": [
    "#Outputs the different element in s7 \n",
    "s7.difference(s8)"
   ]
  },
  {
   "cell_type": "code",
   "execution_count": 105,
   "id": "d1a27d85-5082-479c-ba1b-6dba54bc2f8e",
   "metadata": {},
   "outputs": [
    {
     "data": {
      "text/plain": [
       "{555}"
      ]
     },
     "execution_count": 105,
     "metadata": {},
     "output_type": "execute_result"
    }
   ],
   "source": [
    "#Outputs the different element in s8\n",
    "s8.difference(s7)"
   ]
  },
  {
   "cell_type": "code",
   "execution_count": null,
   "id": "b4b6f5fb-8bca-4c42-a6b7-59f6ddc312b3",
   "metadata": {},
   "outputs": [],
   "source": []
  }
 ],
 "metadata": {
  "kernelspec": {
   "display_name": "Python 3 (ipykernel)",
   "language": "python",
   "name": "python3"
  },
  "language_info": {
   "codemirror_mode": {
    "name": "ipython",
    "version": 3
   },
   "file_extension": ".py",
   "mimetype": "text/x-python",
   "name": "python",
   "nbconvert_exporter": "python",
   "pygments_lexer": "ipython3",
   "version": "3.10.8"
  }
 },
 "nbformat": 4,
 "nbformat_minor": 5
}

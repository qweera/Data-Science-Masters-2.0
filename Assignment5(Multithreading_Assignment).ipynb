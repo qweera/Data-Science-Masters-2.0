{
 "cells": [
  {
   "cell_type": "markdown",
   "id": "090c05be-a987-4955-9455-94d22d42e3fd",
   "metadata": {},
   "source": [
    "## Assignment 5: Multithreading_Assignment"
   ]
  },
  {
   "cell_type": "code",
   "execution_count": null,
   "id": "e16c5c6c-0632-497d-bbd0-31b846a7b19f",
   "metadata": {},
   "outputs": [],
   "source": [
    "Q1. What is multithreading in python? Why is it used? Name the module used to handle threads in python."
   ]
  },
  {
   "cell_type": "markdown",
   "id": "086f61d3-bb87-4bcd-8b31-577a5367f1c4",
   "metadata": {},
   "source": [
    "Ans1. In Multithreading a process is running multiple threads simultaneously within a single process. Multithreading is a way of achieving multitasking. In multithreading, the concept of threads is used. A thread is an entity within a process that can be scheduled for execution. Also, it is the smallest unit of processing that can be performed in an OS. And a process is an instance of a computer program that is being executed. Multithreading is used to improve the performance of a program by using multiple CPUs or CPU cores. 'threading' module is used to handle threads in python."
   ]
  },
  {
   "cell_type": "code",
   "execution_count": null,
   "id": "3f856f45-1c89-4af6-bbbc-212a6d21eb15",
   "metadata": {},
   "outputs": [],
   "source": [
    "Q2. Why is threading module used? Write the use of the following functions:\n",
    "1.activeCount()\n",
    "2.currentThread()\n",
    "3.enumerate()"
   ]
  },
  {
   "cell_type": "markdown",
   "id": "c5d93595-d94d-410d-b621-b7ae4ee90372",
   "metadata": {},
   "source": [
    "Ans2. The threading module exposes all the methods of the thread module in the program, the threading module has the Thread class that implements threading. And the Thread class contains very useful functions like start(), run(), join()....\n",
    "In Python threading allows us to have different parts of our program run concurrently as a result design is simplified.\n",
    "Use of the below functions:\n",
    "##### 1. activeCount(): It returns the number of thread objects that are active.\n",
    "##### 2. currentThread(): It returns the number of thread objects in the caller's thread control.\n",
    "##### 3. enumerate(): It returns a list of all thread objects that are currently active."
   ]
  },
  {
   "cell_type": "markdown",
   "id": "9fd5a640-8cea-4eb6-a286-b003ad6dd610",
   "metadata": {},
   "source": [
    "Q3. Explain the following functions:\n",
    "1.run()\n",
    "2.start()\n",
    "3.join()\n",
    "4.isAlive()"
   ]
  },
  {
   "cell_type": "markdown",
   "id": "e0b522d3-65b2-48b7-bb4f-6019d3a13f66",
   "metadata": {},
   "source": [
    "Ans3. Returning of below functions:\n",
    "##### 1. run(): The run() method is the entry point for a thread.\n",
    "##### 2. start(): The start() method starts a thread by calling the run method.\n",
    "##### 3. join(): The join() waits for threads to terminate.\n",
    "##### 4. isAlive(): The isAlive() method checks whether a thread is still executing."
   ]
  },
  {
   "cell_type": "markdown",
   "id": "5c675df5-3745-45ca-b23c-f1e428d6808c",
   "metadata": {},
   "source": [
    "Q4. Write a python program to create two threads. Thread one must print the list of squares and thread two must print the list of cubes"
   ]
  },
  {
   "cell_type": "code",
   "execution_count": 79,
   "id": "05542fe0-4afe-478e-9260-b5201acde74f",
   "metadata": {},
   "outputs": [
    {
     "name": "stdout",
     "output_type": "stream",
     "text": [
      "Squares_List: [36, 4, 9, 16, 25]\n",
      "Cubes_List: [216, 8, 27, 64, 125]\n",
      "Both threads have finished.\n"
     ]
    }
   ],
   "source": [
    "#Ans4\n",
    "import threading\n",
    "import queue\n",
    "\n",
    "def print_squares(numbers, output_queue):\n",
    "    squares = []\n",
    "    for num in numbers:\n",
    "        square = num ** 2\n",
    "        squares.append(square)\n",
    "    output_queue.put((\"squares\", squares))\n",
    "\n",
    "def print_cubes(numbers, output_queue):\n",
    "    cubes = []\n",
    "    for num in numbers:\n",
    "        cube = num ** 3\n",
    "        cubes.append(cube)\n",
    "    output_queue.put((\"cubes\", cubes))\n",
    "\n",
    "if __name__ == \"__main__\":\n",
    "    numbers = [6, 2, 3, 4, 5]\n",
    "    output_queue = queue.Queue()\n",
    "\n",
    "    thread1 = threading.Thread(target=print_squares, args=(numbers, output_queue))\n",
    "    thread2 = threading.Thread(target=print_cubes, args=(numbers, output_queue))\n",
    "\n",
    "    thread1.start()\n",
    "    thread2.start()\n",
    "\n",
    "    thread1.join()\n",
    "    thread2.join()\n",
    "\n",
    "    # For retrieving and display the results\n",
    "    results = {}\n",
    "    while not output_queue.empty():\n",
    "        name, data = output_queue.get()\n",
    "        results[name] = data\n",
    "    print(\"Squares_List:\", results[\"squares\"])\n",
    "    print(\"Cubes_List:\", results[\"cubes\"])\n",
    "    print(\"Both threads have finished.\")"
   ]
  },
  {
   "cell_type": "markdown",
   "id": "6e56dc82-8142-43cd-b1cf-89df7decf386",
   "metadata": {},
   "source": [
    "Q5. State advantages and disadvantages of multithreading."
   ]
  },
  {
   "cell_type": "markdown",
   "id": "864d6669-bec0-4fe8-a372-33d7aae0daef",
   "metadata": {},
   "source": [
    "**Advantages of Multithreading:**\n",
    "\n",
    "1. **Concurrency**: Multithreading allows multiple tasks to run concurrently, making better use of available resources and potentially improving the overall efficiency of a program.\n",
    "\n",
    "2. **Responsiveness**: Multithreading can make applications more responsive, as one thread can continue working while another thread handles tasks like user input or I/O operations.\n",
    "\n",
    "3. **Resource Sharing**: Threads can share memory space and data, which is useful for data exchange and communication between different parts of a program.\n",
    "\n",
    "4. **Efficient I/O Operations**: Threads are well-suited for I/O-bound tasks like reading/writing files or making network requests. While one thread waits for I/O, others can continue processing.\n",
    "\n",
    "5. **Parallelism on Multicore CPUs**: Multithreading can leverage the power of multicore CPUs, allowing multiple threads to run in parallel on different cores.\n",
    "\n",
    "**Disadvantages of Multithreading:**\n",
    "\n",
    "1. **Global Interpreter Lock (GIL)**: One of the most significant limitations of multithreading in Python is the GIL, which prevents multiple native threads from executing Python code simultaneously in the same process. This can limit the true parallelism achieved by threads, particularly in CPU-bound tasks.\n",
    "\n",
    "2. **Complexity**: Writing multithreaded code can be complex due to issues like race conditions, deadlocks, and synchronization. Debugging and maintaining threaded code can be challenging.\n",
    "\n",
    "3. **Limited CPU-bound Performance**: Due to the GIL, multithreading is less effective for CPU-bound tasks that require intensive computation. The GIL prevents full utilization of multiple CPU cores.\n",
    "\n",
    "4. **Synchronization Overhead**: Proper synchronization mechanisms like locks or semaphores are needed to prevent race conditions and ensure data integrity. These mechanisms can introduce overhead and complexity.\n",
    "\n",
    "5. **Debugging Challenges**: Debugging multithreaded programs can be difficult due to the unpredictable order of thread execution and potential race conditions."
   ]
  },
  {
   "cell_type": "markdown",
   "id": "8c6252d4-338a-4aa6-8ec5-4b39d9065e08",
   "metadata": {},
   "source": [
    "Q6. Explain deadlocks and race conditions."
   ]
  },
  {
   "cell_type": "markdown",
   "id": "6856521c-86f7-4777-a033-dea09c9c9f7a",
   "metadata": {},
   "source": [
    "**Deadlock** and **Race Condition** are two common synchronization issues that can occur in multithreaded programs:\n",
    "\n",
    "1. **Deadlock**:\n",
    "\n",
    "A deadlock is a situation where two or more threads are unable to proceed because each is waiting for a resource that another thread holds. Essentially, it's a circular waiting scenario that prevents any of the involved threads from making progress. Deadlocks can significantly impact the performance and responsiveness of a program.\n",
    "\n",
    "**Example**:\n",
    "Consider two threads, Thread A and Thread B. Both threads need two resources, Resource X and Resource Y, to complete their tasks. If Thread A acquires Resource X and Thread B acquires Resource Y at the same time, they might each wait indefinitely for the other's resource to be released, leading to a deadlock.\n",
    "\n",
    "Deadlocks can be prevented by ensuring that threads do not hold multiple resources simultaneously or by introducing timeout mechanisms to release resources if they are not available after a certain time.\n",
    "\n",
    "2. **Race Condition**:\n",
    "\n",
    "A race condition occurs when multiple threads access shared data concurrently, and the final outcome depends on the order in which the threads execute. When at least one thread modifies the shared data, the final result can be unpredictable or incorrect due to the non-deterministic nature of thread scheduling. \n",
    "\n",
    "**Example**:\n",
    "Imagine two threads, Thread A and Thread B, both updating a shared variable `count`. If both threads read the value of `count`, increment it, and then write the updated value back, the final result might be incorrect due to interleaved execution. For instance, if both threads read the value as 5, increment it, and write back 6, the expected result would be 7 (5 + 1 + 1). However, due to interleaving, both threads might overwrite each other's updates, leading to an incorrect value like 6.\n",
    "\n",
    "Race conditions can be mitigated using synchronization techniques like locks, semaphores, and mutexes. These mechanisms ensure that only one thread at a time can access shared resources, preventing concurrent modifications that can lead to race conditions.\n"
   ]
  },
  {
   "cell_type": "code",
   "execution_count": null,
   "id": "0f5fee56-149e-4ca6-9440-a192c1d4227b",
   "metadata": {},
   "outputs": [],
   "source": []
  }
 ],
 "metadata": {
  "kernelspec": {
   "display_name": "Python 3 (ipykernel)",
   "language": "python",
   "name": "python3"
  },
  "language_info": {
   "codemirror_mode": {
    "name": "ipython",
    "version": 3
   },
   "file_extension": ".py",
   "mimetype": "text/x-python",
   "name": "python",
   "nbconvert_exporter": "python",
   "pygments_lexer": "ipython3",
   "version": "3.10.8"
  }
 },
 "nbformat": 4,
 "nbformat_minor": 5
}

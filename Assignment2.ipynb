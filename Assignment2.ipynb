{
 "cells": [
  {
   "cell_type": "markdown",
   "id": "78cf84fa-8861-48fd-b24f-319a0e916a9f",
   "metadata": {},
   "source": [
    "### Assignment 2"
   ]
  },
  {
   "cell_type": "markdown",
   "id": "3c2ea14c-e33c-40e8-b66c-d818b80d5695",
   "metadata": {},
   "source": [
    "Q1. How do you comment code in Python? What are the different types of comments?"
   ]
  },
  {
   "cell_type": "code",
   "execution_count": 15,
   "id": "8126496b-07ca-4b9a-8911-332bc30553fa",
   "metadata": {},
   "outputs": [
    {
     "name": "stdout",
     "output_type": "stream",
     "text": [
      "Single line comment\n"
     ]
    }
   ],
   "source": [
    "#Answer1: There are two types of comment:\n",
    "#1) Single Line Comment\n",
    "print(\"Single line comment\")"
   ]
  },
  {
   "cell_type": "code",
   "execution_count": 16,
   "id": "685c25ba-4aa4-45b4-84df-24ee798412d8",
   "metadata": {},
   "outputs": [
    {
     "name": "stdout",
     "output_type": "stream",
     "text": [
      "Multiline Comment\n"
     ]
    }
   ],
   "source": [
    "#2) Multiline Comment\n",
    "\"\"\"\n",
    "This is a multiline comment.\n",
    "Here we can write multiple lines other than code,\n",
    "which are just to make code more readable\n",
    "\"\"\"\n",
    "print(\"Multiline Comment\")"
   ]
  },
  {
   "cell_type": "markdown",
   "id": "526b2f84-9635-4027-89ce-920b7822217a",
   "metadata": {},
   "source": [
    "Q2. What are variables in Python? How do you declare and assign values to variables?"
   ]
  },
  {
   "cell_type": "markdown",
   "id": "54697553-10b8-40f9-9880-0ebf07df0c9c",
   "metadata": {},
   "source": [
    "##### Answer2) Variable is a address in memory used to hold a value related to any datatype, we can directly assign a value to a variable in order to declare it. Here we don't need to explicitly declare its datatype before hand, below showing some examples:"
   ]
  },
  {
   "cell_type": "code",
   "execution_count": 18,
   "id": "3d0953ce-a48a-40dc-89ab-44a5ea30ef8c",
   "metadata": {},
   "outputs": [
    {
     "data": {
      "text/plain": [
       "int"
      ]
     },
     "execution_count": 18,
     "metadata": {},
     "output_type": "execute_result"
    }
   ],
   "source": [
    "#declaring and assiging an integer value to variable a\n",
    "a=12\n",
    "type(a)"
   ]
  },
  {
   "cell_type": "code",
   "execution_count": 20,
   "id": "46260d93-65d8-4974-ab54-4b64b8ff1502",
   "metadata": {},
   "outputs": [
    {
     "data": {
      "text/plain": [
       "str"
      ]
     },
     "execution_count": 20,
     "metadata": {},
     "output_type": "execute_result"
    }
   ],
   "source": [
    "#declaring and assiging an string value to variable b\n",
    "b=\"This is a string\"\n",
    "type(b)"
   ]
  },
  {
   "cell_type": "markdown",
   "id": "d9646ee7-f597-4719-bd3e-f70162123ca6",
   "metadata": {},
   "source": [
    "Q3. How do you convert one data type to another in Python?"
   ]
  },
  {
   "cell_type": "markdown",
   "id": "1f90ff9b-2e40-4a16-bab6-dad7af406a34",
   "metadata": {},
   "source": [
    "#### Using typecasting we can convert one datatype to another, below showing some examples:"
   ]
  },
  {
   "cell_type": "code",
   "execution_count": 22,
   "id": "be06c14c-38ce-4513-acfe-8b813af28632",
   "metadata": {},
   "outputs": [
    {
     "data": {
      "text/plain": [
       "bool"
      ]
     },
     "execution_count": 22,
     "metadata": {},
     "output_type": "execute_result"
    }
   ],
   "source": [
    "x=True\n",
    "type(x)"
   ]
  },
  {
   "cell_type": "code",
   "execution_count": 26,
   "id": "ffb9f22d-6c00-44a6-9035-77a577559375",
   "metadata": {},
   "outputs": [
    {
     "data": {
      "text/plain": [
       "1"
      ]
     },
     "execution_count": 26,
     "metadata": {},
     "output_type": "execute_result"
    }
   ],
   "source": [
    "#Converting bool datatype to integer value\n",
    "int(x)"
   ]
  },
  {
   "cell_type": "code",
   "execution_count": 24,
   "id": "f75dc6e7-fc62-4b4d-a8a1-6dfd35ef867d",
   "metadata": {},
   "outputs": [
    {
     "data": {
      "text/plain": [
       "list"
      ]
     },
     "execution_count": 24,
     "metadata": {},
     "output_type": "execute_result"
    }
   ],
   "source": [
    "y=[1,'abc',8.6]\n",
    "type(y)"
   ]
  },
  {
   "cell_type": "code",
   "execution_count": 27,
   "id": "0eff0ca6-af00-4873-adb4-a9e301a059ce",
   "metadata": {},
   "outputs": [
    {
     "data": {
      "text/plain": [
       "(1, 'abc', 8.6)"
      ]
     },
     "execution_count": 27,
     "metadata": {},
     "output_type": "execute_result"
    }
   ],
   "source": [
    "#Converting list to tuple\n",
    "tuple(y)"
   ]
  },
  {
   "cell_type": "markdown",
   "id": "82ee7d04-659d-4c4b-a60c-e3c0cbae60c5",
   "metadata": {},
   "source": [
    "Q4. How do you write and execute a Python script from the command line?"
   ]
  },
  {
   "cell_type": "markdown",
   "id": "2694929b-d439-48ea-8fe7-243fbe75c031",
   "metadata": {},
   "source": [
    "##### Answer4) Using the below steps we can write and execute a python script from the command line\n",
    "1) Firstly write your command in any text editor and save it with .py extension\n",
    "2) Now open the command line and change the directory to where the python file is kept\n",
    "3) Run the file using python followed by file_name\n",
    "Example: python script.py"
   ]
  },
  {
   "cell_type": "markdown",
   "id": "6f94c40c-e977-4a5a-ba88-545cc885fa5d",
   "metadata": {},
   "source": [
    "Q5. Given a list my_list = [1, 2, 3, 4, 5], write the code to slice the list and obtain the sub-list [2, 3]."
   ]
  },
  {
   "cell_type": "code",
   "execution_count": 29,
   "id": "27428369-8d99-4992-addd-758fb859c123",
   "metadata": {},
   "outputs": [
    {
     "data": {
      "text/plain": [
       "[2, 3]"
      ]
     },
     "execution_count": 29,
     "metadata": {},
     "output_type": "execute_result"
    }
   ],
   "source": [
    "my_list = [1, 2, 3, 4, 5]\n",
    "my_list[1:3]"
   ]
  },
  {
   "cell_type": "markdown",
   "id": "ba310116-bb45-48f8-96e2-ec2e7dba61aa",
   "metadata": {},
   "source": [
    "Q6. What is a complex number in mathematics, and how is it represented in Python?"
   ]
  },
  {
   "cell_type": "code",
   "execution_count": 31,
   "id": "2f2238b4-838c-4373-b01b-e747d47b2a2d",
   "metadata": {},
   "outputs": [
    {
     "data": {
      "text/plain": [
       "complex"
      ]
     },
     "execution_count": 31,
     "metadata": {},
     "output_type": "execute_result"
    }
   ],
   "source": [
    "### Answer6: A complex number is a number written in the format a+bj, where 'a' denotes a primary part and 'b' denotes imaginary part.\n",
    "a = 2+4j\n",
    "type(a)"
   ]
  },
  {
   "cell_type": "markdown",
   "id": "0dd3009a-477d-4dbb-9f31-38ad8ec2c169",
   "metadata": {},
   "source": [
    "Q7. What is the correct way to declare a variable named age and assign the value 25 to it?"
   ]
  },
  {
   "cell_type": "code",
   "execution_count": 36,
   "id": "532fbe18-a8e3-4f5b-852e-038006d598dd",
   "metadata": {},
   "outputs": [
    {
     "data": {
      "text/plain": [
       "25"
      ]
     },
     "execution_count": 36,
     "metadata": {},
     "output_type": "execute_result"
    }
   ],
   "source": [
    "# Writing age variable declares it and using = assigns  value to it\n",
    "age = 25\n",
    "age"
   ]
  },
  {
   "cell_type": "markdown",
   "id": "a2df73a6-4bfa-4e72-a8bd-08defcd75230",
   "metadata": {},
   "source": [
    "Q8. Declare a variable named price and assign the value 9.99 to it. What data type does this variable\n",
    "belong to?"
   ]
  },
  {
   "cell_type": "code",
   "execution_count": 37,
   "id": "1f870aeb-9ace-4a61-8570-3243e297b9db",
   "metadata": {},
   "outputs": [
    {
     "data": {
      "text/plain": [
       "float"
      ]
     },
     "execution_count": 37,
     "metadata": {},
     "output_type": "execute_result"
    }
   ],
   "source": [
    "price = 9.99\n",
    "type(price)"
   ]
  },
  {
   "cell_type": "markdown",
   "id": "6efc0f3c-b83f-411e-a272-2ff5d77ba132",
   "metadata": {},
   "source": [
    "Q9. Create a variable named name and assign your full name to it as a string. How would you print the\n",
    "value of this variable?"
   ]
  },
  {
   "cell_type": "code",
   "execution_count": 38,
   "id": "d5c8d611-4e4f-48bc-a0b6-d61a304c9ef4",
   "metadata": {},
   "outputs": [
    {
     "name": "stdout",
     "output_type": "stream",
     "text": [
      "Karishma Kweera\n"
     ]
    }
   ],
   "source": [
    "name = \"Karishma Kweera\"\n",
    "print(name)"
   ]
  },
  {
   "cell_type": "code",
   "execution_count": 40,
   "id": "7c99f4c3-4499-4b5e-bb9c-ee18965f3a22",
   "metadata": {},
   "outputs": [
    {
     "name": "stdin",
     "output_type": "stream",
     "text": [
      "Enter your full name:  Karishma Kweera\n"
     ]
    },
    {
     "name": "stdout",
     "output_type": "stream",
     "text": [
      "Full name is: Karishma Kweera\n"
     ]
    }
   ],
   "source": [
    "name = input(\"Enter your full name: \")\n",
    "print(\"Full name is: {}\".format(name))"
   ]
  },
  {
   "cell_type": "markdown",
   "id": "f4ea95bd-f1fa-4fc8-ab4b-2e0151e1f1aa",
   "metadata": {},
   "source": [
    "Q10. Given the string \"Hello, World!\", extract the substring \"World\"."
   ]
  },
  {
   "cell_type": "code",
   "execution_count": 43,
   "id": "c1bb84b4-0760-48ee-be8f-8b28f190a7d2",
   "metadata": {},
   "outputs": [
    {
     "data": {
      "text/plain": [
       "'World'"
      ]
     },
     "execution_count": 43,
     "metadata": {},
     "output_type": "execute_result"
    }
   ],
   "source": [
    "Given_String = \"Hello, World!\"\n",
    "Given_String[7:12]"
   ]
  },
  {
   "cell_type": "markdown",
   "id": "442e2d16-a49d-49d1-87a7-62f5a096bd7f",
   "metadata": {},
   "source": [
    "Q11. Create a variable named \"is_student\" and assign it a boolean value indicating whether you are\n",
    "currently a student or not."
   ]
  },
  {
   "cell_type": "code",
   "execution_count": 45,
   "id": "70538acc-57de-4387-a3b6-53fae5186c72",
   "metadata": {},
   "outputs": [
    {
     "data": {
      "text/plain": [
       "False"
      ]
     },
     "execution_count": 45,
     "metadata": {},
     "output_type": "execute_result"
    }
   ],
   "source": [
    "is_student = False\n",
    "is_student"
   ]
  },
  {
   "cell_type": "code",
   "execution_count": null,
   "id": "287a3fd8-e95f-4cfe-b3e6-efbbda20ca85",
   "metadata": {},
   "outputs": [],
   "source": []
  },
  {
   "cell_type": "code",
   "execution_count": null,
   "id": "31e04c56-3e71-4751-957b-a4c1a44f6bb3",
   "metadata": {},
   "outputs": [],
   "source": [
    "is_student = bool(input(\"Whether you are currently a student or not:\"))"
   ]
  },
  {
   "cell_type": "code",
   "execution_count": null,
   "id": "cf4947b9-783d-485f-8df5-bbe60f6989ee",
   "metadata": {},
   "outputs": [],
   "source": []
  }
 ],
 "metadata": {
  "kernelspec": {
   "display_name": "Python 3 (ipykernel)",
   "language": "python",
   "name": "python3"
  },
  "language_info": {
   "codemirror_mode": {
    "name": "ipython",
    "version": 3
   },
   "file_extension": ".py",
   "mimetype": "text/x-python",
   "name": "python",
   "nbconvert_exporter": "python",
   "pygments_lexer": "ipython3",
   "version": "3.10.8"
  }
 },
 "nbformat": 4,
 "nbformat_minor": 5
}

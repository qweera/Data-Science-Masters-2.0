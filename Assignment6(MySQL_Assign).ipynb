{
 "cells": [
  {
   "cell_type": "markdown",
   "id": "fe7983ba-a941-4783-ba80-4afc3f5f76cc",
   "metadata": {},
   "source": [
    "## Assignment6 : MySQL_Assignment"
   ]
  },
  {
   "cell_type": "markdown",
   "id": "c34e0e22-4868-4a52-99fe-46d5143fff8f",
   "metadata": {},
   "source": [
    "#### Q1. What is a database? Differentiate between SQL and NoSQL databases."
   ]
  },
  {
   "cell_type": "markdown",
   "id": "7280dbc3-a900-4e4b-8d2b-f916afc20aec",
   "metadata": {},
   "source": [
    "Ans1. A database is an organized collection of data, we can organize data into tables, rows, columns, and index it to make it easier to find relevant information. The main purpose of the database is to operate a large amount of information by storing, retrieving, and managing data.\n",
    "\n",
    "Inside SQL database we can just store the structured data(like table) and on top of which we can perform filter operation and write join queries, group by.\n",
    "Example: MySQL, MSSQL\n",
    "In No SQL database it always try to accomodate unstructured data like text, audio file, images, relational database to perform different different kind of operation like filter and search on top of it.\n",
    "Example: Mongo DB, Cassandra"
   ]
  },
  {
   "cell_type": "markdown",
   "id": "16c50924-da6d-4c82-aa29-fe72ec1a9174",
   "metadata": {},
   "source": [
    "#### Q2. What is DDL? Explain why CREATE, DROP, ALTER, and TRUNCATE are used with an example."
   ]
  },
  {
   "cell_type": "markdown",
   "id": "d408dfe2-43a9-456c-a9fc-0d9b1f889400",
   "metadata": {},
   "source": [
    "Ans2. In SQL DDL commands are used to create and modify the structure of a database and database objects. \n",
    "\n",
    "CREATE: This command is used to create the database or its objects (like table, function, views, store procedure, and triggers).\n",
    "##### Example: import mysql.connector\n",
    "         ##### mydb = mysql.connector.connect(\n",
    "         ##### host=\"localhost\",  #Because of 127.0.0.1(this denotes localhost)\n",
    "         ##### user=\"abc\",         #Creates connection between python file and sql database(4-7 line)\n",
    "         ##### password=\"password\")\n",
    "         ##### print(mydb)\n",
    "         ##### mycursor = mydb.cursor()  #In database whenever we try to perform some operation we'll require a mouse cursor\n",
    "         ##### mycursor.execute(\"CREATE DATABASE if not exists testdbse\")  \n",
    "         ##### mycursor.execute(\"CREATE TABLE if not exists testdbse.test_table(c1 INT, c2 VARCHAR(50), c3 INT, c4 FLOAT, c5 VARCHAR(40))\")\n",
    "         \n",
    "#### Whatever commands we want to execute we need to put it inside mycursor.execute(). Same applies for below DROP, ALTER, TRUNCATE commands.\n",
    "\n",
    "DROP: This command is used to delete objects from the database.\n",
    "##### Example: DROP TABLE testdbse.test_table        #inorder to run it we need to put it inside mycursor.execute()\n",
    "\n",
    "ALTER: This is used to alter the structure of the database. We can add a new column, drop a column, change the datatype of the column(altering the column)\n",
    "##### Example: ALTER TABLE table_name\n",
    "         #####  ADD column_name datatype;\n",
    "\n",
    "TRUNCATE: This is used to remove all records from a table, including all the allocated structure for the records are removed.\n",
    "##### Example: TRUNCATE TABLE testdbse.test_table        #inorder to run it we need to put it inside mycursor.execute()"
   ]
  },
  {
   "cell_type": "markdown",
   "id": "007c88b3-e53f-4a2c-a901-4fe58805e04b",
   "metadata": {},
   "source": [
    "#### Q3. What is DML? Explain INSERT, UPDATE, and DELETE with an example."
   ]
  },
  {
   "cell_type": "markdown",
   "id": "864d9fce-8c6c-47ad-b87e-f20ba64b38c5",
   "metadata": {},
   "source": [
    "Ans3. The SQL commands that deal with the manipulation of data present in the database belong to DML or Data Manipulation Language.\n",
    "\n",
    "INSERT: It is used to insert data into a table.\n",
    "##### Example: import mysql.connector\n",
    "            ##### mydb = mysql.connector.connect(\n",
    "            ##### host=\"localhost\",\n",
    "            ##### user=\"abc\",\n",
    "            ##### password=\"password\"\n",
    "            ##### )\n",
    "            ##### mycursor = mydb.cursor()\n",
    "            ##### mycursor.execute(\"insert into testdbse.test_table values(555,'Happiness',555,555.55,'Meditate')\")\n",
    "            ##### mydb.commit()\n",
    "            ##### mydb.close()\n",
    "\n",
    "UPDATE: It is used to update existing data within a table.\n",
    "##### Example: Update testdbse.test_table\n",
    "        ##### set c2 = 'testingData', c3 = 555        ###### Taking the reference of table created for ddl command\n",
    "        #####  where c4 = 5.5\n",
    "        ##### Whatever commands we want to execute we need to put it inside mycursor.execute(). Same applies here for UPDATE and DELETE commands.\n",
    "\n",
    "DELETE: It is used to delete records from a database table.\n",
    "##### Example: DELETE FROM testdbse.test_table WHERE c3 = 555;"
   ]
  },
  {
   "cell_type": "markdown",
   "id": "5688a88e-4885-486e-8bf1-fa3c94ef263f",
   "metadata": {},
   "source": [
    "#### Q4. What is DQL? Explain SELECT with an example."
   ]
  },
  {
   "cell_type": "markdown",
   "id": "514c227f-2901-4f1d-8df8-8c5f36f0ef52",
   "metadata": {},
   "source": [
    "Ans4. DQL statements are used for performing queries on the data within schema objects. This command allows getting the data out of the database to perform operations with it.\n",
    "SELECT: It is used to retrieve data from the database.\n",
    "##### Example: import mysql.connector\n",
    "         ##### mydb = mysql.connector.connect(\n",
    "         ##### host=\"localhost\",\n",
    "         ##### user=\"abc\",\n",
    "         ##### password=\"password\")\n",
    "         ##### mycursor = mydb.cursor()\n",
    "         ##### mycursor.execute(\"SELECT * from testdbse.test_table\")        #This will give all the columns as an output\n",
    "         ##### mycursor.execute(\"SELECT c3,c5 from testdbse.test_table\")        #This will just give c3,c5 as an output\n",
    "         ##### for i in mycursor.fetchall():\n",
    "         #####     print(i)"
   ]
  },
  {
   "cell_type": "markdown",
   "id": "04b931c5-5485-4f0b-a7cb-09938fa088b1",
   "metadata": {},
   "source": [
    "### Q5. Explain Primary Key and Foreign Key."
   ]
  },
  {
   "cell_type": "markdown",
   "id": "53650660-8fec-4710-bdf1-afffb931cace",
   "metadata": {},
   "source": [
    "Ans5. Pirmary Key uniquely identifies a record in the relational database table. Its value cannot be deleted from the parent table.\n",
    "\n",
    "A foreign key is a column or group of columns in a relational database table that provides a link between data in two tables. Its value can be deleted from the child table."
   ]
  },
  {
   "cell_type": "markdown",
   "id": "1fd2a390-2efe-48b1-94aa-947961f64715",
   "metadata": {},
   "source": [
    "### Q6. Write a python code to connect MySQL to python. Explain the cursor() and execute() method."
   ]
  },
  {
   "cell_type": "markdown",
   "id": "4d1809fe-01e3-45d2-82aa-0baeba0690de",
   "metadata": {},
   "source": [
    "Ans6.       ##### import mysql.connector\n",
    "            ##### mydb = mysql.connector.connect(\n",
    "            ##### host=\"localhost\",\n",
    "            ##### user=\"abc\",\n",
    "            ##### password=\"password\")\n",
    "            ##### mycursor = mydb.cursor()\n",
    "            ##### mycursor.execute(\"insert into testdbse.test_table values(555,'Happiness',555,555.55,'Meditate')\")\n",
    "            ##### mydb.commit()\n",
    "            ##### mydb.close()\n",
    "            \n",
    "The above code from line  1-5 is used to connect MySQL to python.\n",
    "\n",
    "In MySQL, a cursor allows row-by-row processing of the result sets. By using a cursor, you can iterate or step through the results of a query and perform certain operations on each row.\n",
    "\n",
    "In order to run any commands we need to write it inside mycursor.execute() and then execute it. The execute() methods run the SQL query and return the result."
   ]
  },
  {
   "cell_type": "markdown",
   "id": "037acf79-0745-46b2-9a2e-a02417764378",
   "metadata": {},
   "source": [
    "### Q7. Give the order of execution of SQL clauses in an SQL query."
   ]
  },
  {
   "cell_type": "markdown",
   "id": "7e67d5d1-6462-4e65-895c-b938c5dbf7ad",
   "metadata": {},
   "source": [
    "Ans7. The order of execution of SQL clauses in an SQL query, 1st one will be having highest priority and 7th one least.\n",
    "1. FROM/JOIN\n",
    "2. WHERE\n",
    "3. GROUP BY\n",
    "4. HAVING\n",
    "5. SELECT\n",
    "6. ORDER BY\n",
    "7. LIMIT"
   ]
  }
 ],
 "metadata": {
  "kernelspec": {
   "display_name": "Python 3 (ipykernel)",
   "language": "python",
   "name": "python3"
  },
  "language_info": {
   "codemirror_mode": {
    "name": "ipython",
    "version": 3
   },
   "file_extension": ".py",
   "mimetype": "text/x-python",
   "name": "python",
   "nbconvert_exporter": "python",
   "pygments_lexer": "ipython3",
   "version": "3.10.8"
  }
 },
 "nbformat": 4,
 "nbformat_minor": 5
}
